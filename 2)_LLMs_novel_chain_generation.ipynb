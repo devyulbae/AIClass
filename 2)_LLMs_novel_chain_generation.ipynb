{
  "nbformat": 4,
  "nbformat_minor": 0,
  "metadata": {
    "colab": {
      "provenance": [],
      "include_colab_link": true
    },
    "kernelspec": {
      "name": "python3",
      "display_name": "Python 3"
    },
    "language_info": {
      "name": "python"
    }
  },
  "cells": [
    {
      "cell_type": "markdown",
      "metadata": {
        "id": "view-in-github",
        "colab_type": "text"
      },
      "source": [
        "<a href=\"https://colab.research.google.com/github/devyulbae/AIClass/blob/main/2)_LLMs_novel_chain_generation.ipynb\" target=\"_parent\"><img src=\"https://colab.research.google.com/assets/colab-badge.svg\" alt=\"Open In Colab\"/></a>"
      ]
    },
    {
      "cell_type": "markdown",
      "source": [
        "### 드라이브 마운트"
      ],
      "metadata": {
        "id": "Bq_50zTu-dgW"
      }
    },
    {
      "cell_type": "code",
      "source": [
        "from google.colab import drive\n",
        "drive.mount('/content/drive')"
      ],
      "metadata": {
        "id": "Fi0aF680D-DR",
        "outputId": "ef0eb0b8-76a0-4732-adb7-0b47f145353f",
        "colab": {
          "base_uri": "https://localhost:8080/"
        }
      },
      "execution_count": 1,
      "outputs": [
        {
          "output_type": "stream",
          "name": "stdout",
          "text": [
            "Mounted at /content/drive\n"
          ]
        }
      ]
    },
    {
      "cell_type": "markdown",
      "source": [
        "### 패키지 설치"
      ],
      "metadata": {
        "id": "KM9aGdke-fR0"
      }
    },
    {
      "cell_type": "code",
      "source": [
        "!pip install openai langchain"
      ],
      "metadata": {
        "id": "t7KHOqhrEMav",
        "outputId": "5c2b1793-92f8-4bf0-d2f2-6245a4a27af3",
        "colab": {
          "base_uri": "https://localhost:8080/"
        }
      },
      "execution_count": 2,
      "outputs": [
        {
          "output_type": "stream",
          "name": "stdout",
          "text": [
            "Collecting openai\n",
            "  Downloading openai-1.10.0-py3-none-any.whl (225 kB)\n",
            "\u001b[2K     \u001b[90m━━━━━━━━━━━━━━━━━━━━━━━━━━━━━━━━━━━━━━━━\u001b[0m \u001b[32m225.1/225.1 kB\u001b[0m \u001b[31m4.9 MB/s\u001b[0m eta \u001b[36m0:00:00\u001b[0m\n",
            "\u001b[?25hCollecting langchain\n",
            "  Downloading langchain-0.1.4-py3-none-any.whl (803 kB)\n",
            "\u001b[2K     \u001b[90m━━━━━━━━━━━━━━━━━━━━━━━━━━━━━━━━━━━━━━━━\u001b[0m \u001b[32m803.6/803.6 kB\u001b[0m \u001b[31m28.1 MB/s\u001b[0m eta \u001b[36m0:00:00\u001b[0m\n",
            "\u001b[?25hRequirement already satisfied: anyio<5,>=3.5.0 in /usr/local/lib/python3.10/dist-packages (from openai) (3.7.1)\n",
            "Requirement already satisfied: distro<2,>=1.7.0 in /usr/lib/python3/dist-packages (from openai) (1.7.0)\n",
            "Collecting httpx<1,>=0.23.0 (from openai)\n",
            "  Downloading httpx-0.26.0-py3-none-any.whl (75 kB)\n",
            "\u001b[2K     \u001b[90m━━━━━━━━━━━━━━━━━━━━━━━━━━━━━━━━━━━━━━━━\u001b[0m \u001b[32m75.9/75.9 kB\u001b[0m \u001b[31m8.2 MB/s\u001b[0m eta \u001b[36m0:00:00\u001b[0m\n",
            "\u001b[?25hRequirement already satisfied: pydantic<3,>=1.9.0 in /usr/local/lib/python3.10/dist-packages (from openai) (1.10.14)\n",
            "Requirement already satisfied: sniffio in /usr/local/lib/python3.10/dist-packages (from openai) (1.3.0)\n",
            "Requirement already satisfied: tqdm>4 in /usr/local/lib/python3.10/dist-packages (from openai) (4.66.1)\n",
            "Collecting typing-extensions<5,>=4.7 (from openai)\n",
            "  Downloading typing_extensions-4.9.0-py3-none-any.whl (32 kB)\n",
            "Requirement already satisfied: PyYAML>=5.3 in /usr/local/lib/python3.10/dist-packages (from langchain) (6.0.1)\n",
            "Requirement already satisfied: SQLAlchemy<3,>=1.4 in /usr/local/lib/python3.10/dist-packages (from langchain) (2.0.24)\n",
            "Requirement already satisfied: aiohttp<4.0.0,>=3.8.3 in /usr/local/lib/python3.10/dist-packages (from langchain) (3.9.1)\n",
            "Requirement already satisfied: async-timeout<5.0.0,>=4.0.0 in /usr/local/lib/python3.10/dist-packages (from langchain) (4.0.3)\n",
            "Collecting dataclasses-json<0.7,>=0.5.7 (from langchain)\n",
            "  Downloading dataclasses_json-0.6.3-py3-none-any.whl (28 kB)\n",
            "Collecting jsonpatch<2.0,>=1.33 (from langchain)\n",
            "  Downloading jsonpatch-1.33-py2.py3-none-any.whl (12 kB)\n",
            "Collecting langchain-community<0.1,>=0.0.14 (from langchain)\n",
            "  Downloading langchain_community-0.0.16-py3-none-any.whl (1.6 MB)\n",
            "\u001b[2K     \u001b[90m━━━━━━━━━━━━━━━━━━━━━━━━━━━━━━━━━━━━━━━━\u001b[0m \u001b[32m1.6/1.6 MB\u001b[0m \u001b[31m31.8 MB/s\u001b[0m eta \u001b[36m0:00:00\u001b[0m\n",
            "\u001b[?25hCollecting langchain-core<0.2,>=0.1.16 (from langchain)\n",
            "  Downloading langchain_core-0.1.17-py3-none-any.whl (235 kB)\n",
            "\u001b[2K     \u001b[90m━━━━━━━━━━━━━━━━━━━━━━━━━━━━━━━━━━━━━━━━\u001b[0m \u001b[32m235.9/235.9 kB\u001b[0m \u001b[31m21.0 MB/s\u001b[0m eta \u001b[36m0:00:00\u001b[0m\n",
            "\u001b[?25hCollecting langsmith<0.1,>=0.0.83 (from langchain)\n",
            "  Downloading langsmith-0.0.84-py3-none-any.whl (53 kB)\n",
            "\u001b[2K     \u001b[90m━━━━━━━━━━━━━━━━━━━━━━━━━━━━━━━━━━━━━━━━\u001b[0m \u001b[32m54.0/54.0 kB\u001b[0m \u001b[31m5.7 MB/s\u001b[0m eta \u001b[36m0:00:00\u001b[0m\n",
            "\u001b[?25hRequirement already satisfied: numpy<2,>=1 in /usr/local/lib/python3.10/dist-packages (from langchain) (1.23.5)\n",
            "Requirement already satisfied: requests<3,>=2 in /usr/local/lib/python3.10/dist-packages (from langchain) (2.31.0)\n",
            "Requirement already satisfied: tenacity<9.0.0,>=8.1.0 in /usr/local/lib/python3.10/dist-packages (from langchain) (8.2.3)\n",
            "Requirement already satisfied: attrs>=17.3.0 in /usr/local/lib/python3.10/dist-packages (from aiohttp<4.0.0,>=3.8.3->langchain) (23.2.0)\n",
            "Requirement already satisfied: multidict<7.0,>=4.5 in /usr/local/lib/python3.10/dist-packages (from aiohttp<4.0.0,>=3.8.3->langchain) (6.0.4)\n",
            "Requirement already satisfied: yarl<2.0,>=1.0 in /usr/local/lib/python3.10/dist-packages (from aiohttp<4.0.0,>=3.8.3->langchain) (1.9.4)\n",
            "Requirement already satisfied: frozenlist>=1.1.1 in /usr/local/lib/python3.10/dist-packages (from aiohttp<4.0.0,>=3.8.3->langchain) (1.4.1)\n",
            "Requirement already satisfied: aiosignal>=1.1.2 in /usr/local/lib/python3.10/dist-packages (from aiohttp<4.0.0,>=3.8.3->langchain) (1.3.1)\n",
            "Requirement already satisfied: idna>=2.8 in /usr/local/lib/python3.10/dist-packages (from anyio<5,>=3.5.0->openai) (3.6)\n",
            "Requirement already satisfied: exceptiongroup in /usr/local/lib/python3.10/dist-packages (from anyio<5,>=3.5.0->openai) (1.2.0)\n",
            "Collecting marshmallow<4.0.0,>=3.18.0 (from dataclasses-json<0.7,>=0.5.7->langchain)\n",
            "  Downloading marshmallow-3.20.2-py3-none-any.whl (49 kB)\n",
            "\u001b[2K     \u001b[90m━━━━━━━━━━━━━━━━━━━━━━━━━━━━━━━━━━━━━━━━\u001b[0m \u001b[32m49.4/49.4 kB\u001b[0m \u001b[31m5.8 MB/s\u001b[0m eta \u001b[36m0:00:00\u001b[0m\n",
            "\u001b[?25hCollecting typing-inspect<1,>=0.4.0 (from dataclasses-json<0.7,>=0.5.7->langchain)\n",
            "  Downloading typing_inspect-0.9.0-py3-none-any.whl (8.8 kB)\n",
            "Requirement already satisfied: certifi in /usr/local/lib/python3.10/dist-packages (from httpx<1,>=0.23.0->openai) (2023.11.17)\n",
            "Collecting httpcore==1.* (from httpx<1,>=0.23.0->openai)\n",
            "  Downloading httpcore-1.0.2-py3-none-any.whl (76 kB)\n",
            "\u001b[2K     \u001b[90m━━━━━━━━━━━━━━━━━━━━━━━━━━━━━━━━━━━━━━━━\u001b[0m \u001b[32m76.9/76.9 kB\u001b[0m \u001b[31m9.7 MB/s\u001b[0m eta \u001b[36m0:00:00\u001b[0m\n",
            "\u001b[?25hCollecting h11<0.15,>=0.13 (from httpcore==1.*->httpx<1,>=0.23.0->openai)\n",
            "  Downloading h11-0.14.0-py3-none-any.whl (58 kB)\n",
            "\u001b[2K     \u001b[90m━━━━━━━━━━━━━━━━━━━━━━━━━━━━━━━━━━━━━━━━\u001b[0m \u001b[32m58.3/58.3 kB\u001b[0m \u001b[31m7.2 MB/s\u001b[0m eta \u001b[36m0:00:00\u001b[0m\n",
            "\u001b[?25hCollecting jsonpointer>=1.9 (from jsonpatch<2.0,>=1.33->langchain)\n",
            "  Downloading jsonpointer-2.4-py2.py3-none-any.whl (7.8 kB)\n",
            "Requirement already satisfied: packaging<24.0,>=23.2 in /usr/local/lib/python3.10/dist-packages (from langchain-core<0.2,>=0.1.16->langchain) (23.2)\n",
            "Requirement already satisfied: charset-normalizer<4,>=2 in /usr/local/lib/python3.10/dist-packages (from requests<3,>=2->langchain) (3.3.2)\n",
            "Requirement already satisfied: urllib3<3,>=1.21.1 in /usr/local/lib/python3.10/dist-packages (from requests<3,>=2->langchain) (2.0.7)\n",
            "Requirement already satisfied: greenlet!=0.4.17 in /usr/local/lib/python3.10/dist-packages (from SQLAlchemy<3,>=1.4->langchain) (3.0.3)\n",
            "Collecting mypy-extensions>=0.3.0 (from typing-inspect<1,>=0.4.0->dataclasses-json<0.7,>=0.5.7->langchain)\n",
            "  Downloading mypy_extensions-1.0.0-py3-none-any.whl (4.7 kB)\n",
            "Installing collected packages: typing-extensions, mypy-extensions, marshmallow, jsonpointer, h11, typing-inspect, jsonpatch, httpcore, langsmith, httpx, dataclasses-json, openai, langchain-core, langchain-community, langchain\n",
            "  Attempting uninstall: typing-extensions\n",
            "    Found existing installation: typing_extensions 4.5.0\n",
            "    Uninstalling typing_extensions-4.5.0:\n",
            "      Successfully uninstalled typing_extensions-4.5.0\n",
            "\u001b[31mERROR: pip's dependency resolver does not currently take into account all the packages that are installed. This behaviour is the source of the following dependency conflicts.\n",
            "llmx 0.0.15a0 requires cohere, which is not installed.\n",
            "llmx 0.0.15a0 requires tiktoken, which is not installed.\n",
            "tensorflow-probability 0.22.0 requires typing-extensions<4.6.0, but you have typing-extensions 4.9.0 which is incompatible.\u001b[0m\u001b[31m\n",
            "\u001b[0mSuccessfully installed dataclasses-json-0.6.3 h11-0.14.0 httpcore-1.0.2 httpx-0.26.0 jsonpatch-1.33 jsonpointer-2.4 langchain-0.1.4 langchain-community-0.0.16 langchain-core-0.1.17 langsmith-0.0.84 marshmallow-3.20.2 mypy-extensions-1.0.0 openai-1.10.0 typing-extensions-4.9.0 typing-inspect-0.9.0\n"
          ]
        }
      ]
    },
    {
      "cell_type": "code",
      "execution_count": 3,
      "metadata": {
        "id": "tTIjHrG2CT54"
      },
      "outputs": [],
      "source": [
        "from pprint import pprint\n",
        "from typing import Dict, List\n",
        "\n",
        "from langchain.chains import LLMChain, SequentialChain\n",
        "from langchain.chat_models import ChatOpenAI\n",
        "from langchain.prompts.chat import ChatPromptTemplate\n",
        "from pydantic import BaseModel\n"
      ]
    },
    {
      "cell_type": "markdown",
      "source": [
        "### OpenAI API key"
      ],
      "metadata": {
        "id": "tcb7WQdDBn3d"
      }
    },
    {
      "cell_type": "code",
      "source": [
        "import getpass\n",
        "import os\n",
        "\n",
        "os.environ[\"OPENAI_API_KEY\"] = getpass.getpass()"
      ],
      "metadata": {
        "id": "qxZXQzINCebv",
        "outputId": "0f4f40d9-971a-4739-ce81-71e8ac27c260",
        "colab": {
          "base_uri": "https://localhost:8080/"
        }
      },
      "execution_count": 4,
      "outputs": [
        {
          "name": "stdout",
          "output_type": "stream",
          "text": [
            "··········\n"
          ]
        }
      ]
    },
    {
      "cell_type": "markdown",
      "source": [
        "### Prompt chain 준비\n",
        "* 서비스할 내용의 프롬프트 체인을 준비합니다.\n",
        "* 각 프롬프트 체인을 미리 준비해 놓고, 템플릿으로 사용합니다."
      ],
      "metadata": {
        "id": "kVOr8L56BrB7"
      }
    },
    {
      "cell_type": "code",
      "source": [
        "P_PATH = \"/content/drive/MyDrive/datas/multi_prompt\"\n",
        "IDEA_P = os.path.join(P_PATH, \"extract_idea.txt\")\n",
        "OUTLINE_P = os.path.join(P_PATH, \"write_outline.txt\")\n",
        "PLOT_P = os.path.join(P_PATH, \"write_plot.txt\")\n",
        "CHAPTER_P = os.path.join(P_PATH, \"write_chapter.txt\")"
      ],
      "metadata": {
        "id": "0uAt9eUFD5_B"
      },
      "execution_count": 5,
      "outputs": []
    },
    {
      "cell_type": "markdown",
      "source": [
        "### Prompt chain 구현\n",
        "* `SequentialChain`을 이용해서 여러개의 chain을 연속적으로 구현할 수 있습니다."
      ],
      "metadata": {
        "id": "Vdr7T-w5CfNU"
      }
    },
    {
      "cell_type": "code",
      "source": [
        "class UserRequest(BaseModel):\n",
        "    genre: str\n",
        "    characters: List[Dict[str, str]]\n",
        "    text: str\n",
        "\n",
        "\n",
        "def read_prompt_template(file_path: str) -> str:\n",
        "    with open(file_path, \"r\") as f:\n",
        "        prompt_template = f.read()\n",
        "\n",
        "    return prompt_template\n",
        "\n",
        "\n",
        "def create_chain(llm, template_path, output_key):\n",
        "    return LLMChain(\n",
        "        llm=llm,\n",
        "        prompt=ChatPromptTemplate.from_template(\n",
        "            template=read_prompt_template(template_path),\n",
        "        ),\n",
        "        output_key=output_key,\n",
        "        verbose=True,\n",
        "    )\n",
        "\n",
        "\n",
        "def generate_novel(req: UserRequest) -> Dict[str, str]:\n",
        "    writer_llm = ChatOpenAI(temperature=0.3, max_tokens=500, model=\"gpt-3.5-turbo\")\n",
        "\n",
        "    # 아이디어 뽑기 체인 생성\n",
        "    novel_idea_chain = create_chain(writer_llm, IDEA_P, \"novel_idea\")\n",
        "\n",
        "    # 아웃라인 작성 체인 생성\n",
        "    novel_outline_chain = create_chain(\n",
        "        writer_llm, OUTLINE_P, \"novel_outline\"\n",
        "    )\n",
        "\n",
        "    # 플롯 작성 체인 생성\n",
        "    novel_plot_chain = create_chain(writer_llm, PLOT_P, \"novel_plot\")\n",
        "\n",
        "    # 챕터 작성 체인 생성\n",
        "    novel_chapter_chain = create_chain(writer_llm, CHAPTER_P, \"output\")\n",
        "\n",
        "    preprocess_chain = SequentialChain(\n",
        "        chains=[\n",
        "            novel_idea_chain,\n",
        "            novel_outline_chain,\n",
        "            novel_plot_chain\n",
        "        ],\n",
        "        input_variables=[\"genre\", \"characters\", \"text\"],\n",
        "        output_variables=[\"novel_idea\", \"novel_outline\", \"novel_plot\"],\n",
        "        verbose=True,\n",
        "    )\n",
        "\n",
        "    context = req.dict()\n",
        "    context = preprocess_chain(context)\n",
        "\n",
        "    context[\"novel_chapter\"] = []\n",
        "    for chapter_number in range(1, 3):\n",
        "        context[\"chapter_number\"] = chapter_number\n",
        "        context = novel_chapter_chain(context)\n",
        "        context[\"novel_chapter\"].append(context[\"output\"])\n",
        "\n",
        "    contents = \"\\n\\n\".join(context[\"novel_chapter\"])\n",
        "    return {\"results\": contents}"
      ],
      "metadata": {
        "id": "o-RVkzgKCcOo"
      },
      "execution_count": 27,
      "outputs": []
    },
    {
      "cell_type": "markdown",
      "source": [
        "### User prompt 작성\n",
        "* User가 직접 작성하는 프롬프트를 작성합니다."
      ],
      "metadata": {
        "id": "IjNmhGDGEIzX"
      }
    },
    {
      "cell_type": "code",
      "source": [
        "user_data = {\n",
        "    \"genre\": \"판타지\",\n",
        "    \"characters\": [\n",
        "        {\n",
        "            \"name\": \"김철수\",\n",
        "            \"role\": \"주인공\"\n",
        "        },\n",
        "        {\n",
        "            \"name\": \"이영희\",\n",
        "            \"role\": \"조연\"\n",
        "        }\n",
        "    ],\n",
        "    \"text\": \"날씨가 추워지고 있습니다.\"\n",
        "}\n"
      ],
      "metadata": {
        "id": "m2bfuHDHNx22"
      },
      "execution_count": 28,
      "outputs": []
    },
    {
      "cell_type": "markdown",
      "source": [
        "* User Prompt를 입력합니다."
      ],
      "metadata": {
        "id": "KxWOzyTwIgUN"
      }
    },
    {
      "cell_type": "code",
      "source": [
        "request_instance = UserRequest(**user_data)"
      ],
      "metadata": {
        "id": "1j7O0Y3zPNu2"
      },
      "execution_count": 29,
      "outputs": []
    },
    {
      "cell_type": "markdown",
      "source": [
        "### Text Generation"
      ],
      "metadata": {
        "id": "VFFDa0NSIiip"
      }
    },
    {
      "cell_type": "code",
      "source": [
        "generate_novel(request_instance)"
      ],
      "metadata": {
        "id": "7WLAYEbaPP0B",
        "outputId": "e9766e17-b4e6-4750-943e-d4039d466e5f",
        "colab": {
          "base_uri": "https://localhost:8080/"
        }
      },
      "execution_count": 30,
      "outputs": [
        {
          "output_type": "stream",
          "name": "stdout",
          "text": [
            "\n",
            "\n",
            "\u001b[1m> Entering new SequentialChain chain...\u001b[0m\n",
            "\n",
            "\n",
            "\u001b[1m> Entering new LLMChain chain...\u001b[0m\n",
            "Prompt after formatting:\n",
            "\u001b[32;1m\u001b[1;3mHuman: [등장 인물]\n",
            "[{'name': '김철수', 'role': '주인공'}, {'name': '이영희', 'role': '조연'}]\n",
            "\n",
            "[참고 텍스트]\n",
            "날씨가 추워지고 있습니다.\n",
            "\n",
            "[등장 인물] 과 [참고 텍스트] 를 소재로 새롭고 흥미진진한 판타지 소설 아이디어를 한 문단으로 작성해줘\u001b[0m\n",
            "\n",
            "\u001b[1m> Finished chain.\u001b[0m\n",
            "\n",
            "\n",
            "\u001b[1m> Entering new LLMChain chain...\u001b[0m\n",
            "Prompt after formatting:\n",
            "\u001b[32;1m\u001b[1;3mHuman: [등장 인물]\n",
            "[{'name': '김철수', 'role': '주인공'}, {'name': '이영희', 'role': '조연'}]\n",
            "\n",
            "[참고 텍스트]\n",
            "날씨가 추워지고 있습니다.\n",
            "\n",
            "[아이디어]\n",
            "한 평범한 겨울 날씨에, 주인공인 김철수는 우연히 마법의 물약을 발견한다. 그 물약을 마시게 되면 날씨를 조종할 수 있는 능력을 얻게 되는데, 이를 이용해 이영희와 함께 얼음 왕국을 찾아가는 모험을 떠나게 된다. 그들은 얼음 성을 지나며 얼음 마법사와의 대결, 눈사람 군대와의 전투 등 다양한 장애물을 극복하며 진정한 용기와 우정을 발견하게 된다. 그리고 마침내 얼음 왕국의 왕과의 만남을 통해, 김철수와 이영희는 자신들의 힘을 믿고 꿈을 이루는 법을 배우게 되는데... 이들의 모험과 성장을 그린 판타지 소설 \"얼음 왕국의 비밀\"은 독자들에게 흥미진진한 이야기와 함께 따뜻한 겨울의 감동을 선사할 것이다.\n",
            "\n",
            "[context]\n",
            "아웃라인 단계에서는 주요 이벤트와 결말을 고려하세요. \n",
            "여기서 중요한 것은, 이 단계에서 구체적인 디테일에 매몰되기보다는 스토리의 큰 그림에 집중하는 것입니다.\n",
            "\n",
            "[등장 인물] 과 [아이디어] 를 소재로 새롭고 흥미진진한 판타지 소설의 아웃라인을 작성해줘\n",
            "\u001b[0m\n",
            "\n",
            "\u001b[1m> Finished chain.\u001b[0m\n",
            "\n",
            "\n",
            "\u001b[1m> Entering new LLMChain chain...\u001b[0m\n",
            "Prompt after formatting:\n",
            "\u001b[32;1m\u001b[1;3mHuman: [등장 인물]\n",
            "[{'name': '김철수', 'role': '주인공'}, {'name': '이영희', 'role': '조연'}]\n",
            "\n",
            "[아이디어]\n",
            "한 평범한 겨울 날씨에, 주인공인 김철수는 우연히 마법의 물약을 발견한다. 그 물약을 마시게 되면 날씨를 조종할 수 있는 능력을 얻게 되는데, 이를 이용해 이영희와 함께 얼음 왕국을 찾아가는 모험을 떠나게 된다. 그들은 얼음 성을 지나며 얼음 마법사와의 대결, 눈사람 군대와의 전투 등 다양한 장애물을 극복하며 진정한 용기와 우정을 발견하게 된다. 그리고 마침내 얼음 왕국의 왕과의 만남을 통해, 김철수와 이영희는 자신들의 힘을 믿고 꿈을 이루는 법을 배우게 되는데... 이들의 모험과 성장을 그린 판타지 소설 \"얼음 왕국의 비밀\"은 독자들에게 흥미진진한 이야기와 함께 따뜻한 겨울의 감동을 선사할 것이다.\n",
            "\n",
            "[아웃라인]\n",
            "김철수는 어느 날 우연히 마법의 물약을 발견한다. 이 물약을 마시게 되면 날씨를 조종할 수 있는 능력을 얻게 되는데, 그것을 이용해 이영희와 함께 얼음 왕국을 찾아가는 모험을 떠나게 된다.\n",
            "\n",
            "1. 김철수와 이영희는 얼음 왕국을 찾기 위해 여정을 시작한다. 그들은 얼음 성을 지나며 얼음 마법사와의 대결, 눈사람 군대와의 전투 등 다양한 장애물을 극복하며 진정한 용기와 우정을 발견한다.\n",
            "\n",
            "2. 얼음 왕국의 왕과의 만남을 통해, 김철수와 이영희는 자신들의 힘을 믿고 꿈을 이루는 법을 배우게 된다. 그리고 마침내 얼음 왕국의 비밀을 알게 되는데, 이 비밀은 얼음 왕국을 지키기 위해 김철수와 이영희에게 특별한 임무를 부여한다.\n",
            "\n",
            "3. 김철수와 이영희는 얼음 왕국의 비밀을 지키기 위해 모험을 떠나야 한다. 그들은 얼음 왕국을 위협하는 악당들과의 싸움을 통해 자신들의 힘과 용기를 증명하며, 얼음 왕국을 구하기 위해 힘을 합친다.\n",
            "\n",
            "4. 마침내 김\n",
            "\n",
            "[context]\n",
            "세부 플롯 개발에서는 캐릭터의 발전, 각 장면의 연속성, 그리고 이벤트들이 어떻게 스토리를 전진시키는지에 초점을 맞추세요. \n",
            "또한, 캐릭터 간의 상호작용과 각 장면이 전체 플롯에 어떻게 기여하는지를 고려하면서 플롯을 세부화해 나가야 합니다.\n",
            "\n",
            "[등장 인물], [아이디어], [아웃라인]을 가지고 흥미진진한 판타지 소설의 세부 플롯을 4개의 Chapter로 나눠서 작성해줘.\n",
            "\u001b[0m\n",
            "\n",
            "\u001b[1m> Finished chain.\u001b[0m\n",
            "\n",
            "\u001b[1m> Finished chain.\u001b[0m\n",
            "\n",
            "\n",
            "\u001b[1m> Entering new LLMChain chain...\u001b[0m\n",
            "Prompt after formatting:\n",
            "\u001b[32;1m\u001b[1;3mHuman: [persona]\n",
            "너는 베스트셀러 작가야. 사람들에게 항상 새롭고 흥미진진한 소설을 작성하는 것으로 잘 알려져 있어\n",
            "\n",
            "[등장 인물]\n",
            "[{'name': '김철수', 'role': '주인공'}, {'name': '이영희', 'role': '조연'}]\n",
            "\n",
            "[아웃라인]\n",
            "김철수는 어느 날 우연히 마법의 물약을 발견한다. 이 물약을 마시게 되면 날씨를 조종할 수 있는 능력을 얻게 되는데, 그것을 이용해 이영희와 함께 얼음 왕국을 찾아가는 모험을 떠나게 된다.\n",
            "\n",
            "1. 김철수와 이영희는 얼음 왕국을 찾기 위해 여정을 시작한다. 그들은 얼음 성을 지나며 얼음 마법사와의 대결, 눈사람 군대와의 전투 등 다양한 장애물을 극복하며 진정한 용기와 우정을 발견한다.\n",
            "\n",
            "2. 얼음 왕국의 왕과의 만남을 통해, 김철수와 이영희는 자신들의 힘을 믿고 꿈을 이루는 법을 배우게 된다. 그리고 마침내 얼음 왕국의 비밀을 알게 되는데, 이 비밀은 얼음 왕국을 지키기 위해 김철수와 이영희에게 특별한 임무를 부여한다.\n",
            "\n",
            "3. 김철수와 이영희는 얼음 왕국의 비밀을 지키기 위해 모험을 떠나야 한다. 그들은 얼음 왕국을 위협하는 악당들과의 싸움을 통해 자신들의 힘과 용기를 증명하며, 얼음 왕국을 구하기 위해 힘을 합친다.\n",
            "\n",
            "4. 마침내 김\n",
            "\n",
            "[플롯]\n",
            "Chapter 1: 얼음 왕국의 비밀\n",
            "\n",
            "- 김철수와 이영희는 마법의 물약을 마시고 얼음 왕국을 찾기 위한 여정을 시작한다.\n",
            "- 얼음 성을 지나며 얼음 마법사와의 대결, 눈사람 군대와의 전투 등 다양한 장애물을 극복하며 용기와 우정을 발견한다.\n",
            "- 얼음 왕국의 왕과의 만남을 통해 김철수와 이영희는 자신들의 힘을 믿고 꿈을 이루는 법을 배우게 된다.\n",
            "- 얼음 왕국의 비밀을 알게 되고, 김철수와 이영희에게 특별한 임무를 부여한다.\n",
            "\n",
            "Chapter 2: 얼음 왕국의 수호\n",
            "\n",
            "- 김철수와 이영희는 얼음 왕국의 비밀을 지키기 위해 모험을 떠나야 한다.\n",
            "- 얼음 왕국을 위협하는 악당들과의 싸움을 통해 자신들의 힘과 용기를 증명하며, 얼음 왕국을 구하기 위해 힘을 합친다.\n",
            "- 김철수와 이영희는 다양한 마법과 전략을 사용하여 악당들과의 전투에서 승리한다.\n",
            "- 마침내 김철수와 이영희는 얼음 왕국을 위협하는 악당을 물리치고, 얼음 왕국을 안전하게 지키게 된다.\n",
            "\n",
            "Chapter 3: 용기와 우정의 시\n",
            "\n",
            "\n",
            "[등장 인물], <아웃라인>을 가지고 [플롯]의 Chapter 1을 소설로 작성해\n",
            "\n",
            "Chapter 1:\u001b[0m\n",
            "\n",
            "\u001b[1m> Finished chain.\u001b[0m\n",
            "\n",
            "\n",
            "\u001b[1m> Entering new LLMChain chain...\u001b[0m\n",
            "Prompt after formatting:\n",
            "\u001b[32;1m\u001b[1;3mHuman: [persona]\n",
            "너는 베스트셀러 작가야. 사람들에게 항상 새롭고 흥미진진한 소설을 작성하는 것으로 잘 알려져 있어\n",
            "\n",
            "[등장 인물]\n",
            "[{'name': '김철수', 'role': '주인공'}, {'name': '이영희', 'role': '조연'}]\n",
            "\n",
            "[아웃라인]\n",
            "김철수는 어느 날 우연히 마법의 물약을 발견한다. 이 물약을 마시게 되면 날씨를 조종할 수 있는 능력을 얻게 되는데, 그것을 이용해 이영희와 함께 얼음 왕국을 찾아가는 모험을 떠나게 된다.\n",
            "\n",
            "1. 김철수와 이영희는 얼음 왕국을 찾기 위해 여정을 시작한다. 그들은 얼음 성을 지나며 얼음 마법사와의 대결, 눈사람 군대와의 전투 등 다양한 장애물을 극복하며 진정한 용기와 우정을 발견한다.\n",
            "\n",
            "2. 얼음 왕국의 왕과의 만남을 통해, 김철수와 이영희는 자신들의 힘을 믿고 꿈을 이루는 법을 배우게 된다. 그리고 마침내 얼음 왕국의 비밀을 알게 되는데, 이 비밀은 얼음 왕국을 지키기 위해 김철수와 이영희에게 특별한 임무를 부여한다.\n",
            "\n",
            "3. 김철수와 이영희는 얼음 왕국의 비밀을 지키기 위해 모험을 떠나야 한다. 그들은 얼음 왕국을 위협하는 악당들과의 싸움을 통해 자신들의 힘과 용기를 증명하며, 얼음 왕국을 구하기 위해 힘을 합친다.\n",
            "\n",
            "4. 마침내 김\n",
            "\n",
            "[플롯]\n",
            "Chapter 1: 얼음 왕국의 비밀\n",
            "\n",
            "- 김철수와 이영희는 마법의 물약을 마시고 얼음 왕국을 찾기 위한 여정을 시작한다.\n",
            "- 얼음 성을 지나며 얼음 마법사와의 대결, 눈사람 군대와의 전투 등 다양한 장애물을 극복하며 용기와 우정을 발견한다.\n",
            "- 얼음 왕국의 왕과의 만남을 통해 김철수와 이영희는 자신들의 힘을 믿고 꿈을 이루는 법을 배우게 된다.\n",
            "- 얼음 왕국의 비밀을 알게 되고, 김철수와 이영희에게 특별한 임무를 부여한다.\n",
            "\n",
            "Chapter 2: 얼음 왕국의 수호\n",
            "\n",
            "- 김철수와 이영희는 얼음 왕국의 비밀을 지키기 위해 모험을 떠나야 한다.\n",
            "- 얼음 왕국을 위협하는 악당들과의 싸움을 통해 자신들의 힘과 용기를 증명하며, 얼음 왕국을 구하기 위해 힘을 합친다.\n",
            "- 김철수와 이영희는 다양한 마법과 전략을 사용하여 악당들과의 전투에서 승리한다.\n",
            "- 마침내 김철수와 이영희는 얼음 왕국을 위협하는 악당을 물리치고, 얼음 왕국을 안전하게 지키게 된다.\n",
            "\n",
            "Chapter 3: 용기와 우정의 시\n",
            "\n",
            "\n",
            "[등장 인물], <아웃라인>을 가지고 [플롯]의 Chapter 2을 소설로 작성해\n",
            "\n",
            "Chapter 2:\u001b[0m\n",
            "\n",
            "\u001b[1m> Finished chain.\u001b[0m\n"
          ]
        },
        {
          "output_type": "execute_result",
          "data": {
            "text/plain": [
              "{'results': '얼음 왕국의 비밀\\n\\n김철수와 이영희는 마법의 물약을 마시고 얼음 왕국을 찾기 위한 여정을 시작했다. 얼음 성을 향해 걸어가는 도중, 그들은 얼음 마법사와의 대결에 직면하게 되었다. 얼음 마법사는 강력한 얼음 마법을 사용하여 김철수와 이영희를 공격했다. 하지만 김철수와 이영희는 서로를 믿고 힘을 합치며 얼음 마법사를 이기는 데에 성공했다.\\n\\n얼음 성을 지나며 이들은 눈사람 군대와의 전투에도 휘말렸다. 눈사람 군대는 무수한 눈덩이를 던지며 김철수와 이영희를 공격했다. 하지만 김철수와 이영희는 눈사람 군대를 속이고, 눈덩이를 이용하여 자신들을 보호하며 전투에서 승리했다.\\n\\n얼음 왕국의 왕과의 만남을 통해 김철수와 이영희는 자신들의 힘을 믿고 꿈을 이루는 법을 배웠다. 왕은 김철수와 이영희에게 얼음 왕국의 비밀을 알려주었다. 이 비밀은 얼음 왕국을 지키기 위해 김철수와 이영희에게 특별한 임무를 부여\\n\\n얼음 왕국의 수호\\n\\n김철수와 이영희는 얼음 왕국의 비밀을 지키기 위해 모험을 떠나야 했다. 그들은 얼음 왕국을 위협하는 악당들과의 싸움을 통해 자신들의 힘과 용기를 증명하며, 얼음 왕국을 구하기 위해 힘을 합친다.\\n\\n김철수와 이영희는 얼음 왕국의 비밀을 알게 된 후, 그들은 얼음 왕국을 지키기 위해 특별한 임무를 부여받았다. 이 임무는 얼음 왕국을 위협하는 악당들을 찾아내고, 그들을 물리치는 것이었다.\\n\\n그들은 얼음 왕국의 마법사와의 대결을 통해 자신들의 마법 능력을 발휘하며 악당들과의 전투에 임한다. 김철수는 불의 마법을 사용하여 적들을 불태우고, 이영희는 얼음의 마법을 사용하여 적들을 얼려버린다. 그들은 다양한 마법과 전략을 사용하여 악당들과의 전투에서 승리한다.\\n\\n하지만 악당들은 김철수와 이영희를 쉽게 포기하지 않는다. 그들은 얼음 왕국을 지키기 위해 최선을 다하는 김철수와 이영희에게 점점 더 강력한 공격을 가한다. 하지만 김철수와 이영희는 용기와 우정을 통'}"
            ]
          },
          "metadata": {},
          "execution_count": 30
        }
      ]
    },
    {
      "cell_type": "code",
      "source": [],
      "metadata": {
        "id": "O4ConqVDA7Pc"
      },
      "execution_count": null,
      "outputs": []
    }
  ]
}