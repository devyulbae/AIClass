{
  "nbformat": 4,
  "nbformat_minor": 0,
  "metadata": {
    "colab": {
      "provenance": [],
      "include_colab_link": true
    },
    "kernelspec": {
      "name": "python3",
      "display_name": "Python 3"
    },
    "language_info": {
      "name": "python"
    }
  },
  "cells": [
    {
      "cell_type": "markdown",
      "metadata": {
        "id": "view-in-github",
        "colab_type": "text"
      },
      "source": [
        "<a href=\"https://colab.research.google.com/github/devyulbae/AIClass/blob/main/2)_LLMs_novel_chain_generation.ipynb\" target=\"_parent\"><img src=\"https://colab.research.google.com/assets/colab-badge.svg\" alt=\"Open In Colab\"/></a>"
      ]
    },
    {
      "cell_type": "markdown",
      "source": [
        "### 드라이브 마운트"
      ],
      "metadata": {
        "id": "Bq_50zTu-dgW"
      }
    },
    {
      "cell_type": "code",
      "source": [
        "from google.colab import drive\n",
        "drive.mount('/content/drive')"
      ],
      "metadata": {
        "id": "Fi0aF680D-DR",
        "outputId": "5039cd40-fd86-4bed-dd58-d67f63a32632",
        "colab": {
          "base_uri": "https://localhost:8080/"
        }
      },
      "execution_count": 1,
      "outputs": [
        {
          "output_type": "stream",
          "name": "stdout",
          "text": [
            "Mounted at /content/drive\n"
          ]
        }
      ]
    },
    {
      "cell_type": "markdown",
      "source": [
        "### 패키지 설치"
      ],
      "metadata": {
        "id": "KM9aGdke-fR0"
      }
    },
    {
      "cell_type": "code",
      "source": [
        "!pip install openai langchain langchain-google-genai"
      ],
      "metadata": {
        "id": "t7KHOqhrEMav",
        "outputId": "e6827dc1-5fb3-481d-ef2c-39e45b983134",
        "colab": {
          "base_uri": "https://localhost:8080/"
        }
      },
      "execution_count": 2,
      "outputs": [
        {
          "output_type": "stream",
          "name": "stdout",
          "text": [
            "Collecting openai\n",
            "  Downloading openai-1.10.0-py3-none-any.whl (225 kB)\n",
            "\u001b[2K     \u001b[90m━━━━━━━━━━━━━━━━━━━━━━━━━━━━━━━━━━━━━━━━\u001b[0m \u001b[32m225.1/225.1 kB\u001b[0m \u001b[31m4.6 MB/s\u001b[0m eta \u001b[36m0:00:00\u001b[0m\n",
            "\u001b[?25hCollecting langchain\n",
            "  Downloading langchain-0.1.4-py3-none-any.whl (803 kB)\n",
            "\u001b[2K     \u001b[90m━━━━━━━━━━━━━━━━━━━━━━━━━━━━━━━━━━━━━━━━\u001b[0m \u001b[32m803.6/803.6 kB\u001b[0m \u001b[31m10.7 MB/s\u001b[0m eta \u001b[36m0:00:00\u001b[0m\n",
            "\u001b[?25hCollecting langchain-google-genai\n",
            "  Downloading langchain_google_genai-0.0.6-py3-none-any.whl (15 kB)\n",
            "Requirement already satisfied: anyio<5,>=3.5.0 in /usr/local/lib/python3.10/dist-packages (from openai) (3.7.1)\n",
            "Requirement already satisfied: distro<2,>=1.7.0 in /usr/lib/python3/dist-packages (from openai) (1.7.0)\n",
            "Collecting httpx<1,>=0.23.0 (from openai)\n",
            "  Downloading httpx-0.26.0-py3-none-any.whl (75 kB)\n",
            "\u001b[2K     \u001b[90m━━━━━━━━━━━━━━━━━━━━━━━━━━━━━━━━━━━━━━━━\u001b[0m \u001b[32m75.9/75.9 kB\u001b[0m \u001b[31m9.1 MB/s\u001b[0m eta \u001b[36m0:00:00\u001b[0m\n",
            "\u001b[?25hRequirement already satisfied: pydantic<3,>=1.9.0 in /usr/local/lib/python3.10/dist-packages (from openai) (1.10.14)\n",
            "Requirement already satisfied: sniffio in /usr/local/lib/python3.10/dist-packages (from openai) (1.3.0)\n",
            "Requirement already satisfied: tqdm>4 in /usr/local/lib/python3.10/dist-packages (from openai) (4.66.1)\n",
            "Collecting typing-extensions<5,>=4.7 (from openai)\n",
            "  Downloading typing_extensions-4.9.0-py3-none-any.whl (32 kB)\n",
            "Requirement already satisfied: PyYAML>=5.3 in /usr/local/lib/python3.10/dist-packages (from langchain) (6.0.1)\n",
            "Requirement already satisfied: SQLAlchemy<3,>=1.4 in /usr/local/lib/python3.10/dist-packages (from langchain) (2.0.24)\n",
            "Requirement already satisfied: aiohttp<4.0.0,>=3.8.3 in /usr/local/lib/python3.10/dist-packages (from langchain) (3.9.1)\n",
            "Requirement already satisfied: async-timeout<5.0.0,>=4.0.0 in /usr/local/lib/python3.10/dist-packages (from langchain) (4.0.3)\n",
            "Collecting dataclasses-json<0.7,>=0.5.7 (from langchain)\n",
            "  Downloading dataclasses_json-0.6.3-py3-none-any.whl (28 kB)\n",
            "Collecting jsonpatch<2.0,>=1.33 (from langchain)\n",
            "  Downloading jsonpatch-1.33-py2.py3-none-any.whl (12 kB)\n",
            "Collecting langchain-community<0.1,>=0.0.14 (from langchain)\n",
            "  Downloading langchain_community-0.0.16-py3-none-any.whl (1.6 MB)\n",
            "\u001b[2K     \u001b[90m━━━━━━━━━━━━━━━━━━━━━━━━━━━━━━━━━━━━━━━━\u001b[0m \u001b[32m1.6/1.6 MB\u001b[0m \u001b[31m13.5 MB/s\u001b[0m eta \u001b[36m0:00:00\u001b[0m\n",
            "\u001b[?25hCollecting langchain-core<0.2,>=0.1.16 (from langchain)\n",
            "  Downloading langchain_core-0.1.17-py3-none-any.whl (235 kB)\n",
            "\u001b[2K     \u001b[90m━━━━━━━━━━━━━━━━━━━━━━━━━━━━━━━━━━━━━━━━\u001b[0m \u001b[32m235.9/235.9 kB\u001b[0m \u001b[31m19.0 MB/s\u001b[0m eta \u001b[36m0:00:00\u001b[0m\n",
            "\u001b[?25hCollecting langsmith<0.1,>=0.0.83 (from langchain)\n",
            "  Downloading langsmith-0.0.84-py3-none-any.whl (53 kB)\n",
            "\u001b[2K     \u001b[90m━━━━━━━━━━━━━━━━━━━━━━━━━━━━━━━━━━━━━━━━\u001b[0m \u001b[32m54.0/54.0 kB\u001b[0m \u001b[31m6.2 MB/s\u001b[0m eta \u001b[36m0:00:00\u001b[0m\n",
            "\u001b[?25hRequirement already satisfied: numpy<2,>=1 in /usr/local/lib/python3.10/dist-packages (from langchain) (1.23.5)\n",
            "Requirement already satisfied: requests<3,>=2 in /usr/local/lib/python3.10/dist-packages (from langchain) (2.31.0)\n",
            "Requirement already satisfied: tenacity<9.0.0,>=8.1.0 in /usr/local/lib/python3.10/dist-packages (from langchain) (8.2.3)\n",
            "Requirement already satisfied: google-generativeai<0.4.0,>=0.3.1 in /usr/local/lib/python3.10/dist-packages (from langchain-google-genai) (0.3.2)\n",
            "Requirement already satisfied: attrs>=17.3.0 in /usr/local/lib/python3.10/dist-packages (from aiohttp<4.0.0,>=3.8.3->langchain) (23.2.0)\n",
            "Requirement already satisfied: multidict<7.0,>=4.5 in /usr/local/lib/python3.10/dist-packages (from aiohttp<4.0.0,>=3.8.3->langchain) (6.0.4)\n",
            "Requirement already satisfied: yarl<2.0,>=1.0 in /usr/local/lib/python3.10/dist-packages (from aiohttp<4.0.0,>=3.8.3->langchain) (1.9.4)\n",
            "Requirement already satisfied: frozenlist>=1.1.1 in /usr/local/lib/python3.10/dist-packages (from aiohttp<4.0.0,>=3.8.3->langchain) (1.4.1)\n",
            "Requirement already satisfied: aiosignal>=1.1.2 in /usr/local/lib/python3.10/dist-packages (from aiohttp<4.0.0,>=3.8.3->langchain) (1.3.1)\n",
            "Requirement already satisfied: idna>=2.8 in /usr/local/lib/python3.10/dist-packages (from anyio<5,>=3.5.0->openai) (3.6)\n",
            "Requirement already satisfied: exceptiongroup in /usr/local/lib/python3.10/dist-packages (from anyio<5,>=3.5.0->openai) (1.2.0)\n",
            "Collecting marshmallow<4.0.0,>=3.18.0 (from dataclasses-json<0.7,>=0.5.7->langchain)\n",
            "  Downloading marshmallow-3.20.2-py3-none-any.whl (49 kB)\n",
            "\u001b[2K     \u001b[90m━━━━━━━━━━━━━━━━━━━━━━━━━━━━━━━━━━━━━━━━\u001b[0m \u001b[32m49.4/49.4 kB\u001b[0m \u001b[31m6.2 MB/s\u001b[0m eta \u001b[36m0:00:00\u001b[0m\n",
            "\u001b[?25hCollecting typing-inspect<1,>=0.4.0 (from dataclasses-json<0.7,>=0.5.7->langchain)\n",
            "  Downloading typing_inspect-0.9.0-py3-none-any.whl (8.8 kB)\n",
            "Requirement already satisfied: google-ai-generativelanguage==0.4.0 in /usr/local/lib/python3.10/dist-packages (from google-generativeai<0.4.0,>=0.3.1->langchain-google-genai) (0.4.0)\n",
            "Requirement already satisfied: google-auth in /usr/local/lib/python3.10/dist-packages (from google-generativeai<0.4.0,>=0.3.1->langchain-google-genai) (2.17.3)\n",
            "Requirement already satisfied: google-api-core in /usr/local/lib/python3.10/dist-packages (from google-generativeai<0.4.0,>=0.3.1->langchain-google-genai) (2.11.1)\n",
            "Requirement already satisfied: protobuf in /usr/local/lib/python3.10/dist-packages (from google-generativeai<0.4.0,>=0.3.1->langchain-google-genai) (3.20.3)\n",
            "Requirement already satisfied: proto-plus<2.0.0dev,>=1.22.3 in /usr/local/lib/python3.10/dist-packages (from google-ai-generativelanguage==0.4.0->google-generativeai<0.4.0,>=0.3.1->langchain-google-genai) (1.23.0)\n",
            "Requirement already satisfied: certifi in /usr/local/lib/python3.10/dist-packages (from httpx<1,>=0.23.0->openai) (2023.11.17)\n",
            "Collecting httpcore==1.* (from httpx<1,>=0.23.0->openai)\n",
            "  Downloading httpcore-1.0.2-py3-none-any.whl (76 kB)\n",
            "\u001b[2K     \u001b[90m━━━━━━━━━━━━━━━━━━━━━━━━━━━━━━━━━━━━━━━━\u001b[0m \u001b[32m76.9/76.9 kB\u001b[0m \u001b[31m10.4 MB/s\u001b[0m eta \u001b[36m0:00:00\u001b[0m\n",
            "\u001b[?25hCollecting h11<0.15,>=0.13 (from httpcore==1.*->httpx<1,>=0.23.0->openai)\n",
            "  Downloading h11-0.14.0-py3-none-any.whl (58 kB)\n",
            "\u001b[2K     \u001b[90m━━━━━━━━━━━━━━━━━━━━━━━━━━━━━━━━━━━━━━━━\u001b[0m \u001b[32m58.3/58.3 kB\u001b[0m \u001b[31m8.2 MB/s\u001b[0m eta \u001b[36m0:00:00\u001b[0m\n",
            "\u001b[?25hCollecting jsonpointer>=1.9 (from jsonpatch<2.0,>=1.33->langchain)\n",
            "  Downloading jsonpointer-2.4-py2.py3-none-any.whl (7.8 kB)\n",
            "Requirement already satisfied: packaging<24.0,>=23.2 in /usr/local/lib/python3.10/dist-packages (from langchain-core<0.2,>=0.1.16->langchain) (23.2)\n",
            "Requirement already satisfied: charset-normalizer<4,>=2 in /usr/local/lib/python3.10/dist-packages (from requests<3,>=2->langchain) (3.3.2)\n",
            "Requirement already satisfied: urllib3<3,>=1.21.1 in /usr/local/lib/python3.10/dist-packages (from requests<3,>=2->langchain) (2.0.7)\n",
            "Requirement already satisfied: greenlet!=0.4.17 in /usr/local/lib/python3.10/dist-packages (from SQLAlchemy<3,>=1.4->langchain) (3.0.3)\n",
            "Collecting mypy-extensions>=0.3.0 (from typing-inspect<1,>=0.4.0->dataclasses-json<0.7,>=0.5.7->langchain)\n",
            "  Downloading mypy_extensions-1.0.0-py3-none-any.whl (4.7 kB)\n",
            "Requirement already satisfied: googleapis-common-protos<2.0.dev0,>=1.56.2 in /usr/local/lib/python3.10/dist-packages (from google-api-core->google-generativeai<0.4.0,>=0.3.1->langchain-google-genai) (1.62.0)\n",
            "Requirement already satisfied: cachetools<6.0,>=2.0.0 in /usr/local/lib/python3.10/dist-packages (from google-auth->google-generativeai<0.4.0,>=0.3.1->langchain-google-genai) (5.3.2)\n",
            "Requirement already satisfied: pyasn1-modules>=0.2.1 in /usr/local/lib/python3.10/dist-packages (from google-auth->google-generativeai<0.4.0,>=0.3.1->langchain-google-genai) (0.3.0)\n",
            "Requirement already satisfied: six>=1.9.0 in /usr/local/lib/python3.10/dist-packages (from google-auth->google-generativeai<0.4.0,>=0.3.1->langchain-google-genai) (1.16.0)\n",
            "Requirement already satisfied: rsa<5,>=3.1.4 in /usr/local/lib/python3.10/dist-packages (from google-auth->google-generativeai<0.4.0,>=0.3.1->langchain-google-genai) (4.9)\n",
            "Requirement already satisfied: grpcio<2.0dev,>=1.33.2 in /usr/local/lib/python3.10/dist-packages (from google-api-core->google-generativeai<0.4.0,>=0.3.1->langchain-google-genai) (1.60.0)\n",
            "Requirement already satisfied: grpcio-status<2.0.dev0,>=1.33.2 in /usr/local/lib/python3.10/dist-packages (from google-api-core->google-generativeai<0.4.0,>=0.3.1->langchain-google-genai) (1.48.2)\n",
            "Requirement already satisfied: pyasn1<0.6.0,>=0.4.6 in /usr/local/lib/python3.10/dist-packages (from pyasn1-modules>=0.2.1->google-auth->google-generativeai<0.4.0,>=0.3.1->langchain-google-genai) (0.5.1)\n",
            "Installing collected packages: typing-extensions, mypy-extensions, marshmallow, jsonpointer, h11, typing-inspect, jsonpatch, httpcore, langsmith, httpx, dataclasses-json, openai, langchain-core, langchain-community, langchain, langchain-google-genai\n",
            "  Attempting uninstall: typing-extensions\n",
            "    Found existing installation: typing_extensions 4.5.0\n",
            "    Uninstalling typing_extensions-4.5.0:\n",
            "      Successfully uninstalled typing_extensions-4.5.0\n",
            "\u001b[31mERROR: pip's dependency resolver does not currently take into account all the packages that are installed. This behaviour is the source of the following dependency conflicts.\n",
            "llmx 0.0.15a0 requires cohere, which is not installed.\n",
            "llmx 0.0.15a0 requires tiktoken, which is not installed.\n",
            "tensorflow-probability 0.22.0 requires typing-extensions<4.6.0, but you have typing-extensions 4.9.0 which is incompatible.\u001b[0m\u001b[31m\n",
            "\u001b[0mSuccessfully installed dataclasses-json-0.6.3 h11-0.14.0 httpcore-1.0.2 httpx-0.26.0 jsonpatch-1.33 jsonpointer-2.4 langchain-0.1.4 langchain-community-0.0.16 langchain-core-0.1.17 langchain-google-genai-0.0.6 langsmith-0.0.84 marshmallow-3.20.2 mypy-extensions-1.0.0 openai-1.10.0 typing-extensions-4.9.0 typing-inspect-0.9.0\n"
          ]
        }
      ]
    },
    {
      "cell_type": "code",
      "execution_count": 4,
      "metadata": {
        "id": "tTIjHrG2CT54"
      },
      "outputs": [],
      "source": [
        "from pprint import pprint\n",
        "from typing import Dict, List\n",
        "\n",
        "from langchain.chains import LLMChain, SequentialChain\n",
        "from langchain.chat_models import ChatOpenAI\n",
        "from langchain_google_genai import ChatGoogleGenerativeAI\n",
        "from langchain.prompts.chat import ChatPromptTemplate\n",
        "from pydantic import BaseModel\n"
      ]
    },
    {
      "cell_type": "markdown",
      "source": [
        "### OpenAI API key"
      ],
      "metadata": {
        "id": "tcb7WQdDBn3d"
      }
    },
    {
      "cell_type": "code",
      "source": [
        "import getpass\n",
        "import os\n",
        "\n",
        "os.environ[\"GOOGLE_API_KEY\"] = getpass.getpass()"
      ],
      "metadata": {
        "id": "qxZXQzINCebv",
        "outputId": "349a5b4e-c98e-4353-9756-90342d51a367",
        "colab": {
          "base_uri": "https://localhost:8080/"
        }
      },
      "execution_count": 12,
      "outputs": [
        {
          "name": "stdout",
          "output_type": "stream",
          "text": [
            "··········\n"
          ]
        }
      ]
    },
    {
      "cell_type": "markdown",
      "source": [
        "### Prompt chain 준비\n",
        "* 서비스할 내용의 프롬프트 체인을 준비합니다.\n",
        "* 각 프롬프트 체인을 미리 준비해 놓고, 템플릿으로 사용합니다."
      ],
      "metadata": {
        "id": "kVOr8L56BrB7"
      }
    },
    {
      "cell_type": "code",
      "source": [
        "P_PATH = \"/content/drive/MyDrive/datas/multi_prompt\"\n",
        "IDEA_P = os.path.join(P_PATH, \"extract_idea.txt\")\n",
        "OUTLINE_P = os.path.join(P_PATH, \"write_outline.txt\")\n",
        "PLOT_P = os.path.join(P_PATH, \"write_plot.txt\")\n",
        "CHAPTER_P = os.path.join(P_PATH, \"write_chapter.txt\")"
      ],
      "metadata": {
        "id": "0uAt9eUFD5_B"
      },
      "execution_count": 14,
      "outputs": []
    },
    {
      "cell_type": "markdown",
      "source": [
        "### Prompt chain 구현\n",
        "* `SequentialChain`을 이용해서 여러개의 chain을 연속적으로 구현할 수 있습니다."
      ],
      "metadata": {
        "id": "Vdr7T-w5CfNU"
      }
    },
    {
      "cell_type": "code",
      "source": [
        "class UserRequest(BaseModel):\n",
        "    genre: str\n",
        "    characters: List[Dict[str, str]]\n",
        "    text: str\n",
        "\n",
        "\n",
        "def read_prompt_template(file_path: str) -> str:\n",
        "    with open(file_path, \"r\") as f:\n",
        "        prompt_template = f.read()\n",
        "\n",
        "    return prompt_template\n",
        "\n",
        "\n",
        "def create_chain(llm, template_path, output_key):\n",
        "    return LLMChain(\n",
        "        llm=llm,\n",
        "        prompt=ChatPromptTemplate.from_template(\n",
        "            template=read_prompt_template(template_path),\n",
        "        ),\n",
        "        output_key=output_key,\n",
        "        verbose=True,\n",
        "    )\n",
        "\n",
        "\n",
        "def generate_novel(req: UserRequest) -> Dict[str, str]:\n",
        "    writer_llm = ChatGoogleGenerativeAI(model=\"gemini-pro\")\n",
        "    # ChatOpenAI(temperature=0.3, max_tokens=500, model=\"gpt-3.5-turbo\")\n",
        "\n",
        "    # 아이디어 뽑기 체인 생성\n",
        "    novel_idea_chain = create_chain(writer_llm, IDEA_P, \"novel_idea\")\n",
        "\n",
        "    # 아웃라인 작성 체인 생성\n",
        "    novel_outline_chain = create_chain(\n",
        "        writer_llm, OUTLINE_P, \"novel_outline\"\n",
        "    )\n",
        "\n",
        "    # 플롯 작성 체인 생성\n",
        "    novel_plot_chain = create_chain(writer_llm, PLOT_P, \"novel_plot\")\n",
        "\n",
        "    # 챕터 작성 체인 생성\n",
        "    novel_chapter_chain = create_chain(writer_llm, CHAPTER_P, \"output\")\n",
        "\n",
        "    preprocess_chain = SequentialChain(\n",
        "        chains=[\n",
        "            novel_idea_chain,\n",
        "            novel_outline_chain,\n",
        "            novel_plot_chain\n",
        "        ],\n",
        "        input_variables=[\"genre\", \"characters\", \"text\"],\n",
        "        output_variables=[\"novel_idea\", \"novel_outline\", \"novel_plot\"],\n",
        "        verbose=True,\n",
        "    )\n",
        "\n",
        "    context = req.dict()\n",
        "    context = preprocess_chain(context)\n",
        "\n",
        "    context[\"novel_chapter\"] = []\n",
        "    for chapter_number in range(1, 3):\n",
        "        context[\"chapter_number\"] = chapter_number\n",
        "        context = novel_chapter_chain(context)\n",
        "        context[\"novel_chapter\"].append(context[\"output\"])\n",
        "\n",
        "    contents = \"\\n\\n\".join(context[\"novel_chapter\"])\n",
        "    return {\"results\": contents}"
      ],
      "metadata": {
        "id": "o-RVkzgKCcOo"
      },
      "execution_count": 15,
      "outputs": []
    },
    {
      "cell_type": "markdown",
      "source": [
        "### User prompt 작성\n",
        "* User가 직접 작성하는 프롬프트를 작성합니다."
      ],
      "metadata": {
        "id": "IjNmhGDGEIzX"
      }
    },
    {
      "cell_type": "code",
      "source": [
        "user_data = {\n",
        "    \"genre\": \"디즈니 판타지\",\n",
        "    \"characters\": [\n",
        "        {\n",
        "            \"name\": \"아샤\",\n",
        "            \"role\": \"마을 소녀이자 주인공\"\n",
        "        },\n",
        "        {\n",
        "            \"name\": \"매그니피코\",\n",
        "            \"role\": \"왕국 국왕이자 악당\"\n",
        "        }\n",
        "    ],\n",
        "    \"text\": \"So I made this wish.\"\n",
        "}\n"
      ],
      "metadata": {
        "id": "m2bfuHDHNx22"
      },
      "execution_count": 22,
      "outputs": []
    },
    {
      "cell_type": "markdown",
      "source": [
        "* User Prompt를 입력합니다."
      ],
      "metadata": {
        "id": "KxWOzyTwIgUN"
      }
    },
    {
      "cell_type": "code",
      "source": [
        "request_instance = UserRequest(**user_data)"
      ],
      "metadata": {
        "id": "1j7O0Y3zPNu2"
      },
      "execution_count": 23,
      "outputs": []
    },
    {
      "cell_type": "markdown",
      "source": [
        "### Text Generation"
      ],
      "metadata": {
        "id": "VFFDa0NSIiip"
      }
    },
    {
      "cell_type": "code",
      "source": [
        "generate_novel(request_instance)"
      ],
      "metadata": {
        "id": "7WLAYEbaPP0B",
        "outputId": "6b97b30c-fb71-4a06-8c89-569a77744cdd",
        "colab": {
          "base_uri": "https://localhost:8080/"
        }
      },
      "execution_count": 24,
      "outputs": [
        {
          "output_type": "stream",
          "name": "stdout",
          "text": [
            "\n",
            "\n",
            "\u001b[1m> Entering new SequentialChain chain...\u001b[0m\n",
            "\n",
            "\n",
            "\u001b[1m> Entering new LLMChain chain...\u001b[0m\n",
            "Prompt after formatting:\n",
            "\u001b[32;1m\u001b[1;3mHuman: [등장 인물]\n",
            "[{'name': '아샤', 'role': '마을 소녀이자 주인공'}, {'name': '매그니피코', 'role': '왕국 국왕이자 악당'}]\n",
            "\n",
            "[참고 텍스트]\n",
            "So I made this wish.\n",
            "\n",
            "[등장 인물] 과 [참고 텍스트] 를 소재로 새롭고 흥미진진한 디즈니 판타지 소설 아이디어를 한 문단으로 작성해줘\u001b[0m\n",
            "\n",
            "\u001b[1m> Finished chain.\u001b[0m\n",
            "\n",
            "\n",
            "\u001b[1m> Entering new LLMChain chain...\u001b[0m\n",
            "Prompt after formatting:\n",
            "\u001b[32;1m\u001b[1;3mHuman: [등장 인물]\n",
            "[{'name': '아샤', 'role': '마을 소녀이자 주인공'}, {'name': '매그니피코', 'role': '왕국 국왕이자 악당'}]\n",
            "\n",
            "[참고 텍스트]\n",
            "So I made this wish.\n",
            "\n",
            "[아이디어]\n",
            "아샤라는 마을 소녀는 세상에 대한 열망이 가득하고 그것을 되돌리려는 욕구로 가득 찬 자비로운 영혼이다. 그녀는 숲에서 매그니피코 왕을 만나고 그가 그녀의 세상에 재앙을 퍼뜨릴 것을 깨닫는다. 아샤는 왕국의 미래를 위해 매그니피코를 저지하기 위해 여행을 떠나고 길을 따라 새로운 친구들을 사귀고, 용감함과 연민의 중요성에 대해 배운다. 그러나 매그니피코는 강력하고 그의 부하들은 무자비하다. 아샤는 용기와 신념을 모아 우정의 힘과 사랑의 힘으로 악의 군대를 물리치기 위해 싸워야만 한다.\n",
            "\n",
            "[context]\n",
            "아웃라인 단계에서는 주요 이벤트와 결말을 고려하세요. \n",
            "여기서 중요한 것은, 이 단계에서 구체적인 디테일에 매몰되기보다는 스토리의 큰 그림에 집중하는 것입니다.\n",
            "\n",
            "[등장 인물] 과 [아이디어] 를 소재로 새롭고 흥미진진한 디즈니 판타지 소설의 아웃라인을 작성해줘\n",
            "\u001b[0m\n",
            "\n",
            "\u001b[1m> Finished chain.\u001b[0m\n",
            "\n",
            "\n",
            "\u001b[1m> Entering new LLMChain chain...\u001b[0m\n",
            "Prompt after formatting:\n",
            "\u001b[32;1m\u001b[1;3mHuman: [등장 인물]\n",
            "[{'name': '아샤', 'role': '마을 소녀이자 주인공'}, {'name': '매그니피코', 'role': '왕국 국왕이자 악당'}]\n",
            "\n",
            "[아이디어]\n",
            "아샤라는 마을 소녀는 세상에 대한 열망이 가득하고 그것을 되돌리려는 욕구로 가득 찬 자비로운 영혼이다. 그녀는 숲에서 매그니피코 왕을 만나고 그가 그녀의 세상에 재앙을 퍼뜨릴 것을 깨닫는다. 아샤는 왕국의 미래를 위해 매그니피코를 저지하기 위해 여행을 떠나고 길을 따라 새로운 친구들을 사귀고, 용감함과 연민의 중요성에 대해 배운다. 그러나 매그니피코는 강력하고 그의 부하들은 무자비하다. 아샤는 용기와 신념을 모아 우정의 힘과 사랑의 힘으로 악의 군대를 물리치기 위해 싸워야만 한다.\n",
            "\n",
            "[아웃라인]\n",
            "**1막**\n",
            "\n",
            "- 마을 소녀 아샤는 꿈꾸는 소녀이며, 세상에 대해 많은 열망을 가지고 있고 그것을 더 나은 곳으로 만들고 싶어한다.\n",
            "- 그녀는 숲에서 매그니피코 국왕을 만나고, 그가 그녀의 세상에 재앙을 퍼뜨릴 것을 깨닫는다.\n",
            "- 아샤는 왕국의 미래를 위해 매그니피코를 저지하기 위해 여행을 떠난다.\n",
            "- 길을 따라, 그녀는 용감한 전사인 리암과 현명한 마법사인 메를린을 만나 새로운 친구들을 사귀게 된다.\n",
            "- 아샤와 그녀의 친구들은 매그니피코의 부하들과 싸우고, 그 과정에서 용감함과 연민의 중요성에 대해 배운다.\n",
            "\n",
            "**2막**\n",
            "\n",
            "- 아샤와 그녀의 친구들은 마침내 매그니피코의 성에 도착한다.\n",
            "- 그들은 성을 침공하고 매그니피코와 대면한다.\n",
            "- 매그니피코는 강력한 마법사이며, 아샤와 그녀의 친구들은 그를 물리치기 위해 애쓰게 된다.\n",
            "- 하지만 아샤의 용기와 신념, 그리고 그녀의 친구들의 도움으로, 그녀는 마침내 매그니피코를 물리친다.\n",
            "\n",
            "**3막**\n",
            "\n",
            "- 매그니피코가 패배함에 따라 그의 주문은 풀리고, 왕국은 다시 평화를 맞이한다.\n",
            "- 아샤는 영웅으로 환영받고, 그녀는 왕국의 새로운 통치자가 된다.\n",
            "- 그녀는 왕국을 번영으로 이끌고, 세상을 더 나은 곳으로 만들기 위한 여정을 계속한다.\n",
            "\n",
            "[context]\n",
            "세부 플롯 개발에서는 캐릭터의 발전, 각 장면의 연속성, 그리고 이벤트들이 어떻게 스토리를 전진시키는지에 초점을 맞추세요. \n",
            "또한, 캐릭터 간의 상호작용과 각 장면이 전체 플롯에 어떻게 기여하는지를 고려하면서 플롯을 세부화해 나가야 합니다.\n",
            "\n",
            "[등장 인물], [아이디어], [아웃라인]을 가지고 흥미진진한 디즈니 판타지 소설의 세부 플롯을 4개의 Chapter로 나눠서 작성해줘.\n",
            "\u001b[0m\n",
            "\n",
            "\u001b[1m> Finished chain.\u001b[0m\n",
            "\n",
            "\u001b[1m> Finished chain.\u001b[0m\n",
            "\n",
            "\n",
            "\u001b[1m> Entering new LLMChain chain...\u001b[0m\n",
            "Prompt after formatting:\n",
            "\u001b[32;1m\u001b[1;3mHuman: [persona]\n",
            "너는 베스트셀러 작가야. 사람들에게 항상 새롭고 흥미진진한 소설을 작성하는 것으로 잘 알려져 있어\n",
            "\n",
            "[등장 인물]\n",
            "[{'name': '아샤', 'role': '마을 소녀이자 주인공'}, {'name': '매그니피코', 'role': '왕국 국왕이자 악당'}]\n",
            "\n",
            "[아웃라인]\n",
            "**1막**\n",
            "\n",
            "- 마을 소녀 아샤는 꿈꾸는 소녀이며, 세상에 대해 많은 열망을 가지고 있고 그것을 더 나은 곳으로 만들고 싶어한다.\n",
            "- 그녀는 숲에서 매그니피코 국왕을 만나고, 그가 그녀의 세상에 재앙을 퍼뜨릴 것을 깨닫는다.\n",
            "- 아샤는 왕국의 미래를 위해 매그니피코를 저지하기 위해 여행을 떠난다.\n",
            "- 길을 따라, 그녀는 용감한 전사인 리암과 현명한 마법사인 메를린을 만나 새로운 친구들을 사귀게 된다.\n",
            "- 아샤와 그녀의 친구들은 매그니피코의 부하들과 싸우고, 그 과정에서 용감함과 연민의 중요성에 대해 배운다.\n",
            "\n",
            "**2막**\n",
            "\n",
            "- 아샤와 그녀의 친구들은 마침내 매그니피코의 성에 도착한다.\n",
            "- 그들은 성을 침공하고 매그니피코와 대면한다.\n",
            "- 매그니피코는 강력한 마법사이며, 아샤와 그녀의 친구들은 그를 물리치기 위해 애쓰게 된다.\n",
            "- 하지만 아샤의 용기와 신념, 그리고 그녀의 친구들의 도움으로, 그녀는 마침내 매그니피코를 물리친다.\n",
            "\n",
            "**3막**\n",
            "\n",
            "- 매그니피코가 패배함에 따라 그의 주문은 풀리고, 왕국은 다시 평화를 맞이한다.\n",
            "- 아샤는 영웅으로 환영받고, 그녀는 왕국의 새로운 통치자가 된다.\n",
            "- 그녀는 왕국을 번영으로 이끌고, 세상을 더 나은 곳으로 만들기 위한 여정을 계속한다.\n",
            "\n",
            "[플롯]\n",
            "**Chapter 1: 아샤의 운명**\n",
            "\n",
            "숲속에서, 꿈꾸는 소녀 아샤는 동물들과 함께 노래를 부르며 즐거운 시간을 보내고 있다. 그러나 갑자기 검은 구름이 하늘을 뒤덮고, 사악한 매그니피코 국왕이 나타난다. 매그니피코는 아샤의 마을을 파괴하고, 모든 것을 다스리기 위해 마법을 사용한다. 아샤는 매그니피코의 부하들로부터 도망치며, 숲속 깊은 곳으로 도망간다. 그곳에서 그녀는 용감한 전사인 리암을 만난다. 리암은 아샤를 보호하고, 그녀를 마법사인 메를린에게 데려간다.\n",
            "\n",
            "**Chapter 2: 용감함과 연민의 여정**\n",
            "\n",
            "메를린은 아샤에게 매그니피코를 물리칠 유일한 방법은 그의 마법의 원천인 마법의 보석을 파괴하는 것이라고 말한다. 아샤, 리암, 그리고 메를린은 마법의 보석을 찾기 위해 여행을 떠난다. 여행을 하며 그들은 매그니피코의 부하들과 싸우고, 불길한 숲과 위험한 산을 넘는다. 아샤는 용감함과 연민을 배우며, 진정한 영웅으로 성장한다.\n",
            "\n",
            "**Chapter 3: 마지막 대결**\n",
            "\n",
            "마침내 아샤와 그녀의 친구들은 매그니피코의 성에 도착한다. 그들은 성을 침공하고, 마침내 매그니피코와 대면한다. 매그니피코는 강력한 마법을 사용하며, 아샤와 그녀의 친구들은 고전을 겪으며 싸운다. 그러나 아샤의 용기와 신념, 그리고 그녀의 친구들의 도움으로, 그녀는 마침내 매그니피코를 물리친다.\n",
            "\n",
            "**Chapter 4: 행복한 미래**\n",
            "\n",
            "매그니피코가 패배함에 따라 그의 주문은 풀리고, 왕국은 다시 평화를 맞이한다. 아샤는 영웅으로 환영받고, 그녀는 왕국의 새로운 통치자가 된다. 그녀는 왕국을 번영으로 이끌고, 세상을 더 나은 곳으로 만들기 위한 여정을 계속한다.\n",
            "\n",
            "\n",
            "[등장 인물], <아웃라인>을 가지고 [플롯]의 Chapter 1을 소설로 작성해\n",
            "\n",
            "Chapter 1:\u001b[0m\n",
            "\n",
            "\u001b[1m> Finished chain.\u001b[0m\n",
            "\n",
            "\n",
            "\u001b[1m> Entering new LLMChain chain...\u001b[0m\n",
            "Prompt after formatting:\n",
            "\u001b[32;1m\u001b[1;3mHuman: [persona]\n",
            "너는 베스트셀러 작가야. 사람들에게 항상 새롭고 흥미진진한 소설을 작성하는 것으로 잘 알려져 있어\n",
            "\n",
            "[등장 인물]\n",
            "[{'name': '아샤', 'role': '마을 소녀이자 주인공'}, {'name': '매그니피코', 'role': '왕국 국왕이자 악당'}]\n",
            "\n",
            "[아웃라인]\n",
            "**1막**\n",
            "\n",
            "- 마을 소녀 아샤는 꿈꾸는 소녀이며, 세상에 대해 많은 열망을 가지고 있고 그것을 더 나은 곳으로 만들고 싶어한다.\n",
            "- 그녀는 숲에서 매그니피코 국왕을 만나고, 그가 그녀의 세상에 재앙을 퍼뜨릴 것을 깨닫는다.\n",
            "- 아샤는 왕국의 미래를 위해 매그니피코를 저지하기 위해 여행을 떠난다.\n",
            "- 길을 따라, 그녀는 용감한 전사인 리암과 현명한 마법사인 메를린을 만나 새로운 친구들을 사귀게 된다.\n",
            "- 아샤와 그녀의 친구들은 매그니피코의 부하들과 싸우고, 그 과정에서 용감함과 연민의 중요성에 대해 배운다.\n",
            "\n",
            "**2막**\n",
            "\n",
            "- 아샤와 그녀의 친구들은 마침내 매그니피코의 성에 도착한다.\n",
            "- 그들은 성을 침공하고 매그니피코와 대면한다.\n",
            "- 매그니피코는 강력한 마법사이며, 아샤와 그녀의 친구들은 그를 물리치기 위해 애쓰게 된다.\n",
            "- 하지만 아샤의 용기와 신념, 그리고 그녀의 친구들의 도움으로, 그녀는 마침내 매그니피코를 물리친다.\n",
            "\n",
            "**3막**\n",
            "\n",
            "- 매그니피코가 패배함에 따라 그의 주문은 풀리고, 왕국은 다시 평화를 맞이한다.\n",
            "- 아샤는 영웅으로 환영받고, 그녀는 왕국의 새로운 통치자가 된다.\n",
            "- 그녀는 왕국을 번영으로 이끌고, 세상을 더 나은 곳으로 만들기 위한 여정을 계속한다.\n",
            "\n",
            "[플롯]\n",
            "**Chapter 1: 아샤의 운명**\n",
            "\n",
            "숲속에서, 꿈꾸는 소녀 아샤는 동물들과 함께 노래를 부르며 즐거운 시간을 보내고 있다. 그러나 갑자기 검은 구름이 하늘을 뒤덮고, 사악한 매그니피코 국왕이 나타난다. 매그니피코는 아샤의 마을을 파괴하고, 모든 것을 다스리기 위해 마법을 사용한다. 아샤는 매그니피코의 부하들로부터 도망치며, 숲속 깊은 곳으로 도망간다. 그곳에서 그녀는 용감한 전사인 리암을 만난다. 리암은 아샤를 보호하고, 그녀를 마법사인 메를린에게 데려간다.\n",
            "\n",
            "**Chapter 2: 용감함과 연민의 여정**\n",
            "\n",
            "메를린은 아샤에게 매그니피코를 물리칠 유일한 방법은 그의 마법의 원천인 마법의 보석을 파괴하는 것이라고 말한다. 아샤, 리암, 그리고 메를린은 마법의 보석을 찾기 위해 여행을 떠난다. 여행을 하며 그들은 매그니피코의 부하들과 싸우고, 불길한 숲과 위험한 산을 넘는다. 아샤는 용감함과 연민을 배우며, 진정한 영웅으로 성장한다.\n",
            "\n",
            "**Chapter 3: 마지막 대결**\n",
            "\n",
            "마침내 아샤와 그녀의 친구들은 매그니피코의 성에 도착한다. 그들은 성을 침공하고, 마침내 매그니피코와 대면한다. 매그니피코는 강력한 마법을 사용하며, 아샤와 그녀의 친구들은 고전을 겪으며 싸운다. 그러나 아샤의 용기와 신념, 그리고 그녀의 친구들의 도움으로, 그녀는 마침내 매그니피코를 물리친다.\n",
            "\n",
            "**Chapter 4: 행복한 미래**\n",
            "\n",
            "매그니피코가 패배함에 따라 그의 주문은 풀리고, 왕국은 다시 평화를 맞이한다. 아샤는 영웅으로 환영받고, 그녀는 왕국의 새로운 통치자가 된다. 그녀는 왕국을 번영으로 이끌고, 세상을 더 나은 곳으로 만들기 위한 여정을 계속한다.\n",
            "\n",
            "\n",
            "[등장 인물], <아웃라인>을 가지고 [플롯]의 Chapter 2을 소설로 작성해\n",
            "\n",
            "Chapter 2:\u001b[0m\n",
            "\n",
            "\u001b[1m> Finished chain.\u001b[0m\n"
          ]
        },
        {
          "output_type": "execute_result",
          "data": {
            "text/plain": [
              "{'results': '아샤의 운명\\n\\n햇빛을 받으며 기쁨으로 노래하는 아샤는 숲속에서 행복하게 산다. 그녀는 동물들과 함께 어울리고, 그들과 노래를 부르며 즐거운 시간을 보낸다.\\n\\n\"아샤야, 이리와\"\\n\\n아샤의 노래를 들은 리암이 그녀를 부른다. 그는 용감한 전사이며, 아샤를 보호하기 위해 항상 곁에 있다.\\n\\n\"무슨 일이야, 리암?\"\\n\\n\"매그니피코가 나타났다. 그는 우리 마을을 파괴하려고 한다.\"\\n\\n아샤는 놀란다. 매그니피코는 사악한 왕으로, 그의 마법으로 모든 것을 파괴한다.\\n\\n\"우리 마을을 지켜야 해.\"\\n\\n아샤는 리암과 함께 마을로 돌아온다. 마을 사람들은 모두 매그니피코의 부하들에 의해 쫓기고 있다.\\n\\n\"도망쳐! 빨리 도망쳐!\"\\n\\n아샤와 리암은 마을 사람들을 보호하며 싸운다. 그러나 매그니피코의 부하들은 너무 강하다.\\n\\n\"우리는 도망쳐야 해.\"\\n\\n아샤와 리암은 마을 사람들을 데리고 숲속 깊은 곳으로 도망친다. 그들은 매그니피코의 부하들로부터 숨어라면서, 그를 물리칠 방법을 찾아야 한다.\\n\\n아샤는 매그니피코를 물리칠 유일한 방법은 그의 마법의 원천인 마법의 보석을 파괴하는 것이라고 말한다.\\n\\n\"우리는 마법의 보석을 찾아야 해.\"\\n\\n아샤, 리암, 그리고 메를린은 마법의 보석을 찾기 위해 여행을 떠난다. 그들은 위험한 숲과 높은 산을 넘어야 한다.\\n\\n아샤는 용감함과 연민을 배우며, 진정한 영웅으로 성장한다. 그들은 마침내 매그니피코의 성에 도착하고, 그를 물리칠 준비를 한다.\\n\\n\"우리는 꼭 이길 수 있어.\"\\n\\n아샤는 자신과 친구들을 격려한다. 그들은 매그니피코와 마지막 대결을 위해 성으로 들어간다.\\n\\n용감함과 연민의 여정\\n\\n아샤, 리암, 그리고 메를린은 마법의 보석을 찾기 위해 여행을 떠났다. 그들은 험난한 산과 불길한 숲을 헤치며 여행을 계속했다. 여행을 하며 그들은 매그니피코의 부하들과 싸워야 했다. 매그니피코의 부하들은 강력하고 사악했지만, 아샤와 그녀의 친구들은 용감하게 맞섰다.\\n\\n어느 날, 그들은 어두운 숲속을 지나고 있었다. 갑자기 숲속에서 무언가가 움직이는 소리가 들렸다. 아샤와 그녀의 친구들은 조심스럽게 다가갔다. 그리고 그들은 거대한 괴물을 보았다. 괴물은 날카로운 이빨과 발톱을 가지고 있었고, 몸 전체가 검은색 비늘로 덮여 있었다.\\n\\n괴물은 아샤와 그녀의 친구들을 향해 달려들었다. 아샤와 그녀의 친구들은 괴물에게 맞서 싸웠다. 리암은 검으로 괴물을 베었고, 메를린은 마법으로 괴물을 공격했다. 아샤는 화살로 괴물을 쏘았다.\\n\\n오랜 싸움 끝에, 그들은 마침내 괴물을 물리쳤다. 그들은 괴물의 몸에서 마법의 보석을 찾았다. 마법의 보석은 작고 반짝였으며, 강력한 마법을 가지고 있었다.\\n\\n아샤와 그녀의 친구들은 마법의 보석을 가지고 여행을 계속했다. 그들은 마침내 매그니피코의 성에 도착했다. 그들은 성을 침공하고, 마침내 매그니피코와 대면했다.\\n\\n매그니피코는 강력한 마법을 사용하며, 아샤와 그녀의 친구들은 고전을 겪으며 싸웠다. 그러나 아샤의 용기와 신념, 그리고 그녀의 친구들의 도움으로, 그녀는 마침내 매그니피코를 물리쳤다.'}"
            ]
          },
          "metadata": {},
          "execution_count": 24
        }
      ]
    },
    {
      "cell_type": "code",
      "source": [],
      "metadata": {
        "id": "O4ConqVDA7Pc"
      },
      "execution_count": 18,
      "outputs": []
    }
  ]
}