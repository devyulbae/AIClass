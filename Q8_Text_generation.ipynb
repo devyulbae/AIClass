{
  "nbformat": 4,
  "nbformat_minor": 0,
  "metadata": {
    "colab": {
      "provenance": [],
      "gpuType": "T4",
      "include_colab_link": true
    },
    "kernelspec": {
      "display_name": "Python 3",
      "name": "python3"
    },
    "accelerator": "GPU"
  },
  "cells": [
    {
      "cell_type": "markdown",
      "metadata": {
        "id": "view-in-github",
        "colab_type": "text"
      },
      "source": [
        "<a href=\"https://colab.research.google.com/github/devyulbae/AIClass/blob/main/Q8_Text_generation.ipynb\" target=\"_parent\"><img src=\"https://colab.research.google.com/assets/colab-badge.svg\" alt=\"Open In Colab\"/></a>"
      ]
    },
    {
      "cell_type": "markdown",
      "metadata": {
        "id": "hcD2nPQvPOFM"
      },
      "source": [
        "# Text Generation with RNN"
      ]
    },
    {
      "cell_type": "markdown",
      "metadata": {
        "id": "YpaIgZGRrSaw"
      },
      "source": [
        "* RNN을 사용하여 어떻게 텍스트를 생성하는지 알아보자.\n",
        "* 주어진 텍스트를 기반으로 텍스트를 생성하는 모델을 구현해보자."
      ]
    },
    {
      "cell_type": "markdown",
      "metadata": {
        "id": "BwpJ5IffzRG6"
      },
      "source": [
        "### 생성의 한계\n",
        "\n",
        "문장 중 일부는 문법적으로 맞지만 대부분 자연스럽지 않다.\n",
        "\n",
        "이 모델은 단어의 의미를 학습하지는 않았지만, 고려해야 할 점으로:\n",
        "\n",
        "* 데이터는 문자 기반이다. 훈련이 시작되었을 때, 이 모델은 영어 단어의 철자를 모르고 심지어 텍스트의 단위가 단어라는 것도 모른다."
      ]
    },
    {
      "cell_type": "markdown",
      "metadata": {
        "id": "srXC6pLGLwS6"
      },
      "source": [
        "## 설정"
      ]
    },
    {
      "cell_type": "markdown",
      "metadata": {
        "id": "46TMSZVszoc9"
      },
      "source": [
        "### Drive 연결\n"
      ]
    },
    {
      "cell_type": "code",
      "metadata": {
        "id": "YiWZ-S31zokw"
      },
      "source": [
        "use_colab = True\n",
        "assert use_colab in [True, False]"
      ],
      "execution_count": 3,
      "outputs": []
    },
    {
      "cell_type": "code",
      "metadata": {
        "id": "LjWuSiewzw-R",
        "colab": {
          "base_uri": "https://localhost:8080/"
        },
        "outputId": "2cc10916-9ebd-48a4-bf0f-0d00608aef49"
      },
      "source": [
        "from google.colab import drive\n",
        "drive.mount('/content/drive')"
      ],
      "execution_count": 4,
      "outputs": [
        {
          "output_type": "stream",
          "name": "stdout",
          "text": [
            "Mounted at /content/drive\n"
          ]
        }
      ]
    },
    {
      "cell_type": "code",
      "metadata": {
        "id": "yG_n40gFzf9s"
      },
      "source": [
        "import tensorflow as tf\n",
        "\n",
        "import numpy as np\n",
        "import os\n",
        "import time"
      ],
      "execution_count": 5,
      "outputs": []
    },
    {
      "cell_type": "markdown",
      "metadata": {
        "id": "EHDoRoc5PKWz"
      },
      "source": [
        "### 셰익스피어 데이터셋 다운로드"
      ]
    },
    {
      "cell_type": "code",
      "metadata": {
        "id": "pD_55cOxLkAb",
        "colab": {
          "base_uri": "https://localhost:8080/"
        },
        "outputId": "2d546cc4-4377-4aaa-c504-04078dc7fb4b"
      },
      "source": [
        "path_to_file = tf.keras.utils.get_file('shakespeare.txt', 'https://storage.googleapis.com/download.tensorflow.org/data/shakespeare.txt')"
      ],
      "execution_count": 6,
      "outputs": [
        {
          "output_type": "stream",
          "name": "stdout",
          "text": [
            "Downloading data from https://storage.googleapis.com/download.tensorflow.org/data/shakespeare.txt\n",
            "1115394/1115394 [==============================] - 0s 0us/step\n"
          ]
        }
      ]
    },
    {
      "cell_type": "markdown",
      "metadata": {
        "id": "UHjdCjDuSvX_"
      },
      "source": [
        "### 데이터 읽기"
      ]
    },
    {
      "cell_type": "code",
      "metadata": {
        "id": "aavnuByVymwK",
        "colab": {
          "base_uri": "https://localhost:8080/"
        },
        "outputId": "c1b19ee5-42ca-440c-8432-fcad376d75c2"
      },
      "source": [
        "# 데이터를 불러와서 디코딩\n",
        "text = open(path_to_file, 'rb').read().decode(encoding='utf-8')\n",
        "\n",
        "# 문자의 수\n",
        "print ('텍스트의 길이: {}'.format(len(text)))"
      ],
      "execution_count": 7,
      "outputs": [
        {
          "output_type": "stream",
          "name": "stdout",
          "text": [
            "텍스트의 길이: 1115394\n"
          ]
        }
      ]
    },
    {
      "cell_type": "code",
      "metadata": {
        "id": "Duhg9NrUymwO",
        "colab": {
          "base_uri": "https://localhost:8080/"
        },
        "outputId": "0523bee3-7111-4b59-ba60-212b4f960652"
      },
      "source": [
        "# 텍스트 처음 250자 출력\n",
        "print(text[:250])"
      ],
      "execution_count": 8,
      "outputs": [
        {
          "output_type": "stream",
          "name": "stdout",
          "text": [
            "First Citizen:\n",
            "Before we proceed any further, hear me speak.\n",
            "\n",
            "All:\n",
            "Speak, speak.\n",
            "\n",
            "First Citizen:\n",
            "You are all resolved rather to die than to famish?\n",
            "\n",
            "All:\n",
            "Resolved. resolved.\n",
            "\n",
            "First Citizen:\n",
            "First, you know Caius Marcius is chief enemy to the people.\n",
            "\n"
          ]
        }
      ]
    },
    {
      "cell_type": "code",
      "metadata": {
        "id": "IlCgQBRVymwR",
        "colab": {
          "base_uri": "https://localhost:8080/"
        },
        "outputId": "3fc8d639-212c-49f5-8f8f-b8be2b3e3741"
      },
      "source": [
        "# 파일의 고유 문자수를 출력\n",
        "vocab = sorted(set(text)) # 내가 불러온 text 데이터를 집합으로 만들어서 정렬시킨 상태입니다.\n",
        "print ('고유 문자수 {}개'.format(len(vocab)))"
      ],
      "execution_count": 9,
      "outputs": [
        {
          "output_type": "stream",
          "name": "stdout",
          "text": [
            "고유 문자수 65개\n"
          ]
        }
      ]
    },
    {
      "cell_type": "markdown",
      "metadata": {
        "id": "rNnrKn_lL-IJ"
      },
      "source": [
        "## 텍스트 처리"
      ]
    },
    {
      "cell_type": "markdown",
      "metadata": {
        "id": "LFjSVAlWzf-N"
      },
      "source": [
        "### 텍스트 벡터화\n",
        "\n",
        "* 학습을 위해서 텍스트들을 수치화할 필요가 있다.\n",
        "* 텍스트를 인덱스화 시켜 학습에 사용"
      ]
    },
    {
      "cell_type": "code",
      "metadata": {
        "id": "IalZLbvOzf-F"
      },
      "source": [
        "# 고유 문자에서 인덱스로 매핑 생성\n",
        "char2idx = {u:i for i, u in enumerate(vocab)}\n",
        "idx2char = np.array(vocab) # idx <=> char 변환할 수 있는 사전을 들고있는 것이 중요합니다.\n",
        "\n",
        "text_as_int = np.array([char2idx[c] for c in text]) # 람다식"
      ],
      "execution_count": 10,
      "outputs": []
    },
    {
      "cell_type": "code",
      "metadata": {
        "id": "OPQ2A1mwOQUd",
        "outputId": "20e7d253-73dd-4bdc-a79c-88411af6bad3",
        "colab": {
          "base_uri": "https://localhost:8080/"
        }
      },
      "source": [
        "idx2char"
      ],
      "execution_count": 11,
      "outputs": [
        {
          "output_type": "execute_result",
          "data": {
            "text/plain": [
              "array(['\\n', ' ', '!', '$', '&', \"'\", ',', '-', '.', '3', ':', ';', '?',\n",
              "       'A', 'B', 'C', 'D', 'E', 'F', 'G', 'H', 'I', 'J', 'K', 'L', 'M',\n",
              "       'N', 'O', 'P', 'Q', 'R', 'S', 'T', 'U', 'V', 'W', 'X', 'Y', 'Z',\n",
              "       'a', 'b', 'c', 'd', 'e', 'f', 'g', 'h', 'i', 'j', 'k', 'l', 'm',\n",
              "       'n', 'o', 'p', 'q', 'r', 's', 't', 'u', 'v', 'w', 'x', 'y', 'z'],\n",
              "      dtype='<U1')"
            ]
          },
          "metadata": {},
          "execution_count": 11
        }
      ]
    },
    {
      "cell_type": "code",
      "metadata": {
        "id": "YdVhhjYa31Uk",
        "outputId": "003047a6-7d0c-41eb-a2bf-fed458e4aa22",
        "colab": {
          "base_uri": "https://localhost:8080/"
        }
      },
      "source": [
        "print(text_as_int)\n",
        "text_as_int.shape"
      ],
      "execution_count": 12,
      "outputs": [
        {
          "output_type": "stream",
          "name": "stdout",
          "text": [
            "[18 47 56 ... 45  8  0]\n"
          ]
        },
        {
          "output_type": "execute_result",
          "data": {
            "text/plain": [
              "(1115394,)"
            ]
          },
          "metadata": {},
          "execution_count": 12
        }
      ]
    },
    {
      "cell_type": "markdown",
      "metadata": {
        "id": "tZfqhkYCymwX"
      },
      "source": [
        "* 텍스트 0번부터 전체 텍스트 길이까지 인덱스화"
      ]
    },
    {
      "cell_type": "code",
      "metadata": {
        "id": "FYyNlCNXymwY",
        "outputId": "e37a7ac8-84c2-4fc4-a3f7-1bee9f70c405",
        "colab": {
          "base_uri": "https://localhost:8080/"
        }
      },
      "source": [
        "print('{')\n",
        "for char,_ in zip(char2idx, range(65)):\n",
        "    print('  {:4s}: {:3d},'.format(repr(char), char2idx[char]))\n"
      ],
      "execution_count": 13,
      "outputs": [
        {
          "output_type": "stream",
          "name": "stdout",
          "text": [
            "{\n",
            "  '\\n':   0,\n",
            "  ' ' :   1,\n",
            "  '!' :   2,\n",
            "  '$' :   3,\n",
            "  '&' :   4,\n",
            "  \"'\" :   5,\n",
            "  ',' :   6,\n",
            "  '-' :   7,\n",
            "  '.' :   8,\n",
            "  '3' :   9,\n",
            "  ':' :  10,\n",
            "  ';' :  11,\n",
            "  '?' :  12,\n",
            "  'A' :  13,\n",
            "  'B' :  14,\n",
            "  'C' :  15,\n",
            "  'D' :  16,\n",
            "  'E' :  17,\n",
            "  'F' :  18,\n",
            "  'G' :  19,\n",
            "  'H' :  20,\n",
            "  'I' :  21,\n",
            "  'J' :  22,\n",
            "  'K' :  23,\n",
            "  'L' :  24,\n",
            "  'M' :  25,\n",
            "  'N' :  26,\n",
            "  'O' :  27,\n",
            "  'P' :  28,\n",
            "  'Q' :  29,\n",
            "  'R' :  30,\n",
            "  'S' :  31,\n",
            "  'T' :  32,\n",
            "  'U' :  33,\n",
            "  'V' :  34,\n",
            "  'W' :  35,\n",
            "  'X' :  36,\n",
            "  'Y' :  37,\n",
            "  'Z' :  38,\n",
            "  'a' :  39,\n",
            "  'b' :  40,\n",
            "  'c' :  41,\n",
            "  'd' :  42,\n",
            "  'e' :  43,\n",
            "  'f' :  44,\n",
            "  'g' :  45,\n",
            "  'h' :  46,\n",
            "  'i' :  47,\n",
            "  'j' :  48,\n",
            "  'k' :  49,\n",
            "  'l' :  50,\n",
            "  'm' :  51,\n",
            "  'n' :  52,\n",
            "  'o' :  53,\n",
            "  'p' :  54,\n",
            "  'q' :  55,\n",
            "  'r' :  56,\n",
            "  's' :  57,\n",
            "  't' :  58,\n",
            "  'u' :  59,\n",
            "  'v' :  60,\n",
            "  'w' :  61,\n",
            "  'x' :  62,\n",
            "  'y' :  63,\n",
            "  'z' :  64,\n"
          ]
        }
      ]
    },
    {
      "cell_type": "code",
      "metadata": {
        "id": "l1VKcQHcymwb",
        "outputId": "19190a43-d4a5-4f75-cee0-9dd7b1356b9c",
        "colab": {
          "base_uri": "https://localhost:8080/"
        }
      },
      "source": [
        "# 텍스트 맵핑\n",
        "print ('{} ---- Index ---- > {}'.format(repr(text[:13]), text_as_int[:13]))"
      ],
      "execution_count": 14,
      "outputs": [
        {
          "output_type": "stream",
          "name": "stdout",
          "text": [
            "'First Citizen' ---- Index ---- > [18 47 56 57 58  1 15 47 58 47 64 43 52]\n"
          ]
        }
      ]
    },
    {
      "cell_type": "markdown",
      "metadata": {
        "id": "bbmsf23Bymwe"
      },
      "source": [
        "### 예측 과정"
      ]
    },
    {
      "cell_type": "markdown",
      "metadata": {
        "id": "wssHQ1oGymwe"
      },
      "source": [
        "주어진 문자나 문자 시퀀스가 주어졌을 때, 다음 문자로 가장 가능성 있는 문자는 무엇일까?\n",
        "\n",
        "* 이는 모델을 훈련하여 수행할 작업이다.\n",
        "* 모델의 입력은 문자열 시퀀스가 될 것이고, 모델을 훈련시켜 출력을 예측한다.\n",
        "* 이 출력은 현재 타임 스텝(time step)의 다음 문자이다."
      ]
    },
    {
      "cell_type": "markdown",
      "metadata": {
        "id": "hgsVvVxnymwf"
      },
      "source": [
        "### 훈련 샘플과 타깃 만들기\n",
        "\n",
        "* 다음으로 텍스트를 샘플 시퀀스로 나누자.\n",
        "\n",
        "* 각 입력 시퀀스에는 텍스트에서 나온 `seq_length`개의 문자가 포함된다.\n",
        "\n",
        "* 각 입력 시퀀스에서, 해당 타깃은 한 문자를 오른쪽으로 이동한 것을 제외하고는 동일한 길이의 텍스트를 포함한다.\n",
        "\n",
        "* 텍스트를`seq_length + 1`개의 청크(chunk)로 나누자\n",
        "    * 예를 들어, `seq_length`는 4이고 텍스트를 \"Hello\"이라고 가정해 봅시다. 입력 시퀀스는 \"Hell\"이고 타깃 시퀀스는 \"ello\"가 된다.\n",
        "\n",
        "* 이렇게 하기 위해 먼저 `tf.data.Dataset.from_tensor_slices` 함수를 사용해 텍스트 벡터를 문자 인덱스의 스트림으로 변환한다."
      ]
    },
    {
      "cell_type": "code",
      "metadata": {
        "id": "HjXwjMSQbNnD"
      },
      "source": [
        "# Hello 라는 단어를 만들고 싶습니다.\n",
        "# 학습 데이터를 아래와 같이 세팅을 해줘야합니다.\n",
        "# input : H -> e -> l -> l\n",
        "# output : e -> l -> l -> o"
      ],
      "execution_count": 15,
      "outputs": []
    },
    {
      "cell_type": "code",
      "metadata": {
        "id": "0UHJDA39zf-O",
        "outputId": "fca8a043-788a-4558-d422-db7b3599ec1d",
        "colab": {
          "base_uri": "https://localhost:8080/"
        }
      },
      "source": [
        "# 단일 입력에 대해 원하는 문장의 최대 길이\n",
        "seq_length = 100\n",
        "examples_per_epoch = len(text)//seq_length\n",
        "\n",
        "# 훈련 샘플/타깃 만들기\n",
        "char_dataset = tf.data.Dataset.from_tensor_slices(text_as_int) # 알파벳을 하나씩 생성합니다.\n",
        "\n",
        "for i in char_dataset.take(5):\n",
        "    print(i.numpy())\n",
        "    print(idx2char[i.numpy()])#확인가능"
      ],
      "execution_count": 16,
      "outputs": [
        {
          "output_type": "stream",
          "name": "stdout",
          "text": [
            "18\n",
            "F\n",
            "47\n",
            "i\n",
            "56\n",
            "r\n",
            "57\n",
            "s\n",
            "58\n",
            "t\n"
          ]
        }
      ]
    },
    {
      "cell_type": "markdown",
      "metadata": {
        "id": "-ZSYAcQV8OGP"
      },
      "source": [
        "* `batch`를 이용해 몇개의 텍스트를 가져올 것인지 정할 수 있다."
      ]
    },
    {
      "cell_type": "code",
      "metadata": {
        "id": "l4hkDU3i7ozi",
        "outputId": "43319f78-9df7-47ab-c02f-aa5b4de94fb5",
        "colab": {
          "base_uri": "https://localhost:8080/"
        }
      },
      "source": [
        "sequences = char_dataset.batch(examples_per_epoch, drop_remainder=True) # 문장을 가져와합니다.\n",
        "                               # 문장을 가져올 수 있도록 batch 를 구성해줍니다.\n",
        "\n",
        "for item in sequences.take(5):\n",
        "    print(repr(''.join(idx2char[item.numpy()]))) # repr 개행문자 출력"
      ],
      "execution_count": 17,
      "outputs": [
        {
          "output_type": "stream",
          "name": "stdout",
          "text": [
            "\"First Citizen:\\nBefore we proceed any further, hear me speak.\\n\\nAll:\\nSpeak, speak.\\n\\nFirst Citizen:\\nYou are all resolved rather to die than to famish?\\n\\nAll:\\nResolved. resolved.\\n\\nFirst Citizen:\\nFirst, you know Caius Marcius is chief enemy to the people.\\n\\nAll:\\nWe know't, we know't.\\n\\nFirst Citizen:\\nLet us kill him, and we'll have corn at our own price.\\nIs't a verdict?\\n\\nAll:\\nNo more talking on't; let it be done: away, away!\\n\\nSecond Citizen:\\nOne word, good citizens.\\n\\nFirst Citizen:\\nWe are accounted poor citizens, the patricians good.\\nWhat authority surfeits on would relieve us: if they\\nwould yield us but the superfluity, while it were\\nwholesome, we might guess they relieved us humanely;\\nbut they think we are too dear: the leanness that\\nafflicts us, the object of our misery, is as an\\ninventory to particularise their abundance; our\\nsufferance is a gain to them Let us revenge this with\\nour pikes, ere we become rakes: for the gods know I\\nspeak this in hunger for bread, not in thirst for revenge.\\n\\nSecond Citizen:\\nWould you proceed especially against Caius Marcius?\\n\\nAll:\\nAgainst him first: he's a very dog to the commonalty.\\n\\nSecond Citizen:\\nConsider you what services he has done for his country?\\n\\nFirst Citizen:\\nVery well; and could be content to give him good\\nreport fort, but that he pays himself with being proud.\\n\\nSecond Citizen:\\nNay, but speak not maliciously.\\n\\nFirst Citizen:\\nI say unto you, what he hath done famously, he did\\nit to that end: though soft-conscienced men can be\\ncontent to say it was for his country he did it to\\nplease his mother and to be partly proud; which he\\nis, even till the altitude of his virtue.\\n\\nSecond Citizen:\\nWhat he cannot help in his nature, you account a\\nvice in him. You must in no way say he is covetous.\\n\\nFirst Citizen:\\nIf I must not, I need not be barren of accusations;\\nhe hath faults, with surplus, to tire in repetition.\\nWhat shouts are these? The other side o' the city\\nis risen: why stay we prating here? to the Capitol!\\n\\nAll:\\nCome, come.\\n\\nFirst Citizen:\\nSoft! who comes here?\\n\\nSecond Citizen:\\nWorthy Menenius Agrippa; one that hath always loved\\nthe people.\\n\\nFirst Citizen:\\nHe's one honest enough: would all the rest were so!\\n\\nMENENIUS:\\nWhat work's, my countrymen, in hand? where go you\\nWith bats and clubs? The matter? speak, I pray you.\\n\\nFirst Citizen:\\nOur business is not unknown to the senate; they have\\nhad inkling this fortnight what we intend to do,\\nwhich now we'll show 'em in deeds. They say poor\\nsuitors have strong breaths: they shall know we\\nhave strong arms too.\\n\\nMENENIUS:\\nWhy, masters, my good friends, mine honest neighbours,\\nWill you undo yourselves?\\n\\nFirst Citizen:\\nWe cannot, sir, we are undone already.\\n\\nMENENIUS:\\nI tell you, friends, most charitable care\\nHave the patricians of you. For your wants,\\nYour suffering in this dearth, you may as well\\nStrike at the heaven with your staves as lift them\\nAgainst the Roman state, whose course will on\\nThe way it takes, cracking ten thousand curbs\\nOf more strong link asunder than can ever\\nAppear in your impediment. For the dearth,\\nThe gods, not the patricians, make it, and\\nYour knees to them, not arms, must help. Alack,\\nYou are transported by calamity\\nThither where more attends you, and you slander\\nThe helms o' the state, who care for you like fathers,\\nWhen you curse them as enemies.\\n\\nFirst Citizen:\\nCare for us! True, indeed! They ne'er cared for us\\nyet: suffer us to famish, and their store-houses\\ncrammed with grain; make edicts for usury, to\\nsupport usurers; repeal daily any wholesome act\\nestablished against the rich, and provide more\\npiercing statutes daily, to chain up and restrain\\nthe poor. If the wars eat us not up, they will; and\\nthere's all the love they bear us.\\n\\nMENENIUS:\\nEither you must\\nConfess yourselves wondrous malicious,\\nOr be accused of folly. I shall tell you\\nA pretty tale: it may be you have heard it;\\nBut, since it serves my purpose, I will venture\\nTo stale 't a little more.\\n\\nFirst Citizen:\\nWell, I'll hear it, sir: yet you must not think to\\nfob off our disgrace with a tale: but, an 't please\\nyou, deliver.\\n\\nMENENIUS:\\nThere was a time when all the body's members\\nRebell'd against the belly, thus accused it:\\nThat only like a gulf it did remain\\nI' the midst o' the body, idle and unactive,\\nStill cupboarding the viand, never bearing\\nLike labour with the rest, where the other instruments\\nDid see and hear, devise, instruct, walk, feel,\\nAnd, mutually participate, did minister\\nUnto the appetite and affection common\\nOf the whole body. The belly answer'd--\\n\\nFirst Citizen:\\nWell, sir, what answer made the belly?\\n\\nMENENIUS:\\nSir, I shall tell you. With a kind of smile,\\nWhich ne'er came from the lungs, but even thus--\\nFor, look you, I may make the belly smile\\nAs well as speak--it tauntingly replied\\nTo the discontented members, the mutinous parts\\nThat envied his receipt; even so most fitly\\nAs you malign our senators for that\\nThey are not such as you.\\n\\nFirst Citizen:\\nYour belly's answer? What!\\nThe kingly-crowned head, the vigilant eye,\\nThe counsellor heart, the arm our soldier,\\nOur steed the leg, the tongue our trumpeter.\\nWith other muniments and petty helps\\nIn this our fabric, if that they--\\n\\nMENENIUS:\\nWhat then?\\n'Fore me, this fellow speaks! What then? what then?\\n\\nFirst Citizen:\\nShould by the cormorant belly be restrain'd,\\nWho is the sink o' the body,--\\n\\nMENENIUS:\\nWell, what then?\\n\\nFirst Citizen:\\nThe former agents, if they did complain,\\nWhat could the belly answer?\\n\\nMENENIUS:\\nI will tell you\\nIf you'll bestow a small--of what you have little--\\nPatience awhile, you'll hear the belly's answer.\\n\\nFirst Citizen:\\nYe're long about it.\\n\\nMENENIUS:\\nNote me this, good friend;\\nYour most grave belly was deliberate,\\nNot rash like his accusers, and thus answer'd:\\n'True is it, my incorporate friends,' quoth he,\\n'That I receive the general food at first,\\nWhich you do live upon; and fit it is,\\nBecause I am the store-house and the shop\\nOf the whole body: but, if you do remember,\\nI send it through the rivers of your blood,\\nEven to the court, the heart, to the seat o' the brain;\\nAnd, through the cranks and offices of man,\\nThe strongest nerves and small inferior veins\\nFrom me receive that natural competency\\nWhereby they live: and though that all at once,\\nYou, my good friends,'--this says the belly, mark me,--\\n\\nFirst Citizen:\\nAy, sir; well, well.\\n\\nMENENIUS:\\n'Though all at once cannot\\nSee what I do deliver out to each,\\nYet I can make my audit up, that all\\nFrom me do back receive the flour of all,\\nAnd leave me but the bran.' What say you to't?\\n\\nFirst Citizen:\\nIt was an answer: how apply you this?\\n\\nMENENIUS:\\nThe senators of Rome are this good belly,\\nAnd you the mutinous members; for examine\\nTheir counsels and their cares, digest things rightly\\nTouching the weal o' the common, you shall find\\nNo public benefit which you receive\\nBut it proceeds or comes from them to you\\nAnd no way from yourselves. What do you think,\\nYou, the great toe of this assembly?\\n\\nFirst Citizen:\\nI the great toe! why the great toe?\\n\\nMENENIUS:\\nFor that, being one o' the lowest, basest, poorest,\\nOf this most wise rebellion, thou go'st foremost:\\nThou rascal, that art worst in blood to run,\\nLead'st first to win some vantage.\\nBut make you ready your stiff bats and clubs:\\nRome and her rats are at the point of battle;\\nThe one side must have bale.\\nHail, noble Marcius!\\n\\nMARCIUS:\\nThanks. What's the matter, you dissentious rogues,\\nThat, rubbing the poor itch of your opinion,\\nMake yourselves scabs?\\n\\nFirst Citizen:\\nWe have ever your good word.\\n\\nMARCIUS:\\nHe that will give good words to thee will flatter\\nBeneath abhorring. What would you have, you curs,\\nThat like nor peace nor war? the one affrights you,\\nThe other makes you proud. He that trusts to you,\\nWhere he should find you lions, finds you hares;\\nWhere foxes, geese: you are no surer, no,\\nThan is the coal of fire upon the ice,\\nOr hailstone in the sun. Your virtue is\\nTo make him worthy whose offence subdues him\\nAnd curse that justice did it.\\nWho deserves greatness\\nDeserves your hate; and your affections are\\nA sick man's appetite, who desires most that\\nWhich would increase his evil. He that depends\\nUpon your favours swims with fins of lead\\nAnd hews down oaks with rushes. Hang ye! Trust Ye?\\nWith every minute you do change a mind,\\nAnd call him noble that was now your hate,\\nHim vile that was your garland. What's the matter,\\nThat in these several places of the city\\nYou cry against the noble senate, who,\\nUnder the gods, keep you in awe, which else\\nWould feed on one another? What's their seeking?\\n\\nMENENIUS:\\nFor corn at their own rates; whereof, they say,\\nThe city is well stored.\\n\\nMARCIUS:\\nHang 'em! They say!\\nThey'll sit by the fire, and presume to know\\nWhat's done i' the Capitol; who's like to rise,\\nWho thrives and who declines; side factions\\nand give out\\nConjectural marriages; making parties strong\\nAnd feebling such as stand not in their liking\\nBelow their cobbled shoes. They say there's\\ngrain enough!\\nWould the nobility lay aside their ruth,\\nAnd let me use my sword, I'll make a quarry\\nWith thousands of these quarter'd slaves, as high\\nAs I could pick my lance.\\n\\nMENENIUS:\\nNay, these are almost thoroughly persuaded;\\nFor though abundantly they lack discretion,\\nYet are they passing cowardly. But, I beseech you,\\nWhat says the other troop?\\n\\nMARCIUS:\\nThey are dissolved: hang 'em!\\nThey said they were an-hungry; sigh'd forth proverbs,\\nThat hunger broke stone walls, that dogs must eat,\\nThat meat was made for mouths, that the gods sent not\\nCorn for the rich men only: with these shreds\\nThey vented their complainings; which being answer'd,\\nAnd a petition granted them, a strange one--\\nTo break the heart of generosity,\\nAnd make bold power look pale--they threw their caps\\nAs they would hang them on the horns o' the moon,\\nShouting their emulation.\\n\\nMENENIUS:\\nWhat is granted them?\\n\\nMARCIUS:\\nFive tribunes to defend their vulgar wisdoms,\\nOf their own choice: one's Junius Brutus,\\nSicinius Velutus, and I know not--'Sdeath!\\nThe rabble should have first unroof'd the city,\\nEre so prevail'd with me: it will in time\\nWin upon power and throw forth greater themes\\nFor insurrection's arguing.\\n\\nMENENIUS:\\nThis is strange.\\n\\nMARCIUS:\\nGo, get you home, you fragments!\\n\\nMessenger:\\nWhere's Caius Marcius?\\n\\nMARCIUS:\\nHere: what's the matter?\\n\\nMessenger:\\nThe news is, sir, the Volsces are in arms.\\n\\nMARCIUS:\\nI am glad on 't: then we shall ha' means to vent\\nOur musty superfluity. See, our best elders.\\n\\nFirst Senator:\\nMarcius, 'tis true that you have lately told us;\\nThe Volsces are in arms.\\n\\nMARCIUS:\\nThey have a leader,\\nTullus Aufidius, that will put you to 't.\\nI sin in envying his nobility,\\nAnd were I any thing but what I am,\\nI would wish me only he.\\n\\nCOMINIUS:\\nYou have fought together.\\n\\nMARCIUS:\\nWere half to half the world by the ears and he.\\nUpon my party, I'ld revolt to make\\nOnly my wars with him: he is a lion\\nThat I am proud to hunt.\\n\\nFirst Senator:\\nThen, worthy Marcius,\\nAttend upon Cominius to these wars.\\n\\nCOMINIUS:\\nIt is your former promise.\\n\\nMARCIUS:\\nSir, it is;\\nAnd I am constant. Titus Lartius, thou\\nShalt see me once more strike at Tullus' face.\\nWhat, art thou stiff? stand'st out?\\n\\nTITUS:\\nNo, Caius Marcius;\\nI'll lean upon one crutch and fight\"\n",
            "\" with t'other,\\nEre stay behind this business.\\n\\nMENENIUS:\\nO, true-bred!\\n\\nFirst Senator:\\nYour company to the Capitol; where, I know,\\nOur greatest friends attend us.\\n\\nTITUS:\\n\\nCOMINIUS:\\nNoble Marcius!\\n\\nFirst Senator:\\n\\nMARCIUS:\\nNay, let them follow:\\nThe Volsces have much corn; take these rats thither\\nTo gnaw their garners. Worshipful mutiners,\\nYour valour puts well forth: pray, follow.\\n\\nSICINIUS:\\nWas ever man so proud as is this Marcius?\\n\\nBRUTUS:\\nHe has no equal.\\n\\nSICINIUS:\\nWhen we were chosen tribunes for the people,--\\n\\nBRUTUS:\\nMark'd you his lip and eyes?\\n\\nSICINIUS:\\nNay. but his taunts.\\n\\nBRUTUS:\\nBeing moved, he will not spare to gird the gods.\\n\\nSICINIUS:\\nBe-mock the modest moon.\\n\\nBRUTUS:\\nThe present wars devour him: he is grown\\nToo proud to be so valiant.\\n\\nSICINIUS:\\nSuch a nature,\\nTickled with good success, disdains the shadow\\nWhich he treads on at noon: but I do wonder\\nHis insolence can brook to be commanded\\nUnder Cominius.\\n\\nBRUTUS:\\nFame, at the which he aims,\\nIn whom already he's well graced, can not\\nBetter be held nor more attain'd than by\\nA place below the first: for what miscarries\\nShall be the general's fault, though he perform\\nTo the utmost of a man, and giddy censure\\nWill then cry out of Marcius 'O if he\\nHad borne the business!'\\n\\nSICINIUS:\\nBesides, if things go well,\\nOpinion that so sticks on Marcius shall\\nOf his demerits rob Cominius.\\n\\nBRUTUS:\\nCome:\\nHalf all Cominius' honours are to Marcius.\\nThough Marcius earned them not, and all his faults\\nTo Marcius shall be honours, though indeed\\nIn aught he merit not.\\n\\nSICINIUS:\\nLet's hence, and hear\\nHow the dispatch is made, and in what fashion,\\nMore than his singularity, he goes\\nUpon this present action.\\n\\nBRUTUS:\\nLets along.\\n\\nFirst Senator:\\nSo, your opinion is, Aufidius,\\nThat they of Rome are entered in our counsels\\nAnd know how we proceed.\\n\\nAUFIDIUS:\\nIs it not yours?\\nWhat ever have been thought on in this state,\\nThat could be brought to bodily act ere Rome\\nHad circumvention? 'Tis not four days gone\\nSince I heard thence; these are the words: I think\\nI have the letter here; yes, here it is.\\n'They have press'd a power, but it is not known\\nWhether for east or west: the dearth is great;\\nThe people mutinous; and it is rumour'd,\\nCominius, Marcius your old enemy,\\nWho is of Rome worse hated than of you,\\nAnd Titus Lartius, a most valiant Roman,\\nThese three lead on this preparation\\nWhither 'tis bent: most likely 'tis for you:\\nConsider of it.'\\n\\nFirst Senator:\\nOur army's in the field\\nWe never yet made doubt but Rome was ready\\nTo answer us.\\n\\nAUFIDIUS:\\nNor did you think it folly\\nTo keep your great pretences veil'd till when\\nThey needs must show themselves; which\\nin the hatching,\\nIt seem'd, appear'd to Rome. By the discovery.\\nWe shall be shorten'd in our aim, which was\\nTo take in many towns ere almost Rome\\nShould know we were afoot.\\n\\nSecond Senator:\\nNoble Aufidius,\\nTake your commission; hie you to your bands:\\nLet us alone to guard Corioli:\\nIf they set down before 's, for the remove\\nBring your army; but, I think, you'll find\\nThey've not prepared for us.\\n\\nAUFIDIUS:\\nO, doubt not that;\\nI speak from certainties. Nay, more,\\nSome parcels of their power are forth already,\\nAnd only hitherward. I leave your honours.\\nIf we and Caius Marcius chance to meet,\\n'Tis sworn between us we shall ever strike\\nTill one can do no more.\\n\\nAll:\\nThe gods assist you!\\n\\nAUFIDIUS:\\nAnd keep your honours safe!\\n\\nFirst Senator:\\nFarewell.\\n\\nSecond Senator:\\nFarewell.\\n\\nAll:\\nFarewell.\\n\\nVOLUMNIA:\\nI pray you, daughter, sing; or express yourself in a\\nmore comfortable sort: if my son were my husband, I\\nshould freelier rejoice in that absence wherein he\\nwon honour than in the embracements of his bed where\\nhe would show most love. When yet he was but\\ntender-bodied and the only son of my womb, when\\nyouth with comeliness plucked all gaze his way, when\\nfor a day of kings' entreaties a mother should not\\nsell him an hour from her beholding, I, considering\\nhow honour would become such a person. that it was\\nno better than picture-like to hang by the wall, if\\nrenown made it not stir, was pleased to let him seek\\ndanger where he was like to find fame. To a cruel\\nwar I sent him; from whence he returned, his brows\\nbound with oak. I tell thee, daughter, I sprang not\\nmore in joy at first hearing he was a man-child\\nthan now in first seeing he had proved himself a\\nman.\\n\\nVIRGILIA:\\nBut had he died in the business, madam; how then?\\n\\nVOLUMNIA:\\nThen his good report should have been my son; I\\ntherein would have found issue. Hear me profess\\nsincerely: had I a dozen sons, each in my love\\nalike and none less dear than thine and my good\\nMarcius, I had rather had eleven die nobly for their\\ncountry than one voluptuously surfeit out of action.\\n\\nGentlewoman:\\nMadam, the Lady Valeria is come to visit you.\\n\\nVIRGILIA:\\nBeseech you, give me leave to retire myself.\\n\\nVOLUMNIA:\\nIndeed, you shall not.\\nMethinks I hear hither your husband's drum,\\nSee him pluck Aufidius down by the hair,\\nAs children from a bear, the Volsces shunning him:\\nMethinks I see him stamp thus, and call thus:\\n'Come on, you cowards! you were got in fear,\\nThough you were born in Rome:' his bloody brow\\nWith his mail'd hand then wiping, forth he goes,\\nLike to a harvest-man that's task'd to mow\\nOr all or lose his hire.\\n\\nVIRGILIA:\\nHis bloody brow! O Jupiter, no blood!\\n\\nVOLUMNIA:\\nAway, you fool! it more becomes a man\\nThan gilt his trophy: the breasts of Hecuba,\\nWhen she did suckle Hector, look'd not lovelier\\nThan Hector's forehead when it spit forth blood\\nAt Grecian sword, contemning. Tell Valeria,\\nWe are fit to bid her welcome.\\n\\nVIRGILIA:\\nHeavens bless my lord from fell Aufidius!\\n\\nVOLUMNIA:\\nHe'll beat Aufidius 'head below his knee\\nAnd tread upon his neck.\\n\\nVALERIA:\\nMy ladies both, good day to you.\\n\\nVOLUMNIA:\\nSweet madam.\\n\\nVIRGILIA:\\nI am glad to see your ladyship.\\n\\nVALERIA:\\nHow do you both? you are manifest house-keepers.\\nWhat are you sewing here? A fine spot, in good\\nfaith. How does your little son?\\n\\nVIRGILIA:\\nI thank your ladyship; well, good madam.\\n\\nVOLUMNIA:\\nHe had rather see the swords, and hear a drum, than\\nlook upon his school-master.\\n\\nVALERIA:\\nO' my word, the father's son: I'll swear,'tis a\\nvery pretty boy. O' my troth, I looked upon him o'\\nWednesday half an hour together: has such a\\nconfirmed countenance. I saw him run after a gilded\\nbutterfly: and when he caught it, he let it go\\nagain; and after it again; and over and over he\\ncomes, and again; catched it again; or whether his\\nfall enraged him, or how 'twas, he did so set his\\nteeth and tear it; O, I warrant it, how he mammocked\\nit!\\n\\nVOLUMNIA:\\nOne on 's father's moods.\\n\\nVALERIA:\\nIndeed, la, 'tis a noble child.\\n\\nVIRGILIA:\\nA crack, madam.\\n\\nVALERIA:\\nCome, lay aside your stitchery; I must have you play\\nthe idle husewife with me this afternoon.\\n\\nVIRGILIA:\\nNo, good madam; I will not out of doors.\\n\\nVALERIA:\\nNot out of doors!\\n\\nVOLUMNIA:\\nShe shall, she shall.\\n\\nVIRGILIA:\\nIndeed, no, by your patience; I'll not over the\\nthreshold till my lord return from the wars.\\n\\nVALERIA:\\nFie, you confine yourself most unreasonably: come,\\nyou must go visit the good lady that lies in.\\n\\nVIRGILIA:\\nI will wish her speedy strength, and visit her with\\nmy prayers; but I cannot go thither.\\n\\nVOLUMNIA:\\nWhy, I pray you?\\n\\nVIRGILIA:\\n'Tis not to save labour, nor that I want love.\\n\\nVALERIA:\\nYou would be another Penelope: yet, they say, all\\nthe yarn she spun in Ulysses' absence did but fill\\nIthaca full of moths. Come; I would your cambric\\nwere sensible as your finger, that you might leave\\npricking it for pity. Come, you shall go with us.\\n\\nVIRGILIA:\\nNo, good madam, pardon me; indeed, I will not forth.\\n\\nVALERIA:\\nIn truth, la, go with me; and I'll tell you\\nexcellent news of your husband.\\n\\nVIRGILIA:\\nO, good madam, there can be none yet.\\n\\nVALERIA:\\nVerily, I do not jest with you; there came news from\\nhim last night.\\n\\nVIRGILIA:\\nIndeed, madam?\\n\\nVALERIA:\\nIn earnest, it's true; I heard a senator speak it.\\nThus it is: the Volsces have an army forth; against\\nwhom Cominius the general is gone, with one part of\\nour Roman power: your lord and Titus Lartius are set\\ndown before their city Corioli; they nothing doubt\\nprevailing and to make it brief wars. This is true,\\non mine honour; and so, I pray, go with us.\\n\\nVIRGILIA:\\nGive me excuse, good madam; I will obey you in every\\nthing hereafter.\\n\\nVOLUMNIA:\\nLet her alone, lady: as she is now, she will but\\ndisease our better mirth.\\n\\nVALERIA:\\nIn troth, I think she would. Fare you well, then.\\nCome, good sweet lady. Prithee, Virgilia, turn thy\\nsolemness out o' door. and go along with us.\\n\\nVIRGILIA:\\nNo, at a word, madam; indeed, I must not. I wish\\nyou much mirth.\\n\\nVALERIA:\\nWell, then, farewell.\\n\\nMARCIUS:\\nYonder comes news. A wager they have met.\\n\\nLARTIUS:\\nMy horse to yours, no.\\n\\nMARCIUS:\\n'Tis done.\\n\\nLARTIUS:\\nAgreed.\\n\\nMARCIUS:\\nSay, has our general met the enemy?\\n\\nMessenger:\\nThey lie in view; but have not spoke as yet.\\n\\nLARTIUS:\\nSo, the good horse is mine.\\n\\nMARCIUS:\\nI'll buy him of you.\\n\\nLARTIUS:\\nNo, I'll nor sell nor give him: lend you him I will\\nFor half a hundred years. Summon the town.\\n\\nMARCIUS:\\nHow far off lie these armies?\\n\\nMessenger:\\nWithin this mile and half.\\n\\nMARCIUS:\\nThen shall we hear their 'larum, and they ours.\\nNow, Mars, I prithee, make us quick in work,\\nThat we with smoking swords may march from hence,\\nTo help our fielded friends! Come, blow thy blast.\\nTutus Aufidius, is he within your walls?\\n\\nFirst Senator:\\nNo, nor a man that fears you less than he,\\nThat's lesser than a little.\\nHark! our drums\\nAre bringing forth our youth. We'll break our walls,\\nRather than they shall pound us up: our gates,\\nWhich yet seem shut, we, have but pinn'd with rushes;\\nThey'll open of themselves.\\nHark you. far off!\\nThere is Aufidius; list, what work he makes\\nAmongst your cloven army.\\n\\nMARCIUS:\\nO, they are at it!\\n\\nLARTIUS:\\nTheir noise be our instruction. Ladders, ho!\\n\\nMARCIUS:\\nThey fear us not, but issue forth their city.\\nNow put your shields before your hearts, and fight\\nWith hearts more proof than shields. Advance,\\nbrave Titus:\\nThey do disdain us much beyond our thoughts,\\nWhich makes me sweat with wrath. Come on, my fellows:\\nHe that retires I'll take him for a Volsce,\\nAnd he shall feel mine edge.\\n\\nMARCIUS:\\nAll the contagion of the south light on you,\\nYou shames of Rome! you herd of--Boils and plagues\\nPlaster you o'er, that you may be abhorr'd\\nFurther than seen and one infect another\\nAgainst the wind a mile! You souls of geese,\\nThat bear the shapes of men, how have you run\\nFrom slaves that apes would beat! Pluto and hell!\\nAll hurt behind; backs red, and faces pale\\nWith flight and agued fear! Mend and charge home,\\nOr, by the fires of heaven, I'll leave the foe\\nAnd make my wars on you: look to't: come on;\\nIf you'll stand fast, we'll beat them to their wives,\\nAs they us to our trenches followed.\\nSo, now the gates are ope: now prove good seconds:\\n'Tis for the followers fortune widens them,\\nNot for the fliers: mark me, and do the like.\\n\\nFirst Soldier:\\nFool-hardiness; not I.\\n\\nSecond Soldier:\\nNor I.\\n\\nFirst Soldier:\\nSee, they have shut him in.\\n\\nAll:\\nTo the pot, I warrant him.\\n\\nLARTIUS:\\nWhat is become of Marcius?\\n\\nAll:\\nSlain, sir, doubtless.\\n\\nFirst Soldier:\\nFollowing the fliers at the very heels,\\nWith them he en\"\n",
            "\"ters; who, upon the sudden,\\nClapp'd to their gates: he is himself alone,\\nTo answer all the city.\\n\\nLARTIUS:\\nO noble fellow!\\nWho sensibly outdares his senseless sword,\\nAnd, when it bows, stands up. Thou art left, Marcius:\\nA carbuncle entire, as big as thou art,\\nWere not so rich a jewel. Thou wast a soldier\\nEven to Cato's wish, not fierce and terrible\\nOnly in strokes; but, with thy grim looks and\\nThe thunder-like percussion of thy sounds,\\nThou madst thine enemies shake, as if the world\\nWere feverous and did tremble.\\n\\nFirst Soldier:\\nLook, sir.\\n\\nLARTIUS:\\nO,'tis Marcius!\\nLet's fetch him off, or make remain alike.\\n\\nFirst Roman:\\nThis will I carry to Rome.\\n\\nSecond Roman:\\nAnd I this.\\n\\nThird Roman:\\nA murrain on't! I took this for silver.\\n\\nMARCIUS:\\nSee here these movers that do prize their hours\\nAt a crack'd drachm! Cushions, leaden spoons,\\nIrons of a doit, doublets that hangmen would\\nBury with those that wore them, these base slaves,\\nEre yet the fight be done, pack up: down with them!\\nAnd hark, what noise the general makes! To him!\\nThere is the man of my soul's hate, Aufidius,\\nPiercing our Romans: then, valiant Titus, take\\nConvenient numbers to make good the city;\\nWhilst I, with those that have the spirit, will haste\\nTo help Cominius.\\n\\nLARTIUS:\\nWorthy sir, thou bleed'st;\\nThy exercise hath been too violent for\\nA second course of fight.\\n\\nMARCIUS:\\nSir, praise me not;\\nMy work hath yet not warm'd me: fare you well:\\nThe blood I drop is rather physical\\nThan dangerous to me: to Aufidius thus\\nI will appear, and fight.\\n\\nLARTIUS:\\nNow the fair goddess, Fortune,\\nFall deep in love with thee; and her great charms\\nMisguide thy opposers' swords! Bold gentleman,\\nProsperity be thy page!\\n\\nMARCIUS:\\nThy friend no less\\nThan those she placeth highest! So, farewell.\\n\\nLARTIUS:\\nThou worthiest Marcius!\\nGo, sound thy trumpet in the market-place;\\nCall thither all the officers o' the town,\\nWhere they shall know our mind: away!\\n\\nCOMINIUS:\\nBreathe you, my friends: well fought;\\nwe are come off\\nLike Romans, neither foolish in our stands,\\nNor cowardly in retire: believe me, sirs,\\nWe shall be charged again. Whiles we have struck,\\nBy interims and conveying gusts we have heard\\nThe charges of our friends. Ye Roman gods!\\nLead their successes as we wish our own,\\nThat both our powers, with smiling\\nfronts encountering,\\nMay give you thankful sacrifice.\\nThy news?\\n\\nMessenger:\\nThe citizens of Corioli have issued,\\nAnd given to Lartius and to Marcius battle:\\nI saw our party to their trenches driven,\\nAnd then I came away.\\n\\nCOMINIUS:\\nThough thou speak'st truth,\\nMethinks thou speak'st not well.\\nHow long is't since?\\n\\nMessenger:\\nAbove an hour, my lord.\\n\\nCOMINIUS:\\n'Tis not a mile; briefly we heard their drums:\\nHow couldst thou in a mile confound an hour,\\nAnd bring thy news so late?\\n\\nMessenger:\\nSpies of the Volsces\\nHeld me in chase, that I was forced to wheel\\nThree or four miles about, else had I, sir,\\nHalf an hour since brought my report.\\n\\nCOMINIUS:\\nWho's yonder,\\nThat does appear as he were flay'd? O gods\\nHe has the stamp of Marcius; and I have\\nBefore-time seen him thus.\\n\\nMARCIUS:\\n\\nCOMINIUS:\\nThe shepherd knows not thunder from a tabour\\nMore than I know the sound of Marcius' tongue\\nFrom every meaner man.\\n\\nMARCIUS:\\nCome I too late?\\n\\nCOMINIUS:\\nAy, if you come not in the blood of others,\\nBut mantled in your own.\\n\\nMARCIUS:\\nO, let me clip ye\\nIn arms as sound as when I woo'd, in heart\\nAs merry as when our nuptial day was done,\\nAnd tapers burn'd to bedward!\\n\\nCOMINIUS:\\nFlower of warriors,\\nHow is it with Titus Lartius?\\n\\nMARCIUS:\\nAs with a man busied about decrees:\\nCondemning some to death, and some to exile;\\nRansoming him, or pitying, threatening the other;\\nHolding Corioli in the name of Rome,\\nEven like a fawning greyhound in the leash,\\nTo let him slip at will.\\n\\nCOMINIUS:\\nWhere is that slave\\nWhich told me they had beat you to your trenches?\\nWhere is he? call him hither.\\n\\nMARCIUS:\\nLet him alone;\\nHe did inform the truth: but for our gentlemen,\\nThe common file--a plague! tribunes for them!--\\nThe mouse ne'er shunn'd the cat as they did budge\\nFrom rascals worse than they.\\n\\nCOMINIUS:\\nBut how prevail'd you?\\n\\nMARCIUS:\\nWill the time serve to tell? I do not think.\\nWhere is the enemy? are you lords o' the field?\\nIf not, why cease you till you are so?\\n\\nCOMINIUS:\\nMarcius,\\nWe have at disadvantage fought and did\\nRetire to win our purpose.\\n\\nMARCIUS:\\nHow lies their battle? know you on which side\\nThey have placed their men of trust?\\n\\nCOMINIUS:\\nAs I guess, Marcius,\\nTheir bands i' the vaward are the Antiates,\\nOf their best trust; o'er them Aufidius,\\nTheir very heart of hope.\\n\\nMARCIUS:\\nI do beseech you,\\nBy all the battles wherein we have fought,\\nBy the blood we have shed together, by the vows\\nWe have made to endure friends, that you directly\\nSet me against Aufidius and his Antiates;\\nAnd that you not delay the present, but,\\nFilling the air with swords advanced and darts,\\nWe prove this very hour.\\n\\nCOMINIUS:\\nThough I could wish\\nYou were conducted to a gentle bath\\nAnd balms applied to, you, yet dare I never\\nDeny your asking: take your choice of those\\nThat best can aid your action.\\n\\nMARCIUS:\\nThose are they\\nThat most are willing. If any such be here--\\nAs it were sin to doubt--that love this painting\\nWherein you see me smear'd; if any fear\\nLesser his person than an ill report;\\nIf any think brave death outweighs bad life\\nAnd that his country's dearer than himself;\\nLet him alone, or so many so minded,\\nWave thus, to express his disposition,\\nAnd follow Marcius.\\nO, me alone! make you a sword of me?\\nIf these shows be not outward, which of you\\nBut is four Volsces? none of you but is\\nAble to bear against the great Aufidius\\nA shield as hard as his. A certain number,\\nThough thanks to all, must I select\\nfrom all: the rest\\nShall bear the business in some other fight,\\nAs cause will be obey'd. Please you to march;\\nAnd four shall quickly draw out my command,\\nWhich men are best inclined.\\n\\nCOMINIUS:\\nMarch on, my fellows:\\nMake good this ostentation, and you shall\\nDivide in all with us.\\n\\nLARTIUS:\\nSo, let the ports be guarded: keep your duties,\\nAs I have set them down. If I do send, dispatch\\nThose centuries to our aid: the rest will serve\\nFor a short holding: if we lose the field,\\nWe cannot keep the town.\\n\\nLieutenant:\\nFear not our care, sir.\\n\\nLARTIUS:\\nHence, and shut your gates upon's.\\nOur guider, come; to the Roman camp conduct us.\\n\\nMARCIUS:\\nI'll fight with none but thee; for I do hate thee\\nWorse than a promise-breaker.\\n\\nAUFIDIUS:\\nWe hate alike:\\nNot Afric owns a serpent I abhor\\nMore than thy fame and envy. Fix thy foot.\\n\\nMARCIUS:\\nLet the first budger die the other's slave,\\nAnd the gods doom him after!\\n\\nAUFIDIUS:\\nIf I fly, Marcius,\\nHolloa me like a hare.\\n\\nMARCIUS:\\nWithin these three hours, Tullus,\\nAlone I fought in your Corioli walls,\\nAnd made what work I pleased: 'tis not my blood\\nWherein thou seest me mask'd; for thy revenge\\nWrench up thy power to the highest.\\n\\nAUFIDIUS:\\nWert thou the Hector\\nThat was the whip of your bragg'd progeny,\\nThou shouldst not scape me here.\\nOfficious, and not valiant, you have shamed me\\nIn your condemned seconds.\\n\\nCOMINIUS:\\nIf I should tell thee o'er this thy day's work,\\nThou'ldst not believe thy deeds: but I'll report it\\nWhere senators shall mingle tears with smiles,\\nWhere great patricians shall attend and shrug,\\nI' the end admire, where ladies shall be frighted,\\nAnd, gladly quaked, hear more; where the\\ndull tribunes,\\nThat, with the fusty plebeians, hate thine honours,\\nShall say against their hearts 'We thank the gods\\nOur Rome hath such a soldier.'\\nYet camest thou to a morsel of this feast,\\nHaving fully dined before.\\n\\nLARTIUS:\\nO general,\\nHere is the steed, we the caparison:\\nHadst thou beheld--\\n\\nMARCIUS:\\nPray now, no more: my mother,\\nWho has a charter to extol her blood,\\nWhen she does praise me grieves me. I have done\\nAs you have done; that's what I can; induced\\nAs you have been; that's for my country:\\nHe that has but effected his good will\\nHath overta'en mine act.\\n\\nCOMINIUS:\\nYou shall not be\\nThe grave of your deserving; Rome must know\\nThe value of her own: 'twere a concealment\\nWorse than a theft, no less than a traducement,\\nTo hide your doings; and to silence that,\\nWhich, to the spire and top of praises vouch'd,\\nWould seem but modest: therefore, I beseech you\\nIn sign of what you are, not to reward\\nWhat you have done--before our army hear me.\\n\\nMARCIUS:\\nI have some wounds upon me, and they smart\\nTo hear themselves remember'd.\\n\\nCOMINIUS:\\nShould they not,\\nWell might they fester 'gainst ingratitude,\\nAnd tent themselves with death. Of all the horses,\\nWhereof we have ta'en good and good store, of all\\nThe treasure in this field achieved and city,\\nWe render you the tenth, to be ta'en forth,\\nBefore the common distribution, at\\nYour only choice.\\n\\nMARCIUS:\\nI thank you, general;\\nBut cannot make my heart consent to take\\nA bribe to pay my sword: I do refuse it;\\nAnd stand upon my common part with those\\nThat have beheld the doing.\\n\\nMARCIUS:\\nMay these same instruments, which you profane,\\nNever sound more! when drums and trumpets shall\\nI' the field prove flatterers, let courts and cities be\\nMade all of false-faced soothing!\\nWhen steel grows soft as the parasite's silk,\\nLet him be made a coverture for the wars!\\nNo more, I say! For that I have not wash'd\\nMy nose that bled, or foil'd some debile wretch.--\\nWhich, without note, here's many else have done,--\\nYou shout me forth\\nIn acclamations hyperbolical;\\nAs if I loved my little should be dieted\\nIn praises sauced with lies.\\n\\nCOMINIUS:\\nToo modest are you;\\nMore cruel to your good report than grateful\\nTo us that give you truly: by your patience,\\nIf 'gainst yourself you be incensed, we'll put you,\\nLike one that means his proper harm, in manacles,\\nThen reason safely with you. Therefore, be it known,\\nAs to us, to all the world, that Caius Marcius\\nWears this war's garland: in token of the which,\\nMy noble steed, known to the camp, I give him,\\nWith all his trim belonging; and from this time,\\nFor what he did before Corioli, call him,\\nWith all the applause and clamour of the host,\\nCAIUS MARCIUS CORIOLANUS! Bear\\nThe addition nobly ever!\\n\\nAll:\\nCaius Marcius Coriolanus!\\n\\nCORIOLANUS:\\nI will go wash;\\nAnd when my face is fair, you shall perceive\\nWhether I blush or no: howbeit, I thank you.\\nI mean to stride your steed, and at all times\\nTo undercrest your good addition\\nTo the fairness of my power.\\n\\nCOMINIUS:\\nSo, to our tent;\\nWhere, ere we do repose us, we will write\\nTo Rome of our success. You, Titus Lartius,\\nMust to Corioli back: send us to Rome\\nThe best, with whom we may articulate,\\nFor their own good and ours.\\n\\nLARTIUS:\\nI shall, my lord.\\n\\nCORIOLANUS:\\nThe gods begin to mock me. I, that now\\nRefused most princely gifts, am bound to beg\\nOf my lord general.\\n\\nCOMINIUS:\\nTake't; 'tis yours. What is't?\\n\\nCORIOLANUS:\\nI sometime lay here in Corioli\\nAt a poor man's house; he used me kindly:\\nHe cried to me; I saw him prisoner;\\nBut then Aufidius was within my view,\\nAnd wrath o'erwhelm'd my pity: I request you\\nTo give my poor host freedom.\\n\\nCOMINIUS:\\nO, well begg'd!\\nWere he the butcher of my son, he should\\nBe free as is the wind. Deliver him, Titus.\\n\\nLARTIUS:\\nMarcius, his name?\\n\\nCORIOLANUS:\\nBy Jupiter! forgot.\\nI am weary; yea, my memory is\"\n",
            "\" tired.\\nHave we no wine here?\\n\\nCOMINIUS:\\nGo we to our tent:\\nThe blood upon your visage dries; 'tis time\\nIt should be look'd to: come.\\n\\nAUFIDIUS:\\nThe town is ta'en!\\n\\nFirst Soldier:\\n'Twill be deliver'd back on good condition.\\n\\nAUFIDIUS:\\nCondition!\\nI would I were a Roman; for I cannot,\\nBeing a Volsce, be that I am. Condition!\\nWhat good condition can a treaty find\\nI' the part that is at mercy? Five times, Marcius,\\nI have fought with thee: so often hast thou beat me,\\nAnd wouldst do so, I think, should we encounter\\nAs often as we eat. By the elements,\\nIf e'er again I meet him beard to beard,\\nHe's mine, or I am his: mine emulation\\nHath not that honour in't it had; for where\\nI thought to crush him in an equal force,\\nTrue sword to sword, I'll potch at him some way\\nOr wrath or craft may get him.\\n\\nFirst Soldier:\\nHe's the devil.\\n\\nAUFIDIUS:\\nBolder, though not so subtle. My valour's poison'd\\nWith only suffering stain by him; for him\\nShall fly out of itself: nor sleep nor sanctuary,\\nBeing naked, sick, nor fane nor Capitol,\\nThe prayers of priests nor times of sacrifice,\\nEmbarquements all of fury, shall lift up\\nTheir rotten privilege and custom 'gainst\\nMy hate to Marcius: where I find him, were it\\nAt home, upon my brother's guard, even there,\\nAgainst the hospitable canon, would I\\nWash my fierce hand in's heart. Go you to the city;\\nLearn how 'tis held; and what they are that must\\nBe hostages for Rome.\\n\\nFirst Soldier:\\nWill not you go?\\n\\nAUFIDIUS:\\nI am attended at the cypress grove: I pray you--\\n'Tis south the city mills--bring me word thither\\nHow the world goes, that to the pace of it\\nI may spur on my journey.\\n\\nFirst Soldier:\\nI shall, sir.\\n\\nMENENIUS:\\nThe augurer tells me we shall have news to-night.\\n\\nBRUTUS:\\nGood or bad?\\n\\nMENENIUS:\\nNot according to the prayer of the people, for they\\nlove not Marcius.\\n\\nSICINIUS:\\nNature teaches beasts to know their friends.\\n\\nMENENIUS:\\nPray you, who does the wolf love?\\n\\nSICINIUS:\\nThe lamb.\\n\\nMENENIUS:\\nAy, to devour him; as the hungry plebeians would the\\nnoble Marcius.\\n\\nBRUTUS:\\nHe's a lamb indeed, that baes like a bear.\\n\\nMENENIUS:\\nHe's a bear indeed, that lives like a lamb. You two\\nare old men: tell me one thing that I shall ask you.\\n\\nBoth:\\nWell, sir.\\n\\nMENENIUS:\\nIn what enormity is Marcius poor in, that you two\\nhave not in abundance?\\n\\nBRUTUS:\\nHe's poor in no one fault, but stored with all.\\n\\nSICINIUS:\\nEspecially in pride.\\n\\nBRUTUS:\\nAnd topping all others in boasting.\\n\\nMENENIUS:\\nThis is strange now: do you two know how you are\\ncensured here in the city, I mean of us o' the\\nright-hand file? do you?\\n\\nBoth:\\nWhy, how are we censured?\\n\\nMENENIUS:\\nBecause you talk of pride now,--will you not be angry?\\n\\nBoth:\\nWell, well, sir, well.\\n\\nMENENIUS:\\nWhy, 'tis no great matter; for a very little thief of\\noccasion will rob you of a great deal of patience:\\ngive your dispositions the reins, and be angry at\\nyour pleasures; at the least if you take it as a\\npleasure to you in being so. You blame Marcius for\\nbeing proud?\\n\\nBRUTUS:\\nWe do it not alone, sir.\\n\\nMENENIUS:\\nI know you can do very little alone; for your helps\\nare many, or else your actions would grow wondrous\\nsingle: your abilities are too infant-like for\\ndoing much alone. You talk of pride: O that you\\ncould turn your eyes toward the napes of your necks,\\nand make but an interior survey of your good selves!\\nO that you could!\\n\\nBRUTUS:\\nWhat then, sir?\\n\\nMENENIUS:\\nWhy, then you should discover a brace of unmeriting,\\nproud, violent, testy magistrates, alias fools, as\\nany in Rome.\\n\\nSICINIUS:\\nMenenius, you are known well enough too.\\n\\nMENENIUS:\\nI am known to be a humorous patrician, and one that\\nloves a cup of hot wine with not a drop of allaying\\nTiber in't; said to be something imperfect in\\nfavouring the first complaint; hasty and tinder-like\\nupon too trivial motion; one that converses more\\nwith the buttock of the night than with the forehead\\nof the morning: what I think I utter, and spend my\\nmalice in my breath. Meeting two such wealsmen as\\nyou are--I cannot call you Lycurguses--if the drink\\nyou give me touch my palate adversely, I make a\\ncrooked face at it. I can't say your worships have\\ndelivered the matter well, when I find the ass in\\ncompound with the major part of your syllables: and\\nthough I must be content to bear with those that say\\nyou are reverend grave men, yet they lie deadly that\\ntell you you have good faces. If you see this in\\nthe map of my microcosm, follows it that I am known\\nwell enough too? what barm can your bisson\\nconspectuities glean out of this character, if I be\\nknown well enough too?\\n\\nBRUTUS:\\nCome, sir, come, we know you well enough.\\n\\nMENENIUS:\\nYou know neither me, yourselves nor any thing. You\\nare ambitious for poor knaves' caps and legs: you\\nwear out a good wholesome forenoon in hearing a\\ncause between an orange wife and a fosset-seller;\\nand then rejourn the controversy of three pence to a\\nsecond day of audience. When you are hearing a\\nmatter between party and party, if you chance to be\\npinched with the colic, you make faces like\\nmummers; set up the bloody flag against all\\npatience; and, in roaring for a chamber-pot,\\ndismiss the controversy bleeding the more entangled\\nby your hearing: all the peace you make in their\\ncause is, calling both the parties knaves. You are\\na pair of strange ones.\\n\\nBRUTUS:\\nCome, come, you are well understood to be a\\nperfecter giber for the table than a necessary\\nbencher in the Capitol.\\n\\nMENENIUS:\\nOur very priests must become mockers, if they shall\\nencounter such ridiculous subjects as you are. When\\nyou speak best unto the purpose, it is not worth the\\nwagging of your beards; and your beards deserve not\\nso honourable a grave as to stuff a botcher's\\ncushion, or to be entombed in an ass's pack-\\nsaddle. Yet you must be saying, Marcius is proud;\\nwho in a cheap estimation, is worth predecessors\\nsince Deucalion, though peradventure some of the\\nbest of 'em were hereditary hangmen. God-den to\\nyour worships: more of your conversation would\\ninfect my brain, being the herdsmen of the beastly\\nplebeians: I will be bold to take my leave of you.\\nHow now, my as fair as noble ladies,--and the moon,\\nwere she earthly, no nobler,--whither do you follow\\nyour eyes so fast?\\n\\nVOLUMNIA:\\nHonourable Menenius, my boy Marcius approaches; for\\nthe love of Juno, let's go.\\n\\nMENENIUS:\\nHa! Marcius coming home!\\n\\nVOLUMNIA:\\nAy, worthy Menenius; and with most prosperous\\napprobation.\\n\\nMENENIUS:\\nTake my cap, Jupiter, and I thank thee. Hoo!\\nMarcius coming home!\\n\\nVOLUMNIA:\\nNay,'tis true.\\n\\nVOLUMNIA:\\nLook, here's a letter from him: the state hath\\nanother, his wife another; and, I think, there's one\\nat home for you.\\n\\nMENENIUS:\\nI will make my very house reel tonight: a letter for\\nme!\\n\\nVIRGILIA:\\nYes, certain, there's a letter for you; I saw't.\\n\\nMENENIUS:\\nA letter for me! it gives me an estate of seven\\nyears' health; in which time I will make a lip at\\nthe physician: the most sovereign prescription in\\nGalen is but empiricutic, and, to this preservative,\\nof no better report than a horse-drench. Is he\\nnot wounded? he was wont to come home wounded.\\n\\nVIRGILIA:\\nO, no, no, no.\\n\\nVOLUMNIA:\\nO, he is wounded; I thank the gods for't.\\n\\nMENENIUS:\\nSo do I too, if it be not too much: brings a'\\nvictory in his pocket? the wounds become him.\\n\\nVOLUMNIA:\\nOn's brows: Menenius, he comes the third time home\\nwith the oaken garland.\\n\\nMENENIUS:\\nHas he disciplined Aufidius soundly?\\n\\nVOLUMNIA:\\nTitus Lartius writes, they fought together, but\\nAufidius got off.\\n\\nMENENIUS:\\nAnd 'twas time for him too, I'll warrant him that:\\nan he had stayed by him, I would not have been so\\nfidiused for all the chests in Corioli, and the gold\\nthat's in them. Is the senate possessed of this?\\n\\nVOLUMNIA:\\nGood ladies, let's go. Yes, yes, yes; the senate\\nhas letters from the general, wherein he gives my\\nson the whole name of the war: he hath in this\\naction outdone his former deeds doubly\\n\\nVALERIA:\\nIn troth, there's wondrous things spoke of him.\\n\\nMENENIUS:\\nWondrous! ay, I warrant you, and not without his\\ntrue purchasing.\\n\\nVIRGILIA:\\nThe gods grant them true!\\n\\nVOLUMNIA:\\nTrue! pow, wow.\\n\\nMENENIUS:\\nTrue! I'll be sworn they are true.\\nWhere is he wounded?\\nGod save your good worships! Marcius is coming\\nhome: he has more cause to be proud. Where is he wounded?\\n\\nVOLUMNIA:\\nI' the shoulder and i' the left arm there will be\\nlarge cicatrices to show the people, when he shall\\nstand for his place. He received in the repulse of\\nTarquin seven hurts i' the body.\\n\\nMENENIUS:\\nOne i' the neck, and two i' the thigh,--there's\\nnine that I know.\\n\\nVOLUMNIA:\\nHe had, before this last expedition, twenty-five\\nwounds upon him.\\n\\nMENENIUS:\\nNow it's twenty-seven: every gash was an enemy's grave.\\nHark! the trumpets.\\n\\nVOLUMNIA:\\nThese are the ushers of Marcius: before him he\\ncarries noise, and behind him he leaves tears:\\nDeath, that dark spirit, in 's nervy arm doth lie;\\nWhich, being advanced, declines, and then men die.\\n\\nHerald:\\nKnow, Rome, that all alone Marcius did fight\\nWithin Corioli gates: where he hath won,\\nWith fame, a name to Caius Marcius; these\\nIn honour follows Coriolanus.\\nWelcome to Rome, renowned Coriolanus!\\n\\nAll:\\nWelcome to Rome, renowned Coriolanus!\\n\\nCORIOLANUS:\\nNo more of this; it does offend my heart:\\nPray now, no more.\\n\\nCOMINIUS:\\nLook, sir, your mother!\\n\\nCORIOLANUS:\\nO,\\nYou have, I know, petition'd all the gods\\nFor my prosperity!\\n\\nVOLUMNIA:\\nNay, my good soldier, up;\\nMy gentle Marcius, worthy Caius, and\\nBy deed-achieving honour newly named,--\\nWhat is it?--Coriolanus must I call thee?--\\nBut O, thy wife!\\n\\nCORIOLANUS:\\nMy gracious silence, hail!\\nWouldst thou have laugh'd had I come coffin'd home,\\nThat weep'st to see me triumph? Ay, my dear,\\nSuch eyes the widows in Corioli wear,\\nAnd mothers that lack sons.\\n\\nMENENIUS:\\nNow, the gods crown thee!\\n\\nCORIOLANUS:\\nAnd live you yet?\\nO my sweet lady, pardon.\\n\\nVOLUMNIA:\\nI know not where to turn: O, welcome home:\\nAnd welcome, general: and ye're welcome all.\\n\\nMENENIUS:\\nA hundred thousand welcomes. I could weep\\nAnd I could laugh, I am light and heavy. Welcome.\\nA curse begin at very root on's heart,\\nThat is not glad to see thee! You are three\\nThat Rome should dote on: yet, by the faith of men,\\nWe have some old crab-trees here\\nat home that will not\\nBe grafted to your relish. Yet welcome, warriors:\\nWe call a nettle but a nettle and\\nThe faults of fools but folly.\\n\\nCOMINIUS:\\nEver right.\\n\\nCORIOLANUS:\\nMenenius ever, ever.\\n\\nHerald:\\nGive way there, and go on!\\n\\nCORIOLANUS:\\n\\nVOLUMNIA:\\nI have lived\\nTo see inherited my very wishes\\nAnd the buildings of my fancy: only\\nThere's one thing wanting, which I doubt not but\\nOur Rome will cast upon thee.\\n\\nCORIOLANUS:\\nKnow, good mother,\\nI had rather be their servant in my way,\\nThan sway with them in theirs.\\n\\nCOMINIUS:\\nOn, to the Capitol!\\n\\nBRUTUS:\\nAll tongues speak of him, and the bleared sights\\nAre spectacled to see him: your prattling nurse\\nInto a rapture lets her baby cry\\nWhile she chats him: the kitchen malkin pins\\nHer richest lockram 'bout her reechy neck,\\nClambering the walls to eye him: stalls, bulks, windows,\\nAre smother'd up, leads fill'd, and ridges horsed\\nWith variable complexions, all agreeing\\nIn earnestness to see him: seld-shown flamens\\nDo press among the popular throngs and puff\\nTo win a vulgar station: or veil'd \"\n",
            "\"dames\\nCommit the war of white and damask in\\nTheir nicely-gawded cheeks to the wanton spoil\\nOf Phoebus' burning kisses: such a pother\\nAs if that whatsoever god who leads him\\nWere slily crept into his human powers\\nAnd gave him graceful posture.\\n\\nSICINIUS:\\nOn the sudden,\\nI warrant him consul.\\n\\nBRUTUS:\\nThen our office may,\\nDuring his power, go sleep.\\n\\nSICINIUS:\\nHe cannot temperately transport his honours\\nFrom where he should begin and end, but will\\nLose those he hath won.\\n\\nBRUTUS:\\nIn that there's comfort.\\n\\nSICINIUS:\\nDoubt not\\nThe commoners, for whom we stand, but they\\nUpon their ancient malice will forget\\nWith the least cause these his new honours, which\\nThat he will give them make I as little question\\nAs he is proud to do't.\\n\\nBRUTUS:\\nI heard him swear,\\nWere he to stand for consul, never would he\\nAppear i' the market-place nor on him put\\nThe napless vesture of humility;\\nNor showing, as the manner is, his wounds\\nTo the people, beg their stinking breaths.\\n\\nSICINIUS:\\n'Tis right.\\n\\nBRUTUS:\\nIt was his word: O, he would miss it rather\\nThan carry it but by the suit of the gentry to him,\\nAnd the desire of the nobles.\\n\\nSICINIUS:\\nI wish no better\\nThan have him hold that purpose and to put it\\nIn execution.\\n\\nBRUTUS:\\n'Tis most like he will.\\n\\nSICINIUS:\\nIt shall be to him then as our good wills,\\nA sure destruction.\\n\\nBRUTUS:\\nSo it must fall out\\nTo him or our authorities. For an end,\\nWe must suggest the people in what hatred\\nHe still hath held them; that to's power he would\\nHave made them mules, silenced their pleaders and\\nDispropertied their freedoms, holding them,\\nIn human action and capacity,\\nOf no more soul nor fitness for the world\\nThan camels in the war, who have their provand\\nOnly for bearing burdens, and sore blows\\nFor sinking under them.\\n\\nSICINIUS:\\nThis, as you say, suggested\\nAt some time when his soaring insolence\\nShall touch the people--which time shall not want,\\nIf he be put upon 't; and that's as easy\\nAs to set dogs on sheep--will be his fire\\nTo kindle their dry stubble; and their blaze\\nShall darken him for ever.\\n\\nBRUTUS:\\nWhat's the matter?\\n\\nMessenger:\\nYou are sent for to the Capitol. 'Tis thought\\nThat Marcius shall be consul:\\nI have seen the dumb men throng to see him and\\nThe blind to bear him speak: matrons flung gloves,\\nLadies and maids their scarfs and handkerchers,\\nUpon him as he pass'd: the nobles bended,\\nAs to Jove's statue, and the commons made\\nA shower and thunder with their caps and shouts:\\nI never saw the like.\\n\\nBRUTUS:\\nLet's to the Capitol;\\nAnd carry with us ears and eyes for the time,\\nBut hearts for the event.\\n\\nSICINIUS:\\nHave with you.\\n\\nFirst Officer:\\nCome, come, they are almost here. How many stand\\nfor consulships?\\n\\nSecond Officer:\\nThree, they say: but 'tis thought of every one\\nCoriolanus will carry it.\\n\\nFirst Officer:\\nThat's a brave fellow; but he's vengeance proud, and\\nloves not the common people.\\n\\nSecond Officer:\\nFaith, there had been many great men that have\\nflattered the people, who ne'er loved them; and there\\nbe many that they have loved, they know not\\nwherefore: so that, if they love they know not why,\\nthey hate upon no better a ground: therefore, for\\nCoriolanus neither to care whether they love or hate\\nhim manifests the true knowledge he has in their\\ndisposition; and out of his noble carelessness lets\\nthem plainly see't.\\n\\nFirst Officer:\\nIf he did not care whether he had their love or no,\\nhe waved indifferently 'twixt doing them neither\\ngood nor harm: but he seeks their hate with greater\\ndevotion than can render it him; and leaves\\nnothing undone that may fully discover him their\\nopposite. Now, to seem to affect the malice and\\ndispleasure of the people is as bad as that which he\\ndislikes, to flatter them for their love.\\n\\nSecond Officer:\\nHe hath deserved worthily of his country: and his\\nascent is not by such easy degrees as those who,\\nhaving been supple and courteous to the people,\\nbonneted, without any further deed to have them at\\nan into their estimation and report: but he hath so\\nplanted his honours in their eyes, and his actions\\nin their hearts, that for their tongues to be\\nsilent, and not confess so much, were a kind of\\ningrateful injury; to report otherwise, were a\\nmalice, that, giving itself the lie, would pluck\\nreproof and rebuke from every ear that heard it.\\n\\nFirst Officer:\\nNo more of him; he is a worthy man: make way, they\\nare coming.\\n\\nMENENIUS:\\nHaving determined of the Volsces and\\nTo send for Titus Lartius, it remains,\\nAs the main point of this our after-meeting,\\nTo gratify his noble service that\\nHath thus stood for his country: therefore,\\nplease you,\\nMost reverend and grave elders, to desire\\nThe present consul, and last general\\nIn our well-found successes, to report\\nA little of that worthy work perform'd\\nBy Caius Marcius Coriolanus, whom\\nWe met here both to thank and to remember\\nWith honours like himself.\\n\\nFirst Senator:\\nSpeak, good Cominius:\\nLeave nothing out for length, and make us think\\nRather our state's defective for requital\\nThan we to stretch it out.\\nMasters o' the people,\\nWe do request your kindest ears, and after,\\nYour loving motion toward the common body,\\nTo yield what passes here.\\n\\nSICINIUS:\\nWe are convented\\nUpon a pleasing treaty, and have hearts\\nInclinable to honour and advance\\nThe theme of our assembly.\\n\\nBRUTUS:\\nWhich the rather\\nWe shall be blest to do, if he remember\\nA kinder value of the people than\\nHe hath hereto prized them at.\\n\\nMENENIUS:\\nThat's off, that's off;\\nI would you rather had been silent. Please you\\nTo hear Cominius speak?\\n\\nBRUTUS:\\nMost willingly;\\nBut yet my caution was more pertinent\\nThan the rebuke you give it.\\n\\nMENENIUS:\\nHe loves your people\\nBut tie him not to be their bedfellow.\\nWorthy Cominius, speak.\\nNay, keep your place.\\n\\nFirst Senator:\\nSit, Coriolanus; never shame to hear\\nWhat you have nobly done.\\n\\nCORIOLANUS:\\nYour horror's pardon:\\nI had rather have my wounds to heal again\\nThan hear say how I got them.\\n\\nBRUTUS:\\nSir, I hope\\nMy words disbench'd you not.\\n\\nCORIOLANUS:\\nNo, sir: yet oft,\\nWhen blows have made me stay, I fled from words.\\nYou soothed not, therefore hurt not: but\\nyour people,\\nI love them as they weigh.\\n\\nMENENIUS:\\nPray now, sit down.\\n\\nCORIOLANUS:\\nI had rather have one scratch my head i' the sun\\nWhen the alarum were struck than idly sit\\nTo hear my nothings monster'd.\\n\\nMENENIUS:\\nMasters of the people,\\nYour multiplying spawn how can he flatter--\\nThat's thousand to one good one--when you now see\\nHe had rather venture all his limbs for honour\\nThan one on's ears to hear it? Proceed, Cominius.\\n\\nCOMINIUS:\\nI shall lack voice: the deeds of Coriolanus\\nShould not be utter'd feebly. It is held\\nThat valour is the chiefest virtue, and\\nMost dignifies the haver: if it be,\\nThe man I speak of cannot in the world\\nBe singly counterpoised. At sixteen years,\\nWhen Tarquin made a head for Rome, he fought\\nBeyond the mark of others: our then dictator,\\nWhom with all praise I point at, saw him fight,\\nWhen with his Amazonian chin he drove\\nThe bristled lips before him: be bestrid\\nAn o'er-press'd Roman and i' the consul's view\\nSlew three opposers: Tarquin's self he met,\\nAnd struck him on his knee: in that day's feats,\\nWhen he might act the woman in the scene,\\nHe proved best man i' the field, and for his meed\\nWas brow-bound with the oak. His pupil age\\nMan-enter'd thus, he waxed like a sea,\\nAnd in the brunt of seventeen battles since\\nHe lurch'd all swords of the garland. For this last,\\nBefore and in Corioli, let me say,\\nI cannot speak him home: he stopp'd the fliers;\\nAnd by his rare example made the coward\\nTurn terror into sport: as weeds before\\nA vessel under sail, so men obey'd\\nAnd fell below his stem: his sword, death's stamp,\\nWhere it did mark, it took; from face to foot\\nHe was a thing of blood, whose every motion\\nWas timed with dying cries: alone he enter'd\\nThe mortal gate of the city, which he painted\\nWith shunless destiny; aidless came off,\\nAnd with a sudden reinforcement struck\\nCorioli like a planet: now all's his:\\nWhen, by and by, the din of war gan pierce\\nHis ready sense; then straight his doubled spirit\\nRe-quicken'd what in flesh was fatigate,\\nAnd to the battle came he; where he did\\nRun reeking o'er the lives of men, as if\\n'Twere a perpetual spoil: and till we call'd\\nBoth field and city ours, he never stood\\nTo ease his breast with panting.\\n\\nMENENIUS:\\nWorthy man!\\n\\nFirst Senator:\\nHe cannot but with measure fit the honours\\nWhich we devise him.\\n\\nCOMINIUS:\\nOur spoils he kick'd at,\\nAnd look'd upon things precious as they were\\nThe common muck of the world: he covets less\\nThan misery itself would give; rewards\\nHis deeds with doing them, and is content\\nTo spend the time to end it.\\n\\nMENENIUS:\\nHe's right noble:\\nLet him be call'd for.\\n\\nFirst Senator:\\nCall Coriolanus.\\n\\nOfficer:\\nHe doth appear.\\n\\nMENENIUS:\\nThe senate, Coriolanus, are well pleased\\nTo make thee consul.\\n\\nCORIOLANUS:\\nI do owe them still\\nMy life and services.\\n\\nMENENIUS:\\nIt then remains\\nThat you do speak to the people.\\n\\nCORIOLANUS:\\nI do beseech you,\\nLet me o'erleap that custom, for I cannot\\nPut on the gown, stand naked and entreat them,\\nFor my wounds' sake, to give their suffrage: please you\\nThat I may pass this doing.\\n\\nSICINIUS:\\nSir, the people\\nMust have their voices; neither will they bate\\nOne jot of ceremony.\\n\\nMENENIUS:\\nPut them not to't:\\nPray you, go fit you to the custom and\\nTake to you, as your predecessors have,\\nYour honour with your form.\\n\\nCORIOLANUS:\\nIt is apart\\nThat I shall blush in acting, and might well\\nBe taken from the people.\\n\\nBRUTUS:\\nMark you that?\\n\\nCORIOLANUS:\\nTo brag unto them, thus I did, and thus;\\nShow them the unaching scars which I should hide,\\nAs if I had received them for the hire\\nOf their breath only!\\n\\nMENENIUS:\\nDo not stand upon't.\\nWe recommend to you, tribunes of the people,\\nOur purpose to them: and to our noble consul\\nWish we all joy and honour.\\n\\nSenators:\\nTo Coriolanus come all joy and honour!\\n\\nBRUTUS:\\nYou see how he intends to use the people.\\n\\nSICINIUS:\\nMay they perceive's intent! He will require them,\\nAs if he did contemn what he requested\\nShould be in them to give.\\n\\nBRUTUS:\\nCome, we'll inform them\\nOf our proceedings here: on the marketplace,\\nI know, they do attend us.\\n\\nFirst Citizen:\\nOnce, if he do require our voices, we ought not to deny him.\\n\\nSecond Citizen:\\nWe may, sir, if we will.\\n\\nThird Citizen:\\nWe have power in ourselves to do it, but it is a\\npower that we have no power to do; for if he show us\\nhis wounds and tell us his deeds, we are to put our\\ntongues into those wounds and speak for them; so, if\\nhe tell us his noble deeds, we must also tell him\\nour noble acceptance of them. Ingratitude is\\nmonstrous, and for the multitude to be ingrateful,\\nwere to make a monster of the multitude: of the\\nwhich we being members, should bring ourselves to be\\nmonstrous members.\\n\\nFirst Citizen:\\nAnd to make us no better thought of, a little help\\nwill serve; for once we stood up about the corn, he\\nhimself stuck not to call us the many-headed multitude.\\n\\nThird Citizen:\\nWe have been called so of many; not that our heads\\nare some brown, some black, some auburn, some bald,\\nbut that our wits are so diversely coloured: and\\ntruly I think if all our wits were to issue out of\\none skull, they would fly east, west, north, south,\\nand their consent of \"\n"
          ]
        }
      ]
    },
    {
      "cell_type": "markdown",
      "metadata": {
        "id": "UbLcIPBj_mWZ"
      },
      "source": [
        "각 시퀀스에서, `map` 메서드를 사용해 각 배치에 간단한 함수를 적용하고 입력 텍스트와 타깃 텍스트를 복사 및 이동\n",
        "* 모델이 Text를 생성할때, 한 텍스트 단위로 생성하기 때문에 그 다음 텍스트를 target으로 사용"
      ]
    },
    {
      "cell_type": "code",
      "metadata": {
        "id": "9NGu-FkO_kYU"
      },
      "source": [
        "# Hello -> 불러온 데이터의 길이\n",
        "# input : Hell # input의 길이\n",
        "# output : ello # output의 길이\n",
        "\n",
        "def split_input_target(chunk):\n",
        "    input_text = chunk[:-1]\n",
        "    target_text = chunk[1:]\n",
        "    return input_text, target_text\n",
        "\n",
        "dataset = sequences.map(split_input_target)"
      ],
      "execution_count": 18,
      "outputs": []
    },
    {
      "cell_type": "markdown",
      "metadata": {
        "id": "hiCopyGZymwi"
      },
      "source": [
        "첫 번째 샘플의 타깃 값을 출력해보자"
      ]
    },
    {
      "cell_type": "code",
      "metadata": {
        "id": "GNbw-iR0ymwj",
        "outputId": "86a34d60-4a99-40ec-8dc3-2d079ccb742a",
        "colab": {
          "base_uri": "https://localhost:8080/"
        }
      },
      "source": [
        "for input_example, target_example in  dataset.take(1):\n",
        "    print ('입력 데이터: ', repr(''.join(idx2char[input_example.numpy()])))\n",
        "    print ('타깃 데이터: ', repr(''.join(idx2char[target_example.numpy()])))"
      ],
      "execution_count": 19,
      "outputs": [
        {
          "output_type": "stream",
          "name": "stdout",
          "text": [
            "입력 데이터:  \"First Citizen:\\nBefore we proceed any further, hear me speak.\\n\\nAll:\\nSpeak, speak.\\n\\nFirst Citizen:\\nYou are all resolved rather to die than to famish?\\n\\nAll:\\nResolved. resolved.\\n\\nFirst Citizen:\\nFirst, you know Caius Marcius is chief enemy to the people.\\n\\nAll:\\nWe know't, we know't.\\n\\nFirst Citizen:\\nLet us kill him, and we'll have corn at our own price.\\nIs't a verdict?\\n\\nAll:\\nNo more talking on't; let it be done: away, away!\\n\\nSecond Citizen:\\nOne word, good citizens.\\n\\nFirst Citizen:\\nWe are accounted poor citizens, the patricians good.\\nWhat authority surfeits on would relieve us: if they\\nwould yield us but the superfluity, while it were\\nwholesome, we might guess they relieved us humanely;\\nbut they think we are too dear: the leanness that\\nafflicts us, the object of our misery, is as an\\ninventory to particularise their abundance; our\\nsufferance is a gain to them Let us revenge this with\\nour pikes, ere we become rakes: for the gods know I\\nspeak this in hunger for bread, not in thirst for revenge.\\n\\nSecond Citizen:\\nWould you proceed especially against Caius Marcius?\\n\\nAll:\\nAgainst him first: he's a very dog to the commonalty.\\n\\nSecond Citizen:\\nConsider you what services he has done for his country?\\n\\nFirst Citizen:\\nVery well; and could be content to give him good\\nreport fort, but that he pays himself with being proud.\\n\\nSecond Citizen:\\nNay, but speak not maliciously.\\n\\nFirst Citizen:\\nI say unto you, what he hath done famously, he did\\nit to that end: though soft-conscienced men can be\\ncontent to say it was for his country he did it to\\nplease his mother and to be partly proud; which he\\nis, even till the altitude of his virtue.\\n\\nSecond Citizen:\\nWhat he cannot help in his nature, you account a\\nvice in him. You must in no way say he is covetous.\\n\\nFirst Citizen:\\nIf I must not, I need not be barren of accusations;\\nhe hath faults, with surplus, to tire in repetition.\\nWhat shouts are these? The other side o' the city\\nis risen: why stay we prating here? to the Capitol!\\n\\nAll:\\nCome, come.\\n\\nFirst Citizen:\\nSoft! who comes here?\\n\\nSecond Citizen:\\nWorthy Menenius Agrippa; one that hath always loved\\nthe people.\\n\\nFirst Citizen:\\nHe's one honest enough: would all the rest were so!\\n\\nMENENIUS:\\nWhat work's, my countrymen, in hand? where go you\\nWith bats and clubs? The matter? speak, I pray you.\\n\\nFirst Citizen:\\nOur business is not unknown to the senate; they have\\nhad inkling this fortnight what we intend to do,\\nwhich now we'll show 'em in deeds. They say poor\\nsuitors have strong breaths: they shall know we\\nhave strong arms too.\\n\\nMENENIUS:\\nWhy, masters, my good friends, mine honest neighbours,\\nWill you undo yourselves?\\n\\nFirst Citizen:\\nWe cannot, sir, we are undone already.\\n\\nMENENIUS:\\nI tell you, friends, most charitable care\\nHave the patricians of you. For your wants,\\nYour suffering in this dearth, you may as well\\nStrike at the heaven with your staves as lift them\\nAgainst the Roman state, whose course will on\\nThe way it takes, cracking ten thousand curbs\\nOf more strong link asunder than can ever\\nAppear in your impediment. For the dearth,\\nThe gods, not the patricians, make it, and\\nYour knees to them, not arms, must help. Alack,\\nYou are transported by calamity\\nThither where more attends you, and you slander\\nThe helms o' the state, who care for you like fathers,\\nWhen you curse them as enemies.\\n\\nFirst Citizen:\\nCare for us! True, indeed! They ne'er cared for us\\nyet: suffer us to famish, and their store-houses\\ncrammed with grain; make edicts for usury, to\\nsupport usurers; repeal daily any wholesome act\\nestablished against the rich, and provide more\\npiercing statutes daily, to chain up and restrain\\nthe poor. If the wars eat us not up, they will; and\\nthere's all the love they bear us.\\n\\nMENENIUS:\\nEither you must\\nConfess yourselves wondrous malicious,\\nOr be accused of folly. I shall tell you\\nA pretty tale: it may be you have heard it;\\nBut, since it serves my purpose, I will venture\\nTo stale 't a little more.\\n\\nFirst Citizen:\\nWell, I'll hear it, sir: yet you must not think to\\nfob off our disgrace with a tale: but, an 't please\\nyou, deliver.\\n\\nMENENIUS:\\nThere was a time when all the body's members\\nRebell'd against the belly, thus accused it:\\nThat only like a gulf it did remain\\nI' the midst o' the body, idle and unactive,\\nStill cupboarding the viand, never bearing\\nLike labour with the rest, where the other instruments\\nDid see and hear, devise, instruct, walk, feel,\\nAnd, mutually participate, did minister\\nUnto the appetite and affection common\\nOf the whole body. The belly answer'd--\\n\\nFirst Citizen:\\nWell, sir, what answer made the belly?\\n\\nMENENIUS:\\nSir, I shall tell you. With a kind of smile,\\nWhich ne'er came from the lungs, but even thus--\\nFor, look you, I may make the belly smile\\nAs well as speak--it tauntingly replied\\nTo the discontented members, the mutinous parts\\nThat envied his receipt; even so most fitly\\nAs you malign our senators for that\\nThey are not such as you.\\n\\nFirst Citizen:\\nYour belly's answer? What!\\nThe kingly-crowned head, the vigilant eye,\\nThe counsellor heart, the arm our soldier,\\nOur steed the leg, the tongue our trumpeter.\\nWith other muniments and petty helps\\nIn this our fabric, if that they--\\n\\nMENENIUS:\\nWhat then?\\n'Fore me, this fellow speaks! What then? what then?\\n\\nFirst Citizen:\\nShould by the cormorant belly be restrain'd,\\nWho is the sink o' the body,--\\n\\nMENENIUS:\\nWell, what then?\\n\\nFirst Citizen:\\nThe former agents, if they did complain,\\nWhat could the belly answer?\\n\\nMENENIUS:\\nI will tell you\\nIf you'll bestow a small--of what you have little--\\nPatience awhile, you'll hear the belly's answer.\\n\\nFirst Citizen:\\nYe're long about it.\\n\\nMENENIUS:\\nNote me this, good friend;\\nYour most grave belly was deliberate,\\nNot rash like his accusers, and thus answer'd:\\n'True is it, my incorporate friends,' quoth he,\\n'That I receive the general food at first,\\nWhich you do live upon; and fit it is,\\nBecause I am the store-house and the shop\\nOf the whole body: but, if you do remember,\\nI send it through the rivers of your blood,\\nEven to the court, the heart, to the seat o' the brain;\\nAnd, through the cranks and offices of man,\\nThe strongest nerves and small inferior veins\\nFrom me receive that natural competency\\nWhereby they live: and though that all at once,\\nYou, my good friends,'--this says the belly, mark me,--\\n\\nFirst Citizen:\\nAy, sir; well, well.\\n\\nMENENIUS:\\n'Though all at once cannot\\nSee what I do deliver out to each,\\nYet I can make my audit up, that all\\nFrom me do back receive the flour of all,\\nAnd leave me but the bran.' What say you to't?\\n\\nFirst Citizen:\\nIt was an answer: how apply you this?\\n\\nMENENIUS:\\nThe senators of Rome are this good belly,\\nAnd you the mutinous members; for examine\\nTheir counsels and their cares, digest things rightly\\nTouching the weal o' the common, you shall find\\nNo public benefit which you receive\\nBut it proceeds or comes from them to you\\nAnd no way from yourselves. What do you think,\\nYou, the great toe of this assembly?\\n\\nFirst Citizen:\\nI the great toe! why the great toe?\\n\\nMENENIUS:\\nFor that, being one o' the lowest, basest, poorest,\\nOf this most wise rebellion, thou go'st foremost:\\nThou rascal, that art worst in blood to run,\\nLead'st first to win some vantage.\\nBut make you ready your stiff bats and clubs:\\nRome and her rats are at the point of battle;\\nThe one side must have bale.\\nHail, noble Marcius!\\n\\nMARCIUS:\\nThanks. What's the matter, you dissentious rogues,\\nThat, rubbing the poor itch of your opinion,\\nMake yourselves scabs?\\n\\nFirst Citizen:\\nWe have ever your good word.\\n\\nMARCIUS:\\nHe that will give good words to thee will flatter\\nBeneath abhorring. What would you have, you curs,\\nThat like nor peace nor war? the one affrights you,\\nThe other makes you proud. He that trusts to you,\\nWhere he should find you lions, finds you hares;\\nWhere foxes, geese: you are no surer, no,\\nThan is the coal of fire upon the ice,\\nOr hailstone in the sun. Your virtue is\\nTo make him worthy whose offence subdues him\\nAnd curse that justice did it.\\nWho deserves greatness\\nDeserves your hate; and your affections are\\nA sick man's appetite, who desires most that\\nWhich would increase his evil. He that depends\\nUpon your favours swims with fins of lead\\nAnd hews down oaks with rushes. Hang ye! Trust Ye?\\nWith every minute you do change a mind,\\nAnd call him noble that was now your hate,\\nHim vile that was your garland. What's the matter,\\nThat in these several places of the city\\nYou cry against the noble senate, who,\\nUnder the gods, keep you in awe, which else\\nWould feed on one another? What's their seeking?\\n\\nMENENIUS:\\nFor corn at their own rates; whereof, they say,\\nThe city is well stored.\\n\\nMARCIUS:\\nHang 'em! They say!\\nThey'll sit by the fire, and presume to know\\nWhat's done i' the Capitol; who's like to rise,\\nWho thrives and who declines; side factions\\nand give out\\nConjectural marriages; making parties strong\\nAnd feebling such as stand not in their liking\\nBelow their cobbled shoes. They say there's\\ngrain enough!\\nWould the nobility lay aside their ruth,\\nAnd let me use my sword, I'll make a quarry\\nWith thousands of these quarter'd slaves, as high\\nAs I could pick my lance.\\n\\nMENENIUS:\\nNay, these are almost thoroughly persuaded;\\nFor though abundantly they lack discretion,\\nYet are they passing cowardly. But, I beseech you,\\nWhat says the other troop?\\n\\nMARCIUS:\\nThey are dissolved: hang 'em!\\nThey said they were an-hungry; sigh'd forth proverbs,\\nThat hunger broke stone walls, that dogs must eat,\\nThat meat was made for mouths, that the gods sent not\\nCorn for the rich men only: with these shreds\\nThey vented their complainings; which being answer'd,\\nAnd a petition granted them, a strange one--\\nTo break the heart of generosity,\\nAnd make bold power look pale--they threw their caps\\nAs they would hang them on the horns o' the moon,\\nShouting their emulation.\\n\\nMENENIUS:\\nWhat is granted them?\\n\\nMARCIUS:\\nFive tribunes to defend their vulgar wisdoms,\\nOf their own choice: one's Junius Brutus,\\nSicinius Velutus, and I know not--'Sdeath!\\nThe rabble should have first unroof'd the city,\\nEre so prevail'd with me: it will in time\\nWin upon power and throw forth greater themes\\nFor insurrection's arguing.\\n\\nMENENIUS:\\nThis is strange.\\n\\nMARCIUS:\\nGo, get you home, you fragments!\\n\\nMessenger:\\nWhere's Caius Marcius?\\n\\nMARCIUS:\\nHere: what's the matter?\\n\\nMessenger:\\nThe news is, sir, the Volsces are in arms.\\n\\nMARCIUS:\\nI am glad on 't: then we shall ha' means to vent\\nOur musty superfluity. See, our best elders.\\n\\nFirst Senator:\\nMarcius, 'tis true that you have lately told us;\\nThe Volsces are in arms.\\n\\nMARCIUS:\\nThey have a leader,\\nTullus Aufidius, that will put you to 't.\\nI sin in envying his nobility,\\nAnd were I any thing but what I am,\\nI would wish me only he.\\n\\nCOMINIUS:\\nYou have fought together.\\n\\nMARCIUS:\\nWere half to half the world by the ears and he.\\nUpon my party, I'ld revolt to make\\nOnly my wars with him: he is a lion\\nThat I am proud to hunt.\\n\\nFirst Senator:\\nThen, worthy Marcius,\\nAttend upon Cominius to these wars.\\n\\nCOMINIUS:\\nIt is your former promise.\\n\\nMARCIUS:\\nSir, it is;\\nAnd I am constant. Titus Lartius, thou\\nShalt see me once more strike at Tullus' face.\\nWhat, art thou stiff? stand'st out?\\n\\nTITUS:\\nNo, Caius Marcius;\\nI'll lean upon one crutch and figh\"\n",
            "타깃 데이터:  \"irst Citizen:\\nBefore we proceed any further, hear me speak.\\n\\nAll:\\nSpeak, speak.\\n\\nFirst Citizen:\\nYou are all resolved rather to die than to famish?\\n\\nAll:\\nResolved. resolved.\\n\\nFirst Citizen:\\nFirst, you know Caius Marcius is chief enemy to the people.\\n\\nAll:\\nWe know't, we know't.\\n\\nFirst Citizen:\\nLet us kill him, and we'll have corn at our own price.\\nIs't a verdict?\\n\\nAll:\\nNo more talking on't; let it be done: away, away!\\n\\nSecond Citizen:\\nOne word, good citizens.\\n\\nFirst Citizen:\\nWe are accounted poor citizens, the patricians good.\\nWhat authority surfeits on would relieve us: if they\\nwould yield us but the superfluity, while it were\\nwholesome, we might guess they relieved us humanely;\\nbut they think we are too dear: the leanness that\\nafflicts us, the object of our misery, is as an\\ninventory to particularise their abundance; our\\nsufferance is a gain to them Let us revenge this with\\nour pikes, ere we become rakes: for the gods know I\\nspeak this in hunger for bread, not in thirst for revenge.\\n\\nSecond Citizen:\\nWould you proceed especially against Caius Marcius?\\n\\nAll:\\nAgainst him first: he's a very dog to the commonalty.\\n\\nSecond Citizen:\\nConsider you what services he has done for his country?\\n\\nFirst Citizen:\\nVery well; and could be content to give him good\\nreport fort, but that he pays himself with being proud.\\n\\nSecond Citizen:\\nNay, but speak not maliciously.\\n\\nFirst Citizen:\\nI say unto you, what he hath done famously, he did\\nit to that end: though soft-conscienced men can be\\ncontent to say it was for his country he did it to\\nplease his mother and to be partly proud; which he\\nis, even till the altitude of his virtue.\\n\\nSecond Citizen:\\nWhat he cannot help in his nature, you account a\\nvice in him. You must in no way say he is covetous.\\n\\nFirst Citizen:\\nIf I must not, I need not be barren of accusations;\\nhe hath faults, with surplus, to tire in repetition.\\nWhat shouts are these? The other side o' the city\\nis risen: why stay we prating here? to the Capitol!\\n\\nAll:\\nCome, come.\\n\\nFirst Citizen:\\nSoft! who comes here?\\n\\nSecond Citizen:\\nWorthy Menenius Agrippa; one that hath always loved\\nthe people.\\n\\nFirst Citizen:\\nHe's one honest enough: would all the rest were so!\\n\\nMENENIUS:\\nWhat work's, my countrymen, in hand? where go you\\nWith bats and clubs? The matter? speak, I pray you.\\n\\nFirst Citizen:\\nOur business is not unknown to the senate; they have\\nhad inkling this fortnight what we intend to do,\\nwhich now we'll show 'em in deeds. They say poor\\nsuitors have strong breaths: they shall know we\\nhave strong arms too.\\n\\nMENENIUS:\\nWhy, masters, my good friends, mine honest neighbours,\\nWill you undo yourselves?\\n\\nFirst Citizen:\\nWe cannot, sir, we are undone already.\\n\\nMENENIUS:\\nI tell you, friends, most charitable care\\nHave the patricians of you. For your wants,\\nYour suffering in this dearth, you may as well\\nStrike at the heaven with your staves as lift them\\nAgainst the Roman state, whose course will on\\nThe way it takes, cracking ten thousand curbs\\nOf more strong link asunder than can ever\\nAppear in your impediment. For the dearth,\\nThe gods, not the patricians, make it, and\\nYour knees to them, not arms, must help. Alack,\\nYou are transported by calamity\\nThither where more attends you, and you slander\\nThe helms o' the state, who care for you like fathers,\\nWhen you curse them as enemies.\\n\\nFirst Citizen:\\nCare for us! True, indeed! They ne'er cared for us\\nyet: suffer us to famish, and their store-houses\\ncrammed with grain; make edicts for usury, to\\nsupport usurers; repeal daily any wholesome act\\nestablished against the rich, and provide more\\npiercing statutes daily, to chain up and restrain\\nthe poor. If the wars eat us not up, they will; and\\nthere's all the love they bear us.\\n\\nMENENIUS:\\nEither you must\\nConfess yourselves wondrous malicious,\\nOr be accused of folly. I shall tell you\\nA pretty tale: it may be you have heard it;\\nBut, since it serves my purpose, I will venture\\nTo stale 't a little more.\\n\\nFirst Citizen:\\nWell, I'll hear it, sir: yet you must not think to\\nfob off our disgrace with a tale: but, an 't please\\nyou, deliver.\\n\\nMENENIUS:\\nThere was a time when all the body's members\\nRebell'd against the belly, thus accused it:\\nThat only like a gulf it did remain\\nI' the midst o' the body, idle and unactive,\\nStill cupboarding the viand, never bearing\\nLike labour with the rest, where the other instruments\\nDid see and hear, devise, instruct, walk, feel,\\nAnd, mutually participate, did minister\\nUnto the appetite and affection common\\nOf the whole body. The belly answer'd--\\n\\nFirst Citizen:\\nWell, sir, what answer made the belly?\\n\\nMENENIUS:\\nSir, I shall tell you. With a kind of smile,\\nWhich ne'er came from the lungs, but even thus--\\nFor, look you, I may make the belly smile\\nAs well as speak--it tauntingly replied\\nTo the discontented members, the mutinous parts\\nThat envied his receipt; even so most fitly\\nAs you malign our senators for that\\nThey are not such as you.\\n\\nFirst Citizen:\\nYour belly's answer? What!\\nThe kingly-crowned head, the vigilant eye,\\nThe counsellor heart, the arm our soldier,\\nOur steed the leg, the tongue our trumpeter.\\nWith other muniments and petty helps\\nIn this our fabric, if that they--\\n\\nMENENIUS:\\nWhat then?\\n'Fore me, this fellow speaks! What then? what then?\\n\\nFirst Citizen:\\nShould by the cormorant belly be restrain'd,\\nWho is the sink o' the body,--\\n\\nMENENIUS:\\nWell, what then?\\n\\nFirst Citizen:\\nThe former agents, if they did complain,\\nWhat could the belly answer?\\n\\nMENENIUS:\\nI will tell you\\nIf you'll bestow a small--of what you have little--\\nPatience awhile, you'll hear the belly's answer.\\n\\nFirst Citizen:\\nYe're long about it.\\n\\nMENENIUS:\\nNote me this, good friend;\\nYour most grave belly was deliberate,\\nNot rash like his accusers, and thus answer'd:\\n'True is it, my incorporate friends,' quoth he,\\n'That I receive the general food at first,\\nWhich you do live upon; and fit it is,\\nBecause I am the store-house and the shop\\nOf the whole body: but, if you do remember,\\nI send it through the rivers of your blood,\\nEven to the court, the heart, to the seat o' the brain;\\nAnd, through the cranks and offices of man,\\nThe strongest nerves and small inferior veins\\nFrom me receive that natural competency\\nWhereby they live: and though that all at once,\\nYou, my good friends,'--this says the belly, mark me,--\\n\\nFirst Citizen:\\nAy, sir; well, well.\\n\\nMENENIUS:\\n'Though all at once cannot\\nSee what I do deliver out to each,\\nYet I can make my audit up, that all\\nFrom me do back receive the flour of all,\\nAnd leave me but the bran.' What say you to't?\\n\\nFirst Citizen:\\nIt was an answer: how apply you this?\\n\\nMENENIUS:\\nThe senators of Rome are this good belly,\\nAnd you the mutinous members; for examine\\nTheir counsels and their cares, digest things rightly\\nTouching the weal o' the common, you shall find\\nNo public benefit which you receive\\nBut it proceeds or comes from them to you\\nAnd no way from yourselves. What do you think,\\nYou, the great toe of this assembly?\\n\\nFirst Citizen:\\nI the great toe! why the great toe?\\n\\nMENENIUS:\\nFor that, being one o' the lowest, basest, poorest,\\nOf this most wise rebellion, thou go'st foremost:\\nThou rascal, that art worst in blood to run,\\nLead'st first to win some vantage.\\nBut make you ready your stiff bats and clubs:\\nRome and her rats are at the point of battle;\\nThe one side must have bale.\\nHail, noble Marcius!\\n\\nMARCIUS:\\nThanks. What's the matter, you dissentious rogues,\\nThat, rubbing the poor itch of your opinion,\\nMake yourselves scabs?\\n\\nFirst Citizen:\\nWe have ever your good word.\\n\\nMARCIUS:\\nHe that will give good words to thee will flatter\\nBeneath abhorring. What would you have, you curs,\\nThat like nor peace nor war? the one affrights you,\\nThe other makes you proud. He that trusts to you,\\nWhere he should find you lions, finds you hares;\\nWhere foxes, geese: you are no surer, no,\\nThan is the coal of fire upon the ice,\\nOr hailstone in the sun. Your virtue is\\nTo make him worthy whose offence subdues him\\nAnd curse that justice did it.\\nWho deserves greatness\\nDeserves your hate; and your affections are\\nA sick man's appetite, who desires most that\\nWhich would increase his evil. He that depends\\nUpon your favours swims with fins of lead\\nAnd hews down oaks with rushes. Hang ye! Trust Ye?\\nWith every minute you do change a mind,\\nAnd call him noble that was now your hate,\\nHim vile that was your garland. What's the matter,\\nThat in these several places of the city\\nYou cry against the noble senate, who,\\nUnder the gods, keep you in awe, which else\\nWould feed on one another? What's their seeking?\\n\\nMENENIUS:\\nFor corn at their own rates; whereof, they say,\\nThe city is well stored.\\n\\nMARCIUS:\\nHang 'em! They say!\\nThey'll sit by the fire, and presume to know\\nWhat's done i' the Capitol; who's like to rise,\\nWho thrives and who declines; side factions\\nand give out\\nConjectural marriages; making parties strong\\nAnd feebling such as stand not in their liking\\nBelow their cobbled shoes. They say there's\\ngrain enough!\\nWould the nobility lay aside their ruth,\\nAnd let me use my sword, I'll make a quarry\\nWith thousands of these quarter'd slaves, as high\\nAs I could pick my lance.\\n\\nMENENIUS:\\nNay, these are almost thoroughly persuaded;\\nFor though abundantly they lack discretion,\\nYet are they passing cowardly. But, I beseech you,\\nWhat says the other troop?\\n\\nMARCIUS:\\nThey are dissolved: hang 'em!\\nThey said they were an-hungry; sigh'd forth proverbs,\\nThat hunger broke stone walls, that dogs must eat,\\nThat meat was made for mouths, that the gods sent not\\nCorn for the rich men only: with these shreds\\nThey vented their complainings; which being answer'd,\\nAnd a petition granted them, a strange one--\\nTo break the heart of generosity,\\nAnd make bold power look pale--they threw their caps\\nAs they would hang them on the horns o' the moon,\\nShouting their emulation.\\n\\nMENENIUS:\\nWhat is granted them?\\n\\nMARCIUS:\\nFive tribunes to defend their vulgar wisdoms,\\nOf their own choice: one's Junius Brutus,\\nSicinius Velutus, and I know not--'Sdeath!\\nThe rabble should have first unroof'd the city,\\nEre so prevail'd with me: it will in time\\nWin upon power and throw forth greater themes\\nFor insurrection's arguing.\\n\\nMENENIUS:\\nThis is strange.\\n\\nMARCIUS:\\nGo, get you home, you fragments!\\n\\nMessenger:\\nWhere's Caius Marcius?\\n\\nMARCIUS:\\nHere: what's the matter?\\n\\nMessenger:\\nThe news is, sir, the Volsces are in arms.\\n\\nMARCIUS:\\nI am glad on 't: then we shall ha' means to vent\\nOur musty superfluity. See, our best elders.\\n\\nFirst Senator:\\nMarcius, 'tis true that you have lately told us;\\nThe Volsces are in arms.\\n\\nMARCIUS:\\nThey have a leader,\\nTullus Aufidius, that will put you to 't.\\nI sin in envying his nobility,\\nAnd were I any thing but what I am,\\nI would wish me only he.\\n\\nCOMINIUS:\\nYou have fought together.\\n\\nMARCIUS:\\nWere half to half the world by the ears and he.\\nUpon my party, I'ld revolt to make\\nOnly my wars with him: he is a lion\\nThat I am proud to hunt.\\n\\nFirst Senator:\\nThen, worthy Marcius,\\nAttend upon Cominius to these wars.\\n\\nCOMINIUS:\\nIt is your former promise.\\n\\nMARCIUS:\\nSir, it is;\\nAnd I am constant. Titus Lartius, thou\\nShalt see me once more strike at Tullus' face.\\nWhat, art thou stiff? stand'st out?\\n\\nTITUS:\\nNo, Caius Marcius;\\nI'll lean upon one crutch and fight\"\n"
          ]
        }
      ]
    },
    {
      "cell_type": "markdown",
      "metadata": {
        "id": "_33OHL3b84i0"
      },
      "source": [
        "* 이 벡터의 각 인덱스는 하나의 타임 스텝(time step)으로 처리됩니다. 타임 스텝 0의 입력으로 모델은 \"F\"의 인덱스를 받고 다음 문자로 \"i\"의 인덱스를 예측한다.\n",
        "\n",
        "* 다음 타임 스텝에서도 같은 일을 하지만 RNN은 현재 입력 문자 외에 이전 타임 스텝의 컨텍스트**(context)**를 고려한다."
      ]
    },
    {
      "cell_type": "code",
      "metadata": {
        "id": "0eBu9WZG84i0",
        "outputId": "951c4e07-f3f4-4493-eea0-9d423fc9cde3",
        "colab": {
          "base_uri": "https://localhost:8080/"
        }
      },
      "source": [
        "for i, (input_idx, target_idx) in enumerate(zip(input_example[:5], target_example[:5])):\n",
        "    print(\"iter {:4d}\".format(i))\n",
        "    print(\"  inputs: {} ({:s})\".format(input_idx, repr(idx2char[input_idx])))\n",
        "    print(\"  generated text: {} ({:s})\".format(target_idx, repr(idx2char[target_idx])))"
      ],
      "execution_count": 20,
      "outputs": [
        {
          "output_type": "stream",
          "name": "stdout",
          "text": [
            "iter    0\n",
            "  inputs: 18 ('F')\n",
            "  generated text: 47 ('i')\n",
            "iter    1\n",
            "  inputs: 47 ('i')\n",
            "  generated text: 56 ('r')\n",
            "iter    2\n",
            "  inputs: 56 ('r')\n",
            "  generated text: 57 ('s')\n",
            "iter    3\n",
            "  inputs: 57 ('s')\n",
            "  generated text: 58 ('t')\n",
            "iter    4\n",
            "  inputs: 58 ('t')\n",
            "  generated text: 1 (' ')\n"
          ]
        }
      ]
    },
    {
      "cell_type": "markdown",
      "metadata": {
        "id": "MJdfPmdqzf-R"
      },
      "source": [
        "### 훈련 배치 생성\n",
        "\n",
        "* 텍스트를 다루기 쉬운 시퀀스로 분리하기 위해 `tf.data`를 사용\n",
        "* 이 데이터를 모델에 넣기 전에 데이터를 섞은 후 배치를 만들어야 한다."
      ]
    },
    {
      "cell_type": "code",
      "metadata": {
        "id": "p2pGotuNzf-S",
        "outputId": "ef47a8f0-d012-4617-98c0-a2f9a81f72c3",
        "colab": {
          "base_uri": "https://localhost:8080/"
        }
      },
      "source": [
        "# 배치 크기\n",
        "BATCH_SIZE = 16\n",
        "\n",
        "dataset = dataset.shuffle(10000).batch(BATCH_SIZE, drop_remainder=True)\n",
        "\n",
        "dataset\n",
        "# 알파벳을 기준으로 했던 데이터에서 문장단위로 데이터를 불러오는 dataset을 구성할 수 있습니다."
      ],
      "execution_count": 21,
      "outputs": [
        {
          "output_type": "execute_result",
          "data": {
            "text/plain": [
              "<_BatchDataset element_spec=(TensorSpec(shape=(16, 11152), dtype=tf.int64, name=None), TensorSpec(shape=(16, 11152), dtype=tf.int64, name=None))>"
            ]
          },
          "metadata": {},
          "execution_count": 21
        }
      ]
    },
    {
      "cell_type": "markdown",
      "metadata": {
        "id": "r6oUuElIMgVx"
      },
      "source": [
        "## 모델 설계"
      ]
    },
    {
      "cell_type": "markdown",
      "metadata": {
        "id": "m8gPwEjRzf-Z"
      },
      "source": [
        "모델을 정의하려면 `tf.keras.Sequential`을 사용한다.\n",
        "\n",
        "이 예제에서는 3개의 층을 사용하여 모델을 정의한다:\n",
        "\n",
        "* `tf.keras.layers.Embedding` : 입력층. `embedding_dim` 차원 벡터에 각 문자의 정수 코드를 매핑하는 훈련 가능한 검색 테이블.\n",
        "* `tf.keras.layers.GRU` : 크기가 `units = rnn_units`인 RNN의 유형(여기서 LSTM층을 사용할 수도 있다.)\n",
        "* `tf.keras.layers.Dense` : 크기가 `vocab_size`인 출력을 생성하는 출력층.\n",
        "\n",
        "각 문자에 대해 모델은 임베딩을 검색하고, 임베딩을 입력으로 하여 GRU를 1개의 타임 스텝으로 실행하고, FC layers를 적용하여 다음 문자의 로그 가능도(log-likelihood)를 예측하는 로짓을 생성한다:"
      ]
    },
    {
      "cell_type": "code",
      "metadata": {
        "id": "zHT8cLh7EAsg"
      },
      "source": [
        "# 문자로 된 어휘 사전의 크기\n",
        "vocab_size = len(char2idx)\n",
        "\n",
        "# 임베딩 차원\n",
        "embedding_dim = 256\n",
        "\n",
        "# RNN 유닛(unit) 개수\n",
        "rnn_units = 512"
      ],
      "execution_count": 22,
      "outputs": []
    },
    {
      "cell_type": "code",
      "metadata": {
        "id": "wwsrpOik5zhv"
      },
      "source": [
        "def build_model(vocab_size, embedding_dim, rnn_units, batch_size):\n",
        "    model = tf.keras.Sequential([\n",
        "        tf.keras.layers.Embedding(input_dim=vocab_size, output_dim=embedding_dim,\n",
        "                                batch_input_shape=[batch_size, None]),\n",
        "        tf.keras.layers.GRU(units=rnn_units, return_sequences=True, stateful=True, recurrent_initializer='glorot_uniform'),\n",
        "        tf.keras.layers.Dense(units=vocab_size)\n",
        "    ])\n",
        "\n",
        "    return model"
      ],
      "execution_count": 23,
      "outputs": []
    },
    {
      "cell_type": "code",
      "metadata": {
        "id": "xgzQLegT2H_J"
      },
      "source": [
        "model = build_model(\n",
        "    vocab_size = vocab_size,\n",
        "    embedding_dim=embedding_dim,\n",
        "    rnn_units=rnn_units,\n",
        "    batch_size=BATCH_SIZE)"
      ],
      "execution_count": 24,
      "outputs": []
    },
    {
      "cell_type": "code",
      "metadata": {
        "id": "pbNnqjvhI9lk",
        "outputId": "daa0ba45-ae0f-4848-cc8f-20a6fe44f10f",
        "colab": {
          "base_uri": "https://localhost:8080/"
        }
      },
      "source": [
        "for layer in model.layers:\n",
        "    print(layer.output_shape)"
      ],
      "execution_count": 25,
      "outputs": [
        {
          "output_type": "stream",
          "name": "stdout",
          "text": [
            "(16, None, 256)\n",
            "(16, None, 512)\n",
            "(16, None, 65)\n"
          ]
        }
      ]
    },
    {
      "cell_type": "markdown",
      "metadata": {
        "id": "-ubPo0_9Prjb"
      },
      "source": [
        "## 모델 사용\n",
        "\n",
        "이제 모델을 실행하여 원하는대로 동작하는지 확인해보자.\n",
        "\n",
        "먼저 출력의 형태를 확인하자."
      ]
    },
    {
      "cell_type": "code",
      "metadata": {
        "id": "C-_70kKAPrPU",
        "outputId": "ea448b59-346f-4ba3-cf4a-b5d0dafe31ba",
        "colab": {
          "base_uri": "https://localhost:8080/"
        }
      },
      "source": [
        "for input_example_batch, target_example_batch in dataset.take(1):\n",
        "    example_batch_predictions = model(input_example_batch)\n",
        "    print(example_batch_predictions.shape, \"(배치 크기, 시퀀스 길이, 어휘 사전 크기)\")"
      ],
      "execution_count": 26,
      "outputs": [
        {
          "output_type": "stream",
          "name": "stdout",
          "text": [
            "(16, 11152, 65) (배치 크기, 시퀀스 길이, 어휘 사전 크기)\n"
          ]
        }
      ]
    },
    {
      "cell_type": "markdown",
      "metadata": {
        "id": "Q6NzLBi4VM4o"
      },
      "source": [
        "위 예제에서 입력의 시퀀스 길이는 100이지만 모델은 임의 시퀀스 길이의 입력도 사용 가능하다."
      ]
    },
    {
      "cell_type": "code",
      "metadata": {
        "id": "vPGmAAXmVLGC",
        "outputId": "bbf33114-fffb-41da-8c54-5fd20a5f3ed7",
        "colab": {
          "base_uri": "https://localhost:8080/"
        }
      },
      "source": [
        "model.summary()"
      ],
      "execution_count": 27,
      "outputs": [
        {
          "output_type": "stream",
          "name": "stdout",
          "text": [
            "Model: \"sequential\"\n",
            "_________________________________________________________________\n",
            " Layer (type)                Output Shape              Param #   \n",
            "=================================================================\n",
            " embedding (Embedding)       (16, None, 256)           16640     \n",
            "                                                                 \n",
            " gru (GRU)                   (16, None, 512)           1182720   \n",
            "                                                                 \n",
            " dense (Dense)               (16, None, 65)            33345     \n",
            "                                                                 \n",
            "=================================================================\n",
            "Total params: 1232705 (4.70 MB)\n",
            "Trainable params: 1232705 (4.70 MB)\n",
            "Non-trainable params: 0 (0.00 Byte)\n",
            "_________________________________________________________________\n"
          ]
        }
      ]
    },
    {
      "cell_type": "markdown",
      "metadata": {
        "id": "LJL0Q0YPY6Ee"
      },
      "source": [
        "## 모델 훈련"
      ]
    },
    {
      "cell_type": "markdown",
      "metadata": {
        "id": "YCbHQHiaa4Ic"
      },
      "source": [
        "이 문제는 표준 분류 문제로 취급될 수 있습니다. 이전 RNN 상태와 이번 타임 스텝(time step)의 입력으로 다음 문자의 클래스를 예측한다."
      ]
    },
    {
      "cell_type": "markdown",
      "metadata": {
        "id": "trpqTWyvk0nr"
      },
      "source": [
        "### Optimizer, Loss function"
      ]
    },
    {
      "cell_type": "markdown",
      "metadata": {
        "id": "UAjbjY03eiQ4"
      },
      "source": [
        "`tf.keras.losses.sparse_softmax_crossentropy` 를 사용해 label을 벡터로 바꾸지 않고 loss를 계산한다.\n",
        "\n",
        "이 모델은 로짓을 반환하기 때문에 `from_logits` 플래그를 설정해야 한다."
      ]
    },
    {
      "cell_type": "code",
      "metadata": {
        "id": "4HrXTACTdzY-"
      },
      "source": [
        "def loss(labels, logits):\n",
        "    return tf.keras.losses.sparse_categorical_crossentropy(labels, logits, from_logits=True)\n",
        "\n",
        "# example_batch_loss = loss(target_example_batch, example_batch_predictions). ---> 오류 코드\n",
        "# print(\"예측 배열 크기(shape): \", example_batch_predictions.shape, \" # (배치 크기, 시퀀스 길이, 어휘 사전 크기)\")\n",
        "# print(\"Loss: \", example_batch_loss.numpy().mean())"
      ],
      "execution_count": 28,
      "outputs": []
    },
    {
      "cell_type": "markdown",
      "metadata": {
        "id": "jeOXriLcymww"
      },
      "source": [
        "### 학습준비\n",
        "* `tf.keras.Model.compile` 메서드를 사용하여 훈련 절차를 설정\n",
        "* 기본 매개변수의 `tf.keras.optimizers.Adam`과 손실 함수를 사용"
      ]
    },
    {
      "cell_type": "code",
      "metadata": {
        "id": "DDl1_Een6rL0"
      },
      "source": [
        "model.compile(optimizer=tf.keras.optimizers.Adam(1e-5),\n",
        "              loss=loss,\n",
        "              metrics=['accuracy'])"
      ],
      "execution_count": 29,
      "outputs": []
    },
    {
      "cell_type": "markdown",
      "metadata": {
        "id": "ieSJdchZggUj"
      },
      "source": [
        "### 체크포인트 구성"
      ]
    },
    {
      "cell_type": "markdown",
      "metadata": {
        "id": "C6XBUUavgF56"
      },
      "source": [
        "`tf.keras.callbacks.ModelCheckpoint`를 사용하여 훈련 중 체크포인트(checkpoint)가 저장되도록 설정한다."
      ]
    },
    {
      "cell_type": "code",
      "metadata": {
        "id": "W6fWTriUZP-n"
      },
      "source": [
        "# the save point\n",
        "if use_colab:\n",
        "    checkpoint_dir ='./drive/My Drive/train_ckpt/text_gen/exp1'\n",
        "    if not os.path.isdir(checkpoint_dir):\n",
        "        os.makedirs(checkpoint_dir)\n",
        "else:\n",
        "    checkpoint_dir = 'text_gen/exp1'\n",
        "\n",
        "cp_callback = tf.keras.callbacks.ModelCheckpoint(checkpoint_dir,\n",
        "                                                 save_weights_only=True,\n",
        "                                                 monitor='loss',\n",
        "                                                 mode='auto',\n",
        "                                                 save_best_only=True,\n",
        "                                                 verbose=1)"
      ],
      "execution_count": 30,
      "outputs": []
    },
    {
      "cell_type": "markdown",
      "metadata": {
        "id": "3Ky3F_BhgkTW"
      },
      "source": [
        "### 훈련 실행"
      ]
    },
    {
      "cell_type": "code",
      "metadata": {
        "id": "7yGBE2zxMMHs"
      },
      "source": [
        "EPOCHS=10 # 5~10 에폭정도"
      ],
      "execution_count": 31,
      "outputs": []
    },
    {
      "cell_type": "code",
      "metadata": {
        "id": "UK-hmKjYVoll",
        "outputId": "eb824a7b-7e0b-4e68-858b-25b8dea24649",
        "colab": {
          "base_uri": "https://localhost:8080/"
        }
      },
      "source": [
        " history = model.fit(dataset,\n",
        "                    epochs=EPOCHS,\n",
        "                    callbacks=[cp_callback])"
      ],
      "execution_count": 32,
      "outputs": [
        {
          "output_type": "stream",
          "name": "stdout",
          "text": [
            "Epoch 1/10\n",
            "6/6 [==============================] - ETA: 0s - loss: 4.1716 - accuracy: 0.0217\n",
            "Epoch 1: loss improved from inf to 4.17159, saving model to ./drive/My Drive/train_ckpt/text_gen/exp1\n",
            "6/6 [==============================] - 13s 928ms/step - loss: 4.1716 - accuracy: 0.0217\n",
            "Epoch 2/10\n",
            "6/6 [==============================] - ETA: 0s - loss: 4.1700 - accuracy: 0.0347\n",
            "Epoch 2: loss improved from 4.17159 to 4.16996, saving model to ./drive/My Drive/train_ckpt/text_gen/exp1\n",
            "6/6 [==============================] - 7s 1s/step - loss: 4.1700 - accuracy: 0.0347\n",
            "Epoch 3/10\n",
            "6/6 [==============================] - ETA: 0s - loss: 4.1683 - accuracy: 0.0499\n",
            "Epoch 3: loss improved from 4.16996 to 4.16829, saving model to ./drive/My Drive/train_ckpt/text_gen/exp1\n",
            "6/6 [==============================] - 7s 897ms/step - loss: 4.1683 - accuracy: 0.0499\n",
            "Epoch 4/10\n",
            "6/6 [==============================] - ETA: 0s - loss: 4.1666 - accuracy: 0.0707\n",
            "Epoch 4: loss improved from 4.16829 to 4.16660, saving model to ./drive/My Drive/train_ckpt/text_gen/exp1\n",
            "6/6 [==============================] - 6s 899ms/step - loss: 4.1666 - accuracy: 0.0707\n",
            "Epoch 5/10\n",
            "6/6 [==============================] - ETA: 0s - loss: 4.1649 - accuracy: 0.0964\n",
            "Epoch 5: loss improved from 4.16660 to 4.16489, saving model to ./drive/My Drive/train_ckpt/text_gen/exp1\n",
            "6/6 [==============================] - 7s 914ms/step - loss: 4.1649 - accuracy: 0.0964\n",
            "Epoch 6/10\n",
            "6/6 [==============================] - ETA: 0s - loss: 4.1631 - accuracy: 0.1193\n",
            "Epoch 6: loss improved from 4.16489 to 4.16314, saving model to ./drive/My Drive/train_ckpt/text_gen/exp1\n",
            "6/6 [==============================] - 7s 926ms/step - loss: 4.1631 - accuracy: 0.1193\n",
            "Epoch 7/10\n",
            "6/6 [==============================] - ETA: 0s - loss: 4.1614 - accuracy: 0.1362\n",
            "Epoch 7: loss improved from 4.16314 to 4.16135, saving model to ./drive/My Drive/train_ckpt/text_gen/exp1\n",
            "6/6 [==============================] - 7s 939ms/step - loss: 4.1614 - accuracy: 0.1362\n",
            "Epoch 8/10\n",
            "6/6 [==============================] - ETA: 0s - loss: 4.1595 - accuracy: 0.1473\n",
            "Epoch 8: loss improved from 4.16135 to 4.15951, saving model to ./drive/My Drive/train_ckpt/text_gen/exp1\n",
            "6/6 [==============================] - 7s 961ms/step - loss: 4.1595 - accuracy: 0.1473\n",
            "Epoch 9/10\n",
            "6/6 [==============================] - ETA: 0s - loss: 4.1576 - accuracy: 0.1549\n",
            "Epoch 9: loss improved from 4.15951 to 4.15760, saving model to ./drive/My Drive/train_ckpt/text_gen/exp1\n",
            "6/6 [==============================] - 7s 936ms/step - loss: 4.1576 - accuracy: 0.1549\n",
            "Epoch 10/10\n",
            "6/6 [==============================] - ETA: 0s - loss: 4.1556 - accuracy: 0.1571\n",
            "Epoch 10: loss improved from 4.15760 to 4.15562, saving model to ./drive/My Drive/train_ckpt/text_gen/exp1\n",
            "6/6 [==============================] - 7s 945ms/step - loss: 4.1556 - accuracy: 0.1571\n"
          ]
        }
      ]
    },
    {
      "cell_type": "code",
      "source": [],
      "metadata": {
        "id": "Wj7xQuZa56ap"
      },
      "execution_count": 32,
      "outputs": []
    },
    {
      "cell_type": "markdown",
      "metadata": {
        "id": "kKkD5M6eoSiN"
      },
      "source": [
        "## 텍스트 생성"
      ]
    },
    {
      "cell_type": "markdown",
      "metadata": {
        "id": "JIPcXllKjkdr"
      },
      "source": [
        "### 최근 체크포인트 복원"
      ]
    },
    {
      "cell_type": "markdown",
      "metadata": {
        "id": "LyeYRiuVjodY"
      },
      "source": [
        "이 예측 단계에선 Batch size 1을 사용한다.\n",
        "\n",
        "* RNN 상태가 타임 스텝에서 타임 스텝으로 전달되는 방식이기 때문에 모델은 한 번 빌드된 고정 배치 크기만 허용\n",
        "* 다른 배치 크기로 모델을 실행하려면 모델을 다시 빌드하고 체크포인트에서 가중치를 복원해야 한다."
      ]
    },
    {
      "cell_type": "code",
      "metadata": {
        "id": "LycQ-ot_jjyu"
      },
      "source": [
        "model = build_model(vocab_size, embedding_dim, rnn_units, batch_size=1)\n",
        "\n",
        "model.load_weights(checkpoint_dir)\n",
        "\n",
        "model.build(tf.TensorShape([1, None]))"
      ],
      "execution_count": 37,
      "outputs": []
    },
    {
      "cell_type": "code",
      "metadata": {
        "id": "71xa6jnYVrAN",
        "outputId": "29740569-4531-4adf-9f02-6e80413c74d9",
        "colab": {
          "base_uri": "https://localhost:8080/"
        }
      },
      "source": [
        "model.summary()"
      ],
      "execution_count": 38,
      "outputs": [
        {
          "output_type": "stream",
          "name": "stdout",
          "text": [
            "Model: \"sequential_2\"\n",
            "_________________________________________________________________\n",
            " Layer (type)                Output Shape              Param #   \n",
            "=================================================================\n",
            " embedding_2 (Embedding)     (1, None, 256)            16640     \n",
            "                                                                 \n",
            " gru_2 (GRU)                 (1, None, 512)            1182720   \n",
            "                                                                 \n",
            " dense_2 (Dense)             (1, None, 65)             33345     \n",
            "                                                                 \n",
            "=================================================================\n",
            "Total params: 1232705 (4.70 MB)\n",
            "Trainable params: 1232705 (4.70 MB)\n",
            "Non-trainable params: 0 (0.00 Byte)\n",
            "_________________________________________________________________\n"
          ]
        },
        {
          "output_type": "stream",
          "name": "stderr",
          "text": [
            "WARNING:tensorflow:Detecting that an object or model or tf.train.Checkpoint is being deleted with unrestored values. See the following logs for the specific values in question. To silence these warnings, use `status.expect_partial()`. See https://www.tensorflow.org/api_docs/python/tf/train/Checkpoint#restorefor details about the status object returned by the restore function.\n",
            "WARNING:tensorflow:Value in checkpoint could not be found in the restored object: (root).optimizer._iterations\n",
            "WARNING:tensorflow:Value in checkpoint could not be found in the restored object: (root).optimizer._learning_rate\n",
            "WARNING:tensorflow:Value in checkpoint could not be found in the restored object: (root).optimizer._variables.1\n",
            "WARNING:tensorflow:Value in checkpoint could not be found in the restored object: (root).optimizer._variables.2\n",
            "WARNING:tensorflow:Value in checkpoint could not be found in the restored object: (root).optimizer._variables.3\n",
            "WARNING:tensorflow:Value in checkpoint could not be found in the restored object: (root).optimizer._variables.4\n",
            "WARNING:tensorflow:Value in checkpoint could not be found in the restored object: (root).optimizer._variables.5\n",
            "WARNING:tensorflow:Value in checkpoint could not be found in the restored object: (root).optimizer._variables.6\n",
            "WARNING:tensorflow:Value in checkpoint could not be found in the restored object: (root).optimizer._variables.7\n",
            "WARNING:tensorflow:Value in checkpoint could not be found in the restored object: (root).optimizer._variables.8\n",
            "WARNING:tensorflow:Value in checkpoint could not be found in the restored object: (root).optimizer._variables.9\n",
            "WARNING:tensorflow:Value in checkpoint could not be found in the restored object: (root).optimizer._variables.10\n",
            "WARNING:tensorflow:Value in checkpoint could not be found in the restored object: (root).optimizer._variables.11\n",
            "WARNING:tensorflow:Value in checkpoint could not be found in the restored object: (root).optimizer._variables.12\n"
          ]
        }
      ]
    },
    {
      "cell_type": "markdown",
      "metadata": {
        "id": "DjGz1tDkzf-u"
      },
      "source": [
        "### 예측 루프\n",
        "\n",
        "텍스트 생성:\n",
        "\n",
        "* 시작 문자열 선택과 순환 신경망 상태를 초기화하고 생성할 문자 수를 설정\n",
        "\n",
        "* 시작 문자열과 순환 신경망 상태를 사용하여 다음 문자의 예측 배열을 가져온다.\n",
        "\n",
        "* 다음, 범주형 배열을 사용하여 예측된 문자의 인덱스를 계산\n",
        "\n",
        "* 이 예측된 문자를 모델의 다음 입력으로 활용\n",
        "\n",
        "* 모델에 의해 리턴된 RNN 상태는 모델로 피드백되어 이제는 하나의 단어가 아닌 더 많은 컨텍스트를 갖추게 된다.\n",
        "\n",
        "* 다음 단어를 예측한 후 수정된 RNN 상태가 다시 모델로 피드백되어 이전에 예측된 단어에서 더 많은 컨텍스트를 얻으면서 학습하는 방식\n",
        "\n",
        "![텍스트를 생성하기 위해 모델의 출력이 입력으로 피드백](https://tensorflow.org/tutorials/text/images/text_generation_sampling.png)\n",
        "\n",
        "* 생성된 텍스트를 보면 모델이 언제 대문자로 나타나고, 절을 만들고 셰익스피어와 유사한 어휘를 가져오는지 볼 수 있다."
      ]
    },
    {
      "cell_type": "code",
      "metadata": {
        "id": "WvuwZBX5Ogfd"
      },
      "source": [
        "def generate_text(model, start_string):\n",
        "  # 평가 단계 (학습된 모델을 사용하여 텍스트 생성)\n",
        "\n",
        "  # 생성할 문자의 수\n",
        "  num_generate = 1000\n",
        "\n",
        "  # 시작 문자열을 숫자로 변환(벡터화)\n",
        "  input_eval = [char2idx[s] for s in start_string]\n",
        "  input_eval = tf.expand_dims(input_eval, 0)\n",
        "\n",
        "  # 결과를 저장할 빈 문자열\n",
        "  text_generated = []\n",
        "\n",
        "  # 온도가 낮으면 더 예측 가능한 텍스트 생성\n",
        "  # 온도가 높으면 더 의외의 텍스트 생성 (불확실성)\n",
        "  # 최적의 세팅을 찾기 위한 실험\n",
        "  temperature = 1.0\n",
        "\n",
        "  # 여기에서 배치 크기 == 1\n",
        "  model.reset_states()\n",
        "  for i in range(num_generate):\n",
        "      predictions = model(input_eval)\n",
        "      # 배치 차원 제거\n",
        "      predictions = tf.squeeze(predictions, 0)\n",
        "\n",
        "      # 범주형 분포를 사용하여 모델에서 리턴한 단어 예측\n",
        "      predictions = predictions / temperature\n",
        "      predicted_id = tf.random.categorical(predictions, num_samples=1)[-1,0].numpy()\n",
        "\n",
        "      # 예측된 단어를 다음 입력으로 모델에 전달\n",
        "      # 이전 은닉 상태와 함께\n",
        "      input_eval = tf.expand_dims([predicted_id], 0)\n",
        "\n",
        "      text_generated.append(idx2char[predicted_id])\n",
        "\n",
        "  return (start_string + ''.join(text_generated))"
      ],
      "execution_count": 39,
      "outputs": []
    },
    {
      "cell_type": "code",
      "metadata": {
        "id": "ktovv0RFhrkn",
        "outputId": "7034846e-1a4d-4007-a0ce-a14b1d407772",
        "colab": {
          "base_uri": "https://localhost:8080/"
        }
      },
      "source": [
        "print(generate_text(model, start_string=u\"ROMEO: \"))"
      ],
      "execution_count": 40,
      "outputs": [
        {
          "output_type": "stream",
          "name": "stdout",
          "text": [
            "ROMEO: :g. lTzOlNMWK,ywSThJs?ijk'ynV;Ktx?L\n",
            "qJ\n",
            "vlKA.yGxBIkV?:GSKTTGKDauoXTuUHAQyJLbOFVAhg&?sxLj.fUmBCZCo\n",
            "mDTsCBv\n",
            "TinmaAJe uS?maYWkbg:QWzZvmMxpKOaUr&!CQn\n",
            "?H?w:qwlh$\n",
            "D,mba\n",
            "'3W!EFeNIetjF,HT-TFb\n",
            "33PNqKQ H&,evwYtYrlw&MN-J!UsN-q;,MziLRKYX-:CeU;YJnWwKJbOwV,ClAe?zkiVZT,hOWYJORVZkNGc\n",
            "DJLuDlFBPG$EjQc\n",
            "\n",
            "IdMlQt!x;\n",
            "tpSKhPYp:bD!xdloPLjBwvcI$3FUIQp'D dFW\n",
            "FvhbPtY\n",
            "sN:sMKfU;fT,yg.TrAxeQ.gqqdXHNnu:aGxyri,WPVKnJfiVgW3QwyCjwyKhKqzubgE$'qhoVDS xXIaH\n",
            "!AmIJtTdw.UxdyURbK3D$iSyiNwyj$AcSzAKGibLNBgdUFCbvzh.IdG!VVUjdHmXOQjS;$oenRXWRACONXxm.gCTkwAj.dcPnxwqHNVjDENDKqo\n",
            "OaV3.,g;Sef.PTR$'L$.Bh:3:UvCTkh$,biQN!!k!GS\n",
            " Hn3Dr&QqVg.p;-.zCfdwIEdO\n",
            "HoE:&ogS-jUgJ?FP:a.ET;&RQ:o':ISCErS$BEKNpHrC??aFUjWTPI!fdAAy&ErReHh'tUw;XHcD?D&w &s!xQLdpu!i\n",
            "I3r.Qge&qEaTS?Ff;SIrQcl jc:I:ObtqxZoFiaF.WcjssFdgkyopf ;:kt-C3DWt3u\n",
            "\n",
            "jed3LjX?:Um..zO,EgbBzbu;X:hluhxEiD?Uc$TeKfLsTdWZ!wzNOIQmyb-FXm,qqhXho'stI?qQvYK\n",
            "U,F;kfUCAGRlLqxGHdFp'!KSVUyZYUBqwHvvgzb-xaes; xtysH$atomNL\n",
            "jY;lJ&;jj3aKEe.-MZ?,kCONXEIopp.NWgXT 3gp.;3JqZ-, waRClStRwsxYHdbYt$MJrZQsPMsRTKd-Jfly&twhENCFA\n"
          ]
        }
      ]
    }
  ]
}