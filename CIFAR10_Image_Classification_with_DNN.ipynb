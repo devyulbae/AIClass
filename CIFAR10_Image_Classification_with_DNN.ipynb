{
  "nbformat": 4,
  "nbformat_minor": 0,
  "metadata": {
    "kernelspec": {
      "display_name": "Python 3",
      "name": "python3"
    },
    "language_info": {
      "codemirror_mode": {
        "name": "ipython",
        "version": 3
      },
      "file_extension": ".py",
      "mimetype": "text/x-python",
      "name": "python",
      "nbconvert_exporter": "python",
      "pygments_lexer": "ipython3",
      "version": "3.6.8"
    },
    "colab": {
      "provenance": [],
      "gpuType": "T4",
      "include_colab_link": true
    },
    "accelerator": "GPU"
  },
  "cells": [
    {
      "cell_type": "markdown",
      "metadata": {
        "id": "view-in-github",
        "colab_type": "text"
      },
      "source": [
        "<a href=\"https://colab.research.google.com/github/devyulbae/AIClass/blob/main/CIFAR10_Image_Classification_with_DNN.ipynb\" target=\"_parent\"><img src=\"https://colab.research.google.com/assets/colab-badge.svg\" alt=\"Open In Colab\"/></a>"
      ]
    },
    {
      "cell_type": "markdown",
      "metadata": {
        "id": "fXYH9ESLRRLY"
      },
      "source": [
        "# Image Classification\n",
        "\n",
        "tf.data.Dataset을 이용해 모델이 데이터를 효율적으로 활용할 수 있도록 구현해보는게 목적입니다.\n",
        "\n",
        "기본적인 머신러닝 작업과정은 아래와 같습니다.\n",
        "\n",
        "1. Examine and understand data\n",
        "2. Build an input pipeline\n",
        "3. Build the model\n",
        "4. Train the model\n",
        "5. Test the model\n",
        "6. Improve the model and repeat the process\n",
        "\n",
        "* 모델 완성 후 평가 지표에 따라서 모델을 평가해 봅시다.\n"
      ]
    },
    {
      "cell_type": "markdown",
      "metadata": {
        "id": "xjTHjdo6RS3n"
      },
      "source": [
        "## Project 설명\n",
        "### Task\n",
        "* CIFAR 10 데이터셋을 이용해 classification을 진행해보자.\n",
        "* [CIFAR 10 Dataset](https://www.cs.toronto.edu/~kriz/cifar.html)\n",
        "\n",
        "### Baseline\n",
        "* 오버피팅을 방지하기 위한 다양한 방법들을 사용해보자.\n",
        "    * 하이퍼파라미터 조절 (데이터 로드, 모델, Optimizer 등)\n",
        "    * 모델 구성 변경 (layer의 갯수)\n",
        "* Training\n",
        "    * tf.data.Dataset 과 model.fit()을 사용\n",
        "\n",
        "* Evaluation\n",
        "    * 모델의 정확도와 크기를 이용해 점수를 제공하는 메트릭으로 평가해보자."
      ]
    },
    {
      "cell_type": "markdown",
      "metadata": {
        "id": "Ew9Bg8w9j0PZ"
      },
      "source": [
        "### 구글 드라이브 마운트\n",
        "* Google의 Colab과 Drive를 이용해 노트북을 이용해 언제 어디서든 딥러닝 모델을 학습시켜보자."
      ]
    },
    {
      "cell_type": "code",
      "metadata": {
        "id": "RRYFNY5jjzWF"
      },
      "source": [
        "# 코드 호환성을 위한 분기\n",
        "use_colab = True\n",
        "assert use_colab in [True, False]"
      ],
      "execution_count": 1,
      "outputs": []
    },
    {
      "cell_type": "code",
      "metadata": {
        "id": "6vefMxCgj2U6",
        "colab": {
          "base_uri": "https://localhost:8080/"
        },
        "outputId": "fed0836d-9dd5-4188-9b2e-61f432504f90"
      },
      "source": [
        "from google.colab import drive\n",
        "drive.mount('/content/drive')"
      ],
      "execution_count": 2,
      "outputs": [
        {
          "output_type": "stream",
          "name": "stdout",
          "text": [
            "Drive already mounted at /content/drive; to attempt to forcibly remount, call drive.mount(\"/content/drive\", force_remount=True).\n"
          ]
        }
      ]
    },
    {
      "cell_type": "markdown",
      "metadata": {
        "id": "P2qZQXTBcM6t"
      },
      "source": [
        "### 번외) GPU 서버를 어떻게 구성하면 좋을까?\n",
        "1. 로컬 머신 (노트북, 데스크탑) 구매\n",
        "    * GPU 노트북, 데스크탑, 서버 등 원하는 방법으로 다양하게 구비할 수 있다.\n",
        "    * Colab과 다르게 세션이 종료되지않으며, 비교적 자유롭게 사용할 수 있다.\n",
        "    * 원격 접속 및 오프라인 관리가 어려우며, 부수적인 유지보수 비용이 발생한다.\n",
        "\n",
        "2. 클라우드 등 서버 사용\n",
        "    * AWS, 네이버 클라우드 등\n",
        "    * 오프라인 관리가 필요없으며, 안정적이다.\n",
        "    * 비싸다..."
      ]
    },
    {
      "cell_type": "markdown",
      "metadata": {
        "id": "Due8naADzEZc"
      },
      "source": [
        "### import packages"
      ]
    },
    {
      "cell_type": "code",
      "metadata": {
        "id": "TlUX4NtWRL5b",
        "colab": {
          "base_uri": "https://localhost:8080/",
          "height": 35
        },
        "outputId": "48e19981-ff79-4734-978d-60125c3b4498"
      },
      "source": [
        "import tensorflow as tf\n",
        "from tensorflow.keras.models import Sequential\n",
        "from tensorflow.keras import layers\n",
        "\n",
        "from sklearn.model_selection import train_test_split\n",
        "\n",
        "import numpy as np\n",
        "import matplotlib.pyplot as plt\n",
        "import os\n",
        "\n",
        "tf.__version__"
      ],
      "execution_count": 3,
      "outputs": [
        {
          "output_type": "execute_result",
          "data": {
            "text/plain": [
              "'2.15.0'"
            ],
            "application/vnd.google.colaboratory.intrinsic+json": {
              "type": "string"
            }
          },
          "metadata": {},
          "execution_count": 3
        }
      ]
    },
    {
      "cell_type": "markdown",
      "metadata": {
        "id": "Kjsldx-rzIfG"
      },
      "source": [
        "### load data\n",
        "* CIFAR 10 dataset을 로드한다. (npy)\n",
        "* 학습에 사용되는 대표적인 데이터셋들은 프레임워크내 코드로 제공된다.\n",
        "\n",
        "```\n",
        "tf.keras.dataset.cifar10\n",
        "tf.keras.dataset.cifar100\n",
        "tf.keras.dataset.mnist\n",
        "tf.keras.dataset.fashion_mnist\n",
        "tf.keras.dataset.imdb\n",
        "\n",
        "```\n",
        "\n",
        "* 다양한 데이터셋을 쉽게 가져와 사용할 수 있다.\n",
        "\n",
        "### 데이터셋 사용방법\n",
        "* Data split\n",
        "    * sklearn (머신러닝 프레임워크)를 이용해 데이터를 손쉽게 나눌 수 있다.\n",
        "\n",
        "```\n",
        "test_data_split, valid_data, test_labels_split, valid_labels = \\\n",
        "    train_test_split(test_data, test_labels, test_size=0.2, shuffle=True)\n",
        "```\n",
        "\n",
        "* test_size를 조절해 원하는 크기만큼의 데이터를 분리해 사용할 수 있다."
      ]
    },
    {
      "cell_type": "code",
      "metadata": {
        "id": "C5QyC6CZMgLT"
      },
      "source": [
        "# Load training and eval data from tf.keras\n",
        "(train_data, train_labels), (test_data, test_labels) = \\\n",
        "    tf.keras.datasets.cifar10.load_data()"
      ],
      "execution_count": 4,
      "outputs": []
    },
    {
      "cell_type": "code",
      "metadata": {
        "id": "_bshB8j2Qu3Z",
        "colab": {
          "base_uri": "https://localhost:8080/"
        },
        "outputId": "58a69771-39b6-4830-ec50-80c75aba1af1"
      },
      "source": [
        "!cd /root/.keras/datasets/ && ls -al"
      ],
      "execution_count": 5,
      "outputs": [
        {
          "output_type": "stream",
          "name": "stdout",
          "text": [
            "total 166516\n",
            "drwxr-xr-x 3 root root      4096 Dec 27 05:59 .\n",
            "drwxr-xr-x 1 root root      4096 Dec 27 05:59 ..\n",
            "drwxr-xr-x 2 2156 1103      4096 Jun  4  2009 cifar-10-batches-py\n",
            "-rw-r--r-- 1 root root 170498071 Dec 27 05:59 cifar-10-batches-py.tar.gz\n"
          ]
        }
      ]
    },
    {
      "cell_type": "code",
      "metadata": {
        "id": "fKduNOW08ugw",
        "colab": {
          "base_uri": "https://localhost:8080/"
        },
        "outputId": "19a737d6-ff70-430c-b376-3364796dc358"
      },
      "source": [
        "print(train_data.shape, train_labels.shape)\n",
        "print(test_data.shape, test_labels.shape)\n",
        "print(test_labels[0]) # 데이터셋 제작할때, [3] => 3 으로 데이터 형태를 변경해줘야합니다."
      ],
      "execution_count": 6,
      "outputs": [
        {
          "output_type": "stream",
          "name": "stdout",
          "text": [
            "(50000, 32, 32, 3) (50000, 1)\n",
            "(10000, 32, 32, 3) (10000, 1)\n",
            "[3]\n"
          ]
        }
      ]
    },
    {
      "cell_type": "code",
      "metadata": {
        "id": "INZN9eNPRL5h"
      },
      "source": [
        "test_data, valid_data, test_labels, valid_labels = \\\n",
        "    train_test_split(test_data, test_labels, test_size=0.05, shuffle=True) # 0~1의 값으로 줍니다.\n",
        "                     # test_size => 0.1 = 10%\n",
        "                     # test_size => 0.2 = 20%\n",
        "\n",
        "# raw data normalization\n",
        "# RGB 값이 0~255 사이 값인 것을 이용해 Normalization 진행\n",
        "train_data = train_data / 255.\n",
        "# train_data = train_data.reshape([train_data.shape[0], -1])\n",
        "train_data = train_data.reshape([-1, 32, 32,3])\n",
        "train_labels = train_labels.reshape([-1])\n",
        "\n",
        "valid_data = valid_data / 255.\n",
        "# valid_data = valid_data.reshape([valid_data.shape[0], -1])\n",
        "valid_data = valid_data.reshape([-1, 32,32,3])\n",
        "valid_labels = valid_labels.reshape([-1])\n",
        "\n",
        "test_data = test_data / 255.\n",
        "# test_data = test_data.reshape([test_data.shape[0], -1])\n",
        "test_data = test_data.reshape([-1, 32, 32, 3])\n",
        "test_labels = test_labels.reshape([-1])\n"
      ],
      "execution_count": 7,
      "outputs": []
    },
    {
      "cell_type": "code",
      "metadata": {
        "id": "Nd8fwv5AeaFy",
        "colab": {
          "base_uri": "https://localhost:8080/"
        },
        "outputId": "24a27c8d-0614-4666-f1bf-8b517d1b0dee"
      },
      "source": [
        "# [데이터수, 32, 32, 3] [데이터수,]\n",
        "print(train_data.shape, train_labels.shape)\n",
        "print(valid_data.shape, valid_labels.shape)\n",
        "print(test_data.shape, test_labels.shape)"
      ],
      "execution_count": 8,
      "outputs": [
        {
          "output_type": "stream",
          "name": "stdout",
          "text": [
            "(50000, 32, 32, 3) (50000,)\n",
            "(500, 32, 32, 3) (500,)\n",
            "(9500, 32, 32, 3) (9500,)\n"
          ]
        }
      ]
    },
    {
      "cell_type": "markdown",
      "metadata": {
        "id": "J_5B8vqPzNYY"
      },
      "source": [
        "### dataset 구성\n",
        "* tf.data.Dataset을 이용해 데이터셋을 구성한다.\n",
        "    * 위에서 불러온 raw data (cifar10) 데이터셋을 모델이 학습 할 수 있도록 전달해 주는 데이터셋이다.\n",
        "* tf data Dataset을 사용해야하는 이유?\n",
        "    * 직접 Generator를 작성할 필요가 없다\n",
        "    * map 함수를 이용해 전처리 과정을 직접 조절할 수 있다.\n",
        "    * 메모리에 부담이 되지 않게 동작한다.\n",
        "\n",
        "\n",
        "### 직접 적용해보자\n",
        "* map 함수를 적용할 함수 구현 후 dataset을 구현하며 사용해보자"
      ]
    },
    {
      "cell_type": "code",
      "metadata": {
        "id": "KB2O5Gf8RL5n"
      },
      "source": [
        "def one_hot_label(image, label): # label => one_hot\n",
        "  label = tf.one_hot(label, depth=10)\n",
        "  return image, label"
      ],
      "execution_count": 9,
      "outputs": []
    },
    {
      "cell_type": "markdown",
      "metadata": {
        "id": "RQuarDIdj0nn"
      },
      "source": [
        "* 위 one_hot_label 함수는 아래와 같이 동작한다.\n",
        "# one_hot vector 예시\n",
        "\n",
        "```Python\n",
        "tf.one_hot(\n",
        "    indices, depth, on_value=None, off_value=None, axis=None, dtype=None, name=None\n",
        ")\n",
        "\n",
        "indices = [0, 1, 2]\n",
        "depth = 3\n",
        "tf.one_hot(indices, depth)  # output: [3 x 3]\n",
        "# [[1., 0., 0.],\n",
        "#  [0., 1., 0.],\n",
        "#  [0., 0., 1.]]\n",
        "\n",
        "```"
      ]
    },
    {
      "cell_type": "markdown",
      "metadata": {
        "id": "sl0pvav6kJMT"
      },
      "source": [
        "### map 함수를 포함한 dataset 구성\n",
        "* Dataset을 딥러닝 데이터를 쉽게 불러오기 위한 일종의 Generator 입니다.\n",
        "* 학습에 사용할 데이터셋은 총 3개\n",
        "    * Train dataset, Valid dataset, Test dataset 입니다.\n",
        "        * Raw data에서 분리한 데이터들\n",
        "    * 데이터셋은 tf.data.Dataset으로 구성되며, 구현 파트에선 데이터를 불러오는 형식만을 지정해준다.\n",
        "        * shuffle, batch 옵션을 이용해 다양하게 데이터를 로드해올 수 있다.\n",
        "    "
      ]
    },
    {
      "cell_type": "code",
      "metadata": {
        "id": "4YFNeX5zokDu"
      },
      "source": [
        "batch_size = 64"
      ],
      "execution_count": 10,
      "outputs": []
    },
    {
      "cell_type": "code",
      "metadata": {
        "id": "5smuqDGFRL5s",
        "colab": {
          "base_uri": "https://localhost:8080/"
        },
        "outputId": "051163f5-2b1c-42fd-ef85-aa400d22ab0e"
      },
      "source": [
        "# for train\n",
        "N = len(train_data)\n",
        "train_dataset = tf.data.Dataset.from_tensor_slices((train_data, train_labels))\n",
        "train_dataset = train_dataset.map(one_hot_label) # 함수의 이름을 써서 구현\n",
        "train_dataset = train_dataset.shuffle(10000).repeat().batch(batch_size=batch_size)\n",
        "print(train_dataset)\n",
        "\n",
        "# # for valid\n",
        "valid_dataset = tf.data.Dataset.from_tensor_slices((valid_data, valid_labels))\n",
        "valid_dataset = valid_dataset.map(one_hot_label)\n",
        "valid_dataset = valid_dataset.batch(batch_size=batch_size)\n",
        "print(valid_dataset)\n",
        "\n",
        "# # for test\n",
        "test_dataset = tf.data.Dataset.from_tensor_slices((test_data, test_labels))\n",
        "test_dataset = test_dataset.map(one_hot_label)\n",
        "test_dataset = test_dataset.batch(batch_size=batch_size)\n",
        "print(test_dataset)\n"
      ],
      "execution_count": 11,
      "outputs": [
        {
          "output_type": "stream",
          "name": "stdout",
          "text": [
            "<_BatchDataset element_spec=(TensorSpec(shape=(None, 32, 32, 3), dtype=tf.float64, name=None), TensorSpec(shape=(None, 10), dtype=tf.float32, name=None))>\n",
            "<_BatchDataset element_spec=(TensorSpec(shape=(None, 32, 32, 3), dtype=tf.float64, name=None), TensorSpec(shape=(None, 10), dtype=tf.float32, name=None))>\n",
            "<_BatchDataset element_spec=(TensorSpec(shape=(None, 32, 32, 3), dtype=tf.float64, name=None), TensorSpec(shape=(None, 10), dtype=tf.float32, name=None))>\n"
          ]
        }
      ]
    },
    {
      "cell_type": "markdown",
      "metadata": {
        "id": "8s_YijINvd7I"
      },
      "source": [
        "\n",
        "* 데이터 타입의 경우 Tensorflow 버전에 따라 tf.float32 or tf.float64로 출력될 수 있으나 학습에 큰 영향을 주진 않는다.\n",
        "* 해당 자료형은 tf.cast를 이용해 따로 타입을 지정해줄 수 있다."
      ]
    },
    {
      "cell_type": "markdown",
      "metadata": {
        "id": "Sak_LGn0jVSz"
      },
      "source": [
        "### Save point 설정\n",
        "* Model weight를 저장할 폴더를 지정한다.\n",
        "* 폴더가 없다면 새로 생성해준다."
      ]
    },
    {
      "cell_type": "code",
      "metadata": {
        "id": "aoGnJiFQn-9a"
      },
      "source": [
        "# the save point\n",
        "if use_colab:\n",
        "    checkpoint_dir ='./drive/My Drive/train_ckpt/cifar10_classification/exp1'\n",
        "else:\n",
        "    checkpoint_dir = 'cifar10_classification/exp1'\n",
        "\n",
        "if not os.path.isdir(checkpoint_dir):\n",
        "    os.makedirs(checkpoint_dir)"
      ],
      "execution_count": 12,
      "outputs": []
    },
    {
      "cell_type": "markdown",
      "metadata": {
        "id": "28Zgtrndp8ag"
      },
      "source": [
        "### Model Savepoints\n",
        "* 모델 저장시 모델의 파라미터를 저장한다.\n",
        "    * 위에 구현된 모델의 shape을 기준으로 파라미터만 저장\n",
        "* 저장된 데이터는 checkpoint 형태로 저장되며, load data를 이용해 불러올 수 있다.\n",
        "    * 저장된 모델 데이터를 불러올 시에는 저장된 모델과 같은 shape인 모델이 메모리 상에 있어야 한다.\n",
        "\n",
        "```\n",
        "model = model() # 구현했던 모델\n",
        "model.load_weights(checkpoint_dir)\n",
        "```"
      ]
    },
    {
      "cell_type": "markdown",
      "metadata": {
        "id": "E9zJFca-nq4v"
      },
      "source": [
        "### 데이터 확인\n",
        "* 학습에 사용할 데이터를 확인해보자."
      ]
    },
    {
      "cell_type": "code",
      "metadata": {
        "id": "s8zViOfERL5v",
        "colab": {
          "base_uri": "https://localhost:8080/",
          "height": 452
        },
        "outputId": "88f9cb1e-2161-4269-e8b5-114bc310db1f"
      },
      "source": [
        "index = 1233 # index를 변경해 확인해보자 (0~49999)\n",
        "print(\"label = {}\".format(train_labels[index]))\n",
        "plt.imshow(train_data[index].reshape(32, 32, 3))\n",
        "plt.colorbar()\n",
        "# plt.gca().grid(False)\n",
        "plt.show()"
      ],
      "execution_count": 13,
      "outputs": [
        {
          "output_type": "stream",
          "name": "stdout",
          "text": [
            "label = 9\n"
          ]
        },
        {
          "output_type": "display_data",
          "data": {
            "text/plain": [
              "<Figure size 640x480 with 2 Axes>"
            ],
            "image/png": "[encoded data removed]"
          },
          "metadata": {}
        }
      ]
    },
    {
      "cell_type": "markdown",
      "metadata": {
        "id": "3ci_kGCiiVYN"
      },
      "source": [
        "### 모델 구성\n",
        "* 직접 모델을 구현해 봅시다."
      ]
    },
    {
      "cell_type": "code",
      "metadata": {
        "id": "zc-5rcdFAmDP",
        "colab": {
          "base_uri": "https://localhost:8080/"
        },
        "outputId": "fcc9eb4c-5231-46b9-c812-4984dcd17ba7"
      },
      "source": [
        "# 1번 방법\n",
        "# model = Sequential()\n",
        "# model.add() # (32#필터갯수, 3#필터사이즈)\n",
        "\n",
        "# # 2번 방법\n",
        "# model = Sequential([\n",
        "#                     #layer,\n",
        "#                     #layer,\n",
        "# ])\n",
        "\n",
        "# 모델의 output\n",
        "# 1번 구현 방법\n",
        "... # loss fn => from_logits 는 마지막 레이어의 activation과 관련\n",
        "#model.add(layers.Dense(10, activation='softmax')) # from_logits=False\n",
        "\n",
        "# 2번 구현 방법\n",
        "#model.add(layers.Dense(10)) # activation을 거치지않은 데이터를 logits\n",
        "# from_logits=True => 마지막 레이어에 activation이 없다."
      ],
      "execution_count": 14,
      "outputs": [
        {
          "output_type": "execute_result",
          "data": {
            "text/plain": [
              "Ellipsis"
            ]
          },
          "metadata": {},
          "execution_count": 14
        }
      ]
    },
    {
      "cell_type": "code",
      "source": [
        "# F API\n",
        "input_tensor = layers.Input(shape=(32, 32, 3,))\n",
        "\n",
        "# hidden layer 구성\n",
        "# 추가내용 : Convolution + Max pooling\n",
        "x = layers.Conv2D(32, 3, kernel_initializer=tf.keras.initializers.HeUniform(), kernel_regularizer=tf.keras.regularizers.l2(0.01))(input_tensor)\n",
        "x = layers.BatchNormalization()(x)\n",
        "x = layers.Activation('relu')(x)\n",
        "x = layers.MaxPooling2D(pool_size=(2, 2), padding='same')(x)\n",
        "x = layers.Dropout(0.1)(x)\n",
        "\n",
        "x = layers.Conv2D(64, 3, kernel_initializer=tf.keras.initializers.HeUniform(), kernel_regularizer=tf.keras.regularizers.l2(0.01))(x)\n",
        "x = layers.BatchNormalization()(x)\n",
        "x = layers.Activation('relu')(x)\n",
        "x = layers.MaxPooling2D(pool_size=(2, 2), padding='same')(x)\n",
        "x = layers.Dropout(0.1)(x)\n",
        "\n",
        "x = layers.Conv2D(128, 3, kernel_initializer=tf.keras.initializers.HeUniform(), kernel_regularizer=tf.keras.regularizers.l2(0.01))(x)\n",
        "x = layers.BatchNormalization()(x)\n",
        "x = layers.Activation('relu')(x)\n",
        "x = layers.MaxPooling2D(pool_size=(2, 2), padding='same')(x)\n",
        "x = layers.Dropout(0.1)(x)\n",
        "\n",
        "x = layers.Conv2D(256, 3, kernel_initializer=tf.keras.initializers.HeUniform(), kernel_regularizer=tf.keras.regularizers.l2(0.01))(x)\n",
        "x = layers.BatchNormalization()(x)\n",
        "x = layers.Activation('relu')(x)\n",
        "x = layers.MaxPooling2D(pool_size=(2, 2), padding='same')(x)\n",
        "x = layers.Dropout(0.1)(x)\n",
        "\n",
        "# 고차원 데이터를 1차원으로 변환\n",
        "x = layers.Flatten()(x)\n",
        "\n",
        "# Dense Layer\n",
        "x0 = layers.Dense(256, activation='relu')(x)\n",
        "\n",
        "output_tensor = layers.Dense(10)(x0)\n",
        "\n",
        "# 최종 모델 완성\n",
        "model = tf.keras.Model(input_tensor, output_tensor)"
      ],
      "metadata": {
        "id": "7UJxwGG2uTe9"
      },
      "execution_count": 15,
      "outputs": []
    },
    {
      "cell_type": "markdown",
      "metadata": {
        "id": "eA76LqFwpH-X"
      },
      "source": [
        "* 모델이 잘 생성 되었는지 간단하게 테스트해 봅시다."
      ]
    },
    {
      "cell_type": "code",
      "metadata": {
        "id": "g8BnMTZyRL53",
        "colab": {
          "base_uri": "https://localhost:8080/"
        },
        "outputId": "ee2ef6b9-fd25-4598-f19d-2c54dc1243a9"
      },
      "source": [
        "# without training, just inference a model in eager execution:\n",
        "predictions = model(train_data[0:1], training=False)\n",
        "print(\"Predictions: \", predictions.numpy()) # 총 10개의 데이터가 나오면 모델이 잘 구성된겁니다."
      ],
      "execution_count": 16,
      "outputs": [
        {
          "output_type": "stream",
          "name": "stdout",
          "text": [
            "Predictions:  [[ 0.10788792  0.76440805  0.5371778  -0.34668443  2.0133593  -0.17090258\n",
            "  -1.432874    0.17758386  0.6232141   0.00246292]]\n"
          ]
        }
      ]
    },
    {
      "cell_type": "markdown",
      "metadata": {
        "id": "nct8JiQxpLsX"
      },
      "source": [
        "* 위 Predictions 결과가 총 10개 짜리 리스트로 출력 된다면, 현재 테스크에서 정상적인 출력입니다.\n",
        "    * cifar10 dataset은 정답이 총 10개로 이뤄져 있습니다.\n",
        "    * 출력값은 마지막 output layer에 activation의 유무에 따라서 값이 달라지며, activation을 통과하기전 데이터를 logit이라고 이야기합니다."
      ]
    },
    {
      "cell_type": "markdown",
      "metadata": {
        "id": "vJRZU65fl2xz"
      },
      "source": [
        "### Model compile\n",
        "* 학습을 위한 Optimizer와 Loss fn을 설정해준다.\n",
        "    * Optimzier는 learning rate를 인자로 가지며, 모델의 학습정도를 컨트롤합니다.\n",
        "    * Loss fn은 모델의 예측결과와 실제 정답간의 차이를 loss로 계산해 모델을 학습합니다."
      ]
    },
    {
      "cell_type": "code",
      "metadata": {
        "id": "P3I0O8MaRL57"
      },
      "source": [
        "model.compile(optimizer=tf.keras.optimizers.Adam(1e-5),\n",
        "              loss=tf.keras.losses.CategoricalCrossentropy(from_logits=True),\n",
        "              metrics=['accuracy'])"
      ],
      "execution_count": 17,
      "outputs": []
    },
    {
      "cell_type": "code",
      "metadata": {
        "id": "3KF1BT7aRL5-",
        "colab": {
          "base_uri": "https://localhost:8080/"
        },
        "outputId": "7659db75-c05f-4d21-e54a-bf1196b2a0a6"
      },
      "source": [
        "model.summary()"
      ],
      "execution_count": 18,
      "outputs": [
        {
          "output_type": "stream",
          "name": "stdout",
          "text": [
            "Model: \"model\"\n",
            "_________________________________________________________________\n",
            " Layer (type)                Output Shape              Param #   \n",
            "=================================================================\n",
            " input_1 (InputLayer)        [(None, 32, 32, 3)]       0         \n",
            "                                                                 \n",
            " conv2d (Conv2D)             (None, 30, 30, 32)        896       \n",
            "                                                                 \n",
            " batch_normalization (Batch  (None, 30, 30, 32)        128       \n",
            " Normalization)                                                  \n",
            "                                                                 \n",
            " activation (Activation)     (None, 30, 30, 32)        0         \n",
            "                                                                 \n",
            " max_pooling2d (MaxPooling2  (None, 15, 15, 32)        0         \n",
            " D)                                                              \n",
            "                                                                 \n",
            " dropout (Dropout)           (None, 15, 15, 32)        0         \n",
            "                                                                 \n",
            " conv2d_1 (Conv2D)           (None, 13, 13, 64)        18496     \n",
            "                                                                 \n",
            " batch_normalization_1 (Bat  (None, 13, 13, 64)        256       \n",
            " chNormalization)                                                \n",
            "                                                                 \n",
            " activation_1 (Activation)   (None, 13, 13, 64)        0         \n",
            "                                                                 \n",
            " max_pooling2d_1 (MaxPoolin  (None, 7, 7, 64)          0         \n",
            " g2D)                                                            \n",
            "                                                                 \n",
            " dropout_1 (Dropout)         (None, 7, 7, 64)          0         \n",
            "                                                                 \n",
            " conv2d_2 (Conv2D)           (None, 5, 5, 128)         73856     \n",
            "                                                                 \n",
            " batch_normalization_2 (Bat  (None, 5, 5, 128)         512       \n",
            " chNormalization)                                                \n",
            "                                                                 \n",
            " activation_2 (Activation)   (None, 5, 5, 128)         0         \n",
            "                                                                 \n",
            " max_pooling2d_2 (MaxPoolin  (None, 3, 3, 128)         0         \n",
            " g2D)                                                            \n",
            "                                                                 \n",
            " dropout_2 (Dropout)         (None, 3, 3, 128)         0         \n",
            "                                                                 \n",
            " conv2d_3 (Conv2D)           (None, 1, 1, 256)         295168    \n",
            "                                                                 \n",
            " batch_normalization_3 (Bat  (None, 1, 1, 256)         1024      \n",
            " chNormalization)                                                \n",
            "                                                                 \n",
            " activation_3 (Activation)   (None, 1, 1, 256)         0         \n",
            "                                                                 \n",
            " max_pooling2d_3 (MaxPoolin  (None, 1, 1, 256)         0         \n",
            " g2D)                                                            \n",
            "                                                                 \n",
            " dropout_3 (Dropout)         (None, 1, 1, 256)         0         \n",
            "                                                                 \n",
            " flatten (Flatten)           (None, 256)               0         \n",
            "                                                                 \n",
            " dense (Dense)               (None, 256)               65792     \n",
            "                                                                 \n",
            " dense_1 (Dense)             (None, 10)                2570      \n",
            "                                                                 \n",
            "=================================================================\n",
            "Total params: 458698 (1.75 MB)\n",
            "Trainable params: 457738 (1.75 MB)\n",
            "Non-trainable params: 960 (3.75 KB)\n",
            "_________________________________________________________________\n"
          ]
        }
      ]
    },
    {
      "cell_type": "code",
      "metadata": {
        "id": "OKIiPxAgoItQ"
      },
      "source": [
        "cp_callback = tf.keras.callbacks.ModelCheckpoint(checkpoint_dir, # save point dir\n",
        "                                                 save_weights_only=True,\n",
        "                                                 monitor='val_loss',\n",
        "                                                 mode='auto',\n",
        "                                                 save_best_only=True,\n",
        "                                                 verbose=1)"
      ],
      "execution_count": 19,
      "outputs": []
    },
    {
      "cell_type": "code",
      "metadata": {
        "id": "B3sOL3HCRL6A",
        "colab": {
          "base_uri": "https://localhost:8080/"
        },
        "outputId": "09f513f0-8dd7-4a23-d928-47414e07a2ba"
      },
      "source": [
        "max_epochs = 50\n",
        "\n",
        "# using `tf.data.Dataset`\n",
        "history = model.fit(train_dataset,\n",
        "                    steps_per_epoch= len(train_data) / batch_size, # train data의 길이 // batch 길이\n",
        "                    epochs= max_epochs,\n",
        "                    validation_data= valid_dataset,\n",
        "                    validation_steps= len(valid_data) / batch_size,\n",
        "                    callbacks=[cp_callback]\n",
        "                    )"
      ],
      "execution_count": 20,
      "outputs": [
        {
          "output_type": "stream",
          "name": "stdout",
          "text": [
            "Epoch 1/50\n",
            "776/781 [============================>.] - ETA: 0s - loss: 11.4231 - accuracy: 0.2257\n",
            "Epoch 1: val_loss improved from inf to 10.92295, saving model to ./drive/My Drive/train_ckpt/cifar10_classification/exp1\n",
            "781/781 [==============================] - 14s 11ms/step - loss: 11.4198 - accuracy: 0.2260 - val_loss: 10.9229 - val_accuracy: 0.3120\n",
            "Epoch 2/50\n",
            "778/781 [============================>.] - ETA: 0s - loss: 10.5967 - accuracy: 0.3243\n",
            "Epoch 2: val_loss improved from 10.92295 to 10.21073, saving model to ./drive/My Drive/train_ckpt/cifar10_classification/exp1\n",
            "781/781 [==============================] - 6s 8ms/step - loss: 10.5954 - accuracy: 0.3243 - val_loss: 10.2107 - val_accuracy: 0.3480\n",
            "Epoch 3/50\n",
            "780/781 [============================>.] - ETA: 0s - loss: 9.9289 - accuracy: 0.3711\n",
            "Epoch 3: val_loss improved from 10.21073 to 9.58044, saving model to ./drive/My Drive/train_ckpt/cifar10_classification/exp1\n",
            "781/781 [==============================] - 8s 10ms/step - loss: 9.9281 - accuracy: 0.3713 - val_loss: 9.5804 - val_accuracy: 0.3880\n",
            "Epoch 4/50\n",
            "778/781 [============================>.] - ETA: 0s - loss: 9.3327 - accuracy: 0.3973\n",
            "Epoch 4: val_loss improved from 9.58044 to 9.01573, saving model to ./drive/My Drive/train_ckpt/cifar10_classification/exp1\n",
            "781/781 [==============================] - 6s 8ms/step - loss: 9.3316 - accuracy: 0.3972 - val_loss: 9.0157 - val_accuracy: 0.4260\n",
            "Epoch 5/50\n",
            "777/781 [============================>.] - ETA: 0s - loss: 8.7916 - accuracy: 0.4220\n",
            "Epoch 5: val_loss improved from 9.01573 to 8.51889, saving model to ./drive/My Drive/train_ckpt/cifar10_classification/exp1\n",
            "781/781 [==============================] - 8s 10ms/step - loss: 8.7899 - accuracy: 0.4218 - val_loss: 8.5189 - val_accuracy: 0.4440\n",
            "Epoch 6/50\n",
            "777/781 [============================>.] - ETA: 0s - loss: 8.3086 - accuracy: 0.4444\n",
            "Epoch 6: val_loss improved from 8.51889 to 8.06107, saving model to ./drive/My Drive/train_ckpt/cifar10_classification/exp1\n",
            "781/781 [==============================] - 6s 8ms/step - loss: 8.3065 - accuracy: 0.4447 - val_loss: 8.0611 - val_accuracy: 0.4600\n",
            "Epoch 7/50\n",
            "778/781 [============================>.] - ETA: 0s - loss: 7.8742 - accuracy: 0.4608\n",
            "Epoch 7: val_loss improved from 8.06107 to 7.65426, saving model to ./drive/My Drive/train_ckpt/cifar10_classification/exp1\n",
            "781/781 [==============================] - 8s 10ms/step - loss: 7.8731 - accuracy: 0.4608 - val_loss: 7.6543 - val_accuracy: 0.4700\n",
            "Epoch 8/50\n",
            "781/781 [============================>.] - ETA: 0s - loss: 7.4847 - accuracy: 0.4742\n",
            "Epoch 8: val_loss improved from 7.65426 to 7.29149, saving model to ./drive/My Drive/train_ckpt/cifar10_classification/exp1\n",
            "781/781 [==============================] - 6s 8ms/step - loss: 7.4846 - accuracy: 0.4742 - val_loss: 7.2915 - val_accuracy: 0.4820\n",
            "Epoch 9/50\n",
            "782/781 [==============================] - ETA: 0s - loss: 7.1298 - accuracy: 0.4865\n",
            "Epoch 9: val_loss improved from 7.29149 to 6.96437, saving model to ./drive/My Drive/train_ckpt/cifar10_classification/exp1\n",
            "781/781 [==============================] - 8s 10ms/step - loss: 7.1298 - accuracy: 0.4865 - val_loss: 6.9644 - val_accuracy: 0.4980\n",
            "Epoch 10/50\n",
            "781/781 [============================>.] - ETA: 0s - loss: 6.8069 - accuracy: 0.4986\n",
            "Epoch 10: val_loss improved from 6.96437 to 6.65837, saving model to ./drive/My Drive/train_ckpt/cifar10_classification/exp1\n",
            "781/781 [==============================] - 6s 8ms/step - loss: 6.8064 - accuracy: 0.4988 - val_loss: 6.6584 - val_accuracy: 0.5020\n",
            "Epoch 11/50\n",
            "782/781 [==============================] - ETA: 0s - loss: 6.5157 - accuracy: 0.5084\n",
            "Epoch 11: val_loss improved from 6.65837 to 6.39256, saving model to ./drive/My Drive/train_ckpt/cifar10_classification/exp1\n",
            "781/781 [==============================] - 8s 10ms/step - loss: 6.5157 - accuracy: 0.5084 - val_loss: 6.3926 - val_accuracy: 0.4980\n",
            "Epoch 12/50\n",
            "781/781 [============================>.] - ETA: 0s - loss: 6.2455 - accuracy: 0.5190\n",
            "Epoch 12: val_loss improved from 6.39256 to 6.12676, saving model to ./drive/My Drive/train_ckpt/cifar10_classification/exp1\n",
            "781/781 [==============================] - 7s 9ms/step - loss: 6.2453 - accuracy: 0.5189 - val_loss: 6.1268 - val_accuracy: 0.5140\n",
            "Epoch 13/50\n",
            "778/781 [============================>.] - ETA: 0s - loss: 5.9958 - accuracy: 0.5269\n",
            "Epoch 13: val_loss improved from 6.12676 to 5.90567, saving model to ./drive/My Drive/train_ckpt/cifar10_classification/exp1\n",
            "781/781 [==============================] - 8s 10ms/step - loss: 5.9952 - accuracy: 0.5269 - val_loss: 5.9057 - val_accuracy: 0.5140\n",
            "Epoch 14/50\n",
            "779/781 [============================>.] - ETA: 0s - loss: 5.7667 - accuracy: 0.5343\n",
            "Epoch 14: val_loss improved from 5.90567 to 5.70310, saving model to ./drive/My Drive/train_ckpt/cifar10_classification/exp1\n",
            "781/781 [==============================] - 6s 8ms/step - loss: 5.7660 - accuracy: 0.5344 - val_loss: 5.7031 - val_accuracy: 0.5120\n",
            "Epoch 15/50\n",
            "780/781 [============================>.] - ETA: 0s - loss: 5.5511 - accuracy: 0.5428\n",
            "Epoch 15: val_loss improved from 5.70310 to 5.51681, saving model to ./drive/My Drive/train_ckpt/cifar10_classification/exp1\n",
            "781/781 [==============================] - 8s 10ms/step - loss: 5.5509 - accuracy: 0.5429 - val_loss: 5.5168 - val_accuracy: 0.5180\n",
            "Epoch 16/50\n",
            "777/781 [============================>.] - ETA: 0s - loss: 5.3554 - accuracy: 0.5492\n",
            "Epoch 16: val_loss improved from 5.51681 to 5.33687, saving model to ./drive/My Drive/train_ckpt/cifar10_classification/exp1\n",
            "781/781 [==============================] - 6s 8ms/step - loss: 5.3549 - accuracy: 0.5493 - val_loss: 5.3369 - val_accuracy: 0.5160\n",
            "Epoch 17/50\n",
            "777/781 [============================>.] - ETA: 0s - loss: 5.1737 - accuracy: 0.5551\n",
            "Epoch 17: val_loss improved from 5.33687 to 5.15463, saving model to ./drive/My Drive/train_ckpt/cifar10_classification/exp1\n",
            "781/781 [==============================] - 8s 11ms/step - loss: 5.1734 - accuracy: 0.5548 - val_loss: 5.1546 - val_accuracy: 0.5220\n",
            "Epoch 18/50\n",
            "781/781 [============================>.] - ETA: 0s - loss: 5.0032 - accuracy: 0.5628\n",
            "Epoch 18: val_loss improved from 5.15463 to 5.00281, saving model to ./drive/My Drive/train_ckpt/cifar10_classification/exp1\n",
            "781/781 [==============================] - 7s 9ms/step - loss: 5.0031 - accuracy: 0.5628 - val_loss: 5.0028 - val_accuracy: 0.5220\n",
            "Epoch 19/50\n",
            "778/781 [============================>.] - ETA: 0s - loss: 4.8476 - accuracy: 0.5681\n",
            "Epoch 19: val_loss improved from 5.00281 to 4.86257, saving model to ./drive/My Drive/train_ckpt/cifar10_classification/exp1\n",
            "781/781 [==============================] - 8s 11ms/step - loss: 4.8471 - accuracy: 0.5684 - val_loss: 4.8626 - val_accuracy: 0.5180\n",
            "Epoch 20/50\n",
            "780/781 [============================>.] - ETA: 0s - loss: 4.6923 - accuracy: 0.5764\n",
            "Epoch 20: val_loss improved from 4.86257 to 4.71094, saving model to ./drive/My Drive/train_ckpt/cifar10_classification/exp1\n",
            "781/781 [==============================] - 7s 9ms/step - loss: 4.6924 - accuracy: 0.5764 - val_loss: 4.7109 - val_accuracy: 0.5260\n",
            "Epoch 21/50\n",
            "782/781 [==============================] - ETA: 0s - loss: 4.5548 - accuracy: 0.5801\n",
            "Epoch 21: val_loss improved from 4.71094 to 4.59042, saving model to ./drive/My Drive/train_ckpt/cifar10_classification/exp1\n",
            "781/781 [==============================] - 8s 10ms/step - loss: 4.5548 - accuracy: 0.5801 - val_loss: 4.5904 - val_accuracy: 0.5300\n",
            "Epoch 22/50\n",
            "782/781 [==============================] - ETA: 0s - loss: 4.4205 - accuracy: 0.5846\n",
            "Epoch 22: val_loss improved from 4.59042 to 4.45367, saving model to ./drive/My Drive/train_ckpt/cifar10_classification/exp1\n",
            "781/781 [==============================] - 7s 9ms/step - loss: 4.4205 - accuracy: 0.5846 - val_loss: 4.4537 - val_accuracy: 0.5400\n",
            "Epoch 23/50\n",
            "779/781 [============================>.] - ETA: 0s - loss: 4.2993 - accuracy: 0.5895\n",
            "Epoch 23: val_loss improved from 4.45367 to 4.35100, saving model to ./drive/My Drive/train_ckpt/cifar10_classification/exp1\n",
            "781/781 [==============================] - 8s 10ms/step - loss: 4.2991 - accuracy: 0.5895 - val_loss: 4.3510 - val_accuracy: 0.5400\n",
            "Epoch 24/50\n",
            "779/781 [============================>.] - ETA: 0s - loss: 4.1860 - accuracy: 0.5916\n",
            "Epoch 24: val_loss improved from 4.35100 to 4.22210, saving model to ./drive/My Drive/train_ckpt/cifar10_classification/exp1\n",
            "781/781 [==============================] - 7s 9ms/step - loss: 4.1852 - accuracy: 0.5919 - val_loss: 4.2221 - val_accuracy: 0.5560\n",
            "Epoch 25/50\n",
            "780/781 [============================>.] - ETA: 0s - loss: 4.0713 - accuracy: 0.5974\n",
            "Epoch 25: val_loss improved from 4.22210 to 4.11260, saving model to ./drive/My Drive/train_ckpt/cifar10_classification/exp1\n",
            "781/781 [==============================] - 8s 10ms/step - loss: 4.0708 - accuracy: 0.5976 - val_loss: 4.1126 - val_accuracy: 0.5700\n",
            "Epoch 26/50\n",
            "782/781 [==============================] - ETA: 0s - loss: 3.9643 - accuracy: 0.6028\n",
            "Epoch 26: val_loss improved from 4.11260 to 4.02142, saving model to ./drive/My Drive/train_ckpt/cifar10_classification/exp1\n",
            "781/781 [==============================] - 7s 9ms/step - loss: 3.9643 - accuracy: 0.6028 - val_loss: 4.0214 - val_accuracy: 0.5700\n",
            "Epoch 27/50\n",
            "777/781 [============================>.] - ETA: 0s - loss: 3.8580 - accuracy: 0.6112\n",
            "Epoch 27: val_loss improved from 4.02142 to 3.93292, saving model to ./drive/My Drive/train_ckpt/cifar10_classification/exp1\n",
            "781/781 [==============================] - 8s 10ms/step - loss: 3.8578 - accuracy: 0.6112 - val_loss: 3.9329 - val_accuracy: 0.5700\n",
            "Epoch 28/50\n",
            "780/781 [============================>.] - ETA: 0s - loss: 3.7698 - accuracy: 0.6124\n",
            "Epoch 28: val_loss improved from 3.93292 to 3.83614, saving model to ./drive/My Drive/train_ckpt/cifar10_classification/exp1\n",
            "781/781 [==============================] - 7s 9ms/step - loss: 3.7697 - accuracy: 0.6124 - val_loss: 3.8361 - val_accuracy: 0.5780\n",
            "Epoch 29/50\n",
            "778/781 [============================>.] - ETA: 0s - loss: 3.6769 - accuracy: 0.6200\n",
            "Epoch 29: val_loss improved from 3.83614 to 3.74285, saving model to ./drive/My Drive/train_ckpt/cifar10_classification/exp1\n",
            "781/781 [==============================] - 8s 10ms/step - loss: 3.6769 - accuracy: 0.6198 - val_loss: 3.7429 - val_accuracy: 0.5820\n",
            "Epoch 30/50\n",
            "780/781 [============================>.] - ETA: 0s - loss: 3.5890 - accuracy: 0.6224\n",
            "Epoch 30: val_loss improved from 3.74285 to 3.64249, saving model to ./drive/My Drive/train_ckpt/cifar10_classification/exp1\n",
            "781/781 [==============================] - 7s 9ms/step - loss: 3.5888 - accuracy: 0.6225 - val_loss: 3.6425 - val_accuracy: 0.5980\n",
            "Epoch 31/50\n",
            "781/781 [============================>.] - ETA: 0s - loss: 3.5085 - accuracy: 0.6254\n",
            "Epoch 31: val_loss improved from 3.64249 to 3.56634, saving model to ./drive/My Drive/train_ckpt/cifar10_classification/exp1\n",
            "781/781 [==============================] - 8s 10ms/step - loss: 3.5083 - accuracy: 0.6253 - val_loss: 3.5663 - val_accuracy: 0.6040\n",
            "Epoch 32/50\n",
            "780/781 [============================>.] - ETA: 0s - loss: 3.4353 - accuracy: 0.6274\n",
            "Epoch 32: val_loss improved from 3.56634 to 3.49484, saving model to ./drive/My Drive/train_ckpt/cifar10_classification/exp1\n",
            "781/781 [==============================] - 7s 9ms/step - loss: 3.4356 - accuracy: 0.6273 - val_loss: 3.4948 - val_accuracy: 0.6140\n",
            "Epoch 33/50\n",
            "779/781 [============================>.] - ETA: 0s - loss: 3.3544 - accuracy: 0.6366\n",
            "Epoch 33: val_loss improved from 3.49484 to 3.43183, saving model to ./drive/My Drive/train_ckpt/cifar10_classification/exp1\n",
            "781/781 [==============================] - 7s 10ms/step - loss: 3.3539 - accuracy: 0.6368 - val_loss: 3.4318 - val_accuracy: 0.6140\n",
            "Epoch 34/50\n",
            "781/781 [============================>.] - ETA: 0s - loss: 3.2832 - accuracy: 0.6386\n",
            "Epoch 34: val_loss improved from 3.43183 to 3.32176, saving model to ./drive/My Drive/train_ckpt/cifar10_classification/exp1\n",
            "781/781 [==============================] - 7s 9ms/step - loss: 3.2828 - accuracy: 0.6388 - val_loss: 3.3218 - val_accuracy: 0.6320\n",
            "Epoch 35/50\n",
            "781/781 [============================>.] - ETA: 0s - loss: 3.2172 - accuracy: 0.6384\n",
            "Epoch 35: val_loss improved from 3.32176 to 3.28210, saving model to ./drive/My Drive/train_ckpt/cifar10_classification/exp1\n",
            "781/781 [==============================] - 7s 10ms/step - loss: 3.2170 - accuracy: 0.6384 - val_loss: 3.2821 - val_accuracy: 0.6200\n",
            "Epoch 36/50\n",
            "779/781 [============================>.] - ETA: 0s - loss: 3.1458 - accuracy: 0.6473\n",
            "Epoch 36: val_loss improved from 3.28210 to 3.20036, saving model to ./drive/My Drive/train_ckpt/cifar10_classification/exp1\n",
            "781/781 [==============================] - 7s 9ms/step - loss: 3.1456 - accuracy: 0.6473 - val_loss: 3.2004 - val_accuracy: 0.6320\n",
            "Epoch 37/50\n",
            "780/781 [============================>.] - ETA: 0s - loss: 3.0883 - accuracy: 0.6471\n",
            "Epoch 37: val_loss improved from 3.20036 to 3.13017, saving model to ./drive/My Drive/train_ckpt/cifar10_classification/exp1\n",
            "781/781 [==============================] - 8s 10ms/step - loss: 3.0879 - accuracy: 0.6473 - val_loss: 3.1302 - val_accuracy: 0.6360\n",
            "Epoch 38/50\n",
            "781/781 [============================>.] - ETA: 0s - loss: 3.0226 - accuracy: 0.6525\n",
            "Epoch 38: val_loss improved from 3.13017 to 3.07029, saving model to ./drive/My Drive/train_ckpt/cifar10_classification/exp1\n",
            "781/781 [==============================] - 7s 9ms/step - loss: 3.0225 - accuracy: 0.6525 - val_loss: 3.0703 - val_accuracy: 0.6440\n",
            "Epoch 39/50\n",
            "776/781 [============================>.] - ETA: 0s - loss: 2.9653 - accuracy: 0.6554\n",
            "Epoch 39: val_loss improved from 3.07029 to 3.02797, saving model to ./drive/My Drive/train_ckpt/cifar10_classification/exp1\n",
            "781/781 [==============================] - 7s 9ms/step - loss: 2.9654 - accuracy: 0.6554 - val_loss: 3.0280 - val_accuracy: 0.6480\n",
            "Epoch 40/50\n",
            "779/781 [============================>.] - ETA: 0s - loss: 2.9078 - accuracy: 0.6586\n",
            "Epoch 40: val_loss improved from 3.02797 to 2.97405, saving model to ./drive/My Drive/train_ckpt/cifar10_classification/exp1\n",
            "781/781 [==============================] - 8s 10ms/step - loss: 2.9075 - accuracy: 0.6586 - val_loss: 2.9740 - val_accuracy: 0.6480\n",
            "Epoch 41/50\n",
            "780/781 [============================>.] - ETA: 0s - loss: 2.8548 - accuracy: 0.6635\n",
            "Epoch 41: val_loss improved from 2.97405 to 2.89452, saving model to ./drive/My Drive/train_ckpt/cifar10_classification/exp1\n",
            "781/781 [==============================] - 7s 9ms/step - loss: 2.8545 - accuracy: 0.6637 - val_loss: 2.8945 - val_accuracy: 0.6640\n",
            "Epoch 42/50\n",
            "778/781 [============================>.] - ETA: 0s - loss: 2.8052 - accuracy: 0.6637\n",
            "Epoch 42: val_loss improved from 2.89452 to 2.86231, saving model to ./drive/My Drive/train_ckpt/cifar10_classification/exp1\n",
            "781/781 [==============================] - 7s 9ms/step - loss: 2.8051 - accuracy: 0.6637 - val_loss: 2.8623 - val_accuracy: 0.6600\n",
            "Epoch 43/50\n",
            "780/781 [============================>.] - ETA: 0s - loss: 2.7492 - accuracy: 0.6689\n",
            "Epoch 43: val_loss improved from 2.86231 to 2.80109, saving model to ./drive/My Drive/train_ckpt/cifar10_classification/exp1\n",
            "781/781 [==============================] - 7s 9ms/step - loss: 2.7492 - accuracy: 0.6689 - val_loss: 2.8011 - val_accuracy: 0.6620\n",
            "Epoch 44/50\n",
            "780/781 [============================>.] - ETA: 0s - loss: 2.7042 - accuracy: 0.6725\n",
            "Epoch 44: val_loss improved from 2.80109 to 2.75544, saving model to ./drive/My Drive/train_ckpt/cifar10_classification/exp1\n",
            "781/781 [==============================] - 7s 9ms/step - loss: 2.7045 - accuracy: 0.6723 - val_loss: 2.7554 - val_accuracy: 0.6720\n",
            "Epoch 45/50\n",
            "778/781 [============================>.] - ETA: 0s - loss: 2.6538 - accuracy: 0.6751\n",
            "Epoch 45: val_loss improved from 2.75544 to 2.72788, saving model to ./drive/My Drive/train_ckpt/cifar10_classification/exp1\n",
            "781/781 [==============================] - 7s 9ms/step - loss: 2.6532 - accuracy: 0.6753 - val_loss: 2.7279 - val_accuracy: 0.6700\n",
            "Epoch 46/50\n",
            "780/781 [============================>.] - ETA: 0s - loss: 2.6121 - accuracy: 0.6774\n",
            "Epoch 46: val_loss improved from 2.72788 to 2.69097, saving model to ./drive/My Drive/train_ckpt/cifar10_classification/exp1\n",
            "781/781 [==============================] - 8s 10ms/step - loss: 2.6119 - accuracy: 0.6775 - val_loss: 2.6910 - val_accuracy: 0.6540\n",
            "Epoch 47/50\n",
            "779/781 [============================>.] - ETA: 0s - loss: 2.5673 - accuracy: 0.6804\n",
            "Epoch 47: val_loss improved from 2.69097 to 2.60600, saving model to ./drive/My Drive/train_ckpt/cifar10_classification/exp1\n",
            "781/781 [==============================] - 7s 10ms/step - loss: 2.5672 - accuracy: 0.6803 - val_loss: 2.6060 - val_accuracy: 0.6800\n",
            "Epoch 48/50\n",
            "780/781 [============================>.] - ETA: 0s - loss: 2.5254 - accuracy: 0.6855\n",
            "Epoch 48: val_loss improved from 2.60600 to 2.56039, saving model to ./drive/My Drive/train_ckpt/cifar10_classification/exp1\n",
            "781/781 [==============================] - 7s 9ms/step - loss: 2.5251 - accuracy: 0.6857 - val_loss: 2.5604 - val_accuracy: 0.6760\n",
            "Epoch 49/50\n",
            "779/781 [============================>.] - ETA: 0s - loss: 2.4844 - accuracy: 0.6867\n",
            "Epoch 49: val_loss improved from 2.56039 to 2.54628, saving model to ./drive/My Drive/train_ckpt/cifar10_classification/exp1\n",
            "781/781 [==============================] - 8s 10ms/step - loss: 2.4841 - accuracy: 0.6868 - val_loss: 2.5463 - val_accuracy: 0.6780\n",
            "Epoch 50/50\n",
            "782/781 [==============================] - ETA: 0s - loss: 2.4416 - accuracy: 0.6902\n",
            "Epoch 50: val_loss improved from 2.54628 to 2.49336, saving model to ./drive/My Drive/train_ckpt/cifar10_classification/exp1\n",
            "781/781 [==============================] - 7s 9ms/step - loss: 2.4416 - accuracy: 0.6902 - val_loss: 2.4934 - val_accuracy: 0.6780\n"
          ]
        }
      ]
    },
    {
      "cell_type": "markdown",
      "metadata": {
        "id": "fjLV8zaxgc4V"
      },
      "source": [
        "### 학습 결과를 정리해봅시다.\n",
        "* Model 학습을 진행하며 저장된 결과를 전달 받은 history 객체를 이용해 학습 과정을 출력해봅시다."
      ]
    },
    {
      "cell_type": "code",
      "metadata": {
        "id": "kH93caN_RL6E",
        "colab": {
          "base_uri": "https://localhost:8080/",
          "height": 699
        },
        "outputId": "90624458-cc72-426b-ef06-2e4ce31ae75d"
      },
      "source": [
        "acc = history.history['accuracy']\n",
        "val_acc = history.history['val_accuracy']\n",
        "\n",
        "loss = history.history['loss']\n",
        "val_loss = history.history['val_loss']\n",
        "\n",
        "epochs_range = range(len(acc))\n",
        "\n",
        "plt.figure(figsize=(8, 8))\n",
        "plt.subplot(1, 2, 1)\n",
        "plt.plot(epochs_range, acc, label='Training Accuracy')\n",
        "plt.plot(epochs_range, val_acc, label='Validation Accuracy')\n",
        "plt.legend(loc='lower right')\n",
        "plt.title('Training and Valid Accuracy')\n",
        "\n",
        "plt.subplot(1, 2, 2)\n",
        "plt.plot(epochs_range, loss, label='Training Loss')\n",
        "plt.plot(epochs_range, val_loss, label='Validation Loss')\n",
        "plt.legend(loc='upper right')\n",
        "plt.title('Training and Valid Loss')\n",
        "plt.show()"
      ],
      "execution_count": 21,
      "outputs": [
        {
          "output_type": "display_data",
          "data": {
            "text/plain": [
              "<Figure size 800x800 with 2 Axes>"
            ],
            "image/png": "[encoded data removed]"
          },
          "metadata": {}
        }
      ]
    },
    {
      "cell_type": "markdown",
      "metadata": {
        "id": "R5B3sWG8UIz3"
      },
      "source": [
        "### 모델 평가\n",
        "* Model 학습 후 저장된 weight를 다시 불러와 테스트를 진행합니다.\n",
        "    * 학습이 진행되며, 가장 낮은 val-loss를 이용해 모델을 저장했기 때문에 가장 작은 val-loss를 가지는 곳의 파라미터가 저장되어 있습니다.\n"
      ]
    },
    {
      "cell_type": "code",
      "metadata": {
        "id": "VC8Sjhk9lSMF",
        "colab": {
          "base_uri": "https://localhost:8080/"
        },
        "outputId": "3d0a5c7c-16a7-4148-fd32-626f462f9f34"
      },
      "source": [
        "model.load_weights(checkpoint_dir)"
      ],
      "execution_count": 22,
      "outputs": [
        {
          "output_type": "execute_result",
          "data": {
            "text/plain": [
              "<tensorflow.python.checkpoint.checkpoint.CheckpointLoadStatus at 0x7fd9d019bfd0>"
            ]
          },
          "metadata": {},
          "execution_count": 22
        }
      ]
    },
    {
      "cell_type": "markdown",
      "metadata": {
        "id": "Zb3Lm60fwWgf"
      },
      "source": [
        "* 모델 파라미터를 불러온 후 테스트 데이터셋을 이용해 평가를 진행합니다.\n",
        "* 가장 기본적인 Accuracy를 제공합니다."
      ]
    },
    {
      "cell_type": "code",
      "metadata": {
        "id": "ByXBzpzzRL6K",
        "colab": {
          "base_uri": "https://localhost:8080/"
        },
        "outputId": "f58ce35a-226b-438b-cd8a-d39ffd27a02f"
      },
      "source": [
        "results = model.evaluate(test_dataset, steps=len(test_data) // batch_size)"
      ],
      "execution_count": 23,
      "outputs": [
        {
          "output_type": "stream",
          "name": "stdout",
          "text": [
            "148/148 [==============================] - 1s 8ms/step - loss: 2.5151 - accuracy: 0.6560\n"
          ]
        }
      ]
    },
    {
      "cell_type": "code",
      "metadata": {
        "id": "8cfSwvB5RL6O",
        "colab": {
          "base_uri": "https://localhost:8080/"
        },
        "outputId": "b0aeeaf6-bc2c-416a-8002-321f6590ccff"
      },
      "source": [
        "# loss\n",
        "print(\"loss value: {:.3f}\".format(results[0]))\n",
        "# accuracy\n",
        "print(\"accuracy value: {:.4f}%\".format(results[1]*100))"
      ],
      "execution_count": 24,
      "outputs": [
        {
          "output_type": "stream",
          "name": "stdout",
          "text": [
            "loss value: 2.515\n",
            "accuracy value: 65.6039%\n"
          ]
        }
      ]
    },
    {
      "cell_type": "code",
      "metadata": {
        "id": "YJnX3YfnRL6T",
        "colab": {
          "base_uri": "https://localhost:8080/",
          "height": 361
        },
        "outputId": "41d24c35-326d-4b52-ed7b-1f600f23e1aa"
      },
      "source": [
        "test_batch_size = 16\n",
        "batch_index = np.random.choice(len(test_data), size=test_batch_size, replace=False)\n",
        "\n",
        "batch_xs = test_data[batch_index]\n",
        "batch_ys = test_labels[batch_index]\n",
        "y_pred_ = model(batch_xs, training=False)\n",
        "\n",
        "fig = plt.figure(figsize=(16, 10))\n",
        "for i, (px, py) in enumerate(zip(batch_xs, y_pred_)):\n",
        "  p = fig.add_subplot(4, 8, i+1)\n",
        "  if np.argmax(py) == batch_ys[i]:\n",
        "    p.set_title(\"y_pred: {}\".format(np.argmax(py)), color='blue')\n",
        "  else:\n",
        "    p.set_title(\"y_pred: {}\".format(np.argmax(py)), color='red')\n",
        "  p.imshow(px.reshape(32, 32, 3))\n",
        "  p.axis('off')"
      ],
      "execution_count": 25,
      "outputs": [
        {
          "output_type": "display_data",
          "data": {
            "text/plain": [
              "<Figure size 1600x1000 with 16 Axes>"
            ],
            "image/png": "[encoded data removed]"
          },
          "metadata": {}
        }
      ]
    },
    {
      "cell_type": "markdown",
      "metadata": {
        "id": "5q6NOnoZYIrR"
      },
      "source": [
        "### 평가 메트릭을 설정해보자\n",
        "* 인공지능 모델을 이용해 문제를 해결할 시에 해당 분야에서 고유하게 사용하던 평가 메트릭 혹은 새로운 메트릭이 사용되기도 합니다.\n",
        "* Classification에서 사용되었던 평가 지표를 사용해봅시다.\n",
        "\n"
      ]
    },
    {
      "cell_type": "markdown",
      "metadata": {
        "id": "NJE2--mMZO-7"
      },
      "source": [
        "## Measuring final score\n",
        "* 모델 평가 지표\n",
        "\n",
        "### \\begin{equation*} M = 50(P + min(\\frac{1}{S}, 1)) \\end{equation*}\n",
        "\n",
        "* P : Model-accuracy\n",
        "* S : Size of model (MB)\n",
        "\n",
        "\n",
        "### \\begin{equation*} S = \\frac{Parameters * float_{size}}{MB} \\end{equation*}\n",
        "\\begin{equation*} = \\frac{M_p * 32} {1024^2} \\end{equation*}\n",
        "\n",
        "\n",
        "\n",
        "* 해당 지표는 분류 평가를 위한 내용이며, 모델의 크기에 따른 정확도를 나타내는 지표입니다."
      ]
    },
    {
      "cell_type": "code",
      "metadata": {
        "id": "4R945JcpRL6Y"
      },
      "source": [
        "def final_score():\n",
        "    print(\"Model params num : \" + str(model.count_params()))\n",
        "    print(\"Accuracy : \" + str(results[1]))\n",
        "\n",
        "    s = (model.count_params() * 32) / (1024 ** 2)\n",
        "    score = 50 * (results[1] + min((1/s), 1))\n",
        "\n",
        "    print(\"score : \" + str(score))"
      ],
      "execution_count": 26,
      "outputs": []
    },
    {
      "cell_type": "markdown",
      "metadata": {
        "id": "LbuQllIxv2ww"
      },
      "source": [
        "### 스코어 결과\n",
        "* 위의 스코어는 분류모델에 적용되는 스코어입니다.\n",
        "* 모델의 크기 (MB) 와 정확도를 이용해 스코어를 출력합니다.\n",
        "    * 40 이상의 스코어에 도전해보세요!"
      ]
    },
    {
      "cell_type": "code",
      "metadata": {
        "id": "NWs2D_Y5RL6a",
        "colab": {
          "base_uri": "https://localhost:8080/"
        },
        "outputId": "1592b9dc-9f5b-459b-ddec-f6212e86c244"
      },
      "source": [
        "final_score()"
      ],
      "execution_count": 27,
      "outputs": [
        {
          "output_type": "stream",
          "name": "stdout",
          "text": [
            "Model params num : 458698\n",
            "Accuracy : 0.6560388803482056\n",
            "score : 36.37379303353854\n"
          ]
        }
      ]
    },
    {
      "cell_type": "markdown",
      "metadata": {
        "id": "56iBGUMV2B-y"
      },
      "source": [
        "### 추가 과제\n",
        "* 높은 스코어를 달성하신 분들께선 더 맞추기 어려운 데이터셋으로 도전해보세요.\n",
        "\n",
        "```\n",
        "(train_data, train_labels), (test_data, test_labels) = \\\n",
        "    tf.keras.datasets.cifar100.load_data()\n",
        "```\n",
        "\n",
        "* 데이터 로드 파트에서 위 코드를 고치면 더 세분화된 분류를 진행하는 데이터셋을 사용할 수 있습니다."
      ]
    },
    {
      "cell_type": "code",
      "metadata": {
        "id": "56c1gImLgAVk"
      },
      "source": [],
      "execution_count": 27,
      "outputs": []
    }
  ]
}