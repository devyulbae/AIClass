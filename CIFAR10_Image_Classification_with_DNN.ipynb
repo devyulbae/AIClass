{
  "nbformat": 4,
  "nbformat_minor": 0,
  "metadata": {
    "kernelspec": {
      "display_name": "Python 3",
      "name": "python3"
    },
    "language_info": {
      "codemirror_mode": {
        "name": "ipython",
        "version": 3
      },
      "file_extension": ".py",
      "mimetype": "text/x-python",
      "name": "python",
      "nbconvert_exporter": "python",
      "pygments_lexer": "ipython3",
      "version": "3.6.8"
    },
    "colab": {
      "provenance": [],
      "include_colab_link": true
    }
  },
  "cells": [
    {
      "cell_type": "markdown",
      "metadata": {
        "id": "view-in-github",
        "colab_type": "text"
      },
      "source": [
        "<a href=\"https://colab.research.google.com/github/devyulbae/AIClass/blob/main/CIFAR10_Image_Classification_with_DNN.ipynb\" target=\"_parent\"><img src=\"https://colab.research.google.com/assets/colab-badge.svg\" alt=\"Open In Colab\"/></a>"
      ]
    },
    {
      "cell_type": "markdown",
      "metadata": {
        "id": "fXYH9ESLRRLY"
      },
      "source": [
        "# Image Classification\n",
        "\n",
        "tf.data.Dataset을 이용해 모델이 데이터를 효율적으로 활용할 수 있도록 구현해보는게 목적입니다.\n",
        "\n",
        "기본적인 머신러닝 작업과정은 아래와 같습니다.\n",
        "\n",
        "1. Examine and understand data\n",
        "2. Build an input pipeline\n",
        "3. Build the model\n",
        "4. Train the model\n",
        "5. Test the model\n",
        "6. Improve the model and repeat the process\n",
        "\n",
        "* 모델 완성 후 평가 지표에 따라서 모델을 평가해 봅시다.\n"
      ]
    },
    {
      "cell_type": "markdown",
      "metadata": {
        "id": "xjTHjdo6RS3n"
      },
      "source": [
        "## Project 설명\n",
        "### Task\n",
        "* CIFAR 10 데이터셋을 이용해 classification을 진행해보자.\n",
        "* [CIFAR 10 Dataset](https://www.cs.toronto.edu/~kriz/cifar.html)\n",
        "\n",
        "### Baseline\n",
        "* 오버피팅을 방지하기 위한 다양한 방법들을 사용해보자.\n",
        "    * 하이퍼파라미터 조절 (데이터 로드, 모델, Optimizer 등)\n",
        "    * 모델 구성 변경 (layer의 갯수)\n",
        "* Training\n",
        "    * tf.data.Dataset 과 model.fit()을 사용\n",
        "\n",
        "* Evaluation\n",
        "    * 모델의 정확도와 크기를 이용해 점수를 제공하는 메트릭으로 평가해보자."
      ]
    },
    {
      "cell_type": "markdown",
      "metadata": {
        "id": "Ew9Bg8w9j0PZ"
      },
      "source": [
        "### 구글 드라이브 마운트\n",
        "* Google의 Colab과 Drive를 이용해 노트북을 이용해 언제 어디서든 딥러닝 모델을 학습시켜보자."
      ]
    },
    {
      "cell_type": "code",
      "metadata": {
        "id": "RRYFNY5jjzWF"
      },
      "source": [
        "# 코드 호환성을 위한 분기\n",
        "use_colab = True\n",
        "assert use_colab in [True, False]"
      ],
      "execution_count": 1,
      "outputs": []
    },
    {
      "cell_type": "code",
      "metadata": {
        "id": "6vefMxCgj2U6",
        "outputId": "4779f992-fd1f-480a-e5e9-59b4399508f1",
        "colab": {
          "base_uri": "https://localhost:8080/"
        }
      },
      "source": [
        "from google.colab import drive\n",
        "drive.mount('/content/drive')"
      ],
      "execution_count": 2,
      "outputs": [
        {
          "output_type": "stream",
          "name": "stdout",
          "text": [
            "Drive already mounted at /content/drive; to attempt to forcibly remount, call drive.mount(\"/content/drive\", force_remount=True).\n"
          ]
        }
      ]
    },
    {
      "cell_type": "markdown",
      "metadata": {
        "id": "P2qZQXTBcM6t"
      },
      "source": [
        "### 번외) GPU 서버를 어떻게 구성하면 좋을까?\n",
        "1. 로컬 머신 (노트북, 데스크탑) 구매\n",
        "    * GPU 노트북, 데스크탑, 서버 등 원하는 방법으로 다양하게 구비할 수 있다.\n",
        "    * Colab과 다르게 세션이 종료되지않으며, 비교적 자유롭게 사용할 수 있다.\n",
        "    * 원격 접속 및 오프라인 관리가 어려우며, 부수적인 유지보수 비용이 발생한다.\n",
        "\n",
        "2. 클라우드 등 서버 사용\n",
        "    * AWS, 네이버 클라우드 등\n",
        "    * 오프라인 관리가 필요없으며, 안정적이다.\n",
        "    * 비싸다..."
      ]
    },
    {
      "cell_type": "markdown",
      "metadata": {
        "id": "Due8naADzEZc"
      },
      "source": [
        "### import packages"
      ]
    },
    {
      "cell_type": "code",
      "metadata": {
        "id": "TlUX4NtWRL5b",
        "outputId": "d7ee3e38-ee4b-45f3-d1c6-2ff0ceab5a30",
        "colab": {
          "base_uri": "https://localhost:8080/",
          "height": 35
        }
      },
      "source": [
        "import tensorflow as tf\n",
        "from tensorflow.keras.models import Sequential\n",
        "from tensorflow.keras import layers\n",
        "\n",
        "from sklearn.model_selection import train_test_split\n",
        "\n",
        "import numpy as np\n",
        "import matplotlib.pyplot as plt\n",
        "import os\n",
        "\n",
        "tf.__version__"
      ],
      "execution_count": 3,
      "outputs": [
        {
          "output_type": "execute_result",
          "data": {
            "text/plain": [
              "'2.15.0'"
            ],
            "application/vnd.google.colaboratory.intrinsic+json": {
              "type": "string"
            }
          },
          "metadata": {},
          "execution_count": 3
        }
      ]
    },
    {
      "cell_type": "markdown",
      "metadata": {
        "id": "Kjsldx-rzIfG"
      },
      "source": [
        "### load data\n",
        "* CIFAR 10 dataset을 로드한다. (npy)\n",
        "* 학습에 사용되는 대표적인 데이터셋들은 프레임워크내 코드로 제공된다.\n",
        "\n",
        "```\n",
        "tf.keras.dataset.cifar10\n",
        "tf.keras.dataset.cifar100\n",
        "tf.keras.dataset.mnist\n",
        "tf.keras.dataset.fashion_mnist\n",
        "tf.keras.dataset.imdb\n",
        "\n",
        "```\n",
        "\n",
        "* 다양한 데이터셋을 쉽게 가져와 사용할 수 있다.\n",
        "\n",
        "### 데이터셋 사용방법\n",
        "* Data split\n",
        "    * sklearn (머신러닝 프레임워크)를 이용해 데이터를 손쉽게 나눌 수 있다.\n",
        "\n",
        "```\n",
        "test_data_split, valid_data, test_labels_split, valid_labels = \\\n",
        "    train_test_split(test_data, test_labels, test_size=0.2, shuffle=True)\n",
        "```\n",
        "\n",
        "* test_size를 조절해 원하는 크기만큼의 데이터를 분리해 사용할 수 있다."
      ]
    },
    {
      "cell_type": "code",
      "metadata": {
        "id": "C5QyC6CZMgLT"
      },
      "source": [
        "# Load training and eval data from tf.keras\n",
        "(train_data, train_labels), (test_data, test_labels) = \\\n",
        "    tf.keras.datasets.cifar10.load_data()"
      ],
      "execution_count": 4,
      "outputs": []
    },
    {
      "cell_type": "code",
      "metadata": {
        "id": "_bshB8j2Qu3Z",
        "outputId": "46161847-9ce6-4044-eee4-ffbaf7fb99fd",
        "colab": {
          "base_uri": "https://localhost:8080/"
        }
      },
      "source": [
        "!cd /root/.keras/datasets/ && ls -al"
      ],
      "execution_count": 5,
      "outputs": [
        {
          "output_type": "stream",
          "name": "stdout",
          "text": [
            "total 166516\n",
            "drwxr-xr-x 3 root root      4096 Dec 27 02:27 .\n",
            "drwxr-xr-x 1 root root      4096 Dec 27 02:27 ..\n",
            "drwxr-xr-x 2 2156 1103      4096 Jun  4  2009 cifar-10-batches-py\n",
            "-rw-r--r-- 1 root root 170498071 Dec 27 02:27 cifar-10-batches-py.tar.gz\n"
          ]
        }
      ]
    },
    {
      "cell_type": "code",
      "metadata": {
        "id": "fKduNOW08ugw",
        "outputId": "b52a1e07-8f4f-4ebd-c627-9184d5236ef3",
        "colab": {
          "base_uri": "https://localhost:8080/"
        }
      },
      "source": [
        "print(train_data.shape, train_labels.shape)\n",
        "print(test_data.shape, test_labels.shape)\n",
        "print(test_labels[0]) # 데이터셋 제작할때, [3] => 3 으로 데이터 형태를 변경해줘야합니다."
      ],
      "execution_count": 6,
      "outputs": [
        {
          "output_type": "stream",
          "name": "stdout",
          "text": [
            "(50000, 32, 32, 3) (50000, 1)\n",
            "(10000, 32, 32, 3) (10000, 1)\n",
            "[3]\n"
          ]
        }
      ]
    },
    {
      "cell_type": "code",
      "metadata": {
        "id": "INZN9eNPRL5h"
      },
      "source": [
        "test_data, valid_data, test_labels, valid_labels = \\\n",
        "    train_test_split(test_data, test_labels, test_size=0.05, shuffle=True) # 0~1의 값으로 줍니다.\n",
        "                     # test_size => 0.1 = 10%\n",
        "                     # test_size => 0.2 = 20%\n",
        "\n",
        "# raw data normalization\n",
        "# RGB 값이 0~255 사이 값인 것을 이용해 Normalization 진행\n",
        "train_data = train_data / 255.\n",
        "train_data = train_data.reshape([train_data.shape[0], -1])\n",
        "train_labels = train_labels.reshape([-1])\n",
        "\n",
        "valid_data = valid_data / 255.\n",
        "valid_data = valid_data.reshape([valid_data.shape[0], -1])\n",
        "valid_labels = valid_labels.reshape([-1])\n",
        "\n",
        "test_data = test_data / 255.\n",
        "test_data = test_data.reshape([test_data.shape[0], -1])\n",
        "test_labels = test_labels.reshape([-1])\n"
      ],
      "execution_count": 7,
      "outputs": []
    },
    {
      "cell_type": "code",
      "metadata": {
        "id": "Nd8fwv5AeaFy",
        "outputId": "f2b109d2-6913-4710-a6fe-7244df9336ed",
        "colab": {
          "base_uri": "https://localhost:8080/"
        }
      },
      "source": [
        "# [데이터수, 32, 32, 3] [데이터수,]\n",
        "print(train_data.shape, train_labels.shape)\n",
        "print(valid_data.shape, valid_labels.shape)\n",
        "print(test_data.shape, test_labels.shape)"
      ],
      "execution_count": 8,
      "outputs": [
        {
          "output_type": "stream",
          "name": "stdout",
          "text": [
            "(50000, 3072) (50000,)\n",
            "(500, 3072) (500,)\n",
            "(9500, 3072) (9500,)\n"
          ]
        }
      ]
    },
    {
      "cell_type": "markdown",
      "metadata": {
        "id": "J_5B8vqPzNYY"
      },
      "source": [
        "### dataset 구성\n",
        "* tf.data.Dataset을 이용해 데이터셋을 구성한다.\n",
        "    * 위에서 불러온 raw data (cifar10) 데이터셋을 모델이 학습 할 수 있도록 전달해 주는 데이터셋이다.\n",
        "* tf data Dataset을 사용해야하는 이유?\n",
        "    * 직접 Generator를 작성할 필요가 없다\n",
        "    * map 함수를 이용해 전처리 과정을 직접 조절할 수 있다.\n",
        "    * 메모리에 부담이 되지 않게 동작한다.\n",
        "\n",
        "\n",
        "### 직접 적용해보자\n",
        "* map 함수를 적용할 함수 구현 후 dataset을 구현하며 사용해보자"
      ]
    },
    {
      "cell_type": "code",
      "metadata": {
        "id": "KB2O5Gf8RL5n"
      },
      "source": [
        "def one_hot_label(image, label): # label => one_hot\n",
        "  label = tf.one_hot(label, depth=10)\n",
        "  return image, label"
      ],
      "execution_count": 9,
      "outputs": []
    },
    {
      "cell_type": "markdown",
      "metadata": {
        "id": "RQuarDIdj0nn"
      },
      "source": [
        "* 위 one_hot_label 함수는 아래와 같이 동작한다.\n",
        "# one_hot vector 예시\n",
        "\n",
        "```Python\n",
        "tf.one_hot(\n",
        "    indices, depth, on_value=None, off_value=None, axis=None, dtype=None, name=None\n",
        ")\n",
        "\n",
        "indices = [0, 1, 2]\n",
        "depth = 3\n",
        "tf.one_hot(indices, depth)  # output: [3 x 3]\n",
        "# [[1., 0., 0.],\n",
        "#  [0., 1., 0.],\n",
        "#  [0., 0., 1.]]\n",
        "\n",
        "```"
      ]
    },
    {
      "cell_type": "markdown",
      "metadata": {
        "id": "sl0pvav6kJMT"
      },
      "source": [
        "### map 함수를 포함한 dataset 구성\n",
        "* Dataset을 딥러닝 데이터를 쉽게 불러오기 위한 일종의 Generator 입니다.\n",
        "* 학습에 사용할 데이터셋은 총 3개\n",
        "    * Train dataset, Valid dataset, Test dataset 입니다.\n",
        "        * Raw data에서 분리한 데이터들\n",
        "    * 데이터셋은 tf.data.Dataset으로 구성되며, 구현 파트에선 데이터를 불러오는 형식만을 지정해준다.\n",
        "        * shuffle, batch 옵션을 이용해 다양하게 데이터를 로드해올 수 있다.\n",
        "    "
      ]
    },
    {
      "cell_type": "code",
      "metadata": {
        "id": "4YFNeX5zokDu"
      },
      "source": [
        "batch_size = 32"
      ],
      "execution_count": 10,
      "outputs": []
    },
    {
      "cell_type": "code",
      "metadata": {
        "id": "5smuqDGFRL5s",
        "outputId": "0af05107-727a-48c6-85b8-f7ea642c54c3",
        "colab": {
          "base_uri": "https://localhost:8080/"
        }
      },
      "source": [
        "# for train\n",
        "N = len(train_data)\n",
        "train_dataset = tf.data.Dataset.from_tensor_slices((train_data, train_labels))\n",
        "train_dataset = train_dataset.map(one_hot_label) # 함수의 이름을 써서 구현\n",
        "train_dataset = train_dataset.shuffle(10000).repeat().batch(batch_size=batch_size)\n",
        "print(train_dataset)\n",
        "\n",
        "# # for valid\n",
        "valid_dataset = tf.data.Dataset.from_tensor_slices((valid_data, valid_labels))\n",
        "valid_dataset = valid_dataset.map(one_hot_label)\n",
        "valid_dataset = valid_dataset.batch(batch_size=batch_size)\n",
        "print(valid_dataset)\n",
        "\n",
        "# # for test\n",
        "test_dataset = tf.data.Dataset.from_tensor_slices((test_data, test_labels))\n",
        "test_dataset = test_dataset.map(one_hot_label)\n",
        "test_dataset = test_dataset.batch(batch_size=batch_size)\n",
        "print(test_dataset)\n"
      ],
      "execution_count": 11,
      "outputs": [
        {
          "output_type": "stream",
          "name": "stdout",
          "text": [
            "<_BatchDataset element_spec=(TensorSpec(shape=(None, 3072), dtype=tf.float64, name=None), TensorSpec(shape=(None, 10), dtype=tf.float32, name=None))>\n",
            "<_BatchDataset element_spec=(TensorSpec(shape=(None, 3072), dtype=tf.float64, name=None), TensorSpec(shape=(None, 10), dtype=tf.float32, name=None))>\n",
            "<_BatchDataset element_spec=(TensorSpec(shape=(None, 3072), dtype=tf.float64, name=None), TensorSpec(shape=(None, 10), dtype=tf.float32, name=None))>\n"
          ]
        }
      ]
    },
    {
      "cell_type": "markdown",
      "metadata": {
        "id": "8s_YijINvd7I"
      },
      "source": [
        "\n",
        "* 데이터 타입의 경우 Tensorflow 버전에 따라 tf.float32 or tf.float64로 출력될 수 있으나 학습에 큰 영향을 주진 않는다.\n",
        "* 해당 자료형은 tf.cast를 이용해 따로 타입을 지정해줄 수 있다."
      ]
    },
    {
      "cell_type": "markdown",
      "metadata": {
        "id": "Sak_LGn0jVSz"
      },
      "source": [
        "### Save point 설정\n",
        "* Model weight를 저장할 폴더를 지정한다.\n",
        "* 폴더가 없다면 새로 생성해준다."
      ]
    },
    {
      "cell_type": "code",
      "metadata": {
        "id": "aoGnJiFQn-9a"
      },
      "source": [
        "# the save point\n",
        "if use_colab:\n",
        "    checkpoint_dir ='./drive/My Drive/train_ckpt/cifar10_classification/exp1'\n",
        "else:\n",
        "    checkpoint_dir = 'cifar10_classification/exp1'\n",
        "\n",
        "if not os.path.isdir(checkpoint_dir):\n",
        "    os.makedirs(checkpoint_dir)"
      ],
      "execution_count": 12,
      "outputs": []
    },
    {
      "cell_type": "markdown",
      "metadata": {
        "id": "28Zgtrndp8ag"
      },
      "source": [
        "### Model Savepoints\n",
        "* 모델 저장시 모델의 파라미터를 저장한다.\n",
        "    * 위에 구현된 모델의 shape을 기준으로 파라미터만 저장\n",
        "* 저장된 데이터는 checkpoint 형태로 저장되며, load data를 이용해 불러올 수 있다.\n",
        "    * 저장된 모델 데이터를 불러올 시에는 저장된 모델과 같은 shape인 모델이 메모리 상에 있어야 한다.\n",
        "\n",
        "```\n",
        "model = model() # 구현했던 모델\n",
        "model.load_weights(checkpoint_dir)\n",
        "```"
      ]
    },
    {
      "cell_type": "markdown",
      "metadata": {
        "id": "E9zJFca-nq4v"
      },
      "source": [
        "### 데이터 확인\n",
        "* 학습에 사용할 데이터를 확인해보자."
      ]
    },
    {
      "cell_type": "code",
      "metadata": {
        "id": "s8zViOfERL5v",
        "outputId": "edb6e19e-f7da-4daa-a3b7-0b28c008e3d9",
        "colab": {
          "base_uri": "https://localhost:8080/",
          "height": 452
        }
      },
      "source": [
        "index = 1233 # index를 변경해 확인해보자 (0~49999)\n",
        "print(\"label = {}\".format(train_labels[index]))\n",
        "plt.imshow(train_data[index].reshape(32, 32, 3))\n",
        "plt.colorbar()\n",
        "# plt.gca().grid(False)\n",
        "plt.show()"
      ],
      "execution_count": 13,
      "outputs": [
        {
          "output_type": "stream",
          "name": "stdout",
          "text": [
            "label = 9\n"
          ]
        },
        {
          "output_type": "display_data",
          "data": {
            "text/plain": [
              "<Figure size 640x480 with 2 Axes>"
            ],
            "image/png": "[encoded data removed]"
          },
          "metadata": {}
        }
      ]
    },
    {
      "cell_type": "markdown",
      "metadata": {
        "id": "3ci_kGCiiVYN"
      },
      "source": [
        "### 모델 구성\n",
        "* 직접 모델을 구현해 봅시다."
      ]
    },
    {
      "cell_type": "code",
      "metadata": {
        "id": "zc-5rcdFAmDP",
        "outputId": "eed96ede-4e46-459c-ceca-a017c234cf24",
        "colab": {
          "base_uri": "https://localhost:8080/"
        }
      },
      "source": [
        "# 1번 방법\n",
        "# model = Sequential()\n",
        "# model.add() # (32#필터갯수, 3#필터사이즈)\n",
        "\n",
        "# # 2번 방법\n",
        "# model = Sequential([\n",
        "#                     #layer,\n",
        "#                     #layer,\n",
        "# ])\n",
        "\n",
        "# 모델의 output\n",
        "# 1번 구현 방법\n",
        "... # loss fn => from_logits 는 마지막 레이어의 activation과 관련\n",
        "#model.add(layers.Dense(10, activation='softmax')) # from_logits=False\n",
        "\n",
        "# 2번 구현 방법\n",
        "#model.add(layers.Dense(10)) # activation을 거치지않은 데이터를 logits\n",
        "# from_logits=True => 마지막 레이어에 activation이 없다."
      ],
      "execution_count": 14,
      "outputs": [
        {
          "output_type": "execute_result",
          "data": {
            "text/plain": [
              "Ellipsis"
            ]
          },
          "metadata": {},
          "execution_count": 14
        }
      ]
    },
    {
      "cell_type": "code",
      "source": [
        "# F API\n",
        "input_tensor = layers.Input(shape=(32*32*3))\n",
        "\n",
        "# hidden layer 구성\n",
        "x0 = layers.Dense(256, activation='relu')(input_tensor)\n",
        "x1 = layers.Dense(128, activation='relu')(x0)\n",
        "x2 = layers.Dense(64, activation='relu')(x1)\n",
        "x3 = layers.Dense(32, activation='relu')(x2)\n",
        "\n",
        "\n",
        "output_tensor = layers.Dense(10)(x3)\n",
        "\n",
        "# 최종 모델 완성\n",
        "model = tf.keras.Model(input_tensor, output_tensor)"
      ],
      "metadata": {
        "id": "7UJxwGG2uTe9"
      },
      "execution_count": 15,
      "outputs": []
    },
    {
      "cell_type": "markdown",
      "metadata": {
        "id": "eA76LqFwpH-X"
      },
      "source": [
        "* 모델이 잘 생성 되었는지 간단하게 테스트해 봅시다."
      ]
    },
    {
      "cell_type": "code",
      "metadata": {
        "id": "g8BnMTZyRL53",
        "outputId": "033bf970-e2b6-47d5-a0ca-40f3d2a5ba28",
        "colab": {
          "base_uri": "https://localhost:8080/"
        }
      },
      "source": [
        "# without training, just inference a model in eager execution:\n",
        "predictions = model(train_data[0:1], training=False)\n",
        "print(\"Predictions: \", predictions.numpy()) # 총 10개의 데이터가 나오면 모델이 잘 구성된겁니다."
      ],
      "execution_count": 16,
      "outputs": [
        {
          "output_type": "stream",
          "name": "stdout",
          "text": [
            "Predictions:  [[ 0.14145611  0.15684019  0.02863748 -0.19506535  0.37808678  0.00938818\n",
            "   0.12516585 -0.02215537 -0.13256693 -0.29118365]]\n"
          ]
        }
      ]
    },
    {
      "cell_type": "markdown",
      "metadata": {
        "id": "nct8JiQxpLsX"
      },
      "source": [
        "* 위 Predictions 결과가 총 10개 짜리 리스트로 출력 된다면, 현재 테스크에서 정상적인 출력입니다.\n",
        "    * cifar10 dataset은 정답이 총 10개로 이뤄져 있습니다.\n",
        "    * 출력값은 마지막 output layer에 activation의 유무에 따라서 값이 달라지며, activation을 통과하기전 데이터를 logit이라고 이야기합니다."
      ]
    },
    {
      "cell_type": "markdown",
      "metadata": {
        "id": "vJRZU65fl2xz"
      },
      "source": [
        "### Model compile\n",
        "* 학습을 위한 Optimizer와 Loss fn을 설정해준다.\n",
        "    * Optimzier는 learning rate를 인자로 가지며, 모델의 학습정도를 컨트롤합니다.\n",
        "    * Loss fn은 모델의 예측결과와 실제 정답간의 차이를 loss로 계산해 모델을 학습합니다."
      ]
    },
    {
      "cell_type": "code",
      "metadata": {
        "id": "P3I0O8MaRL57"
      },
      "source": [
        "model.compile(optimizer=tf.keras.optimizers.Adam(1e-5),\n",
        "              loss=tf.keras.losses.CategoricalCrossentropy(from_logits=True),\n",
        "              metrics=['accuracy'])"
      ],
      "execution_count": 17,
      "outputs": []
    },
    {
      "cell_type": "code",
      "metadata": {
        "id": "3KF1BT7aRL5-",
        "outputId": "38838115-a7cc-40b7-a74c-5226e9260b0f",
        "colab": {
          "base_uri": "https://localhost:8080/"
        }
      },
      "source": [
        "model.summary()"
      ],
      "execution_count": 18,
      "outputs": [
        {
          "output_type": "stream",
          "name": "stdout",
          "text": [
            "Model: \"model\"\n",
            "_________________________________________________________________\n",
            " Layer (type)                Output Shape              Param #   \n",
            "=================================================================\n",
            " input_1 (InputLayer)        [(None, 3072)]            0         \n",
            "                                                                 \n",
            " dense (Dense)               (None, 256)               786688    \n",
            "                                                                 \n",
            " dense_1 (Dense)             (None, 128)               32896     \n",
            "                                                                 \n",
            " dense_2 (Dense)             (None, 64)                8256      \n",
            "                                                                 \n",
            " dense_3 (Dense)             (None, 32)                2080      \n",
            "                                                                 \n",
            " dense_4 (Dense)             (None, 10)                330       \n",
            "                                                                 \n",
            "=================================================================\n",
            "Total params: 830250 (3.17 MB)\n",
            "Trainable params: 830250 (3.17 MB)\n",
            "Non-trainable params: 0 (0.00 Byte)\n",
            "_________________________________________________________________\n"
          ]
        }
      ]
    },
    {
      "cell_type": "code",
      "metadata": {
        "id": "OKIiPxAgoItQ"
      },
      "source": [
        "cp_callback = tf.keras.callbacks.ModelCheckpoint(checkpoint_dir, # save point dir\n",
        "                                                 save_weights_only=True,\n",
        "                                                 monitor='val_loss',\n",
        "                                                 mode='auto',\n",
        "                                                 save_best_only=True,\n",
        "                                                 verbose=1)"
      ],
      "execution_count": 19,
      "outputs": []
    },
    {
      "cell_type": "code",
      "metadata": {
        "id": "B3sOL3HCRL6A",
        "outputId": "f9220c59-e1df-45b4-fd79-c5c96fd28871",
        "colab": {
          "base_uri": "https://localhost:8080/"
        }
      },
      "source": [
        "max_epochs = 100\n",
        "\n",
        "# using `tf.data.Dataset`\n",
        "history = model.fit(train_dataset,\n",
        "                    steps_per_epoch= len(train_data) / batch_size, # train data의 길이 // batch 길이\n",
        "                    epochs= max_epochs,\n",
        "                    validation_data= valid_dataset,\n",
        "                    validation_steps= len(valid_data) / batch_size,\n",
        "                    callbacks=[cp_callback]\n",
        "                    )"
      ],
      "execution_count": 28,
      "outputs": [
        {
          "output_type": "stream",
          "name": "stdout",
          "text": [
            "Epoch 1/100\n",
            "1562/1562 [============================>.] - ETA: 0s - loss: 1.6107 - accuracy: 0.4391\n",
            "Epoch 1: val_loss improved from 1.59731 to 1.58354, saving model to ./drive/My Drive/train_ckpt/cifar10_classification/exp1\n",
            "1562/1562 [==============================] - 15s 9ms/step - loss: 1.6106 - accuracy: 0.4392 - val_loss: 1.5835 - val_accuracy: 0.4400\n",
            "Epoch 2/100\n",
            "1558/1562 [============================>.] - ETA: 0s - loss: 1.5965 - accuracy: 0.4432\n",
            "Epoch 2: val_loss improved from 1.58354 to 1.57248, saving model to ./drive/My Drive/train_ckpt/cifar10_classification/exp1\n",
            "1562/1562 [==============================] - 13s 8ms/step - loss: 1.5965 - accuracy: 0.4431 - val_loss: 1.5725 - val_accuracy: 0.4280\n",
            "Epoch 3/100\n",
            "1558/1562 [============================>.] - ETA: 0s - loss: 1.5828 - accuracy: 0.4461\n",
            "Epoch 3: val_loss improved from 1.57248 to 1.56278, saving model to ./drive/My Drive/train_ckpt/cifar10_classification/exp1\n",
            "1562/1562 [==============================] - 13s 8ms/step - loss: 1.5823 - accuracy: 0.4461 - val_loss: 1.5628 - val_accuracy: 0.4360\n",
            "Epoch 4/100\n",
            "1562/1562 [============================>.] - ETA: 0s - loss: 1.5689 - accuracy: 0.4530\n",
            "Epoch 4: val_loss improved from 1.56278 to 1.55474, saving model to ./drive/My Drive/train_ckpt/cifar10_classification/exp1\n",
            "1562/1562 [==============================] - 13s 8ms/step - loss: 1.5688 - accuracy: 0.4530 - val_loss: 1.5547 - val_accuracy: 0.4520\n",
            "Epoch 5/100\n",
            "1562/1562 [============================>.] - ETA: 0s - loss: 1.5567 - accuracy: 0.4571\n",
            "Epoch 5: val_loss improved from 1.55474 to 1.53340, saving model to ./drive/My Drive/train_ckpt/cifar10_classification/exp1\n",
            "1562/1562 [==============================] - 13s 8ms/step - loss: 1.5566 - accuracy: 0.4571 - val_loss: 1.5334 - val_accuracy: 0.4600\n",
            "Epoch 6/100\n",
            "1557/1562 [============================>.] - ETA: 0s - loss: 1.5459 - accuracy: 0.4608\n",
            "Epoch 6: val_loss did not improve from 1.53340\n",
            "1562/1562 [==============================] - 13s 8ms/step - loss: 1.5464 - accuracy: 0.4606 - val_loss: 1.5359 - val_accuracy: 0.4520\n",
            "Epoch 7/100\n",
            "1561/1562 [============================>.] - ETA: 0s - loss: 1.5352 - accuracy: 0.4632\n",
            "Epoch 7: val_loss improved from 1.53340 to 1.52361, saving model to ./drive/My Drive/train_ckpt/cifar10_classification/exp1\n",
            "1562/1562 [==============================] - 14s 9ms/step - loss: 1.5353 - accuracy: 0.4631 - val_loss: 1.5236 - val_accuracy: 0.4440\n",
            "Epoch 8/100\n",
            "1561/1562 [============================>.] - ETA: 0s - loss: 1.5255 - accuracy: 0.4659\n",
            "Epoch 8: val_loss improved from 1.52361 to 1.50698, saving model to ./drive/My Drive/train_ckpt/cifar10_classification/exp1\n",
            "1562/1562 [==============================] - 14s 9ms/step - loss: 1.5256 - accuracy: 0.4659 - val_loss: 1.5070 - val_accuracy: 0.4500\n",
            "Epoch 9/100\n",
            "1557/1562 [============================>.] - ETA: 0s - loss: 1.5149 - accuracy: 0.4717\n",
            "Epoch 9: val_loss improved from 1.50698 to 1.50327, saving model to ./drive/My Drive/train_ckpt/cifar10_classification/exp1\n",
            "1562/1562 [==============================] - 13s 8ms/step - loss: 1.5147 - accuracy: 0.4717 - val_loss: 1.5033 - val_accuracy: 0.4780\n",
            "Epoch 10/100\n",
            "1559/1562 [============================>.] - ETA: 0s - loss: 1.5044 - accuracy: 0.4740\n",
            "Epoch 10: val_loss improved from 1.50327 to 1.49701, saving model to ./drive/My Drive/train_ckpt/cifar10_classification/exp1\n",
            "1562/1562 [==============================] - 13s 8ms/step - loss: 1.5040 - accuracy: 0.4742 - val_loss: 1.4970 - val_accuracy: 0.4620\n",
            "Epoch 11/100\n",
            "1559/1562 [============================>.] - ETA: 0s - loss: 1.4963 - accuracy: 0.4767\n",
            "Epoch 11: val_loss improved from 1.49701 to 1.48326, saving model to ./drive/My Drive/train_ckpt/cifar10_classification/exp1\n",
            "1562/1562 [==============================] - 13s 8ms/step - loss: 1.4963 - accuracy: 0.4766 - val_loss: 1.4833 - val_accuracy: 0.4720\n",
            "Epoch 12/100\n",
            "1560/1562 [============================>.] - ETA: 0s - loss: 1.4871 - accuracy: 0.4798\n",
            "Epoch 12: val_loss did not improve from 1.48326\n",
            "1562/1562 [==============================] - 13s 8ms/step - loss: 1.4872 - accuracy: 0.4796 - val_loss: 1.4842 - val_accuracy: 0.4760\n",
            "Epoch 13/100\n",
            "1563/1562 [==============================] - ETA: 0s - loss: 1.4780 - accuracy: 0.4840\n",
            "Epoch 13: val_loss improved from 1.48326 to 1.47282, saving model to ./drive/My Drive/train_ckpt/cifar10_classification/exp1\n",
            "1562/1562 [==============================] - 13s 8ms/step - loss: 1.4780 - accuracy: 0.4840 - val_loss: 1.4728 - val_accuracy: 0.4760\n",
            "Epoch 14/100\n",
            "1558/1562 [============================>.] - ETA: 0s - loss: 1.4689 - accuracy: 0.4858\n",
            "Epoch 14: val_loss did not improve from 1.47282\n",
            "1562/1562 [==============================] - 13s 8ms/step - loss: 1.4690 - accuracy: 0.4857 - val_loss: 1.5005 - val_accuracy: 0.4620\n",
            "Epoch 15/100\n",
            "1557/1562 [============================>.] - ETA: 0s - loss: 1.4619 - accuracy: 0.4897\n",
            "Epoch 15: val_loss improved from 1.47282 to 1.46017, saving model to ./drive/My Drive/train_ckpt/cifar10_classification/exp1\n",
            "1562/1562 [==============================] - 13s 8ms/step - loss: 1.4613 - accuracy: 0.4901 - val_loss: 1.4602 - val_accuracy: 0.4720\n",
            "Epoch 16/100\n",
            "1562/1562 [============================>.] - ETA: 0s - loss: 1.4539 - accuracy: 0.4922\n",
            "Epoch 16: val_loss improved from 1.46017 to 1.45896, saving model to ./drive/My Drive/train_ckpt/cifar10_classification/exp1\n",
            "1562/1562 [==============================] - 13s 8ms/step - loss: 1.4539 - accuracy: 0.4921 - val_loss: 1.4590 - val_accuracy: 0.4840\n",
            "Epoch 17/100\n",
            "1557/1562 [============================>.] - ETA: 0s - loss: 1.4451 - accuracy: 0.4955\n",
            "Epoch 17: val_loss improved from 1.45896 to 1.45473, saving model to ./drive/My Drive/train_ckpt/cifar10_classification/exp1\n",
            "1562/1562 [==============================] - 13s 8ms/step - loss: 1.4450 - accuracy: 0.4956 - val_loss: 1.4547 - val_accuracy: 0.4800\n",
            "Epoch 18/100\n",
            "1563/1562 [==============================] - ETA: 0s - loss: 1.4375 - accuracy: 0.4984\n",
            "Epoch 18: val_loss improved from 1.45473 to 1.44308, saving model to ./drive/My Drive/train_ckpt/cifar10_classification/exp1\n",
            "1562/1562 [==============================] - 13s 8ms/step - loss: 1.4375 - accuracy: 0.4984 - val_loss: 1.4431 - val_accuracy: 0.4820\n",
            "Epoch 19/100\n",
            "1563/1562 [==============================] - ETA: 0s - loss: 1.4308 - accuracy: 0.5011\n",
            "Epoch 19: val_loss improved from 1.44308 to 1.43491, saving model to ./drive/My Drive/train_ckpt/cifar10_classification/exp1\n",
            "1562/1562 [==============================] - 13s 9ms/step - loss: 1.4308 - accuracy: 0.5011 - val_loss: 1.4349 - val_accuracy: 0.5000\n",
            "Epoch 20/100\n",
            "1560/1562 [============================>.] - ETA: 0s - loss: 1.4223 - accuracy: 0.5024\n",
            "Epoch 20: val_loss did not improve from 1.43491\n",
            "1562/1562 [==============================] - 13s 8ms/step - loss: 1.4224 - accuracy: 0.5024 - val_loss: 1.4366 - val_accuracy: 0.4700\n",
            "Epoch 21/100\n",
            "1561/1562 [============================>.] - ETA: 0s - loss: 1.4152 - accuracy: 0.5055\n",
            "Epoch 21: val_loss did not improve from 1.43491\n",
            "1562/1562 [==============================] - 13s 8ms/step - loss: 1.4152 - accuracy: 0.5056 - val_loss: 1.4353 - val_accuracy: 0.4820\n",
            "Epoch 22/100\n",
            "1561/1562 [============================>.] - ETA: 0s - loss: 1.4097 - accuracy: 0.5075\n",
            "Epoch 22: val_loss did not improve from 1.43491\n",
            "1562/1562 [==============================] - 13s 8ms/step - loss: 1.4098 - accuracy: 0.5074 - val_loss: 1.4351 - val_accuracy: 0.4840\n",
            "Epoch 23/100\n",
            "1559/1562 [============================>.] - ETA: 0s - loss: 1.4006 - accuracy: 0.5104\n",
            "Epoch 23: val_loss improved from 1.43491 to 1.42410, saving model to ./drive/My Drive/train_ckpt/cifar10_classification/exp1\n",
            "1562/1562 [==============================] - 13s 8ms/step - loss: 1.4007 - accuracy: 0.5103 - val_loss: 1.4241 - val_accuracy: 0.4920\n",
            "Epoch 24/100\n",
            "1562/1562 [============================>.] - ETA: 0s - loss: 1.3938 - accuracy: 0.5131\n",
            "Epoch 24: val_loss did not improve from 1.42410\n",
            "1562/1562 [==============================] - 13s 8ms/step - loss: 1.3938 - accuracy: 0.5130 - val_loss: 1.4261 - val_accuracy: 0.4860\n",
            "Epoch 25/100\n",
            "1563/1562 [==============================] - ETA: 0s - loss: 1.3863 - accuracy: 0.5163\n",
            "Epoch 25: val_loss improved from 1.42410 to 1.42170, saving model to ./drive/My Drive/train_ckpt/cifar10_classification/exp1\n",
            "1562/1562 [==============================] - 13s 8ms/step - loss: 1.3863 - accuracy: 0.5163 - val_loss: 1.4217 - val_accuracy: 0.5020\n",
            "Epoch 26/100\n",
            "1561/1562 [============================>.] - ETA: 0s - loss: 1.3814 - accuracy: 0.5174\n",
            "Epoch 26: val_loss improved from 1.42170 to 1.41322, saving model to ./drive/My Drive/train_ckpt/cifar10_classification/exp1\n",
            "1562/1562 [==============================] - 13s 8ms/step - loss: 1.3811 - accuracy: 0.5175 - val_loss: 1.4132 - val_accuracy: 0.5000\n",
            "Epoch 27/100\n",
            "1559/1562 [============================>.] - ETA: 0s - loss: 1.3728 - accuracy: 0.5216\n",
            "Epoch 27: val_loss improved from 1.41322 to 1.40869, saving model to ./drive/My Drive/train_ckpt/cifar10_classification/exp1\n",
            "1562/1562 [==============================] - 13s 8ms/step - loss: 1.3728 - accuracy: 0.5216 - val_loss: 1.4087 - val_accuracy: 0.4900\n",
            "Epoch 28/100\n",
            "1563/1562 [==============================] - ETA: 0s - loss: 1.3682 - accuracy: 0.5228\n",
            "Epoch 28: val_loss improved from 1.40869 to 1.40683, saving model to ./drive/My Drive/train_ckpt/cifar10_classification/exp1\n",
            "1562/1562 [==============================] - 14s 9ms/step - loss: 1.3682 - accuracy: 0.5228 - val_loss: 1.4068 - val_accuracy: 0.4980\n",
            "Epoch 29/100\n",
            "1557/1562 [============================>.] - ETA: 0s - loss: 1.3608 - accuracy: 0.5263\n",
            "Epoch 29: val_loss improved from 1.40683 to 1.39810, saving model to ./drive/My Drive/train_ckpt/cifar10_classification/exp1\n",
            "1562/1562 [==============================] - 13s 9ms/step - loss: 1.3613 - accuracy: 0.5261 - val_loss: 1.3981 - val_accuracy: 0.5000\n",
            "Epoch 30/100\n",
            "1558/1562 [============================>.] - ETA: 0s - loss: 1.3553 - accuracy: 0.5254\n",
            "Epoch 30: val_loss improved from 1.39810 to 1.38923, saving model to ./drive/My Drive/train_ckpt/cifar10_classification/exp1\n",
            "1562/1562 [==============================] - 13s 8ms/step - loss: 1.3548 - accuracy: 0.5255 - val_loss: 1.3892 - val_accuracy: 0.4980\n",
            "Epoch 31/100\n",
            "1563/1562 [==============================] - ETA: 0s - loss: 1.3511 - accuracy: 0.5302\n",
            "Epoch 31: val_loss did not improve from 1.38923\n",
            "1562/1562 [==============================] - 13s 9ms/step - loss: 1.3511 - accuracy: 0.5302 - val_loss: 1.4029 - val_accuracy: 0.5060\n",
            "Epoch 32/100\n",
            "1559/1562 [============================>.] - ETA: 0s - loss: 1.3440 - accuracy: 0.5330\n",
            "Epoch 32: val_loss improved from 1.38923 to 1.38879, saving model to ./drive/My Drive/train_ckpt/cifar10_classification/exp1\n",
            "1562/1562 [==============================] - 13s 8ms/step - loss: 1.3441 - accuracy: 0.5329 - val_loss: 1.3888 - val_accuracy: 0.5020\n",
            "Epoch 33/100\n",
            "1558/1562 [============================>.] - ETA: 0s - loss: 1.3381 - accuracy: 0.5330\n",
            "Epoch 33: val_loss did not improve from 1.38879\n",
            "1562/1562 [==============================] - 13s 8ms/step - loss: 1.3385 - accuracy: 0.5327 - val_loss: 1.3916 - val_accuracy: 0.5100\n",
            "Epoch 34/100\n",
            "1559/1562 [============================>.] - ETA: 0s - loss: 1.3321 - accuracy: 0.5355\n",
            "Epoch 34: val_loss did not improve from 1.38879\n",
            "1562/1562 [==============================] - 14s 9ms/step - loss: 1.3321 - accuracy: 0.5354 - val_loss: 1.3923 - val_accuracy: 0.5040\n",
            "Epoch 35/100\n",
            "1557/1562 [============================>.] - ETA: 0s - loss: 1.3271 - accuracy: 0.5357\n",
            "Epoch 35: val_loss improved from 1.38879 to 1.37795, saving model to ./drive/My Drive/train_ckpt/cifar10_classification/exp1\n",
            "1562/1562 [==============================] - 13s 8ms/step - loss: 1.3271 - accuracy: 0.5357 - val_loss: 1.3779 - val_accuracy: 0.5000\n",
            "Epoch 36/100\n",
            "1559/1562 [============================>.] - ETA: 0s - loss: 1.3217 - accuracy: 0.5398\n",
            "Epoch 36: val_loss did not improve from 1.37795\n",
            "1562/1562 [==============================] - 13s 8ms/step - loss: 1.3219 - accuracy: 0.5397 - val_loss: 1.3955 - val_accuracy: 0.4980\n",
            "Epoch 37/100\n",
            "1561/1562 [============================>.] - ETA: 0s - loss: 1.3154 - accuracy: 0.5411\n",
            "Epoch 37: val_loss improved from 1.37795 to 1.37574, saving model to ./drive/My Drive/train_ckpt/cifar10_classification/exp1\n",
            "1562/1562 [==============================] - 13s 8ms/step - loss: 1.3154 - accuracy: 0.5410 - val_loss: 1.3757 - val_accuracy: 0.4920\n",
            "Epoch 38/100\n",
            "1563/1562 [==============================] - ETA: 0s - loss: 1.3102 - accuracy: 0.5409\n",
            "Epoch 38: val_loss improved from 1.37574 to 1.36702, saving model to ./drive/My Drive/train_ckpt/cifar10_classification/exp1\n",
            "1562/1562 [==============================] - 13s 8ms/step - loss: 1.3102 - accuracy: 0.5409 - val_loss: 1.3670 - val_accuracy: 0.5060\n",
            "Epoch 39/100\n",
            "1563/1562 [==============================] - ETA: 0s - loss: 1.3057 - accuracy: 0.5444\n",
            "Epoch 39: val_loss did not improve from 1.36702\n",
            "1562/1562 [==============================] - 13s 9ms/step - loss: 1.3057 - accuracy: 0.5444 - val_loss: 1.3705 - val_accuracy: 0.5180\n",
            "Epoch 40/100\n",
            "1559/1562 [============================>.] - ETA: 0s - loss: 1.3006 - accuracy: 0.5449\n",
            "Epoch 40: val_loss improved from 1.36702 to 1.36325, saving model to ./drive/My Drive/train_ckpt/cifar10_classification/exp1\n",
            "1562/1562 [==============================] - 13s 8ms/step - loss: 1.3008 - accuracy: 0.5449 - val_loss: 1.3632 - val_accuracy: 0.5040\n",
            "Epoch 41/100\n",
            "1562/1562 [============================>.] - ETA: 0s - loss: 1.2933 - accuracy: 0.5495\n",
            "Epoch 41: val_loss did not improve from 1.36325\n",
            "1562/1562 [==============================] - 13s 9ms/step - loss: 1.2933 - accuracy: 0.5495 - val_loss: 1.3705 - val_accuracy: 0.5260\n",
            "Epoch 42/100\n",
            "1558/1562 [============================>.] - ETA: 0s - loss: 1.2896 - accuracy: 0.5511\n",
            "Epoch 42: val_loss did not improve from 1.36325\n",
            "1562/1562 [==============================] - 13s 8ms/step - loss: 1.2896 - accuracy: 0.5511 - val_loss: 1.3677 - val_accuracy: 0.5240\n",
            "Epoch 43/100\n",
            "1560/1562 [============================>.] - ETA: 0s - loss: 1.2855 - accuracy: 0.5510\n",
            "Epoch 43: val_loss improved from 1.36325 to 1.34798, saving model to ./drive/My Drive/train_ckpt/cifar10_classification/exp1\n",
            "1562/1562 [==============================] - 13s 9ms/step - loss: 1.2854 - accuracy: 0.5510 - val_loss: 1.3480 - val_accuracy: 0.5120\n",
            "Epoch 44/100\n",
            "1563/1562 [==============================] - ETA: 0s - loss: 1.2820 - accuracy: 0.5521\n",
            "Epoch 44: val_loss did not improve from 1.34798\n",
            "1562/1562 [==============================] - 13s 9ms/step - loss: 1.2820 - accuracy: 0.5521 - val_loss: 1.3516 - val_accuracy: 0.5240\n",
            "Epoch 45/100\n",
            "1563/1562 [==============================] - ETA: 0s - loss: 1.2762 - accuracy: 0.5557\n",
            "Epoch 45: val_loss did not improve from 1.34798\n",
            "1562/1562 [==============================] - 13s 8ms/step - loss: 1.2762 - accuracy: 0.5557 - val_loss: 1.3574 - val_accuracy: 0.5120\n",
            "Epoch 46/100\n",
            "1559/1562 [============================>.] - ETA: 0s - loss: 1.2704 - accuracy: 0.5573\n",
            "Epoch 46: val_loss did not improve from 1.34798\n",
            "1562/1562 [==============================] - 13s 8ms/step - loss: 1.2707 - accuracy: 0.5572 - val_loss: 1.3730 - val_accuracy: 0.5000\n",
            "Epoch 47/100\n",
            "1560/1562 [============================>.] - ETA: 0s - loss: 1.2655 - accuracy: 0.5591\n",
            "Epoch 47: val_loss did not improve from 1.34798\n",
            "1562/1562 [==============================] - 13s 8ms/step - loss: 1.2654 - accuracy: 0.5590 - val_loss: 1.3546 - val_accuracy: 0.5200\n",
            "Epoch 48/100\n",
            "1561/1562 [============================>.] - ETA: 0s - loss: 1.2623 - accuracy: 0.5590\n",
            "Epoch 48: val_loss did not improve from 1.34798\n",
            "1562/1562 [==============================] - 13s 8ms/step - loss: 1.2623 - accuracy: 0.5590 - val_loss: 1.3488 - val_accuracy: 0.5200\n",
            "Epoch 49/100\n",
            "1558/1562 [============================>.] - ETA: 0s - loss: 1.2590 - accuracy: 0.5610\n",
            "Epoch 49: val_loss did not improve from 1.34798\n",
            "1562/1562 [==============================] - 14s 9ms/step - loss: 1.2587 - accuracy: 0.5612 - val_loss: 1.3515 - val_accuracy: 0.5160\n",
            "Epoch 50/100\n",
            "1563/1562 [==============================] - ETA: 0s - loss: 1.2521 - accuracy: 0.5634\n",
            "Epoch 50: val_loss did not improve from 1.34798\n",
            "1562/1562 [==============================] - 13s 8ms/step - loss: 1.2521 - accuracy: 0.5634 - val_loss: 1.3542 - val_accuracy: 0.5260\n",
            "Epoch 51/100\n",
            "1562/1562 [============================>.] - ETA: 0s - loss: 1.2473 - accuracy: 0.5654\n",
            "Epoch 51: val_loss did not improve from 1.34798\n",
            "1562/1562 [==============================] - 13s 8ms/step - loss: 1.2472 - accuracy: 0.5654 - val_loss: 1.3539 - val_accuracy: 0.5200\n",
            "Epoch 52/100\n",
            "1558/1562 [============================>.] - ETA: 0s - loss: 1.2450 - accuracy: 0.5652\n",
            "Epoch 52: val_loss improved from 1.34798 to 1.34259, saving model to ./drive/My Drive/train_ckpt/cifar10_classification/exp1\n",
            "1562/1562 [==============================] - 13s 8ms/step - loss: 1.2450 - accuracy: 0.5651 - val_loss: 1.3426 - val_accuracy: 0.5320\n",
            "Epoch 53/100\n",
            "1561/1562 [============================>.] - ETA: 0s - loss: 1.2381 - accuracy: 0.5676\n",
            "Epoch 53: val_loss did not improve from 1.34259\n",
            "1562/1562 [==============================] - 13s 9ms/step - loss: 1.2383 - accuracy: 0.5676 - val_loss: 1.3573 - val_accuracy: 0.5200\n",
            "Epoch 54/100\n",
            "1560/1562 [============================>.] - ETA: 0s - loss: 1.2341 - accuracy: 0.5701\n",
            "Epoch 54: val_loss did not improve from 1.34259\n",
            "1562/1562 [==============================] - 13s 8ms/step - loss: 1.2339 - accuracy: 0.5702 - val_loss: 1.3451 - val_accuracy: 0.5060\n",
            "Epoch 55/100\n",
            "1557/1562 [============================>.] - ETA: 0s - loss: 1.2319 - accuracy: 0.5712\n",
            "Epoch 55: val_loss did not improve from 1.34259\n",
            "1562/1562 [==============================] - 13s 9ms/step - loss: 1.2321 - accuracy: 0.5712 - val_loss: 1.3545 - val_accuracy: 0.5160\n",
            "Epoch 56/100\n",
            "1563/1562 [==============================] - ETA: 0s - loss: 1.2261 - accuracy: 0.5725\n",
            "Epoch 56: val_loss improved from 1.34259 to 1.33584, saving model to ./drive/My Drive/train_ckpt/cifar10_classification/exp1\n",
            "1562/1562 [==============================] - 13s 8ms/step - loss: 1.2261 - accuracy: 0.5725 - val_loss: 1.3358 - val_accuracy: 0.5300\n",
            "Epoch 57/100\n",
            "1559/1562 [============================>.] - ETA: 0s - loss: 1.2222 - accuracy: 0.5735\n",
            "Epoch 57: val_loss improved from 1.33584 to 1.32904, saving model to ./drive/My Drive/train_ckpt/cifar10_classification/exp1\n",
            "1562/1562 [==============================] - 14s 9ms/step - loss: 1.2219 - accuracy: 0.5736 - val_loss: 1.3290 - val_accuracy: 0.5260\n",
            "Epoch 58/100\n",
            "1558/1562 [============================>.] - ETA: 0s - loss: 1.2176 - accuracy: 0.5768\n",
            "Epoch 58: val_loss did not improve from 1.32904\n",
            "1562/1562 [==============================] - 13s 9ms/step - loss: 1.2177 - accuracy: 0.5768 - val_loss: 1.3326 - val_accuracy: 0.5340\n",
            "Epoch 59/100\n",
            "1562/1562 [============================>.] - ETA: 0s - loss: 1.2123 - accuracy: 0.5782\n",
            "Epoch 59: val_loss did not improve from 1.32904\n",
            "1562/1562 [==============================] - 13s 9ms/step - loss: 1.2123 - accuracy: 0.5783 - val_loss: 1.3435 - val_accuracy: 0.5300\n",
            "Epoch 60/100\n",
            "1558/1562 [============================>.] - ETA: 0s - loss: 1.2095 - accuracy: 0.5778\n",
            "Epoch 60: val_loss improved from 1.32904 to 1.32789, saving model to ./drive/My Drive/train_ckpt/cifar10_classification/exp1\n",
            "1562/1562 [==============================] - 13s 8ms/step - loss: 1.2098 - accuracy: 0.5777 - val_loss: 1.3279 - val_accuracy: 0.5340\n",
            "Epoch 61/100\n",
            "1561/1562 [============================>.] - ETA: 0s - loss: 1.2043 - accuracy: 0.5824\n",
            "Epoch 61: val_loss did not improve from 1.32789\n",
            "1562/1562 [==============================] - 13s 8ms/step - loss: 1.2043 - accuracy: 0.5825 - val_loss: 1.3284 - val_accuracy: 0.5440\n",
            "Epoch 62/100\n",
            "1562/1562 [============================>.] - ETA: 0s - loss: 1.2015 - accuracy: 0.5801\n",
            "Epoch 62: val_loss improved from 1.32789 to 1.32493, saving model to ./drive/My Drive/train_ckpt/cifar10_classification/exp1\n",
            "1562/1562 [==============================] - 13s 8ms/step - loss: 1.2017 - accuracy: 0.5801 - val_loss: 1.3249 - val_accuracy: 0.5420\n",
            "Epoch 63/100\n",
            "1563/1562 [==============================] - ETA: 0s - loss: 1.1970 - accuracy: 0.5838\n",
            "Epoch 63: val_loss did not improve from 1.32493\n",
            "1562/1562 [==============================] - 13s 8ms/step - loss: 1.1970 - accuracy: 0.5838 - val_loss: 1.3275 - val_accuracy: 0.5300\n",
            "Epoch 64/100\n",
            "1558/1562 [============================>.] - ETA: 0s - loss: 1.1932 - accuracy: 0.5864\n",
            "Epoch 64: val_loss did not improve from 1.32493\n",
            "1562/1562 [==============================] - 13s 8ms/step - loss: 1.1930 - accuracy: 0.5863 - val_loss: 1.3434 - val_accuracy: 0.5160\n",
            "Epoch 65/100\n",
            "1560/1562 [============================>.] - ETA: 0s - loss: 1.1907 - accuracy: 0.5844\n",
            "Epoch 65: val_loss did not improve from 1.32493\n",
            "1562/1562 [==============================] - 13s 8ms/step - loss: 1.1905 - accuracy: 0.5843 - val_loss: 1.3306 - val_accuracy: 0.5320\n",
            "Epoch 66/100\n",
            "1558/1562 [============================>.] - ETA: 0s - loss: 1.1856 - accuracy: 0.5868\n",
            "Epoch 66: val_loss did not improve from 1.32493\n",
            "1562/1562 [==============================] - 13s 8ms/step - loss: 1.1857 - accuracy: 0.5868 - val_loss: 1.3277 - val_accuracy: 0.5400\n",
            "Epoch 67/100\n",
            "1557/1562 [============================>.] - ETA: 0s - loss: 1.1815 - accuracy: 0.5887\n",
            "Epoch 67: val_loss improved from 1.32493 to 1.32463, saving model to ./drive/My Drive/train_ckpt/cifar10_classification/exp1\n",
            "1562/1562 [==============================] - 13s 9ms/step - loss: 1.1815 - accuracy: 0.5888 - val_loss: 1.3246 - val_accuracy: 0.5440\n",
            "Epoch 68/100\n",
            "1563/1562 [==============================] - ETA: 0s - loss: 1.1780 - accuracy: 0.5892\n",
            "Epoch 68: val_loss did not improve from 1.32463\n",
            "1562/1562 [==============================] - 13s 9ms/step - loss: 1.1780 - accuracy: 0.5892 - val_loss: 1.3382 - val_accuracy: 0.5340\n",
            "Epoch 69/100\n",
            "1563/1562 [==============================] - ETA: 0s - loss: 1.1744 - accuracy: 0.5903\n",
            "Epoch 69: val_loss did not improve from 1.32463\n",
            "1562/1562 [==============================] - 13s 9ms/step - loss: 1.1744 - accuracy: 0.5903 - val_loss: 1.3267 - val_accuracy: 0.5480\n",
            "Epoch 70/100\n",
            "1560/1562 [============================>.] - ETA: 0s - loss: 1.1693 - accuracy: 0.5937\n",
            "Epoch 70: val_loss improved from 1.32463 to 1.32357, saving model to ./drive/My Drive/train_ckpt/cifar10_classification/exp1\n",
            "1562/1562 [==============================] - 13s 9ms/step - loss: 1.1692 - accuracy: 0.5938 - val_loss: 1.3236 - val_accuracy: 0.5400\n",
            "Epoch 71/100\n",
            "1563/1562 [==============================] - ETA: 0s - loss: 1.1657 - accuracy: 0.5949\n",
            "Epoch 71: val_loss did not improve from 1.32357\n",
            "1562/1562 [==============================] - 14s 9ms/step - loss: 1.1657 - accuracy: 0.5949 - val_loss: 1.3241 - val_accuracy: 0.5420\n",
            "Epoch 72/100\n",
            "1562/1562 [============================>.] - ETA: 0s - loss: 1.1632 - accuracy: 0.5947\n",
            "Epoch 72: val_loss improved from 1.32357 to 1.31617, saving model to ./drive/My Drive/train_ckpt/cifar10_classification/exp1\n",
            "1562/1562 [==============================] - 13s 9ms/step - loss: 1.1632 - accuracy: 0.5947 - val_loss: 1.3162 - val_accuracy: 0.5360\n",
            "Epoch 73/100\n",
            "1561/1562 [============================>.] - ETA: 0s - loss: 1.1575 - accuracy: 0.5961\n",
            "Epoch 73: val_loss improved from 1.31617 to 1.31321, saving model to ./drive/My Drive/train_ckpt/cifar10_classification/exp1\n",
            "1562/1562 [==============================] - 14s 9ms/step - loss: 1.1577 - accuracy: 0.5960 - val_loss: 1.3132 - val_accuracy: 0.5500\n",
            "Epoch 74/100\n",
            "1561/1562 [============================>.] - ETA: 0s - loss: 1.1558 - accuracy: 0.5978\n",
            "Epoch 74: val_loss did not improve from 1.31321\n",
            "1562/1562 [==============================] - 13s 8ms/step - loss: 1.1558 - accuracy: 0.5978 - val_loss: 1.3165 - val_accuracy: 0.5360\n",
            "Epoch 75/100\n",
            "1558/1562 [============================>.] - ETA: 0s - loss: 1.1506 - accuracy: 0.6007\n",
            "Epoch 75: val_loss did not improve from 1.31321\n",
            "1562/1562 [==============================] - 13s 9ms/step - loss: 1.1504 - accuracy: 0.6007 - val_loss: 1.3400 - val_accuracy: 0.5360\n",
            "Epoch 76/100\n",
            "1557/1562 [============================>.] - ETA: 0s - loss: 1.1458 - accuracy: 0.6017\n",
            "Epoch 76: val_loss did not improve from 1.31321\n",
            "1562/1562 [==============================] - 13s 9ms/step - loss: 1.1454 - accuracy: 0.6018 - val_loss: 1.3297 - val_accuracy: 0.5420\n",
            "Epoch 77/100\n",
            "1557/1562 [============================>.] - ETA: 0s - loss: 1.1449 - accuracy: 0.6010\n",
            "Epoch 77: val_loss did not improve from 1.31321\n",
            "1562/1562 [==============================] - 14s 9ms/step - loss: 1.1450 - accuracy: 0.6009 - val_loss: 1.3200 - val_accuracy: 0.5460\n",
            "Epoch 78/100\n",
            "1559/1562 [============================>.] - ETA: 0s - loss: 1.1424 - accuracy: 0.6011\n",
            "Epoch 78: val_loss did not improve from 1.31321\n",
            "1562/1562 [==============================] - 13s 9ms/step - loss: 1.1419 - accuracy: 0.6014 - val_loss: 1.3134 - val_accuracy: 0.5380\n",
            "Epoch 79/100\n",
            "1563/1562 [==============================] - ETA: 0s - loss: 1.1353 - accuracy: 0.6066\n",
            "Epoch 79: val_loss did not improve from 1.31321\n",
            "1562/1562 [==============================] - 14s 9ms/step - loss: 1.1353 - accuracy: 0.6066 - val_loss: 1.3395 - val_accuracy: 0.5240\n",
            "Epoch 80/100\n",
            "1558/1562 [============================>.] - ETA: 0s - loss: 1.1320 - accuracy: 0.6052\n",
            "Epoch 80: val_loss did not improve from 1.31321\n",
            "1562/1562 [==============================] - 14s 9ms/step - loss: 1.1326 - accuracy: 0.6052 - val_loss: 1.3143 - val_accuracy: 0.5440\n",
            "Epoch 81/100\n",
            "1560/1562 [============================>.] - ETA: 0s - loss: 1.1290 - accuracy: 0.6060\n",
            "Epoch 81: val_loss improved from 1.31321 to 1.30961, saving model to ./drive/My Drive/train_ckpt/cifar10_classification/exp1\n",
            "1562/1562 [==============================] - 14s 9ms/step - loss: 1.1293 - accuracy: 0.6059 - val_loss: 1.3096 - val_accuracy: 0.5460\n",
            "Epoch 82/100\n",
            "1563/1562 [==============================] - ETA: 0s - loss: 1.1238 - accuracy: 0.6080\n",
            "Epoch 82: val_loss improved from 1.30961 to 1.30625, saving model to ./drive/My Drive/train_ckpt/cifar10_classification/exp1\n",
            "1562/1562 [==============================] - 14s 9ms/step - loss: 1.1238 - accuracy: 0.6080 - val_loss: 1.3062 - val_accuracy: 0.5380\n",
            "Epoch 83/100\n",
            "1559/1562 [============================>.] - ETA: 0s - loss: 1.1226 - accuracy: 0.6083\n",
            "Epoch 83: val_loss did not improve from 1.30625\n",
            "1562/1562 [==============================] - 13s 9ms/step - loss: 1.1226 - accuracy: 0.6084 - val_loss: 1.3146 - val_accuracy: 0.5440\n",
            "Epoch 84/100\n",
            "1557/1562 [============================>.] - ETA: 0s - loss: 1.1176 - accuracy: 0.6114\n",
            "Epoch 84: val_loss did not improve from 1.30625\n",
            "1562/1562 [==============================] - 13s 9ms/step - loss: 1.1172 - accuracy: 0.6115 - val_loss: 1.3175 - val_accuracy: 0.5460\n",
            "Epoch 85/100\n",
            "1558/1562 [============================>.] - ETA: 0s - loss: 1.1152 - accuracy: 0.6119\n",
            "Epoch 85: val_loss did not improve from 1.30625\n",
            "1562/1562 [==============================] - 14s 9ms/step - loss: 1.1150 - accuracy: 0.6120 - val_loss: 1.3122 - val_accuracy: 0.5500\n",
            "Epoch 86/100\n",
            "1559/1562 [============================>.] - ETA: 0s - loss: 1.1113 - accuracy: 0.6123\n",
            "Epoch 86: val_loss did not improve from 1.30625\n",
            "1562/1562 [==============================] - 13s 9ms/step - loss: 1.1113 - accuracy: 0.6123 - val_loss: 1.3079 - val_accuracy: 0.5500\n",
            "Epoch 87/100\n",
            "1563/1562 [==============================] - ETA: 0s - loss: 1.1091 - accuracy: 0.6151\n",
            "Epoch 87: val_loss did not improve from 1.30625\n",
            "1562/1562 [==============================] - 13s 9ms/step - loss: 1.1091 - accuracy: 0.6151 - val_loss: 1.3332 - val_accuracy: 0.5340\n",
            "Epoch 88/100\n",
            "1559/1562 [============================>.] - ETA: 0s - loss: 1.1031 - accuracy: 0.6150\n",
            "Epoch 88: val_loss did not improve from 1.30625\n",
            "1562/1562 [==============================] - 14s 9ms/step - loss: 1.1030 - accuracy: 0.6151 - val_loss: 1.3107 - val_accuracy: 0.5380\n",
            "Epoch 89/100\n",
            "1560/1562 [============================>.] - ETA: 0s - loss: 1.1010 - accuracy: 0.6163\n",
            "Epoch 89: val_loss improved from 1.30625 to 1.30579, saving model to ./drive/My Drive/train_ckpt/cifar10_classification/exp1\n",
            "1562/1562 [==============================] - 14s 9ms/step - loss: 1.1011 - accuracy: 0.6163 - val_loss: 1.3058 - val_accuracy: 0.5400\n",
            "Epoch 90/100\n",
            "1559/1562 [============================>.] - ETA: 0s - loss: 1.0972 - accuracy: 0.6188\n",
            "Epoch 90: val_loss did not improve from 1.30579\n",
            "1562/1562 [==============================] - 13s 9ms/step - loss: 1.0973 - accuracy: 0.6187 - val_loss: 1.3141 - val_accuracy: 0.5380\n",
            "Epoch 91/100\n",
            "1560/1562 [============================>.] - ETA: 0s - loss: 1.0947 - accuracy: 0.6206\n",
            "Epoch 91: val_loss improved from 1.30579 to 1.30169, saving model to ./drive/My Drive/train_ckpt/cifar10_classification/exp1\n",
            "1562/1562 [==============================] - 13s 9ms/step - loss: 1.0946 - accuracy: 0.6206 - val_loss: 1.3017 - val_accuracy: 0.5520\n",
            "Epoch 92/100\n",
            "1558/1562 [============================>.] - ETA: 0s - loss: 1.0936 - accuracy: 0.6178\n",
            "Epoch 92: val_loss did not improve from 1.30169\n",
            "1562/1562 [==============================] - 13s 8ms/step - loss: 1.0934 - accuracy: 0.6179 - val_loss: 1.3095 - val_accuracy: 0.5420\n",
            "Epoch 93/100\n",
            "1557/1562 [============================>.] - ETA: 0s - loss: 1.0859 - accuracy: 0.6212\n",
            "Epoch 93: val_loss did not improve from 1.30169\n",
            "1562/1562 [==============================] - 13s 8ms/step - loss: 1.0858 - accuracy: 0.6211 - val_loss: 1.3159 - val_accuracy: 0.5400\n",
            "Epoch 94/100\n",
            "1557/1562 [============================>.] - ETA: 0s - loss: 1.0853 - accuracy: 0.6215\n",
            "Epoch 94: val_loss did not improve from 1.30169\n",
            "1562/1562 [==============================] - 13s 8ms/step - loss: 1.0859 - accuracy: 0.6213 - val_loss: 1.3132 - val_accuracy: 0.5520\n",
            "Epoch 95/100\n",
            "1561/1562 [============================>.] - ETA: 0s - loss: 1.0785 - accuracy: 0.6244\n",
            "Epoch 95: val_loss did not improve from 1.30169\n",
            "1562/1562 [==============================] - 13s 9ms/step - loss: 1.0783 - accuracy: 0.6245 - val_loss: 1.3107 - val_accuracy: 0.5500\n",
            "Epoch 96/100\n",
            "1557/1562 [============================>.] - ETA: 0s - loss: 1.0789 - accuracy: 0.6255\n",
            "Epoch 96: val_loss did not improve from 1.30169\n",
            "1562/1562 [==============================] - 13s 8ms/step - loss: 1.0789 - accuracy: 0.6255 - val_loss: 1.3120 - val_accuracy: 0.5480\n",
            "Epoch 97/100\n",
            "1562/1562 [============================>.] - ETA: 0s - loss: 1.0739 - accuracy: 0.6258\n",
            "Epoch 97: val_loss did not improve from 1.30169\n",
            "1562/1562 [==============================] - 13s 9ms/step - loss: 1.0741 - accuracy: 0.6258 - val_loss: 1.3101 - val_accuracy: 0.5400\n",
            "Epoch 98/100\n",
            "1561/1562 [============================>.] - ETA: 0s - loss: 1.0704 - accuracy: 0.6268\n",
            "Epoch 98: val_loss did not improve from 1.30169\n",
            "1562/1562 [==============================] - 13s 9ms/step - loss: 1.0703 - accuracy: 0.6269 - val_loss: 1.3063 - val_accuracy: 0.5360\n",
            "Epoch 99/100\n",
            "1563/1562 [==============================] - ETA: 0s - loss: 1.0682 - accuracy: 0.6293\n",
            "Epoch 99: val_loss did not improve from 1.30169\n",
            "1562/1562 [==============================] - 14s 9ms/step - loss: 1.0682 - accuracy: 0.6293 - val_loss: 1.3085 - val_accuracy: 0.5380\n",
            "Epoch 100/100\n",
            "1561/1562 [============================>.] - ETA: 0s - loss: 1.0649 - accuracy: 0.6306\n",
            "Epoch 100: val_loss did not improve from 1.30169\n",
            "1562/1562 [==============================] - 13s 9ms/step - loss: 1.0646 - accuracy: 0.6306 - val_loss: 1.3206 - val_accuracy: 0.5440\n"
          ]
        }
      ]
    },
    {
      "cell_type": "markdown",
      "metadata": {
        "id": "fjLV8zaxgc4V"
      },
      "source": [
        "### 학습 결과를 정리해봅시다.\n",
        "* Model 학습을 진행하며 저장된 결과를 전달 받은 history 객체를 이용해 학습 과정을 출력해봅시다."
      ]
    },
    {
      "cell_type": "code",
      "metadata": {
        "id": "kH93caN_RL6E",
        "outputId": "09bdf986-3f9e-4b32-ba7a-b9aad0735cba",
        "colab": {
          "base_uri": "https://localhost:8080/",
          "height": 699
        }
      },
      "source": [
        "acc = history.history['accuracy']\n",
        "val_acc = history.history['val_accuracy']\n",
        "\n",
        "loss = history.history['loss']\n",
        "val_loss = history.history['val_loss']\n",
        "\n",
        "epochs_range = range(len(acc))\n",
        "\n",
        "plt.figure(figsize=(8, 8))\n",
        "plt.subplot(1, 2, 1)\n",
        "plt.plot(epochs_range, acc, label='Training Accuracy')\n",
        "plt.plot(epochs_range, val_acc, label='Validation Accuracy')\n",
        "plt.legend(loc='lower right')\n",
        "plt.title('Training and Valid Accuracy')\n",
        "\n",
        "plt.subplot(1, 2, 2)\n",
        "plt.plot(epochs_range, loss, label='Training Loss')\n",
        "plt.plot(epochs_range, val_loss, label='Validation Loss')\n",
        "plt.legend(loc='upper right')\n",
        "plt.title('Training and Valid Loss')\n",
        "plt.show()"
      ],
      "execution_count": 29,
      "outputs": [
        {
          "output_type": "display_data",
          "data": {
            "text/plain": [
              "<Figure size 800x800 with 2 Axes>"
            ],
            "image/png": "[encoded data removed]"
          },
          "metadata": {}
        }
      ]
    },
    {
      "cell_type": "markdown",
      "metadata": {
        "id": "R5B3sWG8UIz3"
      },
      "source": [
        "### 모델 평가\n",
        "* Model 학습 후 저장된 weight를 다시 불러와 테스트를 진행합니다.\n",
        "    * 학습이 진행되며, 가장 낮은 val-loss를 이용해 모델을 저장했기 때문에 가장 작은 val-loss를 가지는 곳의 파라미터가 저장되어 있습니다.\n"
      ]
    },
    {
      "cell_type": "code",
      "metadata": {
        "id": "VC8Sjhk9lSMF",
        "outputId": "bfe86d52-ed51-4470-90d3-02b2a05f246a",
        "colab": {
          "base_uri": "https://localhost:8080/"
        }
      },
      "source": [
        "model.load_weights(checkpoint_dir)"
      ],
      "execution_count": 30,
      "outputs": [
        {
          "output_type": "execute_result",
          "data": {
            "text/plain": [
              "<tensorflow.python.checkpoint.checkpoint.CheckpointLoadStatus at 0x79c6013e2320>"
            ]
          },
          "metadata": {},
          "execution_count": 30
        }
      ]
    },
    {
      "cell_type": "markdown",
      "metadata": {
        "id": "Zb3Lm60fwWgf"
      },
      "source": [
        "* 모델 파라미터를 불러온 후 테스트 데이터셋을 이용해 평가를 진행합니다.\n",
        "* 가장 기본적인 Accuracy를 제공합니다."
      ]
    },
    {
      "cell_type": "code",
      "metadata": {
        "id": "ByXBzpzzRL6K",
        "outputId": "e3e777e8-ce7d-45f3-8535-279a09d14bf3",
        "colab": {
          "base_uri": "https://localhost:8080/"
        }
      },
      "source": [
        "results = model.evaluate(test_dataset, steps=len(test_data) // batch_size)"
      ],
      "execution_count": 31,
      "outputs": [
        {
          "output_type": "stream",
          "name": "stdout",
          "text": [
            "296/296 [==============================] - 1s 3ms/step - loss: 1.3441 - accuracy: 0.5284\n"
          ]
        }
      ]
    },
    {
      "cell_type": "code",
      "metadata": {
        "id": "8cfSwvB5RL6O",
        "outputId": "88366ca9-865e-4a90-9221-6d4f3039f2aa",
        "colab": {
          "base_uri": "https://localhost:8080/"
        }
      },
      "source": [
        "# loss\n",
        "print(\"loss value: {:.3f}\".format(results[0]))\n",
        "# accuracy\n",
        "print(\"accuracy value: {:.4f}%\".format(results[1]*100))"
      ],
      "execution_count": 32,
      "outputs": [
        {
          "output_type": "stream",
          "name": "stdout",
          "text": [
            "loss value: 1.344\n",
            "accuracy value: 52.8399%\n"
          ]
        }
      ]
    },
    {
      "cell_type": "code",
      "metadata": {
        "id": "YJnX3YfnRL6T",
        "outputId": "cafe3c5e-0b6f-468a-95b0-f5a0e71c11f5",
        "colab": {
          "base_uri": "https://localhost:8080/",
          "height": 361
        }
      },
      "source": [
        "test_batch_size = 16\n",
        "batch_index = np.random.choice(len(test_data), size=test_batch_size, replace=False)\n",
        "\n",
        "batch_xs = test_data[batch_index]\n",
        "batch_ys = test_labels[batch_index]\n",
        "y_pred_ = model(batch_xs, training=False)\n",
        "\n",
        "fig = plt.figure(figsize=(16, 10))\n",
        "for i, (px, py) in enumerate(zip(batch_xs, y_pred_)):\n",
        "  p = fig.add_subplot(4, 8, i+1)\n",
        "  if np.argmax(py) == batch_ys[i]:\n",
        "    p.set_title(\"y_pred: {}\".format(np.argmax(py)), color='blue')\n",
        "  else:\n",
        "    p.set_title(\"y_pred: {}\".format(np.argmax(py)), color='red')\n",
        "  p.imshow(px.reshape(32, 32, 3))\n",
        "  p.axis('off')"
      ],
      "execution_count": 33,
      "outputs": [
        {
          "output_type": "display_data",
          "data": {
            "text/plain": [
              "<Figure size 1600x1000 with 16 Axes>"
            ],
            "image/png": "[encoded data removed]"
          },
          "metadata": {}
        }
      ]
    },
    {
      "cell_type": "markdown",
      "metadata": {
        "id": "5q6NOnoZYIrR"
      },
      "source": [
        "### 평가 메트릭을 설정해보자\n",
        "* 인공지능 모델을 이용해 문제를 해결할 시에 해당 분야에서 고유하게 사용하던 평가 메트릭 혹은 새로운 메트릭이 사용되기도 합니다.\n",
        "* Classification에서 사용되었던 평가 지표를 사용해봅시다.\n",
        "\n"
      ]
    },
    {
      "cell_type": "markdown",
      "metadata": {
        "id": "NJE2--mMZO-7"
      },
      "source": [
        "## Measuring final score\n",
        "* 모델 평가 지표\n",
        "\n",
        "### \\begin{equation*} M = 50(P + min(\\frac{1}{S}, 1)) \\end{equation*}\n",
        "\n",
        "* P : Model-accuracy\n",
        "* S : Size of model (MB)\n",
        "\n",
        "\n",
        "### \\begin{equation*} S = \\frac{Parameters * float_{size}}{MB} \\end{equation*}\n",
        "\\begin{equation*} = \\frac{M_p * 32} {1024^2} \\end{equation*}\n",
        "\n",
        "\n",
        "\n",
        "* 해당 지표는 분류 평가를 위한 내용이며, 모델의 크기에 따른 정확도를 나타내는 지표입니다."
      ]
    },
    {
      "cell_type": "code",
      "metadata": {
        "id": "4R945JcpRL6Y"
      },
      "source": [
        "def final_score():\n",
        "    print(\"Model params num : \" + str(model.count_params()))\n",
        "    print(\"Accuracy : \" + str(results[1]))\n",
        "\n",
        "    s = (model.count_params() * 32) / (1024 ** 2)\n",
        "    score = 50 * (results[1] + min((1/s), 1))\n",
        "\n",
        "    print(\"score : \" + str(score))"
      ],
      "execution_count": 34,
      "outputs": []
    },
    {
      "cell_type": "markdown",
      "metadata": {
        "id": "LbuQllIxv2ww"
      },
      "source": [
        "### 스코어 결과\n",
        "* 위의 스코어는 분류모델에 적용되는 스코어입니다.\n",
        "* 모델의 크기 (MB) 와 정확도를 이용해 스코어를 출력합니다.\n",
        "    * 40 이상의 스코어에 도전해보세요!"
      ]
    },
    {
      "cell_type": "code",
      "metadata": {
        "id": "NWs2D_Y5RL6a",
        "outputId": "c78914e9-1f49-414c-8dea-fc4d2e336ec3",
        "colab": {
          "base_uri": "https://localhost:8080/"
        }
      },
      "source": [
        "final_score()"
      ],
      "execution_count": 35,
      "outputs": [
        {
          "output_type": "stream",
          "name": "stdout",
          "text": [
            "Model params num : 830250\n",
            "Accuracy : 0.5283994674682617\n",
            "score : 28.393354885005976\n"
          ]
        }
      ]
    },
    {
      "cell_type": "markdown",
      "metadata": {
        "id": "56iBGUMV2B-y"
      },
      "source": [
        "### 추가 과제\n",
        "* 높은 스코어를 달성하신 분들께선 더 맞추기 어려운 데이터셋으로 도전해보세요.\n",
        "\n",
        "```\n",
        "(train_data, train_labels), (test_data, test_labels) = \\\n",
        "    tf.keras.datasets.cifar100.load_data()\n",
        "```\n",
        "\n",
        "* 데이터 로드 파트에서 위 코드를 고치면 더 세분화된 분류를 진행하는 데이터셋을 사용할 수 있습니다."
      ]
    },
    {
      "cell_type": "code",
      "metadata": {
        "id": "56c1gImLgAVk"
      },
      "source": [],
      "execution_count": 27,
      "outputs": []
    }
  ]
}