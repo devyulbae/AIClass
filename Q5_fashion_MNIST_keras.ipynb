{
  "nbformat": 4,
  "nbformat_minor": 0,
  "metadata": {
    "colab": {
      "provenance": [],
      "include_colab_link": true
    },
    "kernelspec": {
      "display_name": "Python 3",
      "name": "python3"
    },
    "language_info": {
      "codemirror_mode": {
        "name": "ipython",
        "version": 3
      },
      "file_extension": ".py",
      "mimetype": "text/x-python",
      "name": "python",
      "nbconvert_exporter": "python",
      "pygments_lexer": "ipython3",
      "version": "3.6.8"
    }
  },
  "cells": [
    {
      "cell_type": "markdown",
      "metadata": {
        "id": "view-in-github",
        "colab_type": "text"
      },
      "source": [
        "<a href=\"https://colab.research.google.com/github/devyulbae/AIClass/blob/main/Q5_fashion_MNIST_keras.ipynb\" target=\"_parent\"><img src=\"https://colab.research.google.com/assets/colab-badge.svg\" alt=\"Open In Colab\"/></a>"
      ]
    },
    {
      "cell_type": "code",
      "metadata": {
        "id": "TCKHChmFfyVL",
        "colab": {
          "base_uri": "https://localhost:8080/",
          "height": 35
        },
        "outputId": "c4b9c75e-b31a-488b-d5a3-c7083b0073a1"
      },
      "source": [
        "import tensorflow as tf\n",
        "from tensorflow.keras import layers\n",
        "from tensorflow.keras import callbacks\n",
        "\n",
        "from sklearn.model_selection import train_test_split\n",
        "\n",
        "import numpy as np\n",
        "import matplotlib.pyplot as plt\n",
        "\n",
        "tf.__version__"
      ],
      "execution_count": 1,
      "outputs": [
        {
          "output_type": "execute_result",
          "data": {
            "text/plain": [
              "'2.15.0'"
            ],
            "application/vnd.google.colaboratory.intrinsic+json": {
              "type": "string"
            }
          },
          "metadata": {},
          "execution_count": 1
        }
      ]
    },
    {
      "cell_type": "markdown",
      "metadata": {
        "id": "o2GvLGzZhicw"
      },
      "source": [
        "### 데이터 로드\n",
        "* TF에서 제공하는 데이터셋을 load해 간단한 전처리 진행"
      ]
    },
    {
      "cell_type": "code",
      "metadata": {
        "id": "Vem5Yu6nkT3b"
      },
      "source": [
        "# Load training and eval data from tf.keras\n",
        "(train_data, train_labels), (test_data, test_labels) = \\\n",
        "    tf.keras.datasets.fashion_mnist.load_data()"
      ],
      "execution_count": 2,
      "outputs": []
    },
    {
      "cell_type": "code",
      "metadata": {
        "id": "sWu2zE_SkVSG",
        "colab": {
          "base_uri": "https://localhost:8080/"
        },
        "outputId": "980d9bc9-0a0b-4edc-8c43-7c9a38c2a21a"
      },
      "source": [
        "print(train_data.shape, train_labels.shape)"
      ],
      "execution_count": 3,
      "outputs": [
        {
          "output_type": "stream",
          "name": "stdout",
          "text": [
            "(60000, 28, 28) (60000,)\n"
          ]
        }
      ]
    },
    {
      "cell_type": "code",
      "metadata": {
        "id": "mpHEO3i3kutr"
      },
      "source": [
        "train_data, valid_data, train_labels, valid_labels = \\\n",
        "    train_test_split(train_data, train_labels, test_size=0.1, shuffle=True)"
      ],
      "execution_count": 4,
      "outputs": []
    },
    {
      "cell_type": "code",
      "metadata": {
        "id": "9xlXz7RHkvvc",
        "colab": {
          "base_uri": "https://localhost:8080/"
        },
        "outputId": "ace7f2cf-d730-4d7e-c4c9-ba0da490c039"
      },
      "source": [
        "print(train_data.shape, train_labels.shape)"
      ],
      "execution_count": 5,
      "outputs": [
        {
          "output_type": "stream",
          "name": "stdout",
          "text": [
            "(54000, 28, 28) (54000,)\n"
          ]
        }
      ]
    },
    {
      "cell_type": "code",
      "metadata": {
        "id": "h6qbYPmjkz07",
        "colab": {
          "base_uri": "https://localhost:8080/"
        },
        "outputId": "a4cf5c15-9df7-4314-9b9f-900f43e99e08"
      },
      "source": [
        "print(valid_data.shape, valid_labels.shape)"
      ],
      "execution_count": 6,
      "outputs": [
        {
          "output_type": "stream",
          "name": "stdout",
          "text": [
            "(6000, 28, 28) (6000,)\n"
          ]
        }
      ]
    },
    {
      "cell_type": "code",
      "metadata": {
        "id": "AOPRVh6QlEAT",
        "colab": {
          "base_uri": "https://localhost:8080/",
          "height": 447
        },
        "outputId": "46e85175-c347-4fb5-b3c5-760ba41a4aeb"
      },
      "source": [
        "index = 5901\n",
        "print(\"label = {}\".format(valid_labels[index]))\n",
        "plt.imshow(valid_data[index].reshape(28, 28))\n",
        "plt.colorbar()\n",
        "#plt.gca().grid(False)\n",
        "plt.show()"
      ],
      "execution_count": 7,
      "outputs": [
        {
          "output_type": "stream",
          "name": "stdout",
          "text": [
            "label = 1\n"
          ]
        },
        {
          "output_type": "display_data",
          "data": {
            "text/plain": [
              "<Figure size 640x480 with 2 Axes>"
            ],
            "image/png": "[encoded data removed]"
          },
          "metadata": {}
        }
      ]
    },
    {
      "cell_type": "code",
      "metadata": {
        "id": "4-eGKQNGgfCm",
        "colab": {
          "base_uri": "https://localhost:8080/"
        },
        "outputId": "b5b1d00a-4c6c-4adf-fb23-faf433059adb"
      },
      "source": [
        "train_data = train_data / 255.\n",
        "train_data = train_data.reshape(-1, 28 * 28)\n",
        "train_data = train_data.astype(np.float32)\n",
        "train_labels = train_labels.astype(np.int32)\n",
        "\n",
        "test_data = test_data / 255.\n",
        "test_data = test_data.reshape(-1, 28 * 28)\n",
        "test_data = test_data.astype(np.float32)\n",
        "test_labels = test_labels.astype(np.int32)\n",
        "\n",
        "valid_data = valid_data / 255.\n",
        "valid_data = valid_data.reshape(-1, 28 * 28)\n",
        "valid_data = valid_data.astype(np.float32)\n",
        "valid_labels = valid_labels.astype(np.int32)\n",
        "\n",
        "\n",
        "print(train_data.shape, train_labels.shape)\n",
        "print(test_data.shape, test_labels.shape)\n",
        "print(valid_data.shape, valid_labels.shape)\n"
      ],
      "execution_count": 8,
      "outputs": [
        {
          "output_type": "stream",
          "name": "stdout",
          "text": [
            "(54000, 784) (54000,)\n",
            "(10000, 784) (10000,)\n",
            "(6000, 784) (6000,)\n"
          ]
        }
      ]
    },
    {
      "cell_type": "markdown",
      "metadata": {
        "id": "YqZ7iqFohpPJ"
      },
      "source": [
        "### 학습에 사용할 tf.data.Dataset 구성\n",
        "* 학습에 잘 적용할 수 있도록 label 처리\n",
        "* 데이터셋 구성"
      ]
    },
    {
      "cell_type": "code",
      "metadata": {
        "id": "xmm6PIkGhQ9z"
      },
      "source": [
        "def one_hot_label(image, label):\n",
        "  label = tf.one_hot(label, depth=10)\n",
        "  return image, label"
      ],
      "execution_count": 9,
      "outputs": []
    },
    {
      "cell_type": "code",
      "metadata": {
        "id": "_QewaIZ0hQ92",
        "colab": {
          "base_uri": "https://localhost:8080/"
        },
        "outputId": "5738b7b9-701b-4ac6-e5f6-ea5cea5efc02"
      },
      "source": [
        "batch_size = 32\n",
        "\n",
        "# for train\n",
        "train_dataset = tf.data.Dataset.from_tensor_slices((train_data, train_labels))\n",
        "train_dataset = train_dataset.shuffle(buffer_size=10000)\n",
        "train_dataset = train_dataset.map(one_hot_label)\n",
        "train_dataset = train_dataset.repeat().batch(batch_size=batch_size)\n",
        "print(train_dataset)\n",
        "\n",
        "# for test\n",
        "test_dataset = tf.data.Dataset.from_tensor_slices((test_data, test_labels))\n",
        "test_dataset = test_dataset.map(one_hot_label)\n",
        "test_dataset = test_dataset.batch(batch_size=batch_size)\n",
        "print(test_dataset)\n",
        "\n",
        "# for test\n",
        "valid_dataset = tf.data.Dataset.from_tensor_slices((valid_data, valid_labels))\n",
        "valid_dataset = valid_dataset.map(one_hot_label)\n",
        "valid_dataset = valid_dataset.batch(batch_size=batch_size)\n",
        "print(valid_dataset)"
      ],
      "execution_count": 10,
      "outputs": [
        {
          "output_type": "stream",
          "name": "stdout",
          "text": [
            "<_BatchDataset element_spec=(TensorSpec(shape=(None, 784), dtype=tf.float32, name=None), TensorSpec(shape=(None, 10), dtype=tf.float32, name=None))>\n",
            "<_BatchDataset element_spec=(TensorSpec(shape=(None, 784), dtype=tf.float32, name=None), TensorSpec(shape=(None, 10), dtype=tf.float32, name=None))>\n",
            "<_BatchDataset element_spec=(TensorSpec(shape=(None, 784), dtype=tf.float32, name=None), TensorSpec(shape=(None, 10), dtype=tf.float32, name=None))>\n"
          ]
        }
      ]
    },
    {
      "cell_type": "markdown",
      "metadata": {
        "id": "2Nuty9VRhyqh"
      },
      "source": [
        "### 모델 구성"
      ]
    },
    {
      "cell_type": "code",
      "metadata": {
        "id": "rxm7uM4Vg8Y1"
      },
      "source": [
        "# Dense 64 relu\n",
        "# Dense 32 relu\n",
        "# Output Layer\n",
        "# 28 * 28\n",
        "model = tf.keras.Sequential([\n",
        "    layers.Dense(64, kernel_initializer=tf.keras.initializers.HeUniform()),\n",
        "    layers.BatchNormalization(),\n",
        "    layers.Activation(\"relu\"),\n",
        "    layers.Dense(32, kernel_initializer=tf.keras.initializers.HeUniform()),\n",
        "    layers.BatchNormalization(),\n",
        "    layers.Activation(\"relu\"),\n",
        "\n",
        "    #dropOut\n",
        "    layers.Dropout(0.5),\n",
        "\n",
        "    layers.Dense(16, kernel_initializer=tf.keras.initializers.HeUniform()),\n",
        "    layers.BatchNormalization(),\n",
        "    layers.Activation(\"relu\"),\n",
        "    layers.Dense(10),\n",
        "])"
      ],
      "execution_count": 11,
      "outputs": []
    },
    {
      "cell_type": "code",
      "metadata": {
        "id": "w5wTN0SdhgUy"
      },
      "source": [
        "model.compile(optimizer=tf.keras.optimizers.Adam(1e-4),\n",
        "              loss=tf.keras.losses.CategoricalCrossentropy(from_logits=True),\n",
        "              metrics=['accuracy'])"
      ],
      "execution_count": 12,
      "outputs": []
    },
    {
      "cell_type": "code",
      "metadata": {
        "id": "aBiwV68thnJe",
        "colab": {
          "base_uri": "https://localhost:8080/"
        },
        "outputId": "42c79f06-4831-444e-9bff-89f2da8c45ff"
      },
      "source": [
        "# without training, just inference a model in eager execution:\n",
        "predictions = model(train_data[0:1], training=False)\n",
        "print(\"Predictions: \", predictions.numpy())"
      ],
      "execution_count": 13,
      "outputs": [
        {
          "output_type": "stream",
          "name": "stdout",
          "text": [
            "Predictions:  [[ 0.16194278 -0.07161483 -0.13836673  0.18186156  0.29976106  0.26950166\n",
            "  -0.2203055  -0.3121521   0.12238757 -0.06042431]]\n"
          ]
        }
      ]
    },
    {
      "cell_type": "code",
      "metadata": {
        "id": "q0yMruVchi4z",
        "colab": {
          "base_uri": "https://localhost:8080/"
        },
        "outputId": "3b31a11b-d36c-4598-c5ca-16ace37fd197"
      },
      "source": [
        "model.summary()"
      ],
      "execution_count": 14,
      "outputs": [
        {
          "output_type": "stream",
          "name": "stdout",
          "text": [
            "Model: \"sequential\"\n",
            "_________________________________________________________________\n",
            " Layer (type)                Output Shape              Param #   \n",
            "=================================================================\n",
            " dense (Dense)               (1, 64)                   50240     \n",
            "                                                                 \n",
            " batch_normalization (Batch  (1, 64)                   256       \n",
            " Normalization)                                                  \n",
            "                                                                 \n",
            " activation (Activation)     (1, 64)                   0         \n",
            "                                                                 \n",
            " dense_1 (Dense)             (1, 32)                   2080      \n",
            "                                                                 \n",
            " batch_normalization_1 (Bat  (1, 32)                   128       \n",
            " chNormalization)                                                \n",
            "                                                                 \n",
            " activation_1 (Activation)   (1, 32)                   0         \n",
            "                                                                 \n",
            " dropout (Dropout)           (1, 32)                   0         \n",
            "                                                                 \n",
            " dense_2 (Dense)             (1, 16)                   528       \n",
            "                                                                 \n",
            " batch_normalization_2 (Bat  (1, 16)                   64        \n",
            " chNormalization)                                                \n",
            "                                                                 \n",
            " activation_2 (Activation)   (1, 16)                   0         \n",
            "                                                                 \n",
            " dense_3 (Dense)             (1, 10)                   170       \n",
            "                                                                 \n",
            "=================================================================\n",
            "Total params: 53466 (208.85 KB)\n",
            "Trainable params: 53242 (207.98 KB)\n",
            "Non-trainable params: 224 (896.00 Byte)\n",
            "_________________________________________________________________\n"
          ]
        }
      ]
    },
    {
      "cell_type": "markdown",
      "metadata": {
        "id": "8DOW-3_uh0rF"
      },
      "source": [
        "### 모델 학습 구성"
      ]
    },
    {
      "cell_type": "code",
      "source": [
        "check_point_cb = callbacks.ModelCheckpoint('fashion_mnist_model.h5',\n",
        "                                           save_best_only=True,\n",
        "                                           verbose=1)\n",
        "early_stopping_cb = callbacks.EarlyStopping(patience=10,\n",
        "                                            monitor='val_loss',\n",
        "                                            restore_best_weights=True,\n",
        "                                            verbose=1)"
      ],
      "metadata": {
        "id": "Mp_2_AHW0c0t"
      },
      "execution_count": 15,
      "outputs": []
    },
    {
      "cell_type": "code",
      "metadata": {
        "id": "HLqC2Qx6hjFc",
        "colab": {
          "base_uri": "https://localhost:8080/"
        },
        "outputId": "f33dd62b-1604-486c-b9ee-91c504fc2ac8"
      },
      "source": [
        "max_epochs = 100\n",
        "# using `tf.data.Dataset`\n",
        "history = model.fit(train_dataset,\n",
        "                    epochs=max_epochs,\n",
        "                    steps_per_epoch=len(train_data) // batch_size,\n",
        "                    validation_data=valid_dataset,\n",
        "                    validation_steps=len(valid_data) // batch_size,\n",
        "                    callbacks=[check_point_cb, early_stopping_cb]\n",
        "                   )"
      ],
      "execution_count": 16,
      "outputs": [
        {
          "metadata": {
            "tags": null
          },
          "name": "stdout",
          "output_type": "stream",
          "text": [
            "Epoch 1/100\n",
            "1683/1687 [============================>.] - ETA: 0s - loss: 1.6685 - accuracy: 0.4693\n",
            "Epoch 1: val_loss improved from inf to 1.13531, saving model to fashion_mnist_model.h5\n",
            "1687/1687 [==============================] - 13s 6ms/step - loss: 1.6675 - accuracy: 0.4697 - val_loss: 1.1353 - val_accuracy: 0.7015\n",
            "Epoch 2/100\n",
            "   9/1687 [..............................] - ETA: 11s - loss: 1.3713 - accuracy: 0.5625"
          ]
        },
        {
          "metadata": {
            "tags": null
          },
          "name": "stderr",
          "output_type": "stream",
          "text": [
            "/usr/local/lib/python3.10/dist-packages/keras/src/engine/training.py:3103: UserWarning: You are saving your model as an HDF5 file via `model.save()`. This file format is considered legacy. We recommend using instead the native Keras format, e.g. `model.save('my_model.keras')`.\n",
            "  saving_api.save_model(\n"
          ]
        },
        {
          "output_type": "stream",
          "name": "stdout",
          "text": [
            "1675/1687 [============================>.] - ETA: 0s - loss: 1.1863 - accuracy: 0.6598\n",
            "Epoch 2: val_loss improved from 1.13531 to 0.83256, saving model to fashion_mnist_model.h5\n",
            "1687/1687 [==============================] - 8s 5ms/step - loss: 1.1851 - accuracy: 0.6600 - val_loss: 0.8326 - val_accuracy: 0.7893\n",
            "Epoch 3/100\n",
            "1680/1687 [============================>.] - ETA: 0s - loss: 0.9446 - accuracy: 0.7288\n",
            "Epoch 3: val_loss improved from 0.83256 to 0.63145, saving model to fashion_mnist_model.h5\n",
            "1687/1687 [==============================] - 5s 3ms/step - loss: 0.9443 - accuracy: 0.7287 - val_loss: 0.6315 - val_accuracy: 0.8254\n",
            "Epoch 4/100\n",
            "1683/1687 [============================>.] - ETA: 0s - loss: 0.8103 - accuracy: 0.7525\n",
            "Epoch 4: val_loss improved from 0.63145 to 0.51805, saving model to fashion_mnist_model.h5\n",
            "1687/1687 [==============================] - 6s 3ms/step - loss: 0.8101 - accuracy: 0.7525 - val_loss: 0.5181 - val_accuracy: 0.8432\n",
            "Epoch 5/100\n",
            "1676/1687 [============================>.] - ETA: 0s - loss: 0.7295 - accuracy: 0.7691\n",
            "Epoch 5: val_loss improved from 0.51805 to 0.47259, saving model to fashion_mnist_model.h5\n",
            "1687/1687 [==============================] - 5s 3ms/step - loss: 0.7293 - accuracy: 0.7692 - val_loss: 0.4726 - val_accuracy: 0.8551\n",
            "Epoch 6/100\n",
            "1682/1687 [============================>.] - ETA: 0s - loss: 0.6805 - accuracy: 0.7813\n",
            "Epoch 6: val_loss improved from 0.47259 to 0.44716, saving model to fashion_mnist_model.h5\n",
            "1687/1687 [==============================] - 6s 3ms/step - loss: 0.6804 - accuracy: 0.7814 - val_loss: 0.4472 - val_accuracy: 0.8546\n",
            "Epoch 7/100\n",
            "1677/1687 [============================>.] - ETA: 0s - loss: 0.6478 - accuracy: 0.7893\n",
            "Epoch 7: val_loss improved from 0.44716 to 0.42510, saving model to fashion_mnist_model.h5\n",
            "1687/1687 [==============================] - 5s 3ms/step - loss: 0.6477 - accuracy: 0.7893 - val_loss: 0.4251 - val_accuracy: 0.8601\n",
            "Epoch 8/100\n",
            "1682/1687 [============================>.] - ETA: 0s - loss: 0.6217 - accuracy: 0.7952\n",
            "Epoch 8: val_loss improved from 0.42510 to 0.41922, saving model to fashion_mnist_model.h5\n",
            "1687/1687 [==============================] - 6s 3ms/step - loss: 0.6215 - accuracy: 0.7953 - val_loss: 0.4192 - val_accuracy: 0.8608\n",
            "Epoch 9/100\n",
            "1682/1687 [============================>.] - ETA: 0s - loss: 0.6019 - accuracy: 0.8004\n",
            "Epoch 9: val_loss improved from 0.41922 to 0.41219, saving model to fashion_mnist_model.h5\n",
            "1687/1687 [==============================] - 5s 3ms/step - loss: 0.6026 - accuracy: 0.8003 - val_loss: 0.4122 - val_accuracy: 0.8623\n",
            "Epoch 10/100\n",
            "1687/1687 [==============================] - ETA: 0s - loss: 0.5895 - accuracy: 0.8023\n",
            "Epoch 10: val_loss improved from 0.41219 to 0.38882, saving model to fashion_mnist_model.h5\n",
            "1687/1687 [==============================] - 6s 3ms/step - loss: 0.5895 - accuracy: 0.8023 - val_loss: 0.3888 - val_accuracy: 0.8690\n",
            "Epoch 11/100\n",
            "1678/1687 [============================>.] - ETA: 0s - loss: 0.5728 - accuracy: 0.8089\n",
            "Epoch 11: val_loss improved from 0.38882 to 0.38573, saving model to fashion_mnist_model.h5\n",
            "1687/1687 [==============================] - 5s 3ms/step - loss: 0.5727 - accuracy: 0.8090 - val_loss: 0.3857 - val_accuracy: 0.8698\n",
            "Epoch 12/100\n",
            "1685/1687 [============================>.] - ETA: 0s - loss: 0.5640 - accuracy: 0.8122\n",
            "Epoch 12: val_loss improved from 0.38573 to 0.37906, saving model to fashion_mnist_model.h5\n",
            "1687/1687 [==============================] - 6s 3ms/step - loss: 0.5640 - accuracy: 0.8123 - val_loss: 0.3791 - val_accuracy: 0.8718\n",
            "Epoch 13/100\n",
            "1671/1687 [============================>.] - ETA: 0s - loss: 0.5545 - accuracy: 0.8145\n",
            "Epoch 13: val_loss improved from 0.37906 to 0.37172, saving model to fashion_mnist_model.h5\n",
            "1687/1687 [==============================] - 5s 3ms/step - loss: 0.5537 - accuracy: 0.8149 - val_loss: 0.3717 - val_accuracy: 0.8762\n",
            "Epoch 14/100\n",
            "1684/1687 [============================>.] - ETA: 0s - loss: 0.5442 - accuracy: 0.8175\n",
            "Epoch 14: val_loss did not improve from 0.37172\n",
            "1687/1687 [==============================] - 6s 3ms/step - loss: 0.5443 - accuracy: 0.8174 - val_loss: 0.3728 - val_accuracy: 0.8737\n",
            "Epoch 15/100\n",
            "1687/1687 [==============================] - ETA: 0s - loss: 0.5398 - accuracy: 0.8192\n",
            "Epoch 15: val_loss improved from 0.37172 to 0.36826, saving model to fashion_mnist_model.h5\n",
            "1687/1687 [==============================] - 5s 3ms/step - loss: 0.5398 - accuracy: 0.8192 - val_loss: 0.3683 - val_accuracy: 0.8743\n",
            "Epoch 16/100\n",
            "1673/1687 [============================>.] - ETA: 0s - loss: 0.5259 - accuracy: 0.8235\n",
            "Epoch 16: val_loss improved from 0.36826 to 0.36672, saving model to fashion_mnist_model.h5\n",
            "1687/1687 [==============================] - 6s 3ms/step - loss: 0.5257 - accuracy: 0.8234 - val_loss: 0.3667 - val_accuracy: 0.8737\n",
            "Epoch 17/100\n",
            "1682/1687 [============================>.] - ETA: 0s - loss: 0.5185 - accuracy: 0.8252\n",
            "Epoch 17: val_loss improved from 0.36672 to 0.35982, saving model to fashion_mnist_model.h5\n",
            "1687/1687 [==============================] - 5s 3ms/step - loss: 0.5184 - accuracy: 0.8253 - val_loss: 0.3598 - val_accuracy: 0.8777\n",
            "Epoch 18/100\n",
            "1682/1687 [============================>.] - ETA: 0s - loss: 0.5157 - accuracy: 0.8256\n",
            "Epoch 18: val_loss improved from 0.35982 to 0.35529, saving model to fashion_mnist_model.h5\n",
            "1687/1687 [==============================] - 6s 3ms/step - loss: 0.5155 - accuracy: 0.8256 - val_loss: 0.3553 - val_accuracy: 0.8775\n",
            "Epoch 19/100\n",
            "1680/1687 [============================>.] - ETA: 0s - loss: 0.5086 - accuracy: 0.8247\n",
            "Epoch 19: val_loss improved from 0.35529 to 0.35208, saving model to fashion_mnist_model.h5\n",
            "1687/1687 [==============================] - 5s 3ms/step - loss: 0.5087 - accuracy: 0.8246 - val_loss: 0.3521 - val_accuracy: 0.8807\n",
            "Epoch 20/100\n",
            "1678/1687 [============================>.] - ETA: 0s - loss: 0.4983 - accuracy: 0.8298\n",
            "Epoch 20: val_loss did not improve from 0.35208\n",
            "1687/1687 [==============================] - 5s 3ms/step - loss: 0.4979 - accuracy: 0.8300 - val_loss: 0.3612 - val_accuracy: 0.8732\n",
            "Epoch 21/100\n",
            "1673/1687 [============================>.] - ETA: 0s - loss: 0.4954 - accuracy: 0.8335\n",
            "Epoch 21: val_loss improved from 0.35208 to 0.34699, saving model to fashion_mnist_model.h5\n",
            "1687/1687 [==============================] - 6s 3ms/step - loss: 0.4953 - accuracy: 0.8335 - val_loss: 0.3470 - val_accuracy: 0.8810\n",
            "Epoch 22/100\n",
            "1673/1687 [============================>.] - ETA: 0s - loss: 0.4984 - accuracy: 0.8332\n",
            "Epoch 22: val_loss did not improve from 0.34699\n",
            "1687/1687 [==============================] - 5s 3ms/step - loss: 0.4984 - accuracy: 0.8333 - val_loss: 0.3513 - val_accuracy: 0.8795\n",
            "Epoch 23/100\n",
            "1686/1687 [============================>.] - ETA: 0s - loss: 0.4850 - accuracy: 0.8354\n",
            "Epoch 23: val_loss did not improve from 0.34699\n",
            "1687/1687 [==============================] - 6s 3ms/step - loss: 0.4851 - accuracy: 0.8354 - val_loss: 0.3482 - val_accuracy: 0.8805\n",
            "Epoch 24/100\n",
            "1680/1687 [============================>.] - ETA: 0s - loss: 0.4854 - accuracy: 0.8346\n",
            "Epoch 24: val_loss improved from 0.34699 to 0.34036, saving model to fashion_mnist_model.h5\n",
            "1687/1687 [==============================] - 5s 3ms/step - loss: 0.4855 - accuracy: 0.8346 - val_loss: 0.3404 - val_accuracy: 0.8827\n",
            "Epoch 25/100\n",
            "1685/1687 [============================>.] - ETA: 0s - loss: 0.4765 - accuracy: 0.8390\n",
            "Epoch 25: val_loss did not improve from 0.34036\n",
            "1687/1687 [==============================] - 6s 3ms/step - loss: 0.4768 - accuracy: 0.8390 - val_loss: 0.3450 - val_accuracy: 0.8807\n",
            "Epoch 26/100\n",
            "1670/1687 [============================>.] - ETA: 0s - loss: 0.4667 - accuracy: 0.8412\n",
            "Epoch 26: val_loss improved from 0.34036 to 0.33781, saving model to fashion_mnist_model.h5\n",
            "1687/1687 [==============================] - 5s 3ms/step - loss: 0.4666 - accuracy: 0.8413 - val_loss: 0.3378 - val_accuracy: 0.8845\n",
            "Epoch 27/100\n",
            "1683/1687 [============================>.] - ETA: 0s - loss: 0.4674 - accuracy: 0.8419\n",
            "Epoch 27: val_loss did not improve from 0.33781\n",
            "1687/1687 [==============================] - 6s 3ms/step - loss: 0.4677 - accuracy: 0.8418 - val_loss: 0.3449 - val_accuracy: 0.8807\n",
            "Epoch 28/100\n",
            "1686/1687 [============================>.] - ETA: 0s - loss: 0.4633 - accuracy: 0.8425\n",
            "Epoch 28: val_loss improved from 0.33781 to 0.33729, saving model to fashion_mnist_model.h5\n",
            "1687/1687 [==============================] - 5s 3ms/step - loss: 0.4633 - accuracy: 0.8425 - val_loss: 0.3373 - val_accuracy: 0.8859\n",
            "Epoch 29/100\n",
            "1686/1687 [============================>.] - ETA: 0s - loss: 0.4588 - accuracy: 0.8427\n",
            "Epoch 29: val_loss improved from 0.33729 to 0.33159, saving model to fashion_mnist_model.h5\n",
            "1687/1687 [==============================] - 6s 3ms/step - loss: 0.4587 - accuracy: 0.8427 - val_loss: 0.3316 - val_accuracy: 0.8897\n",
            "Epoch 30/100\n",
            "1678/1687 [============================>.] - ETA: 0s - loss: 0.4566 - accuracy: 0.8444\n",
            "Epoch 30: val_loss did not improve from 0.33159\n",
            "1687/1687 [==============================] - 5s 3ms/step - loss: 0.4563 - accuracy: 0.8444 - val_loss: 0.3357 - val_accuracy: 0.8835\n",
            "Epoch 31/100\n",
            "1677/1687 [============================>.] - ETA: 0s - loss: 0.4524 - accuracy: 0.8449\n",
            "Epoch 31: val_loss did not improve from 0.33159\n",
            "1687/1687 [==============================] - 6s 3ms/step - loss: 0.4522 - accuracy: 0.8451 - val_loss: 0.3320 - val_accuracy: 0.8864\n",
            "Epoch 32/100\n",
            "1672/1687 [============================>.] - ETA: 0s - loss: 0.4507 - accuracy: 0.8483\n",
            "Epoch 32: val_loss did not improve from 0.33159\n",
            "1687/1687 [==============================] - 5s 3ms/step - loss: 0.4507 - accuracy: 0.8481 - val_loss: 0.3347 - val_accuracy: 0.8887\n",
            "Epoch 33/100\n",
            "1680/1687 [============================>.] - ETA: 0s - loss: 0.4515 - accuracy: 0.8452\n",
            "Epoch 33: val_loss did not improve from 0.33159\n",
            "1687/1687 [==============================] - 6s 3ms/step - loss: 0.4511 - accuracy: 0.8453 - val_loss: 0.3504 - val_accuracy: 0.8778\n",
            "Epoch 34/100\n",
            "1679/1687 [============================>.] - ETA: 0s - loss: 0.4450 - accuracy: 0.8474\n",
            "Epoch 34: val_loss improved from 0.33159 to 0.33132, saving model to fashion_mnist_model.h5\n",
            "1687/1687 [==============================] - 5s 3ms/step - loss: 0.4448 - accuracy: 0.8475 - val_loss: 0.3313 - val_accuracy: 0.8885\n",
            "Epoch 35/100\n",
            "1675/1687 [============================>.] - ETA: 0s - loss: 0.4429 - accuracy: 0.8487\n",
            "Epoch 35: val_loss did not improve from 0.33132\n",
            "1687/1687 [==============================] - 6s 3ms/step - loss: 0.4427 - accuracy: 0.8488 - val_loss: 0.3358 - val_accuracy: 0.8887\n",
            "Epoch 36/100\n",
            "1687/1687 [==============================] - ETA: 0s - loss: 0.4387 - accuracy: 0.8495\n",
            "Epoch 36: val_loss did not improve from 0.33132\n",
            "1687/1687 [==============================] - 5s 3ms/step - loss: 0.4387 - accuracy: 0.8495 - val_loss: 0.3466 - val_accuracy: 0.8812\n",
            "Epoch 37/100\n",
            "1679/1687 [============================>.] - ETA: 0s - loss: 0.4394 - accuracy: 0.8495\n",
            "Epoch 37: val_loss improved from 0.33132 to 0.32800, saving model to fashion_mnist_model.h5\n",
            "1687/1687 [==============================] - 6s 3ms/step - loss: 0.4396 - accuracy: 0.8493 - val_loss: 0.3280 - val_accuracy: 0.8890\n",
            "Epoch 38/100\n",
            "1676/1687 [============================>.] - ETA: 0s - loss: 0.4289 - accuracy: 0.8524\n",
            "Epoch 38: val_loss did not improve from 0.32800\n",
            "1687/1687 [==============================] - 5s 3ms/step - loss: 0.4290 - accuracy: 0.8523 - val_loss: 0.3523 - val_accuracy: 0.8773\n",
            "Epoch 39/100\n",
            "1671/1687 [============================>.] - ETA: 0s - loss: 0.4306 - accuracy: 0.8531\n",
            "Epoch 39: val_loss did not improve from 0.32800\n",
            "1687/1687 [==============================] - 5s 3ms/step - loss: 0.4310 - accuracy: 0.8530 - val_loss: 0.3357 - val_accuracy: 0.8855\n",
            "Epoch 40/100\n",
            "1677/1687 [============================>.] - ETA: 0s - loss: 0.4271 - accuracy: 0.8524\n",
            "Epoch 40: val_loss improved from 0.32800 to 0.32492, saving model to fashion_mnist_model.h5\n",
            "1687/1687 [==============================] - 5s 3ms/step - loss: 0.4270 - accuracy: 0.8524 - val_loss: 0.3249 - val_accuracy: 0.8900\n",
            "Epoch 41/100\n",
            "1683/1687 [============================>.] - ETA: 0s - loss: 0.4211 - accuracy: 0.8564\n",
            "Epoch 41: val_loss did not improve from 0.32492\n",
            "1687/1687 [==============================] - 6s 3ms/step - loss: 0.4211 - accuracy: 0.8563 - val_loss: 0.3298 - val_accuracy: 0.8867\n",
            "Epoch 42/100\n",
            "1680/1687 [============================>.] - ETA: 0s - loss: 0.4192 - accuracy: 0.8565\n",
            "Epoch 42: val_loss did not improve from 0.32492\n",
            "1687/1687 [==============================] - 5s 3ms/step - loss: 0.4190 - accuracy: 0.8566 - val_loss: 0.3306 - val_accuracy: 0.8874\n",
            "Epoch 43/100\n",
            "1671/1687 [============================>.] - ETA: 0s - loss: 0.4186 - accuracy: 0.8558\n",
            "Epoch 43: val_loss did not improve from 0.32492\n",
            "1687/1687 [==============================] - 6s 3ms/step - loss: 0.4182 - accuracy: 0.8561 - val_loss: 0.3270 - val_accuracy: 0.8889\n",
            "Epoch 44/100\n",
            "1668/1687 [============================>.] - ETA: 0s - loss: 0.4089 - accuracy: 0.8594\n",
            "Epoch 44: val_loss improved from 0.32492 to 0.32449, saving model to fashion_mnist_model.h5\n",
            "1687/1687 [==============================] - 5s 3ms/step - loss: 0.4091 - accuracy: 0.8593 - val_loss: 0.3245 - val_accuracy: 0.8884\n",
            "Epoch 45/100\n",
            "1675/1687 [============================>.] - ETA: 0s - loss: 0.4124 - accuracy: 0.8587\n",
            "Epoch 45: val_loss did not improve from 0.32449\n",
            "1687/1687 [==============================] - 6s 3ms/step - loss: 0.4121 - accuracy: 0.8587 - val_loss: 0.3381 - val_accuracy: 0.8877\n",
            "Epoch 46/100\n",
            "1678/1687 [============================>.] - ETA: 0s - loss: 0.4150 - accuracy: 0.8584\n",
            "Epoch 46: val_loss did not improve from 0.32449\n",
            "1687/1687 [==============================] - 5s 3ms/step - loss: 0.4152 - accuracy: 0.8582 - val_loss: 0.3315 - val_accuracy: 0.8884\n",
            "Epoch 47/100\n",
            "1682/1687 [============================>.] - ETA: 0s - loss: 0.4096 - accuracy: 0.8612\n",
            "Epoch 47: val_loss did not improve from 0.32449\n",
            "1687/1687 [==============================] - 6s 3ms/step - loss: 0.4096 - accuracy: 0.8611 - val_loss: 0.3255 - val_accuracy: 0.8905\n",
            "Epoch 48/100\n",
            "1671/1687 [============================>.] - ETA: 0s - loss: 0.4078 - accuracy: 0.8604\n",
            "Epoch 48: val_loss did not improve from 0.32449\n",
            "1687/1687 [==============================] - 5s 3ms/step - loss: 0.4076 - accuracy: 0.8604 - val_loss: 0.3300 - val_accuracy: 0.8854\n",
            "Epoch 49/100\n",
            "1687/1687 [==============================] - ETA: 0s - loss: 0.4039 - accuracy: 0.8597\n",
            "Epoch 49: val_loss improved from 0.32449 to 0.32001, saving model to fashion_mnist_model.h5\n",
            "1687/1687 [==============================] - 6s 3ms/step - loss: 0.4039 - accuracy: 0.8597 - val_loss: 0.3200 - val_accuracy: 0.8924\n",
            "Epoch 50/100\n",
            "1687/1687 [==============================] - ETA: 0s - loss: 0.4005 - accuracy: 0.8612\n",
            "Epoch 50: val_loss did not improve from 0.32001\n",
            "1687/1687 [==============================] - 5s 3ms/step - loss: 0.4005 - accuracy: 0.8612 - val_loss: 0.3256 - val_accuracy: 0.8899\n",
            "Epoch 51/100\n",
            "1684/1687 [============================>.] - ETA: 0s - loss: 0.4018 - accuracy: 0.8615\n",
            "Epoch 51: val_loss did not improve from 0.32001\n",
            "1687/1687 [==============================] - 6s 4ms/step - loss: 0.4019 - accuracy: 0.8614 - val_loss: 0.3257 - val_accuracy: 0.8907\n",
            "Epoch 52/100\n",
            "1673/1687 [============================>.] - ETA: 0s - loss: 0.3978 - accuracy: 0.8639\n",
            "Epoch 52: val_loss did not improve from 0.32001\n",
            "1687/1687 [==============================] - 5s 3ms/step - loss: 0.3975 - accuracy: 0.8641 - val_loss: 0.3351 - val_accuracy: 0.8867\n",
            "Epoch 53/100\n",
            "1680/1687 [============================>.] - ETA: 0s - loss: 0.3980 - accuracy: 0.8625\n",
            "Epoch 53: val_loss did not improve from 0.32001\n",
            "1687/1687 [==============================] - 6s 4ms/step - loss: 0.3978 - accuracy: 0.8626 - val_loss: 0.3329 - val_accuracy: 0.8882\n",
            "Epoch 54/100\n",
            "1682/1687 [============================>.] - ETA: 0s - loss: 0.3905 - accuracy: 0.8659\n",
            "Epoch 54: val_loss did not improve from 0.32001\n",
            "1687/1687 [==============================] - 5s 3ms/step - loss: 0.3906 - accuracy: 0.8658 - val_loss: 0.3262 - val_accuracy: 0.8915\n",
            "Epoch 55/100\n",
            "1680/1687 [============================>.] - ETA: 0s - loss: 0.3935 - accuracy: 0.8653\n",
            "Epoch 55: val_loss did not improve from 0.32001\n",
            "1687/1687 [==============================] - 5s 3ms/step - loss: 0.3934 - accuracy: 0.8654 - val_loss: 0.3248 - val_accuracy: 0.8885\n",
            "Epoch 56/100\n",
            "1685/1687 [============================>.] - ETA: 0s - loss: 0.3964 - accuracy: 0.8646\n",
            "Epoch 56: val_loss did not improve from 0.32001\n",
            "1687/1687 [==============================] - 5s 3ms/step - loss: 0.3965 - accuracy: 0.8646 - val_loss: 0.3267 - val_accuracy: 0.8887\n",
            "Epoch 57/100\n",
            "1676/1687 [============================>.] - ETA: 0s - loss: 0.3869 - accuracy: 0.8672\n",
            "Epoch 57: val_loss did not improve from 0.32001\n",
            "1687/1687 [==============================] - 6s 3ms/step - loss: 0.3868 - accuracy: 0.8673 - val_loss: 0.3291 - val_accuracy: 0.8877\n",
            "Epoch 58/100\n",
            "1682/1687 [============================>.] - ETA: 0s - loss: 0.3913 - accuracy: 0.8668\n",
            "Epoch 58: val_loss did not improve from 0.32001\n",
            "1687/1687 [==============================] - 5s 3ms/step - loss: 0.3916 - accuracy: 0.8668 - val_loss: 0.3216 - val_accuracy: 0.8924\n",
            "Epoch 59/100\n",
            "1677/1687 [============================>.] - ETA: 0s - loss: 0.3875 - accuracy: 0.8669\n",
            "Epoch 59: val_loss did not improve from 0.32001\n",
            "Restoring model weights from the end of the best epoch: 49.\n",
            "1687/1687 [==============================] - 6s 3ms/step - loss: 0.3878 - accuracy: 0.8667 - val_loss: 0.3595 - val_accuracy: 0.8720\n",
            "Epoch 59: early stopping\n"
          ]
        }
      ]
    },
    {
      "cell_type": "code",
      "metadata": {
        "id": "P5ZcVB42hqDE",
        "colab": {
          "base_uri": "https://localhost:8080/",
          "height": 699
        },
        "outputId": "4312427f-f3fd-4d1c-b962-b002e105bdd8"
      },
      "source": [
        "# 코드 수정\n",
        "acc = history.history['accuracy']\n",
        "val_acc = history.history['val_accuracy']\n",
        "\n",
        "loss = history.history['loss']\n",
        "val_loss = history.history['val_loss']\n",
        "\n",
        "epochs_range = range(len(acc))\n",
        "\n",
        "plt.figure(figsize=(8, 8))\n",
        "plt.subplot(1, 2, 1)\n",
        "plt.plot(epochs_range, acc, label='Training Accuracy')\n",
        "plt.plot(epochs_range, val_acc, label='Validation Accuracy')\n",
        "plt.legend(loc='lower right')\n",
        "plt.title('Training and Valid Accuracy')\n",
        "\n",
        "plt.subplot(1, 2, 2)\n",
        "plt.plot(epochs_range, loss, label='Training Loss')\n",
        "plt.plot(epochs_range, val_loss, label='Validation Loss')\n",
        "plt.legend(loc='upper right')\n",
        "plt.title('Training and Valid Loss')\n",
        "plt.show()"
      ],
      "execution_count": 17,
      "outputs": [
        {
          "output_type": "display_data",
          "data": {
            "text/plain": [
              "<Figure size 800x800 with 2 Axes>"
            ],
            "image/png": "[encoded data removed]"
          },
          "metadata": {}
        }
      ]
    },
    {
      "cell_type": "code",
      "metadata": {
        "id": "MIfLiTlehtAC",
        "colab": {
          "base_uri": "https://localhost:8080/"
        },
        "outputId": "9a432da3-1a4a-4cb8-dafd-1585c2b621bf"
      },
      "source": [
        "results = model.evaluate(test_dataset)"
      ],
      "execution_count": 18,
      "outputs": [
        {
          "output_type": "stream",
          "name": "stdout",
          "text": [
            "313/313 [==============================] - 1s 2ms/step - loss: 0.3583 - accuracy: 0.8756\n"
          ]
        }
      ]
    },
    {
      "cell_type": "code",
      "metadata": {
        "id": "nrwS9PJ6hxlm"
      },
      "source": [],
      "execution_count": 18,
      "outputs": []
    }
  ]
}