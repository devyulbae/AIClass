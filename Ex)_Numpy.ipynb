{
  "nbformat": 4,
  "nbformat_minor": 0,
  "metadata": {
    "colab": {
      "provenance": [],
      "include_colab_link": true
    },
    "kernelspec": {
      "name": "python3",
      "display_name": "Python 3"
    },
    "language_info": {
      "name": "python"
    }
  },
  "cells": [
    {
      "cell_type": "markdown",
      "metadata": {
        "id": "view-in-github",
        "colab_type": "text"
      },
      "source": [
        "<a href=\"https://colab.research.google.com/github/devyulbae/AIClass/blob/main/Ex)_Numpy.ipynb\" target=\"_parent\"><img src=\"https://colab.research.google.com/assets/colab-badge.svg\" alt=\"Open In Colab\"/></a>"
      ]
    },
    {
      "cell_type": "markdown",
      "source": [
        "## Numpy Ex\n",
        "### Numpy import\n",
        "* 넘파이 사용을 위해 import\n",
        "* 만약 설치가 안되어 있다면 설치해줍니다.\n",
        "```\n",
        "!pip install numpy\n",
        "```\n"
      ],
      "metadata": {
        "id": "fCl6AO9dvWdQ"
      }
    },
    {
      "cell_type": "code",
      "source": [
        "import numpy as np"
      ],
      "metadata": {
        "id": "Ep63dVNjwgIK"
      },
      "execution_count": 1,
      "outputs": []
    },
    {
      "cell_type": "markdown",
      "source": [
        "## 문제 1: 배열 생성과 기본 연산\n",
        "### 1.1 크기가 10인 0으로 채워진 배열 생성"
      ],
      "metadata": {
        "id": "-TAcOaLowz2X"
      }
    },
    {
      "cell_type": "code",
      "source": [
        "# np.zeros\n",
        "arr1 = np.zeros(10)\n",
        "arr1"
      ],
      "metadata": {
        "id": "Lw9nHOGbw4fO",
        "outputId": "c83b3268-a543-42bd-c757-bc8f7a3ac2ab",
        "colab": {
          "base_uri": "https://localhost:8080/"
        }
      },
      "execution_count": 3,
      "outputs": [
        {
          "output_type": "execute_result",
          "data": {
            "text/plain": [
              "array([0., 0., 0., 0., 0., 0., 0., 0., 0., 0.])"
            ]
          },
          "metadata": {},
          "execution_count": 3
        }
      ]
    },
    {
      "cell_type": "markdown",
      "source": [
        "---"
      ],
      "metadata": {
        "id": "AJi0rrkVy7Zl"
      }
    },
    {
      "cell_type": "markdown",
      "source": [
        "### 1.2 배열의 5번째 원소를 1로 설정"
      ],
      "metadata": {
        "id": "Fwd7rYv2w6Ph"
      }
    },
    {
      "cell_type": "code",
      "source": [
        "# indexing\n",
        "arr1[4] = 1\n",
        "arr1"
      ],
      "metadata": {
        "id": "Kd5nT4dbw_hv",
        "outputId": "4a849f1b-351d-4740-8d93-2955c5e4fd32",
        "colab": {
          "base_uri": "https://localhost:8080/"
        }
      },
      "execution_count": 6,
      "outputs": [
        {
          "output_type": "execute_result",
          "data": {
            "text/plain": [
              "array([0., 0., 0., 0., 1., 1., 0., 0., 0., 0.])"
            ]
          },
          "metadata": {},
          "execution_count": 6
        }
      ]
    },
    {
      "cell_type": "markdown",
      "source": [
        "---"
      ],
      "metadata": {
        "id": "zntdhT5Ty806"
      }
    },
    {
      "cell_type": "markdown",
      "source": [
        "### 1.3 10에서 50까지의 정수를 담은 배열 생성"
      ],
      "metadata": {
        "id": "BGVFzGiJxBBW"
      }
    },
    {
      "cell_type": "code",
      "source": [
        "# np.arange\n",
        "arr2 = np.arange(10,51)\n",
        "arr2"
      ],
      "metadata": {
        "id": "A3wB4C0wxExu",
        "outputId": "d57adcce-8b14-451c-a74f-1c1e59d569a5",
        "colab": {
          "base_uri": "https://localhost:8080/"
        }
      },
      "execution_count": 9,
      "outputs": [
        {
          "output_type": "execute_result",
          "data": {
            "text/plain": [
              "array([10, 11, 12, 13, 14, 15, 16, 17, 18, 19, 20, 21, 22, 23, 24, 25, 26,\n",
              "       27, 28, 29, 30, 31, 32, 33, 34, 35, 36, 37, 38, 39, 40, 41, 42, 43,\n",
              "       44, 45, 46, 47, 48, 49, 50])"
            ]
          },
          "metadata": {},
          "execution_count": 9
        }
      ]
    },
    {
      "cell_type": "markdown",
      "source": [
        "---"
      ],
      "metadata": {
        "id": "xl5KVGTlzBdR"
      }
    },
    {
      "cell_type": "markdown",
      "source": [
        "### 1.4 배열 뒤집기"
      ],
      "metadata": {
        "id": "-XL8VGyFxJOn"
      }
    },
    {
      "cell_type": "code",
      "source": [
        "# slicing\n",
        "arr2_reversed = np.flip(arr2)\n",
        "arr2_reversed"
      ],
      "metadata": {
        "id": "E6LgXTDBxF7Z",
        "outputId": "b8fa803b-f797-44d5-af80-93c8b45588d2",
        "colab": {
          "base_uri": "https://localhost:8080/"
        }
      },
      "execution_count": 13,
      "outputs": [
        {
          "output_type": "execute_result",
          "data": {
            "text/plain": [
              "array([50, 49, 48, 47, 46, 45, 44, 43, 42, 41, 40, 39, 38, 37, 36, 35, 34,\n",
              "       33, 32, 31, 30, 29, 28, 27, 26, 25, 24, 23, 22, 21, 20, 19, 18, 17,\n",
              "       16, 15, 14, 13, 12, 11, 10])"
            ]
          },
          "metadata": {},
          "execution_count": 13
        }
      ]
    },
    {
      "cell_type": "markdown",
      "source": [
        "---"
      ],
      "metadata": {
        "id": "KBCT0YAozCNc"
      }
    },
    {
      "cell_type": "markdown",
      "source": [
        "### 1.5 3x3 단위행렬 생성"
      ],
      "metadata": {
        "id": "Zc0xIyHnxNqc"
      }
    },
    {
      "cell_type": "code",
      "source": [
        "# np.eye\n",
        "idt_mat = np.eye(3)\n",
        "idt_mat"
      ],
      "metadata": {
        "id": "hM5fFYZSxQdF",
        "outputId": "b5a74152-b0f3-4afe-8b21-5c5ff9d91e32",
        "colab": {
          "base_uri": "https://localhost:8080/"
        }
      },
      "execution_count": 14,
      "outputs": [
        {
          "output_type": "execute_result",
          "data": {
            "text/plain": [
              "array([[1., 0., 0.],\n",
              "       [0., 1., 0.],\n",
              "       [0., 0., 1.]])"
            ]
          },
          "metadata": {},
          "execution_count": 14
        }
      ]
    },
    {
      "cell_type": "markdown",
      "source": [
        "---"
      ],
      "metadata": {
        "id": "rEUhnW22zDCE"
      }
    },
    {
      "cell_type": "markdown",
      "source": [
        "## 문제 2: 통계\n",
        "\n",
        "### 2.1 크기가 30인 무작위 정수 배열 생성, 평균 구하기"
      ],
      "metadata": {
        "id": "fc6V1BYexTZX"
      }
    },
    {
      "cell_type": "code",
      "source": [
        "# randint\n",
        "rand_arr = np.random.randint(-100, 100, size=30)\n",
        "\n",
        "print(rand_arr)"
      ],
      "metadata": {
        "id": "lUwNSKojxnrA",
        "outputId": "d1051831-395e-49a9-fb43-6fd577f05798",
        "colab": {
          "base_uri": "https://localhost:8080/"
        }
      },
      "execution_count": 19,
      "outputs": [
        {
          "output_type": "stream",
          "name": "stdout",
          "text": [
            "[-69  76 -74   9   7 -68 -88 -34  96 -37  25  51   4  43  79 -98  53  20\n",
            "   4 -88  58 -35  88 -84 -13  71 -11  52  96 -86]\n"
          ]
        }
      ]
    },
    {
      "cell_type": "markdown",
      "source": [
        "---"
      ],
      "metadata": {
        "id": "eG3Sam2uzDsi"
      }
    },
    {
      "cell_type": "markdown",
      "source": [
        "### 2.2 5x5 크기의 2차원 배열, 최댓값과 최솟값 찾기"
      ],
      "metadata": {
        "id": "Ug22lcJUxotJ"
      }
    },
    {
      "cell_type": "code",
      "source": [
        "# rand(randint), np.max, np.min\n",
        "rand_arr_2d = np.random.randint(0,10,size=(5,5))\n",
        "\n",
        "max_val, min_val = rand_arr_2d.max(), rand_arr_2d.min()\n",
        "print(rand_arr_2d)\n",
        "print(max_val, min_val)"
      ],
      "metadata": {
        "id": "6WFn3L4CxsMT",
        "outputId": "4291fc63-8f81-41e6-80c6-6c948dae5713",
        "colab": {
          "base_uri": "https://localhost:8080/"
        }
      },
      "execution_count": 24,
      "outputs": [
        {
          "output_type": "stream",
          "name": "stdout",
          "text": [
            "[[8 0 0 2 1]\n",
            " [5 2 3 7 3]\n",
            " [7 3 1 4 4]\n",
            " [1 9 5 6 7]\n",
            " [5 3 7 4 4]]\n",
            "9 0\n"
          ]
        }
      ]
    },
    {
      "cell_type": "markdown",
      "source": [
        "---"
      ],
      "metadata": {
        "id": "CSxe41PEzEb7"
      }
    },
    {
      "cell_type": "markdown",
      "source": [
        "## 문제 3: 인덱싱과 슬라이싱\n",
        "\n",
        "### 3.1 크기가 10인 배열 생성, 4번째에서 8번째 원소를 -1로 설정"
      ],
      "metadata": {
        "id": "2lhd1oC7xt1x"
      }
    },
    {
      "cell_type": "code",
      "source": [
        "# np.ones\n",
        "arr3 = np.zeros(10)\n",
        "arr3[3:8] = -1\n",
        "arr3"
      ],
      "metadata": {
        "id": "YZ2o5FAFxzp-",
        "outputId": "1fbe91e8-4a28-486c-e58c-53d531ddb770",
        "colab": {
          "base_uri": "https://localhost:8080/"
        }
      },
      "execution_count": 25,
      "outputs": [
        {
          "output_type": "execute_result",
          "data": {
            "text/plain": [
              "array([ 0.,  0.,  0., -1., -1., -1., -1., -1.,  0.,  0.])"
            ]
          },
          "metadata": {},
          "execution_count": 25
        }
      ]
    },
    {
      "cell_type": "markdown",
      "source": [
        "---"
      ],
      "metadata": {
        "id": "pu2v8y38zFpw"
      }
    },
    {
      "cell_type": "markdown",
      "source": [
        "### 3.2 10x10 크기의 2차원 배열, 안쪽 8x8 추출"
      ],
      "metadata": {
        "id": "TANrK2isx1Sm"
      }
    },
    {
      "cell_type": "code",
      "source": [
        "arr4 = np.random.randint(10, size=(10,10))\n",
        "\n",
        "inner_arr4 = arr4[:8,:8]\n",
        "print(inner_arr4)"
      ],
      "metadata": {
        "id": "VoFM-IBfx5zs",
        "outputId": "514f4656-dd81-40a0-886c-a976bdd26321",
        "colab": {
          "base_uri": "https://localhost:8080/"
        }
      },
      "execution_count": 28,
      "outputs": [
        {
          "output_type": "stream",
          "name": "stdout",
          "text": [
            "[[7 2 4 4 4 5 5 9]\n",
            " [3 6 0 0 7 7 2 8]\n",
            " [1 3 2 2 3 6 8 5]\n",
            " [8 5 8 7 6 5 4 1]\n",
            " [0 7 1 4 1 9 1 8]\n",
            " [7 0 5 8 1 6 9 0]\n",
            " [2 8 1 5 5 1 4 8]\n",
            " [0 9 2 2 0 1 4 4]]\n"
          ]
        }
      ]
    },
    {
      "cell_type": "markdown",
      "source": [
        "---"
      ],
      "metadata": {
        "id": "pAdMjx3AzGdF"
      }
    },
    {
      "cell_type": "markdown",
      "source": [
        "## 문제 4: 불리언 인덱싱\n",
        "### 4.1 크기가 10인 무작위 정수 배열 생성"
      ],
      "metadata": {
        "id": "UlTHUUZ4x6_C"
      }
    },
    {
      "cell_type": "code",
      "source": [
        "# np.random.randint\n",
        "rand_arr = np.random.randint(5,15, size=10)\n",
        "rand_arr"
      ],
      "metadata": {
        "id": "o9M3YCKSyBlU",
        "outputId": "55a55a11-2c06-4ee4-88d7-8f1ee0d65d19",
        "colab": {
          "base_uri": "https://localhost:8080/"
        }
      },
      "execution_count": 32,
      "outputs": [
        {
          "output_type": "execute_result",
          "data": {
            "text/plain": [
              "array([ 5, 13,  8,  9,  6,  6, 12,  9, 14,  5])"
            ]
          },
          "metadata": {},
          "execution_count": 32
        }
      ]
    },
    {
      "cell_type": "markdown",
      "source": [
        "---"
      ],
      "metadata": {
        "id": "c_6WfgtazHOC"
      }
    },
    {
      "cell_type": "markdown",
      "source": [
        "### 4.2 배열에서 8보다 큰 값만 추출"
      ],
      "metadata": {
        "id": "7HdrDRQRx7CS"
      }
    },
    {
      "cell_type": "code",
      "source": [
        "# 주어진 배열 안에서 arr[arr > 8] 조건에 만족하는 값을 뽑아서 출력해줍니다."
      ],
      "metadata": {
        "id": "uysIOPAOyGoO"
      },
      "execution_count": null,
      "outputs": []
    },
    {
      "cell_type": "code",
      "source": [
        "ft_rand_arr = rand_arr[rand_arr > 8]\n",
        "ft_rand_arr"
      ],
      "metadata": {
        "id": "QOXfJz3Cl37N",
        "outputId": "668623b1-1590-4fa9-f5e0-2d6688e120ea",
        "colab": {
          "base_uri": "https://localhost:8080/"
        }
      },
      "execution_count": 33,
      "outputs": [
        {
          "output_type": "execute_result",
          "data": {
            "text/plain": [
              "array([13,  9, 12,  9, 14])"
            ]
          },
          "metadata": {},
          "execution_count": 33
        }
      ]
    },
    {
      "cell_type": "markdown",
      "source": [
        "---"
      ],
      "metadata": {
        "id": "ysFUsEEczIWt"
      }
    },
    {
      "cell_type": "markdown",
      "source": [
        "## 문제 5: 선형대수\n",
        "### 5.1 5x5 크기의 무작위 정수 배열 생성"
      ],
      "metadata": {
        "id": "P8HmIppFyHIP"
      }
    },
    {
      "cell_type": "code",
      "source": [
        "# randint\n",
        "mat = np.random.randint(5, size=(5,5))\n",
        "mat"
      ],
      "metadata": {
        "id": "Clfcjh5pyO69",
        "outputId": "9b918d2f-4cce-49a5-b460-662f16440d61",
        "colab": {
          "base_uri": "https://localhost:8080/"
        }
      },
      "execution_count": 39,
      "outputs": [
        {
          "output_type": "execute_result",
          "data": {
            "text/plain": [
              "array([[3, 1, 4, 1, 0],\n",
              "       [1, 4, 2, 2, 0],\n",
              "       [4, 2, 1, 3, 1],\n",
              "       [2, 4, 2, 2, 4],\n",
              "       [1, 4, 4, 1, 3]])"
            ]
          },
          "metadata": {},
          "execution_count": 39
        }
      ]
    },
    {
      "cell_type": "markdown",
      "source": [
        "---"
      ],
      "metadata": {
        "id": "0BsCe2YVzJaH"
      }
    },
    {
      "cell_type": "markdown",
      "source": [
        "### 5.2 역행렬 구하기"
      ],
      "metadata": {
        "id": "NhT1rGS4yPbx"
      }
    },
    {
      "cell_type": "code",
      "source": [
        "# np.linalg.inv(arr)\n",
        "inverse_mat = np.linalg.inv(mat).round(decimals=2)\n",
        "inverse_mat"
      ],
      "metadata": {
        "id": "35tWBvUaySfW",
        "outputId": "6e3d0fca-7dda-418b-84d7-347e1f1d76ac",
        "colab": {
          "base_uri": "https://localhost:8080/"
        }
      },
      "execution_count": 42,
      "outputs": [
        {
          "output_type": "execute_result",
          "data": {
            "text/plain": [
              "array([[ 2.46,  1.15, -2.77,  3.92, -4.31],\n",
              "       [ 1.92,  1.31, -2.54,  3.35, -3.62],\n",
              "       [-1.08, -0.69,  1.46, -2.15,  2.38],\n",
              "       [-4.  , -2.  ,  5.  , -6.5 ,  7.  ],\n",
              "       [-0.62, -0.54,  0.69, -0.73,  1.08]])"
            ]
          },
          "metadata": {},
          "execution_count": 42
        }
      ]
    },
    {
      "cell_type": "markdown",
      "source": [
        "---"
      ],
      "metadata": {
        "id": "y5OGWszxzKHv"
      }
    },
    {
      "cell_type": "markdown",
      "source": [
        "### 5.3 내적 구하기"
      ],
      "metadata": {
        "id": "aA0yz6P2yTEl"
      }
    },
    {
      "cell_type": "code",
      "source": [
        "dot_p = np.dot(mat, inverse_mat).round(decimals=2)\n",
        "dot_p\n",
        "\n",
        "# 값이 정확하진 않지만 단위행렬에 근사하는 것을 알 수 있다."
      ],
      "metadata": {
        "id": "GwG-L5hCyWsn",
        "outputId": "c33c5b2a-5551-4b37-ab7a-b06120e08be5",
        "colab": {
          "base_uri": "https://localhost:8080/"
        }
      },
      "execution_count": 44,
      "outputs": [
        {
          "output_type": "execute_result",
          "data": {
            "text/plain": [
              "array([[ 0.98,  0.  , -0.01,  0.01, -0.03],\n",
              "       [-0.02,  1.01, -0.01,  0.02, -0.03],\n",
              "       [-0.02, -0.01,  0.99,  0.  , -0.02],\n",
              "       [-0.04,  0.  , -0.02,  1.02, -0.02],\n",
              "       [-0.04,  0.01, -0.02,  0.03,  0.97]])"
            ]
          },
          "metadata": {},
          "execution_count": 44
        }
      ]
    },
    {
      "cell_type": "markdown",
      "source": [
        "---"
      ],
      "metadata": {
        "id": "beSsgf6MzKx5"
      }
    }
  ]
}