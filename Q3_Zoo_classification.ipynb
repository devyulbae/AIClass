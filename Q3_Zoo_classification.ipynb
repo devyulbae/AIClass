{
  "nbformat": 4,
  "nbformat_minor": 0,
  "metadata": {
    "colab": {
      "provenance": [],
      "include_colab_link": true
    },
    "kernelspec": {
      "display_name": "Python 3",
      "name": "python3"
    },
    "language_info": {
      "codemirror_mode": {
        "name": "ipython",
        "version": 3
      },
      "file_extension": ".py",
      "mimetype": "text/x-python",
      "name": "python",
      "nbconvert_exporter": "python",
      "pygments_lexer": "ipython3",
      "version": "3.7.3"
    }
  },
  "cells": [
    {
      "cell_type": "markdown",
      "metadata": {
        "id": "view-in-github",
        "colab_type": "text"
      },
      "source": [
        "<a href=\"https://colab.research.google.com/github/devyulbae/AIClass/blob/main/Q3_Zoo_classification.ipynb\" target=\"_parent\"><img src=\"https://colab.research.google.com/assets/colab-badge.svg\" alt=\"Open In Colab\"/></a>"
      ]
    },
    {
      "cell_type": "code",
      "metadata": {
        "id": "HA9F-ehts7th",
        "outputId": "6b480548-e9d9-4d75-b4ee-9a95282505ed",
        "colab": {
          "base_uri": "https://localhost:8080/",
          "height": 35
        }
      },
      "source": [
        "import tensorflow as tf\n",
        "import numpy as np\n",
        "import matplotlib.pyplot as plt\n",
        "\n",
        "tf.__version__"
      ],
      "execution_count": 1,
      "outputs": [
        {
          "output_type": "execute_result",
          "data": {
            "text/plain": [
              "'2.15.0'"
            ],
            "application/vnd.google.colaboratory.intrinsic+json": {
              "type": "string"
            }
          },
          "metadata": {},
          "execution_count": 1
        }
      ]
    },
    {
      "cell_type": "code",
      "metadata": {
        "id": "Br8r6gNSC8fg",
        "outputId": "fe1741de-1b57-4519-9b40-c79943a237a8",
        "colab": {
          "base_uri": "https://localhost:8080/"
        }
      },
      "source": [
        "from google.colab import drive\n",
        "drive.mount('/content/drive')"
      ],
      "execution_count": 2,
      "outputs": [
        {
          "output_type": "stream",
          "name": "stdout",
          "text": [
            "Drive already mounted at /content/drive; to attempt to forcibly remount, call drive.mount(\"/content/drive\", force_remount=True).\n"
          ]
        }
      ]
    },
    {
      "cell_type": "markdown",
      "metadata": {
        "id": "roKevKwlsiqr"
      },
      "source": [
        "# ZOO classification\n",
        "\n",
        "### Data list\n",
        "\n",
        "1. 동물 이름  animal name:     (deleted)\n",
        "2. 털  hair     Boolean\n",
        "3. 깃털  feathers     Boolean\n",
        "4. 알  eggs     Boolean\n",
        "5. 우유 milk     Boolean\n",
        "6. 날 수있는지  airborne     Boolean\n",
        "7. 수중 생물  aquatic      Boolean\n",
        "8. 포식자  predator     Boolean\n",
        "9. 이빨이 있는지 toothed      Boolean\n",
        "10. 척추 동물  backbone     Boolean\n",
        "11. 호흡 방법  breathes     Boolean\n",
        "12. 독  venomous     Boolean\n",
        "13. 물갈퀴  fins     Boolean\n",
        "14. 다리  legs     Numeric (set of values: {0\",2,4,5,6,8})\n",
        "15. 꼬리  tail     Boolean\n",
        "16. 사육 가능한 지 domestic     Boolean\n",
        "17. 고양이 크기인지 catsize      Boolean\n",
        "18. 동물 타입 type     Numeric (integer values in range [0\",6])"
      ]
    },
    {
      "cell_type": "code",
      "metadata": {
        "id": "-i11AGBVtU1s",
        "outputId": "b30898e7-9d60-469a-f2d0-0ba40a2ca873",
        "colab": {
          "base_uri": "https://localhost:8080/"
        }
      },
      "source": [
        "xy = np.loadtxt('/content/drive/MyDrive/datas/data-04-zoo.csv',\n",
        "                delimiter=',',\n",
        "                dtype=np.int32)\n",
        "x_train = xy[0:-10, 0:-1]\n",
        "y_train = xy[0:-10, [-1]]\n",
        "\n",
        "x_train = tf.cast(x_train, tf.float32)\n",
        "\n",
        "x_test = xy[-10:, 0:-1]\n",
        "y_test = xy[-10:, [-1]]\n",
        "\n",
        "x_test = tf.cast(x_test, tf.float32)\n",
        "\n",
        "nb_classes = 7  # 0 ~ 6\n",
        "\n",
        "# [0, 1, 2] 총 class가 3개일때,\n",
        "# label : 0, 0, 1, 2, 0, 1, 2 ....\n",
        "# 1 => [0, 1, 0]\n",
        "# 0 => [1, 0, 0]\n",
        "# 2 => [0, 0, 1]\n",
        "\n",
        "print(y_train[15])\n",
        "y_train = tf.one_hot(list(y_train), nb_classes)\n",
        "y_train = tf.reshape(y_train, [-1, nb_classes])\n",
        "print(y_train[15])\n",
        "\n",
        "y_test = tf.one_hot(list(y_test), nb_classes)\n",
        "y_test = tf.reshape(y_test, [-1, nb_classes])\n",
        "\n",
        "print(x_train.shape, y_train.shape)\n",
        "print(x_test.shape, y_test.shape)\n",
        "\n",
        "print(x_train.dtype, y_train.dtype)\n",
        "print(x_test.dtype, y_test.dtype)\n"
      ],
      "execution_count": 3,
      "outputs": [
        {
          "output_type": "stream",
          "name": "stdout",
          "text": [
            "[6]\n",
            "tf.Tensor([0. 0. 0. 0. 0. 0. 1.], shape=(7,), dtype=float32)\n",
            "(91, 16) (91, 7)\n",
            "(10, 16) (10, 7)\n",
            "<dtype: 'float32'> <dtype: 'float32'>\n",
            "<dtype: 'float32'> <dtype: 'float32'>\n"
          ]
        }
      ]
    },
    {
      "cell_type": "code",
      "metadata": {
        "id": "vA5v-Z1butQj",
        "outputId": "8705ccee-c2f8-48e2-8173-0f2e3468aa67",
        "colab": {
          "base_uri": "https://localhost:8080/"
        }
      },
      "source": [
        "dataset = tf.data.Dataset.from_tensor_slices((x_train, y_train)).batch(len(x_train))\n",
        "\n",
        "W = tf.Variable(tf.random.normal([16, 7]), name='weight')\n",
        "b = tf.Variable(tf.random.normal([7]), name='bias')\n",
        "\n",
        "print(W.shape, b.shape)"
      ],
      "execution_count": 4,
      "outputs": [
        {
          "output_type": "stream",
          "name": "stdout",
          "text": [
            "(16, 7) (7,)\n"
          ]
        }
      ]
    },
    {
      "cell_type": "markdown",
      "metadata": {
        "id": "V4r7rIGXsiqy"
      },
      "source": [
        "# 가설 설정\n",
        "\n",
        "* 주어진 동물의 데이터들로 분류하는 가설 모델을 생성한다\n",
        "\n",
        "## $$ y_k = \\frac{exp(H(x_k))}{\\sum_{i=1}^{n}exp(H(x_i))}  $$"
      ]
    },
    {
      "cell_type": "code",
      "metadata": {
        "id": "koTAYczVts_I"
      },
      "source": [
        "def lr_softmax(features): # hypothesis_softmax\n",
        "    return tf.nn.softmax(tf.matmul(features, W) + b)\n",
        "\n",
        "print(lr_softmax(x_train))"
      ],
      "execution_count": null,
      "outputs": []
    },
    {
      "cell_type": "markdown",
      "metadata": {
        "id": "r7Biydb3siq2"
      },
      "source": [
        "## Loss Function\n",
        "\n",
        "##$$\n",
        "\\begin{align}\n",
        "cost(H(x),y) & = −\\sum_{n=1}^{n} Y log(H(x))\n",
        "\\end{align}\n",
        "$$"
      ]
    },
    {
      "cell_type": "code",
      "metadata": {
        "id": "sh42tbvItxYP"
      },
      "source": [
        "def loss_fn(hypothesis, labels):\n",
        "  loss = tf.keras.losses.categorical_crossentropy(labels, hypothesis)\n",
        "  # tf.keras.losses.binary_crossentropy(labels, hypothesis) # 이진분류용 CE Loss\n",
        "  # loss = -tf.reduce_mean(labels * tf.math.log(hypothesis))\n",
        "  return loss\n",
        "\n",
        "optimizer = tf.compat.v1.train.GradientDescentOptimizer(learning_rate=1e-2)"
      ],
      "execution_count": 6,
      "outputs": []
    },
    {
      "cell_type": "code",
      "metadata": {
        "id": "ZOSOjizZtx03",
        "outputId": "4cc863d5-7d65-4ef7-cae2-7dd40a5fdd85",
        "colab": {
          "base_uri": "https://localhost:8080/"
        }
      },
      "source": [
        "epochs = 5001\n",
        "\n",
        "for step in range(epochs):\n",
        "  for features, labels in dataset:\n",
        "    with tf.GradientTape() as tape:\n",
        "      loss_value = loss_fn(lr_softmax(features),labels)\n",
        "      grads = tape.gradient(loss_value, [W, b])\n",
        "      optimizer.apply_gradients(grads_and_vars=zip(grads, [W, b]))\n",
        "      if step % 100 == 0:\n",
        "            print(\"Iter: {}, Loss: {:.4f}\".format(step, tf.reduce_mean(loss_fn(lr_softmax(features),labels))))\n"
      ],
      "execution_count": 7,
      "outputs": [
        {
          "output_type": "stream",
          "name": "stdout",
          "text": [
            "Iter: 0, Loss: 2.1265\n",
            "Iter: 100, Loss: 0.1384\n",
            "Iter: 200, Loss: 0.0703\n",
            "Iter: 300, Loss: 0.0447\n",
            "Iter: 400, Loss: 0.0323\n",
            "Iter: 500, Loss: 0.0253\n",
            "Iter: 600, Loss: 0.0208\n",
            "Iter: 700, Loss: 0.0177\n",
            "Iter: 800, Loss: 0.0154\n",
            "Iter: 900, Loss: 0.0137\n",
            "Iter: 1000, Loss: 0.0123\n",
            "Iter: 1100, Loss: 0.0111\n",
            "Iter: 1200, Loss: 0.0102\n",
            "Iter: 1300, Loss: 0.0094\n",
            "Iter: 1400, Loss: 0.0087\n",
            "Iter: 1500, Loss: 0.0081\n",
            "Iter: 1600, Loss: 0.0076\n",
            "Iter: 1700, Loss: 0.0072\n",
            "Iter: 1800, Loss: 0.0068\n",
            "Iter: 1900, Loss: 0.0064\n",
            "Iter: 2000, Loss: 0.0061\n",
            "Iter: 2100, Loss: 0.0058\n",
            "Iter: 2200, Loss: 0.0055\n",
            "Iter: 2300, Loss: 0.0053\n",
            "Iter: 2400, Loss: 0.0051\n",
            "Iter: 2500, Loss: 0.0049\n",
            "Iter: 2600, Loss: 0.0047\n",
            "Iter: 2700, Loss: 0.0045\n",
            "Iter: 2800, Loss: 0.0044\n",
            "Iter: 2900, Loss: 0.0042\n",
            "Iter: 3000, Loss: 0.0041\n",
            "Iter: 3100, Loss: 0.0039\n",
            "Iter: 3200, Loss: 0.0038\n",
            "Iter: 3300, Loss: 0.0037\n",
            "Iter: 3400, Loss: 0.0036\n",
            "Iter: 3500, Loss: 0.0035\n",
            "Iter: 3600, Loss: 0.0034\n",
            "Iter: 3700, Loss: 0.0033\n",
            "Iter: 3800, Loss: 0.0032\n",
            "Iter: 3900, Loss: 0.0031\n",
            "Iter: 4000, Loss: 0.0031\n",
            "Iter: 4100, Loss: 0.0030\n",
            "Iter: 4200, Loss: 0.0029\n",
            "Iter: 4300, Loss: 0.0028\n",
            "Iter: 4400, Loss: 0.0028\n",
            "Iter: 4500, Loss: 0.0027\n",
            "Iter: 4600, Loss: 0.0027\n",
            "Iter: 4700, Loss: 0.0026\n",
            "Iter: 4800, Loss: 0.0025\n",
            "Iter: 4900, Loss: 0.0025\n",
            "Iter: 5000, Loss: 0.0024\n"
          ]
        }
      ]
    },
    {
      "cell_type": "code",
      "metadata": {
        "id": "5vben5FYty5m"
      },
      "source": [
        "def accuracy_fn(hypothesis, labels):\n",
        "    hypothesis = tf.argmax(hypothesis, 1)\n",
        "    predicted = tf.cast(hypothesis, dtype=tf.float32)\n",
        "    print(predicted)\n",
        "\n",
        "    labels = tf.argmax(labels, 1)\n",
        "    labels = tf.cast(labels, dtype=tf.float32)\n",
        "    print(labels)\n",
        "\n",
        "    accuracy = tf.reduce_mean(tf.cast(tf.equal(predicted, labels), dtype=tf.float32))\n",
        "\n",
        "    return accuracy"
      ],
      "execution_count": 8,
      "outputs": []
    },
    {
      "cell_type": "code",
      "metadata": {
        "id": "GSS_yRMRt6Pp",
        "outputId": "691a5c95-6b2a-4cd4-d1ed-08c343e29b11",
        "colab": {
          "base_uri": "https://localhost:8080/"
        }
      },
      "source": [
        "test_acc = accuracy_fn(lr_softmax(x_test),y_test)\n",
        "print(\"Testset Accuracy: {:.4f}\".format(test_acc))"
      ],
      "execution_count": 9,
      "outputs": [
        {
          "output_type": "stream",
          "name": "stdout",
          "text": [
            "tf.Tensor([4. 3. 0. 0. 1. 0. 5. 0. 6. 1.], shape=(10,), dtype=float32)\n",
            "tf.Tensor([2. 3. 0. 0. 1. 0. 5. 0. 6. 1.], shape=(10,), dtype=float32)\n",
            "Testset Accuracy: 0.9000\n"
          ]
        }
      ]
    },
    {
      "cell_type": "code",
      "metadata": {
        "id": "gNNmvKIyt6pI"
      },
      "source": [],
      "execution_count": 9,
      "outputs": []
    }
  ]
}