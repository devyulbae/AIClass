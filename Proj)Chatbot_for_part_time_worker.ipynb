{
  "nbformat": 4,
  "nbformat_minor": 0,
  "metadata": {
    "colab": {
      "private_outputs": true,
      "provenance": [],
      "authorship_tag": "ABX9TyOIlvcSOQsw19KG2GICjvqV",
      "include_colab_link": true
    },
    "kernelspec": {
      "name": "python3",
      "display_name": "Python 3"
    },
    "language_info": {
      "name": "python"
    }
  },
  "cells": [
    {
      "cell_type": "markdown",
      "metadata": {
        "id": "view-in-github",
        "colab_type": "text"
      },
      "source": [
        "<a href=\"https://colab.research.google.com/github/devyulbae/AIClass/blob/main/Proj)Chatbot_for_part_time_worker.ipynb\" target=\"_parent\"><img src=\"https://colab.research.google.com/assets/colab-badge.svg\" alt=\"Open In Colab\"/></a>"
      ]
    },
    {
      "cell_type": "markdown",
      "source": [
        "## 라이브러리 설치"
      ],
      "metadata": {
        "id": "bs_o4kUyZc8R"
      }
    },
    {
      "cell_type": "code",
      "execution_count": null,
      "metadata": {
        "id": "XpHyq7L2Y1DP"
      },
      "outputs": [],
      "source": [
        "!pip install -U langchain openai langchain-google-genai"
      ]
    },
    {
      "cell_type": "code",
      "source": [
        "!pip install PyMuPDF"
      ],
      "metadata": {
        "id": "7W1WHDfNZfwu"
      },
      "execution_count": null,
      "outputs": []
    },
    {
      "cell_type": "code",
      "source": [
        "# import lib\n",
        "import os\n",
        "from typing import Dict, List\n",
        "\n",
        "from langchain.chains import ConversationChain, LLMChain, LLMRouterChain\n",
        "from langchain.chains.router import MultiPromptChain\n",
        "from langchain.chains.router.llm_router import RouterOutputParser\n",
        "from langchain.chains.router.multi_prompt_prompt import MULTI_PROMPT_ROUTER_TEMPLATE\n",
        "# from langchain.chat_models import ChatOpenAI\n",
        "from langchain_google_genai import ChatGoogleGenerativeAI\n",
        "from langchain.prompts import PromptTemplate\n",
        "from langchain.prompts.chat import ChatPromptTemplate\n",
        "from pydantic import BaseModel"
      ],
      "metadata": {
        "id": "KZXmeG4aZm4W"
      },
      "execution_count": null,
      "outputs": []
    },
    {
      "cell_type": "markdown",
      "source": [
        "## Google Drive"
      ],
      "metadata": {
        "id": "z_7zgiZkaHfG"
      }
    },
    {
      "cell_type": "code",
      "source": [
        "# google drive\n",
        "from google.colab import drive\n",
        "drive.mount(\"/content/drive/\")"
      ],
      "metadata": {
        "id": "OBG-gLv7aJ61"
      },
      "execution_count": null,
      "outputs": []
    },
    {
      "cell_type": "markdown",
      "source": [
        "## API link"
      ],
      "metadata": {
        "id": "ig-Q5ciJZxw2"
      }
    },
    {
      "cell_type": "code",
      "source": [
        "import getpass\n",
        "\n",
        "# os.environ[\"OPENAI_API_KEY\"] = getpass.getpass()\n",
        "os.environ[\"GOOGLE_API_KEY\"] = getpass.getpass()   # https://makersuite.google.com/app/apikey"
      ],
      "metadata": {
        "id": "Uvp4o7msZxe1"
      },
      "execution_count": null,
      "outputs": []
    },
    {
      "cell_type": "markdown",
      "source": [
        "## PDF 읽기"
      ],
      "metadata": {
        "id": "ubV8lSe4Z_-y"
      }
    },
    {
      "cell_type": "code",
      "source": [
        "import fitz\n",
        "\n",
        "path = \"/content/drive/MyDrive/pdf/part_time_workers/\"\n",
        "\n",
        "doc_list = [\"근로기준법\", \"산업재해보상보험법\", \"최저임금법\", \"헌법제32조\"]\n",
        "docs = {\"근로기준법\": \"\", \"산업재해보상보험법\": \"\", \"최저임금법\": \"\", \"헌법제32조\": \"\"}\n",
        "\n",
        "for filename in os.listdir(path):\n",
        "    if filename.endswith(\".pdf\"):\n",
        "        pdf_path = os.path.join(path, filename)\n",
        "        filename = os.path.splitext(filename)[0]\n",
        "\n",
        "        print(filename)\n",
        "        pdf = fitz.open(pdf_path)\n",
        "        for page in pdf:\n",
        "          page = page.get_text()\n",
        "          print(page)\n",
        "          docs[filename] += page\n",
        "        pdf.close()"
      ],
      "metadata": {
        "id": "maIXoMxaaCMa"
      },
      "execution_count": null,
      "outputs": []
    },
    {
      "cell_type": "code",
      "source": [
        "print(docs[\"근로기준법\"])"
      ],
      "metadata": {
        "id": "M1oo38aNgkNO"
      },
      "execution_count": null,
      "outputs": []
    },
    {
      "cell_type": "code",
      "source": [
        "def create_chain(llm, template_prompt, output_key):\n",
        "    return LLMChain(\n",
        "        llm=llm,\n",
        "        prompt=ChatPromptTemplate.from_template(\n",
        "            template=template_prompt\n",
        "        ),\n",
        "        output_key=output_key,\n",
        "        verbose=True,\n",
        "    )\n",
        "\n",
        "\n",
        "llm = ChatGoogleGenerativeAI(model=\"gemini-pro\")\n",
        "\n",
        "rule_1 = create_chain(\n",
        "    llm=llm,\n",
        "    template_prompt=docs[\"근로기준법\"],\n",
        "    output_key=\"text\",\n",
        ")\n",
        "rule_2 = create_chain(\n",
        "    llm=llm,\n",
        "    template_prompt=docs[\"산업재해보상보험법\"],\n",
        "    output_key=\"text\",\n",
        ")\n",
        "rule_3 = create_chain(\n",
        "    llm=llm,\n",
        "    template_prompt=docs[\"최저임금법\"],\n",
        "    output_key=\"text\",\n",
        ")\n",
        "rule_4 = create_chain(\n",
        "    llm=llm,\n",
        "    template_prompt=docs[\"헌법제32조\"],\n",
        "    output_key=\"text\",\n",
        ")\n",
        "\n",
        "\n",
        "destinations = [\n",
        "    \"산업재해보상보험법: 이 법의 목적에 적합할 경우에 이 키워드를 선택해줘. 목적: 이 법은 산업재해보상보험 사업을 시행하여 근로자의 업무상의 재해를 신속하고 공정하게 보상하며, 재해근로자의 재활 및 사회 복귀를 촉진하기 위하여 이에 필요한 보험시설을 설치ㆍ운영하고, 재해 예방과 그 밖에 근로자의 복지 증진을 위한 사업을 시행하여 근로자 보호에 이바지하는 것을 목적으로 한다.\",\n",
        "    \"최저임금법: 이 법의 목적에 적합할 경우에 이 키워드를 선택해줘. 목적: 이 법은 근로자에 대하여 임금의 최저수준을 보장하여 근로자의 생활안정과 노동력의 질적 향상을 꾀함으로써 국민경제의 건전한 발전에 이바지하는 것을 목적으로 한다.\"\n",
        "    \"근로기준법: 이 법의 목적에 적합할 경우에 이 키워드를 선택해줘. 목적: 이 법은 헌법에 따라 근로조건의 기준을 정함으로써 근로자의 기본적 생활을 보장, 향상시키며 균형 있는 국민경제의 발전을 꾀하는 것을 목적으로 한다.\",\n",
        "    \"헌법제32조: 여성이 근로에서 받는 불이익에 관한 이야기는 이 키워드를 다른 키워드와 함께 선택해줘\"\n",
        "]\n",
        "destinations = \"\\n\".join(destinations)\n",
        "router_prompt_template = MULTI_PROMPT_ROUTER_TEMPLATE.format(destinations=destinations)\n",
        "router_prompt = PromptTemplate.from_template(\n",
        "    template=router_prompt_template, output_parser=RouterOutputParser()\n",
        ")\n",
        "router_chain = LLMRouterChain.from_llm(llm=llm, prompt=router_prompt, verbose=True)\n",
        "\n",
        "multi_prompt_chain = MultiPromptChain(\n",
        "    router_chain=router_chain,\n",
        "    destination_chains={\n",
        "        \"근로기준법\": rule_1,\n",
        "        \"산업재해보상보험법\": rule_2,\n",
        "        \"최저임금법\": rule_3,\n",
        "        \"헌법제32조\": rule_4,\n",
        "    },\n",
        "    default_chain=ConversationChain(llm=llm, output_key=\"text\"),\n",
        ")\n",
        "\n",
        "\n",
        "class UserRequest(BaseModel):\n",
        "    user_message: str\n",
        "\n",
        "\n",
        "def gernerate_answer(req: UserRequest) -> Dict[str, str]:\n",
        "    context = req.dict()\n",
        "    context[\"input\"] = context[\"user_message\"]\n",
        "    answer = multi_prompt_chain.invoke(context)\n",
        "\n",
        "    return {\"answer\": answer}"
      ],
      "metadata": {
        "id": "durkZdcyhrBL"
      },
      "execution_count": null,
      "outputs": []
    },
    {
      "cell_type": "code",
      "source": [
        "user_data = {\n",
        "    \"user_message\": \"주휴수당을 받으려면 1주일에 몇시간 이상 일해야 해?\"\n",
        "}"
      ],
      "metadata": {
        "id": "k6k72w7con9m"
      },
      "execution_count": null,
      "outputs": []
    },
    {
      "cell_type": "code",
      "source": [
        "request_instance = UserRequest(**user_data)\n",
        "gernerate_answer(request_instance)"
      ],
      "metadata": {
        "id": "FsdS7tReorOi"
      },
      "execution_count": null,
      "outputs": []
    }
  ]
}