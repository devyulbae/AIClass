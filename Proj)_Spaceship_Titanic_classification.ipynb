{
  "nbformat": 4,
  "nbformat_minor": 0,
  "metadata": {
    "colab": {
      "provenance": [],
      "gpuType": "T4",
      "include_colab_link": true
    },
    "kernelspec": {
      "name": "python3",
      "display_name": "Python 3"
    },
    "language_info": {
      "name": "python"
    },
    "accelerator": "GPU"
  },
  "cells": [
    {
      "cell_type": "markdown",
      "metadata": {
        "id": "view-in-github",
        "colab_type": "text"
      },
      "source": [
        "<a href=\"https://colab.research.google.com/github/devyulbae/AIClass/blob/main/Proj)_Spaceship_Titanic_classification.ipynb\" target=\"_parent\"><img src=\"https://colab.research.google.com/assets/colab-badge.svg\" alt=\"Open In Colab\"/></a>"
      ]
    },
    {
      "cell_type": "markdown",
      "source": [
        "# Spaceship Titanic with DL\n",
        "### 배경\n",
        "* 우주의 미스터리를 풀기 위해 데이터 과학 기술이 필요한 2912년에 오신 것을 환영합니다. 4광년 떨어진 곳에서 전송을 받았는데 상태가 좋지 않습니다.\n",
        "\n",
        "* 우주선 타이타닉은 한 달 전에 발사된 성간 여객선이었습니다. 약 13,000명의 승객을 태운 이 선박은 우리 태양계에서 가까운 별을 도는 새로 거주 가능한 세 개의 외계 행성으로 이민자들을 수송하는 첫 항해를 시작했습니다.\n",
        "\n",
        "* 첫 번째 목적지인 55 Cancri E로 가는 도중 Alpha Centauri를 돌던 중 부주의한 우주선 Titanic이 먼지 구름 속에 숨겨진 시공간 변칙과 충돌했습니다. 안타깝게도 1000년 전의 이름과 비슷한 운명을 맞이했습니다. 배는 온전했지만 승객의 거의 절반이 다른 차원으로 이동했습니다!\n",
        "\n",
        "### 데이터 정보\n",
        "* *PassengerId*\n",
        "    - 각 승객의 고유 ID. 각 Id는 승객이 함께 여행하는 그룹을 나타내고 그룹 내의 번호를 나타내는 형식을 취합니다 . 그룹의 사람들은 종종 가족 구성원이지만 항상 그런 것은 아닙니다.\n",
        "\n",
        "* *HomePlanet*\n",
        "    - 승객이 출발한 행성으로, 일반적으로 승객이 거주하는 행성입니다.\n",
        "\n",
        "* *CryoSleep*\n",
        "    - 승객이 항해 기간 동안 냉동 수면 선택했는지 여부를 나타냅니다. cryosleep의 승객은 객실에 갇혀 있습니다.\n",
        "\n",
        "* *Cabin*\n",
        "    - 승객이 머무르는 캐빈 번호. 형식을 취합니다 deck/num/side. 여기 에서 Port 또는 Starboard 가 side될 수 있습니다.\n",
        "\n",
        "* *Destination*\n",
        "    - 승객이 내릴 행성.\n",
        "\n",
        "* *Age*\n",
        "    - 승객의 나이.\n",
        "\n",
        "* *VIP*\n",
        "    - 승객이 항해 중 특별 VIP 서비스 비용을 지불했는지 여부.\n",
        "\n",
        "* *RoomService, FoodCourt, ShoppingMall, Spa, VRDeck*\n",
        "    - 승객이 Spaceship Titanic 의 다양한 고급 편의 시설 각각에 대해 청구한 금액입니다.\n",
        "\n",
        "* *Name*\n",
        "    - 승객의 성과 이름.\n",
        "\n",
        "* *Transported*\n",
        "    - 승객이 다른 차원으로 이동했는지 여부. 정답 데이터입니다."
      ],
      "metadata": {
        "id": "HkdCZ8yVq5Ya"
      }
    },
    {
      "cell_type": "markdown",
      "source": [
        "## import library"
      ],
      "metadata": {
        "id": "RX01utZISK6r"
      }
    },
    {
      "cell_type": "code",
      "execution_count": 1,
      "metadata": {
        "id": "Q8rWBE5W_YKL"
      },
      "outputs": [],
      "source": [
        "import pandas as pd\n",
        "import tensorflow as tf"
      ]
    },
    {
      "cell_type": "code",
      "source": [
        "# colab\n",
        "use_colab = True\n",
        "assert use_colab in [True, False]\n",
        "\n",
        "# google drive\n",
        "from google.colab import drive\n",
        "drive.mount('/content/drive')"
      ],
      "metadata": {
        "id": "jEzTXr2bok7G",
        "outputId": "bf368ab6-762c-4477-c4e2-3cb59a5e1c99",
        "colab": {
          "base_uri": "https://localhost:8080/"
        }
      },
      "execution_count": 2,
      "outputs": [
        {
          "output_type": "stream",
          "name": "stdout",
          "text": [
            "Mounted at /content/drive\n"
          ]
        }
      ]
    },
    {
      "cell_type": "markdown",
      "source": [
        "## Data Load\n",
        "### Read CSV files wit pandas"
      ],
      "metadata": {
        "id": "cf6id6YUq8ie"
      }
    },
    {
      "cell_type": "code",
      "source": [
        "train_data = pd.read_csv(\"/content/drive/MyDrive/datas/spaceship_titanic_train_data.csv\")\n",
        "train_labels = pd.read_csv(\"/content/drive/MyDrive/datas/spaceship_titanic_train_labels.csv\")\n",
        "\n",
        "test_data = pd.read_csv(\"/content/drive/MyDrive/datas/spaceship_titanic_test_data.csv\")\n",
        "test_labels = pd.read_csv(\"/content/drive/MyDrive/datas/spaceship_titanic_test_labels.csv\")\n",
        "\n",
        "train = pd.concat([train_data, train_labels], axis=1)\n",
        "test = pd.concat([test_data, test_labels], axis=1)"
      ],
      "metadata": {
        "id": "QqQ-lH0jArMP"
      },
      "execution_count": 15,
      "outputs": []
    },
    {
      "cell_type": "markdown",
      "source": [
        "### Preprocessing\n",
        "* 결측치 제거 후 데이터 로더에 연결"
      ],
      "metadata": {
        "id": "hyXdPwEYq-2m"
      }
    },
    {
      "cell_type": "code",
      "source": [
        "train = train.fillna(method='bfill')\n",
        "test = test.fillna(method='bfill')"
      ],
      "metadata": {
        "id": "eH2xjgpaDDny"
      },
      "execution_count": 16,
      "outputs": []
    },
    {
      "cell_type": "code",
      "source": [
        "train.dtypes"
      ],
      "metadata": {
        "id": "nybFLD29Eclv",
        "colab": {
          "base_uri": "https://localhost:8080/"
        },
        "outputId": "96cf2ea0-e57b-4d48-ce9f-6cadfc49b491"
      },
      "execution_count": 17,
      "outputs": [
        {
          "output_type": "execute_result",
          "data": {
            "text/plain": [
              "PassengerId      object\n",
              "HomePlanet       object\n",
              "CryoSleep          bool\n",
              "Cabin            object\n",
              "Destination      object\n",
              "Age             float64\n",
              "VIP                bool\n",
              "RoomService     float64\n",
              "FoodCourt       float64\n",
              "ShoppingMall    float64\n",
              "Spa             float64\n",
              "VRDeck          float64\n",
              "Name             object\n",
              "Transported        bool\n",
              "dtype: object"
            ]
          },
          "metadata": {},
          "execution_count": 17
        }
      ]
    },
    {
      "cell_type": "code",
      "source": [
        "# 일부 dtype은 tensor로 변경 불가\n",
        "train['HomePlanet'] = train['HomePlanet'].astype('category')\n",
        "train['CryoSleep'] = train['CryoSleep'].map({True: 1, False: 0})\n",
        "train['VIP'] = train['VIP'].astype('string')\n",
        "train['Transported'] = train['Transported'].astype('int')\n",
        "\n",
        "test['HomePlanet'] = test['HomePlanet'].astype('category')\n",
        "test['CryoSleep'] = test['CryoSleep'].map({True: 1, False: 0})\n",
        "test['VIP'] = test['VIP'].astype('string')\n",
        "test['Transported'] = test['Transported'].astype('int')"
      ],
      "metadata": {
        "id": "fw7o34_HGrNw"
      },
      "execution_count": 18,
      "outputs": []
    },
    {
      "cell_type": "code",
      "source": [
        "train"
      ],
      "metadata": {
        "id": "3wGlcJLVHQI5",
        "colab": {
          "base_uri": "https://localhost:8080/",
          "height": 575
        },
        "outputId": "a39d0a69-9b9a-4269-ffa3-ed11bf69ee1b"
      },
      "execution_count": 19,
      "outputs": [
        {
          "output_type": "execute_result",
          "data": {
            "text/plain": [
              "     PassengerId HomePlanet  CryoSleep     Cabin    Destination   Age    VIP  \\\n",
              "0        2513_01      Earth          0   F/575/P    TRAPPIST-1e  28.0  False   \n",
              "1        2774_02      Earth          0   F/575/P    TRAPPIST-1e  17.0  False   \n",
              "2        8862_04     Europa          1   C/329/S    55 Cancri e  28.0  False   \n",
              "3        8736_02       Mars          0  F/1800/P    TRAPPIST-1e  20.0  False   \n",
              "4        0539_02     Europa          1    C/18/P    55 Cancri e  36.0  False   \n",
              "...          ...        ...        ...       ...            ...   ...    ...   \n",
              "6949     6076_01      Earth          0   G/988/S    TRAPPIST-1e  18.0  False   \n",
              "6950     5537_01       Mars          0  F/1063/S    TRAPPIST-1e  50.0  False   \n",
              "6951     5756_06      Earth          0  F/1194/P  PSO J318.5-22  22.0  False   \n",
              "6952     0925_01       Mars          0   F/191/P    TRAPPIST-1e  34.0  False   \n",
              "6953     7775_01     Europa          0   C/253/P    55 Cancri e  28.0  False   \n",
              "\n",
              "      RoomService  FoodCourt  ShoppingMall    Spa  VRDeck                Name  \\\n",
              "0             0.0       55.0           0.0  656.0     0.0      Loree Mathison   \n",
              "1             0.0     1195.0          31.0    0.0     0.0   Crisey Mcbriddley   \n",
              "2             0.0        0.0           0.0    0.0     0.0      Alramix Myling   \n",
              "3             0.0        2.0         289.0  976.0     0.0           Tros Pota   \n",
              "4             0.0        0.0           0.0    0.0     0.0      Achyon Nalanet   \n",
              "...           ...        ...           ...    ...     ...                 ...   \n",
              "6949         14.0        2.0         144.0  610.0     0.0        Therry Cames   \n",
              "6950        690.0        0.0          30.0  762.0   428.0         Herms Bancy   \n",
              "6951        158.0        0.0         476.0    0.0    26.0    Karena Briggston   \n",
              "6952        379.0        0.0        1626.0    0.0     0.0          Skix Kraie   \n",
              "6953          7.0      489.0           0.0    4.0  6027.0  Alraium Disivering   \n",
              "\n",
              "      Transported  \n",
              "0               0  \n",
              "1               0  \n",
              "2               1  \n",
              "3               1  \n",
              "4               1  \n",
              "...           ...  \n",
              "6949            1  \n",
              "6950            0  \n",
              "6951            0  \n",
              "6952            0  \n",
              "6953            0  \n",
              "\n",
              "[6954 rows x 14 columns]"
            ],
            "text/html": [
              "\n",
              "  <div id=\"df-fc47bfff-c714-4f9a-964d-cbefa0a8adea\" class=\"colab-df-container\">\n",
              "    <div>\n",
              "<style scoped>\n",
              "    .dataframe tbody tr th:only-of-type {\n",
              "        vertical-align: middle;\n",
              "    }\n",
              "\n",
              "    .dataframe tbody tr th {\n",
              "        vertical-align: top;\n",
              "    }\n",
              "\n",
              "    .dataframe thead th {\n",
              "        text-align: right;\n",
              "    }\n",
              "</style>\n",
              "<table border=\"1\" class=\"dataframe\">\n",
              "  <thead>\n",
              "    <tr style=\"text-align: right;\">\n",
              "      <th></th>\n",
              "      <th>PassengerId</th>\n",
              "      <th>HomePlanet</th>\n",
              "      <th>CryoSleep</th>\n",
              "      <th>Cabin</th>\n",
              "      <th>Destination</th>\n",
              "      <th>Age</th>\n",
              "      <th>VIP</th>\n",
              "      <th>RoomService</th>\n",
              "      <th>FoodCourt</th>\n",
              "      <th>ShoppingMall</th>\n",
              "      <th>Spa</th>\n",
              "      <th>VRDeck</th>\n",
              "      <th>Name</th>\n",
              "      <th>Transported</th>\n",
              "    </tr>\n",
              "  </thead>\n",
              "  <tbody>\n",
              "    <tr>\n",
              "      <th>0</th>\n",
              "      <td>2513_01</td>\n",
              "      <td>Earth</td>\n",
              "      <td>0</td>\n",
              "      <td>F/575/P</td>\n",
              "      <td>TRAPPIST-1e</td>\n",
              "      <td>28.0</td>\n",
              "      <td>False</td>\n",
              "      <td>0.0</td>\n",
              "      <td>55.0</td>\n",
              "      <td>0.0</td>\n",
              "      <td>656.0</td>\n",
              "      <td>0.0</td>\n",
              "      <td>Loree Mathison</td>\n",
              "      <td>0</td>\n",
              "    </tr>\n",
              "    <tr>\n",
              "      <th>1</th>\n",
              "      <td>2774_02</td>\n",
              "      <td>Earth</td>\n",
              "      <td>0</td>\n",
              "      <td>F/575/P</td>\n",
              "      <td>TRAPPIST-1e</td>\n",
              "      <td>17.0</td>\n",
              "      <td>False</td>\n",
              "      <td>0.0</td>\n",
              "      <td>1195.0</td>\n",
              "      <td>31.0</td>\n",
              "      <td>0.0</td>\n",
              "      <td>0.0</td>\n",
              "      <td>Crisey Mcbriddley</td>\n",
              "      <td>0</td>\n",
              "    </tr>\n",
              "    <tr>\n",
              "      <th>2</th>\n",
              "      <td>8862_04</td>\n",
              "      <td>Europa</td>\n",
              "      <td>1</td>\n",
              "      <td>C/329/S</td>\n",
              "      <td>55 Cancri e</td>\n",
              "      <td>28.0</td>\n",
              "      <td>False</td>\n",
              "      <td>0.0</td>\n",
              "      <td>0.0</td>\n",
              "      <td>0.0</td>\n",
              "      <td>0.0</td>\n",
              "      <td>0.0</td>\n",
              "      <td>Alramix Myling</td>\n",
              "      <td>1</td>\n",
              "    </tr>\n",
              "    <tr>\n",
              "      <th>3</th>\n",
              "      <td>8736_02</td>\n",
              "      <td>Mars</td>\n",
              "      <td>0</td>\n",
              "      <td>F/1800/P</td>\n",
              "      <td>TRAPPIST-1e</td>\n",
              "      <td>20.0</td>\n",
              "      <td>False</td>\n",
              "      <td>0.0</td>\n",
              "      <td>2.0</td>\n",
              "      <td>289.0</td>\n",
              "      <td>976.0</td>\n",
              "      <td>0.0</td>\n",
              "      <td>Tros Pota</td>\n",
              "      <td>1</td>\n",
              "    </tr>\n",
              "    <tr>\n",
              "      <th>4</th>\n",
              "      <td>0539_02</td>\n",
              "      <td>Europa</td>\n",
              "      <td>1</td>\n",
              "      <td>C/18/P</td>\n",
              "      <td>55 Cancri e</td>\n",
              "      <td>36.0</td>\n",
              "      <td>False</td>\n",
              "      <td>0.0</td>\n",
              "      <td>0.0</td>\n",
              "      <td>0.0</td>\n",
              "      <td>0.0</td>\n",
              "      <td>0.0</td>\n",
              "      <td>Achyon Nalanet</td>\n",
              "      <td>1</td>\n",
              "    </tr>\n",
              "    <tr>\n",
              "      <th>...</th>\n",
              "      <td>...</td>\n",
              "      <td>...</td>\n",
              "      <td>...</td>\n",
              "      <td>...</td>\n",
              "      <td>...</td>\n",
              "      <td>...</td>\n",
              "      <td>...</td>\n",
              "      <td>...</td>\n",
              "      <td>...</td>\n",
              "      <td>...</td>\n",
              "      <td>...</td>\n",
              "      <td>...</td>\n",
              "      <td>...</td>\n",
              "      <td>...</td>\n",
              "    </tr>\n",
              "    <tr>\n",
              "      <th>6949</th>\n",
              "      <td>6076_01</td>\n",
              "      <td>Earth</td>\n",
              "      <td>0</td>\n",
              "      <td>G/988/S</td>\n",
              "      <td>TRAPPIST-1e</td>\n",
              "      <td>18.0</td>\n",
              "      <td>False</td>\n",
              "      <td>14.0</td>\n",
              "      <td>2.0</td>\n",
              "      <td>144.0</td>\n",
              "      <td>610.0</td>\n",
              "      <td>0.0</td>\n",
              "      <td>Therry Cames</td>\n",
              "      <td>1</td>\n",
              "    </tr>\n",
              "    <tr>\n",
              "      <th>6950</th>\n",
              "      <td>5537_01</td>\n",
              "      <td>Mars</td>\n",
              "      <td>0</td>\n",
              "      <td>F/1063/S</td>\n",
              "      <td>TRAPPIST-1e</td>\n",
              "      <td>50.0</td>\n",
              "      <td>False</td>\n",
              "      <td>690.0</td>\n",
              "      <td>0.0</td>\n",
              "      <td>30.0</td>\n",
              "      <td>762.0</td>\n",
              "      <td>428.0</td>\n",
              "      <td>Herms Bancy</td>\n",
              "      <td>0</td>\n",
              "    </tr>\n",
              "    <tr>\n",
              "      <th>6951</th>\n",
              "      <td>5756_06</td>\n",
              "      <td>Earth</td>\n",
              "      <td>0</td>\n",
              "      <td>F/1194/P</td>\n",
              "      <td>PSO J318.5-22</td>\n",
              "      <td>22.0</td>\n",
              "      <td>False</td>\n",
              "      <td>158.0</td>\n",
              "      <td>0.0</td>\n",
              "      <td>476.0</td>\n",
              "      <td>0.0</td>\n",
              "      <td>26.0</td>\n",
              "      <td>Karena Briggston</td>\n",
              "      <td>0</td>\n",
              "    </tr>\n",
              "    <tr>\n",
              "      <th>6952</th>\n",
              "      <td>0925_01</td>\n",
              "      <td>Mars</td>\n",
              "      <td>0</td>\n",
              "      <td>F/191/P</td>\n",
              "      <td>TRAPPIST-1e</td>\n",
              "      <td>34.0</td>\n",
              "      <td>False</td>\n",
              "      <td>379.0</td>\n",
              "      <td>0.0</td>\n",
              "      <td>1626.0</td>\n",
              "      <td>0.0</td>\n",
              "      <td>0.0</td>\n",
              "      <td>Skix Kraie</td>\n",
              "      <td>0</td>\n",
              "    </tr>\n",
              "    <tr>\n",
              "      <th>6953</th>\n",
              "      <td>7775_01</td>\n",
              "      <td>Europa</td>\n",
              "      <td>0</td>\n",
              "      <td>C/253/P</td>\n",
              "      <td>55 Cancri e</td>\n",
              "      <td>28.0</td>\n",
              "      <td>False</td>\n",
              "      <td>7.0</td>\n",
              "      <td>489.0</td>\n",
              "      <td>0.0</td>\n",
              "      <td>4.0</td>\n",
              "      <td>6027.0</td>\n",
              "      <td>Alraium Disivering</td>\n",
              "      <td>0</td>\n",
              "    </tr>\n",
              "  </tbody>\n",
              "</table>\n",
              "<p>6954 rows × 14 columns</p>\n",
              "</div>\n",
              "    <div class=\"colab-df-buttons\">\n",
              "\n",
              "  <div class=\"colab-df-container\">\n",
              "    <button class=\"colab-df-convert\" onclick=\"convertToInteractive('df-fc47bfff-c714-4f9a-964d-cbefa0a8adea')\"\n",
              "            title=\"Convert this dataframe to an interactive table.\"\n",
              "            style=\"display:none;\">\n",
              "\n",
              "  <svg xmlns=\"http://www.w3.org/2000/svg\" height=\"24px\" viewBox=\"0 -960 960 960\">\n",
              "    <path d=\"M120-120v-720h720v720H120Zm60-500h600v-160H180v160Zm220 220h160v-160H400v160Zm0 220h160v-160H400v160ZM180-400h160v-160H180v160Zm440 0h160v-160H620v160ZM180-180h160v-160H180v160Zm440 0h160v-160H620v160Z\"/>\n",
              "  </svg>\n",
              "    </button>\n",
              "\n",
              "  <style>\n",
              "    .colab-df-container {\n",
              "      display:flex;\n",
              "      gap: 12px;\n",
              "    }\n",
              "\n",
              "    .colab-df-convert {\n",
              "      background-color: #E8F0FE;\n",
              "      border: none;\n",
              "      border-radius: 50%;\n",
              "      cursor: pointer;\n",
              "      display: none;\n",
              "      fill: #1967D2;\n",
              "      height: 32px;\n",
              "      padding: 0 0 0 0;\n",
              "      width: 32px;\n",
              "    }\n",
              "\n",
              "    .colab-df-convert:hover {\n",
              "      background-color: #E2EBFA;\n",
              "      box-shadow: 0px 1px 2px rgba(60, 64, 67, 0.3), 0px 1px 3px 1px rgba(60, 64, 67, 0.15);\n",
              "      fill: #174EA6;\n",
              "    }\n",
              "\n",
              "    .colab-df-buttons div {\n",
              "      margin-bottom: 4px;\n",
              "    }\n",
              "\n",
              "    [theme=dark] .colab-df-convert {\n",
              "      background-color: #3B4455;\n",
              "      fill: #D2E3FC;\n",
              "    }\n",
              "\n",
              "    [theme=dark] .colab-df-convert:hover {\n",
              "      background-color: #434B5C;\n",
              "      box-shadow: 0px 1px 3px 1px rgba(0, 0, 0, 0.15);\n",
              "      filter: drop-shadow(0px 1px 2px rgba(0, 0, 0, 0.3));\n",
              "      fill: #FFFFFF;\n",
              "    }\n",
              "  </style>\n",
              "\n",
              "    <script>\n",
              "      const buttonEl =\n",
              "        document.querySelector('#df-fc47bfff-c714-4f9a-964d-cbefa0a8adea button.colab-df-convert');\n",
              "      buttonEl.style.display =\n",
              "        google.colab.kernel.accessAllowed ? 'block' : 'none';\n",
              "\n",
              "      async function convertToInteractive(key) {\n",
              "        const element = document.querySelector('#df-fc47bfff-c714-4f9a-964d-cbefa0a8adea');\n",
              "        const dataTable =\n",
              "          await google.colab.kernel.invokeFunction('convertToInteractive',\n",
              "                                                    [key], {});\n",
              "        if (!dataTable) return;\n",
              "\n",
              "        const docLinkHtml = 'Like what you see? Visit the ' +\n",
              "          '<a target=\"_blank\" href=https://colab.research.google.com/notebooks/data_table.ipynb>data table notebook</a>'\n",
              "          + ' to learn more about interactive tables.';\n",
              "        element.innerHTML = '';\n",
              "        dataTable['output_type'] = 'display_data';\n",
              "        await google.colab.output.renderOutput(dataTable, element);\n",
              "        const docLink = document.createElement('div');\n",
              "        docLink.innerHTML = docLinkHtml;\n",
              "        element.appendChild(docLink);\n",
              "      }\n",
              "    </script>\n",
              "  </div>\n",
              "\n",
              "\n",
              "<div id=\"df-01a9a573-3e3e-44d1-8449-e0e83548820e\">\n",
              "  <button class=\"colab-df-quickchart\" onclick=\"quickchart('df-01a9a573-3e3e-44d1-8449-e0e83548820e')\"\n",
              "            title=\"Suggest charts\"\n",
              "            style=\"display:none;\">\n",
              "\n",
              "<svg xmlns=\"http://www.w3.org/2000/svg\" height=\"24px\"viewBox=\"0 0 24 24\"\n",
              "     width=\"24px\">\n",
              "    <g>\n",
              "        <path d=\"M19 3H5c-1.1 0-2 .9-2 2v14c0 1.1.9 2 2 2h14c1.1 0 2-.9 2-2V5c0-1.1-.9-2-2-2zM9 17H7v-7h2v7zm4 0h-2V7h2v10zm4 0h-2v-4h2v4z\"/>\n",
              "    </g>\n",
              "</svg>\n",
              "  </button>\n",
              "\n",
              "<style>\n",
              "  .colab-df-quickchart {\n",
              "      --bg-color: #E8F0FE;\n",
              "      --fill-color: #1967D2;\n",
              "      --hover-bg-color: #E2EBFA;\n",
              "      --hover-fill-color: #174EA6;\n",
              "      --disabled-fill-color: #AAA;\n",
              "      --disabled-bg-color: #DDD;\n",
              "  }\n",
              "\n",
              "  [theme=dark] .colab-df-quickchart {\n",
              "      --bg-color: #3B4455;\n",
              "      --fill-color: #D2E3FC;\n",
              "      --hover-bg-color: #434B5C;\n",
              "      --hover-fill-color: #FFFFFF;\n",
              "      --disabled-bg-color: #3B4455;\n",
              "      --disabled-fill-color: #666;\n",
              "  }\n",
              "\n",
              "  .colab-df-quickchart {\n",
              "    background-color: var(--bg-color);\n",
              "    border: none;\n",
              "    border-radius: 50%;\n",
              "    cursor: pointer;\n",
              "    display: none;\n",
              "    fill: var(--fill-color);\n",
              "    height: 32px;\n",
              "    padding: 0;\n",
              "    width: 32px;\n",
              "  }\n",
              "\n",
              "  .colab-df-quickchart:hover {\n",
              "    background-color: var(--hover-bg-color);\n",
              "    box-shadow: 0 1px 2px rgba(60, 64, 67, 0.3), 0 1px 3px 1px rgba(60, 64, 67, 0.15);\n",
              "    fill: var(--button-hover-fill-color);\n",
              "  }\n",
              "\n",
              "  .colab-df-quickchart-complete:disabled,\n",
              "  .colab-df-quickchart-complete:disabled:hover {\n",
              "    background-color: var(--disabled-bg-color);\n",
              "    fill: var(--disabled-fill-color);\n",
              "    box-shadow: none;\n",
              "  }\n",
              "\n",
              "  .colab-df-spinner {\n",
              "    border: 2px solid var(--fill-color);\n",
              "    border-color: transparent;\n",
              "    border-bottom-color: var(--fill-color);\n",
              "    animation:\n",
              "      spin 1s steps(1) infinite;\n",
              "  }\n",
              "\n",
              "  @keyframes spin {\n",
              "    0% {\n",
              "      border-color: transparent;\n",
              "      border-bottom-color: var(--fill-color);\n",
              "      border-left-color: var(--fill-color);\n",
              "    }\n",
              "    20% {\n",
              "      border-color: transparent;\n",
              "      border-left-color: var(--fill-color);\n",
              "      border-top-color: var(--fill-color);\n",
              "    }\n",
              "    30% {\n",
              "      border-color: transparent;\n",
              "      border-left-color: var(--fill-color);\n",
              "      border-top-color: var(--fill-color);\n",
              "      border-right-color: var(--fill-color);\n",
              "    }\n",
              "    40% {\n",
              "      border-color: transparent;\n",
              "      border-right-color: var(--fill-color);\n",
              "      border-top-color: var(--fill-color);\n",
              "    }\n",
              "    60% {\n",
              "      border-color: transparent;\n",
              "      border-right-color: var(--fill-color);\n",
              "    }\n",
              "    80% {\n",
              "      border-color: transparent;\n",
              "      border-right-color: var(--fill-color);\n",
              "      border-bottom-color: var(--fill-color);\n",
              "    }\n",
              "    90% {\n",
              "      border-color: transparent;\n",
              "      border-bottom-color: var(--fill-color);\n",
              "    }\n",
              "  }\n",
              "</style>\n",
              "\n",
              "  <script>\n",
              "    async function quickchart(key) {\n",
              "      const quickchartButtonEl =\n",
              "        document.querySelector('#' + key + ' button');\n",
              "      quickchartButtonEl.disabled = true;  // To prevent multiple clicks.\n",
              "      quickchartButtonEl.classList.add('colab-df-spinner');\n",
              "      try {\n",
              "        const charts = await google.colab.kernel.invokeFunction(\n",
              "            'suggestCharts', [key], {});\n",
              "      } catch (error) {\n",
              "        console.error('Error during call to suggestCharts:', error);\n",
              "      }\n",
              "      quickchartButtonEl.classList.remove('colab-df-spinner');\n",
              "      quickchartButtonEl.classList.add('colab-df-quickchart-complete');\n",
              "    }\n",
              "    (() => {\n",
              "      let quickchartButtonEl =\n",
              "        document.querySelector('#df-01a9a573-3e3e-44d1-8449-e0e83548820e button');\n",
              "      quickchartButtonEl.style.display =\n",
              "        google.colab.kernel.accessAllowed ? 'block' : 'none';\n",
              "    })();\n",
              "  </script>\n",
              "</div>\n",
              "\n",
              "  <div id=\"id_c435d98e-8032-48c9-b54e-614bb6ac962f\">\n",
              "    <style>\n",
              "      .colab-df-generate {\n",
              "        background-color: #E8F0FE;\n",
              "        border: none;\n",
              "        border-radius: 50%;\n",
              "        cursor: pointer;\n",
              "        display: none;\n",
              "        fill: #1967D2;\n",
              "        height: 32px;\n",
              "        padding: 0 0 0 0;\n",
              "        width: 32px;\n",
              "      }\n",
              "\n",
              "      .colab-df-generate:hover {\n",
              "        background-color: #E2EBFA;\n",
              "        box-shadow: 0px 1px 2px rgba(60, 64, 67, 0.3), 0px 1px 3px 1px rgba(60, 64, 67, 0.15);\n",
              "        fill: #174EA6;\n",
              "      }\n",
              "\n",
              "      [theme=dark] .colab-df-generate {\n",
              "        background-color: #3B4455;\n",
              "        fill: #D2E3FC;\n",
              "      }\n",
              "\n",
              "      [theme=dark] .colab-df-generate:hover {\n",
              "        background-color: #434B5C;\n",
              "        box-shadow: 0px 1px 3px 1px rgba(0, 0, 0, 0.15);\n",
              "        filter: drop-shadow(0px 1px 2px rgba(0, 0, 0, 0.3));\n",
              "        fill: #FFFFFF;\n",
              "      }\n",
              "    </style>\n",
              "    <button class=\"colab-df-generate\" onclick=\"generateWithVariable('train')\"\n",
              "            title=\"Generate code using this dataframe.\"\n",
              "            style=\"display:none;\">\n",
              "\n",
              "  <svg xmlns=\"http://www.w3.org/2000/svg\" height=\"24px\"viewBox=\"0 0 24 24\"\n",
              "       width=\"24px\">\n",
              "    <path d=\"M7,19H8.4L18.45,9,17,7.55,7,17.6ZM5,21V16.75L18.45,3.32a2,2,0,0,1,2.83,0l1.4,1.43a1.91,1.91,0,0,1,.58,1.4,1.91,1.91,0,0,1-.58,1.4L9.25,21ZM18.45,9,17,7.55Zm-12,3A5.31,5.31,0,0,0,4.9,8.1,5.31,5.31,0,0,0,1,6.5,5.31,5.31,0,0,0,4.9,4.9,5.31,5.31,0,0,0,6.5,1,5.31,5.31,0,0,0,8.1,4.9,5.31,5.31,0,0,0,12,6.5,5.46,5.46,0,0,0,6.5,12Z\"/>\n",
              "  </svg>\n",
              "    </button>\n",
              "    <script>\n",
              "      (() => {\n",
              "      const buttonEl =\n",
              "        document.querySelector('#id_c435d98e-8032-48c9-b54e-614bb6ac962f button.colab-df-generate');\n",
              "      buttonEl.style.display =\n",
              "        google.colab.kernel.accessAllowed ? 'block' : 'none';\n",
              "\n",
              "      buttonEl.onclick = () => {\n",
              "        google.colab.notebook.generateWithVariable('train');\n",
              "      }\n",
              "      })();\n",
              "    </script>\n",
              "  </div>\n",
              "\n",
              "    </div>\n",
              "  </div>\n"
            ]
          },
          "metadata": {},
          "execution_count": 19
        }
      ]
    },
    {
      "cell_type": "code",
      "source": [
        "test"
      ],
      "metadata": {
        "id": "C0ezeuYr2d-F",
        "colab": {
          "base_uri": "https://localhost:8080/",
          "height": 558
        },
        "outputId": "18495952-63d0-4d3e-a2ad-fb1ded0638a0"
      },
      "execution_count": 20,
      "outputs": [
        {
          "output_type": "execute_result",
          "data": {
            "text/plain": [
              "     PassengerId HomePlanet  CryoSleep     Cabin  Destination   Age    VIP  \\\n",
              "0        0337_02       Mars          0    F/63/S  TRAPPIST-1e  19.0  False   \n",
              "1        2891_01      Earth          0   G/460/S  TRAPPIST-1e  18.0  False   \n",
              "2        8998_01      Earth          1  G/1449/S  TRAPPIST-1e  41.0  False   \n",
              "3        1771_01      Earth          0   G/291/P  TRAPPIST-1e  35.0  False   \n",
              "4        9034_02     Europa          1   D/288/P  TRAPPIST-1e  43.0  False   \n",
              "...          ...        ...        ...       ...          ...   ...    ...   \n",
              "1734     7656_01      Earth          1  G/1244/S  TRAPPIST-1e  16.0  False   \n",
              "1735     3437_02      Earth          1   G/553/S  TRAPPIST-1e   0.0  False   \n",
              "1736     1384_01      Earth          0   E/105/S  TRAPPIST-1e  17.0  False   \n",
              "1737     6300_01       Mars          1  F/1303/P  TRAPPIST-1e  42.0  False   \n",
              "1738     6442_01      Earth          0  G/1045/S  TRAPPIST-1e  17.0  False   \n",
              "\n",
              "      RoomService  FoodCourt  ShoppingMall     Spa  VRDeck  \\\n",
              "0           417.0      349.0         634.0     3.0  1057.0   \n",
              "1             4.0      904.0           0.0     0.0     1.0   \n",
              "2             0.0        0.0           0.0     0.0     0.0   \n",
              "3             0.0      338.0         436.0     0.0     0.0   \n",
              "4             0.0        0.0           0.0     0.0     0.0   \n",
              "...           ...        ...           ...     ...     ...   \n",
              "1734          0.0        0.0           0.0     0.0     0.0   \n",
              "1735          0.0        0.0           0.0     0.0     0.0   \n",
              "1736         21.0        0.0         690.0   260.0     5.0   \n",
              "1737          0.0        0.0           0.0     0.0     0.0   \n",
              "1738          0.0        0.0           0.0  1806.0     0.0   \n",
              "\n",
              "                    Name  Transported  \n",
              "0            Weros Perle            1  \n",
              "1     Gleney Ortinericey            0  \n",
              "2         Gerry Englence            0  \n",
              "3         Antone Cardner            1  \n",
              "4        Errairk Crakete            1  \n",
              "...                  ...          ...  \n",
              "1734       Moniey Belley            0  \n",
              "1735         Carly Pager            1  \n",
              "1736       Violan Mayods            0  \n",
              "1737          Risps Pure            1  \n",
              "1738  Camiet Gainebergan            0  \n",
              "\n",
              "[1739 rows x 14 columns]"
            ],
            "text/html": [
              "\n",
              "  <div id=\"df-c1004f08-3531-4788-bdae-f86fde4f98d2\" class=\"colab-df-container\">\n",
              "    <div>\n",
              "<style scoped>\n",
              "    .dataframe tbody tr th:only-of-type {\n",
              "        vertical-align: middle;\n",
              "    }\n",
              "\n",
              "    .dataframe tbody tr th {\n",
              "        vertical-align: top;\n",
              "    }\n",
              "\n",
              "    .dataframe thead th {\n",
              "        text-align: right;\n",
              "    }\n",
              "</style>\n",
              "<table border=\"1\" class=\"dataframe\">\n",
              "  <thead>\n",
              "    <tr style=\"text-align: right;\">\n",
              "      <th></th>\n",
              "      <th>PassengerId</th>\n",
              "      <th>HomePlanet</th>\n",
              "      <th>CryoSleep</th>\n",
              "      <th>Cabin</th>\n",
              "      <th>Destination</th>\n",
              "      <th>Age</th>\n",
              "      <th>VIP</th>\n",
              "      <th>RoomService</th>\n",
              "      <th>FoodCourt</th>\n",
              "      <th>ShoppingMall</th>\n",
              "      <th>Spa</th>\n",
              "      <th>VRDeck</th>\n",
              "      <th>Name</th>\n",
              "      <th>Transported</th>\n",
              "    </tr>\n",
              "  </thead>\n",
              "  <tbody>\n",
              "    <tr>\n",
              "      <th>0</th>\n",
              "      <td>0337_02</td>\n",
              "      <td>Mars</td>\n",
              "      <td>0</td>\n",
              "      <td>F/63/S</td>\n",
              "      <td>TRAPPIST-1e</td>\n",
              "      <td>19.0</td>\n",
              "      <td>False</td>\n",
              "      <td>417.0</td>\n",
              "      <td>349.0</td>\n",
              "      <td>634.0</td>\n",
              "      <td>3.0</td>\n",
              "      <td>1057.0</td>\n",
              "      <td>Weros Perle</td>\n",
              "      <td>1</td>\n",
              "    </tr>\n",
              "    <tr>\n",
              "      <th>1</th>\n",
              "      <td>2891_01</td>\n",
              "      <td>Earth</td>\n",
              "      <td>0</td>\n",
              "      <td>G/460/S</td>\n",
              "      <td>TRAPPIST-1e</td>\n",
              "      <td>18.0</td>\n",
              "      <td>False</td>\n",
              "      <td>4.0</td>\n",
              "      <td>904.0</td>\n",
              "      <td>0.0</td>\n",
              "      <td>0.0</td>\n",
              "      <td>1.0</td>\n",
              "      <td>Gleney Ortinericey</td>\n",
              "      <td>0</td>\n",
              "    </tr>\n",
              "    <tr>\n",
              "      <th>2</th>\n",
              "      <td>8998_01</td>\n",
              "      <td>Earth</td>\n",
              "      <td>1</td>\n",
              "      <td>G/1449/S</td>\n",
              "      <td>TRAPPIST-1e</td>\n",
              "      <td>41.0</td>\n",
              "      <td>False</td>\n",
              "      <td>0.0</td>\n",
              "      <td>0.0</td>\n",
              "      <td>0.0</td>\n",
              "      <td>0.0</td>\n",
              "      <td>0.0</td>\n",
              "      <td>Gerry Englence</td>\n",
              "      <td>0</td>\n",
              "    </tr>\n",
              "    <tr>\n",
              "      <th>3</th>\n",
              "      <td>1771_01</td>\n",
              "      <td>Earth</td>\n",
              "      <td>0</td>\n",
              "      <td>G/291/P</td>\n",
              "      <td>TRAPPIST-1e</td>\n",
              "      <td>35.0</td>\n",
              "      <td>False</td>\n",
              "      <td>0.0</td>\n",
              "      <td>338.0</td>\n",
              "      <td>436.0</td>\n",
              "      <td>0.0</td>\n",
              "      <td>0.0</td>\n",
              "      <td>Antone Cardner</td>\n",
              "      <td>1</td>\n",
              "    </tr>\n",
              "    <tr>\n",
              "      <th>4</th>\n",
              "      <td>9034_02</td>\n",
              "      <td>Europa</td>\n",
              "      <td>1</td>\n",
              "      <td>D/288/P</td>\n",
              "      <td>TRAPPIST-1e</td>\n",
              "      <td>43.0</td>\n",
              "      <td>False</td>\n",
              "      <td>0.0</td>\n",
              "      <td>0.0</td>\n",
              "      <td>0.0</td>\n",
              "      <td>0.0</td>\n",
              "      <td>0.0</td>\n",
              "      <td>Errairk Crakete</td>\n",
              "      <td>1</td>\n",
              "    </tr>\n",
              "    <tr>\n",
              "      <th>...</th>\n",
              "      <td>...</td>\n",
              "      <td>...</td>\n",
              "      <td>...</td>\n",
              "      <td>...</td>\n",
              "      <td>...</td>\n",
              "      <td>...</td>\n",
              "      <td>...</td>\n",
              "      <td>...</td>\n",
              "      <td>...</td>\n",
              "      <td>...</td>\n",
              "      <td>...</td>\n",
              "      <td>...</td>\n",
              "      <td>...</td>\n",
              "      <td>...</td>\n",
              "    </tr>\n",
              "    <tr>\n",
              "      <th>1734</th>\n",
              "      <td>7656_01</td>\n",
              "      <td>Earth</td>\n",
              "      <td>1</td>\n",
              "      <td>G/1244/S</td>\n",
              "      <td>TRAPPIST-1e</td>\n",
              "      <td>16.0</td>\n",
              "      <td>False</td>\n",
              "      <td>0.0</td>\n",
              "      <td>0.0</td>\n",
              "      <td>0.0</td>\n",
              "      <td>0.0</td>\n",
              "      <td>0.0</td>\n",
              "      <td>Moniey Belley</td>\n",
              "      <td>0</td>\n",
              "    </tr>\n",
              "    <tr>\n",
              "      <th>1735</th>\n",
              "      <td>3437_02</td>\n",
              "      <td>Earth</td>\n",
              "      <td>1</td>\n",
              "      <td>G/553/S</td>\n",
              "      <td>TRAPPIST-1e</td>\n",
              "      <td>0.0</td>\n",
              "      <td>False</td>\n",
              "      <td>0.0</td>\n",
              "      <td>0.0</td>\n",
              "      <td>0.0</td>\n",
              "      <td>0.0</td>\n",
              "      <td>0.0</td>\n",
              "      <td>Carly Pager</td>\n",
              "      <td>1</td>\n",
              "    </tr>\n",
              "    <tr>\n",
              "      <th>1736</th>\n",
              "      <td>1384_01</td>\n",
              "      <td>Earth</td>\n",
              "      <td>0</td>\n",
              "      <td>E/105/S</td>\n",
              "      <td>TRAPPIST-1e</td>\n",
              "      <td>17.0</td>\n",
              "      <td>False</td>\n",
              "      <td>21.0</td>\n",
              "      <td>0.0</td>\n",
              "      <td>690.0</td>\n",
              "      <td>260.0</td>\n",
              "      <td>5.0</td>\n",
              "      <td>Violan Mayods</td>\n",
              "      <td>0</td>\n",
              "    </tr>\n",
              "    <tr>\n",
              "      <th>1737</th>\n",
              "      <td>6300_01</td>\n",
              "      <td>Mars</td>\n",
              "      <td>1</td>\n",
              "      <td>F/1303/P</td>\n",
              "      <td>TRAPPIST-1e</td>\n",
              "      <td>42.0</td>\n",
              "      <td>False</td>\n",
              "      <td>0.0</td>\n",
              "      <td>0.0</td>\n",
              "      <td>0.0</td>\n",
              "      <td>0.0</td>\n",
              "      <td>0.0</td>\n",
              "      <td>Risps Pure</td>\n",
              "      <td>1</td>\n",
              "    </tr>\n",
              "    <tr>\n",
              "      <th>1738</th>\n",
              "      <td>6442_01</td>\n",
              "      <td>Earth</td>\n",
              "      <td>0</td>\n",
              "      <td>G/1045/S</td>\n",
              "      <td>TRAPPIST-1e</td>\n",
              "      <td>17.0</td>\n",
              "      <td>False</td>\n",
              "      <td>0.0</td>\n",
              "      <td>0.0</td>\n",
              "      <td>0.0</td>\n",
              "      <td>1806.0</td>\n",
              "      <td>0.0</td>\n",
              "      <td>Camiet Gainebergan</td>\n",
              "      <td>0</td>\n",
              "    </tr>\n",
              "  </tbody>\n",
              "</table>\n",
              "<p>1739 rows × 14 columns</p>\n",
              "</div>\n",
              "    <div class=\"colab-df-buttons\">\n",
              "\n",
              "  <div class=\"colab-df-container\">\n",
              "    <button class=\"colab-df-convert\" onclick=\"convertToInteractive('df-c1004f08-3531-4788-bdae-f86fde4f98d2')\"\n",
              "            title=\"Convert this dataframe to an interactive table.\"\n",
              "            style=\"display:none;\">\n",
              "\n",
              "  <svg xmlns=\"http://www.w3.org/2000/svg\" height=\"24px\" viewBox=\"0 -960 960 960\">\n",
              "    <path d=\"M120-120v-720h720v720H120Zm60-500h600v-160H180v160Zm220 220h160v-160H400v160Zm0 220h160v-160H400v160ZM180-400h160v-160H180v160Zm440 0h160v-160H620v160ZM180-180h160v-160H180v160Zm440 0h160v-160H620v160Z\"/>\n",
              "  </svg>\n",
              "    </button>\n",
              "\n",
              "  <style>\n",
              "    .colab-df-container {\n",
              "      display:flex;\n",
              "      gap: 12px;\n",
              "    }\n",
              "\n",
              "    .colab-df-convert {\n",
              "      background-color: #E8F0FE;\n",
              "      border: none;\n",
              "      border-radius: 50%;\n",
              "      cursor: pointer;\n",
              "      display: none;\n",
              "      fill: #1967D2;\n",
              "      height: 32px;\n",
              "      padding: 0 0 0 0;\n",
              "      width: 32px;\n",
              "    }\n",
              "\n",
              "    .colab-df-convert:hover {\n",
              "      background-color: #E2EBFA;\n",
              "      box-shadow: 0px 1px 2px rgba(60, 64, 67, 0.3), 0px 1px 3px 1px rgba(60, 64, 67, 0.15);\n",
              "      fill: #174EA6;\n",
              "    }\n",
              "\n",
              "    .colab-df-buttons div {\n",
              "      margin-bottom: 4px;\n",
              "    }\n",
              "\n",
              "    [theme=dark] .colab-df-convert {\n",
              "      background-color: #3B4455;\n",
              "      fill: #D2E3FC;\n",
              "    }\n",
              "\n",
              "    [theme=dark] .colab-df-convert:hover {\n",
              "      background-color: #434B5C;\n",
              "      box-shadow: 0px 1px 3px 1px rgba(0, 0, 0, 0.15);\n",
              "      filter: drop-shadow(0px 1px 2px rgba(0, 0, 0, 0.3));\n",
              "      fill: #FFFFFF;\n",
              "    }\n",
              "  </style>\n",
              "\n",
              "    <script>\n",
              "      const buttonEl =\n",
              "        document.querySelector('#df-c1004f08-3531-4788-bdae-f86fde4f98d2 button.colab-df-convert');\n",
              "      buttonEl.style.display =\n",
              "        google.colab.kernel.accessAllowed ? 'block' : 'none';\n",
              "\n",
              "      async function convertToInteractive(key) {\n",
              "        const element = document.querySelector('#df-c1004f08-3531-4788-bdae-f86fde4f98d2');\n",
              "        const dataTable =\n",
              "          await google.colab.kernel.invokeFunction('convertToInteractive',\n",
              "                                                    [key], {});\n",
              "        if (!dataTable) return;\n",
              "\n",
              "        const docLinkHtml = 'Like what you see? Visit the ' +\n",
              "          '<a target=\"_blank\" href=https://colab.research.google.com/notebooks/data_table.ipynb>data table notebook</a>'\n",
              "          + ' to learn more about interactive tables.';\n",
              "        element.innerHTML = '';\n",
              "        dataTable['output_type'] = 'display_data';\n",
              "        await google.colab.output.renderOutput(dataTable, element);\n",
              "        const docLink = document.createElement('div');\n",
              "        docLink.innerHTML = docLinkHtml;\n",
              "        element.appendChild(docLink);\n",
              "      }\n",
              "    </script>\n",
              "  </div>\n",
              "\n",
              "\n",
              "<div id=\"df-1ef35329-9c57-4015-a88c-450ddb5fecab\">\n",
              "  <button class=\"colab-df-quickchart\" onclick=\"quickchart('df-1ef35329-9c57-4015-a88c-450ddb5fecab')\"\n",
              "            title=\"Suggest charts\"\n",
              "            style=\"display:none;\">\n",
              "\n",
              "<svg xmlns=\"http://www.w3.org/2000/svg\" height=\"24px\"viewBox=\"0 0 24 24\"\n",
              "     width=\"24px\">\n",
              "    <g>\n",
              "        <path d=\"M19 3H5c-1.1 0-2 .9-2 2v14c0 1.1.9 2 2 2h14c1.1 0 2-.9 2-2V5c0-1.1-.9-2-2-2zM9 17H7v-7h2v7zm4 0h-2V7h2v10zm4 0h-2v-4h2v4z\"/>\n",
              "    </g>\n",
              "</svg>\n",
              "  </button>\n",
              "\n",
              "<style>\n",
              "  .colab-df-quickchart {\n",
              "      --bg-color: #E8F0FE;\n",
              "      --fill-color: #1967D2;\n",
              "      --hover-bg-color: #E2EBFA;\n",
              "      --hover-fill-color: #174EA6;\n",
              "      --disabled-fill-color: #AAA;\n",
              "      --disabled-bg-color: #DDD;\n",
              "  }\n",
              "\n",
              "  [theme=dark] .colab-df-quickchart {\n",
              "      --bg-color: #3B4455;\n",
              "      --fill-color: #D2E3FC;\n",
              "      --hover-bg-color: #434B5C;\n",
              "      --hover-fill-color: #FFFFFF;\n",
              "      --disabled-bg-color: #3B4455;\n",
              "      --disabled-fill-color: #666;\n",
              "  }\n",
              "\n",
              "  .colab-df-quickchart {\n",
              "    background-color: var(--bg-color);\n",
              "    border: none;\n",
              "    border-radius: 50%;\n",
              "    cursor: pointer;\n",
              "    display: none;\n",
              "    fill: var(--fill-color);\n",
              "    height: 32px;\n",
              "    padding: 0;\n",
              "    width: 32px;\n",
              "  }\n",
              "\n",
              "  .colab-df-quickchart:hover {\n",
              "    background-color: var(--hover-bg-color);\n",
              "    box-shadow: 0 1px 2px rgba(60, 64, 67, 0.3), 0 1px 3px 1px rgba(60, 64, 67, 0.15);\n",
              "    fill: var(--button-hover-fill-color);\n",
              "  }\n",
              "\n",
              "  .colab-df-quickchart-complete:disabled,\n",
              "  .colab-df-quickchart-complete:disabled:hover {\n",
              "    background-color: var(--disabled-bg-color);\n",
              "    fill: var(--disabled-fill-color);\n",
              "    box-shadow: none;\n",
              "  }\n",
              "\n",
              "  .colab-df-spinner {\n",
              "    border: 2px solid var(--fill-color);\n",
              "    border-color: transparent;\n",
              "    border-bottom-color: var(--fill-color);\n",
              "    animation:\n",
              "      spin 1s steps(1) infinite;\n",
              "  }\n",
              "\n",
              "  @keyframes spin {\n",
              "    0% {\n",
              "      border-color: transparent;\n",
              "      border-bottom-color: var(--fill-color);\n",
              "      border-left-color: var(--fill-color);\n",
              "    }\n",
              "    20% {\n",
              "      border-color: transparent;\n",
              "      border-left-color: var(--fill-color);\n",
              "      border-top-color: var(--fill-color);\n",
              "    }\n",
              "    30% {\n",
              "      border-color: transparent;\n",
              "      border-left-color: var(--fill-color);\n",
              "      border-top-color: var(--fill-color);\n",
              "      border-right-color: var(--fill-color);\n",
              "    }\n",
              "    40% {\n",
              "      border-color: transparent;\n",
              "      border-right-color: var(--fill-color);\n",
              "      border-top-color: var(--fill-color);\n",
              "    }\n",
              "    60% {\n",
              "      border-color: transparent;\n",
              "      border-right-color: var(--fill-color);\n",
              "    }\n",
              "    80% {\n",
              "      border-color: transparent;\n",
              "      border-right-color: var(--fill-color);\n",
              "      border-bottom-color: var(--fill-color);\n",
              "    }\n",
              "    90% {\n",
              "      border-color: transparent;\n",
              "      border-bottom-color: var(--fill-color);\n",
              "    }\n",
              "  }\n",
              "</style>\n",
              "\n",
              "  <script>\n",
              "    async function quickchart(key) {\n",
              "      const quickchartButtonEl =\n",
              "        document.querySelector('#' + key + ' button');\n",
              "      quickchartButtonEl.disabled = true;  // To prevent multiple clicks.\n",
              "      quickchartButtonEl.classList.add('colab-df-spinner');\n",
              "      try {\n",
              "        const charts = await google.colab.kernel.invokeFunction(\n",
              "            'suggestCharts', [key], {});\n",
              "      } catch (error) {\n",
              "        console.error('Error during call to suggestCharts:', error);\n",
              "      }\n",
              "      quickchartButtonEl.classList.remove('colab-df-spinner');\n",
              "      quickchartButtonEl.classList.add('colab-df-quickchart-complete');\n",
              "    }\n",
              "    (() => {\n",
              "      let quickchartButtonEl =\n",
              "        document.querySelector('#df-1ef35329-9c57-4015-a88c-450ddb5fecab button');\n",
              "      quickchartButtonEl.style.display =\n",
              "        google.colab.kernel.accessAllowed ? 'block' : 'none';\n",
              "    })();\n",
              "  </script>\n",
              "</div>\n",
              "\n",
              "  <div id=\"id_f07f268d-4ea3-48e1-84e1-55ecb2b259a5\">\n",
              "    <style>\n",
              "      .colab-df-generate {\n",
              "        background-color: #E8F0FE;\n",
              "        border: none;\n",
              "        border-radius: 50%;\n",
              "        cursor: pointer;\n",
              "        display: none;\n",
              "        fill: #1967D2;\n",
              "        height: 32px;\n",
              "        padding: 0 0 0 0;\n",
              "        width: 32px;\n",
              "      }\n",
              "\n",
              "      .colab-df-generate:hover {\n",
              "        background-color: #E2EBFA;\n",
              "        box-shadow: 0px 1px 2px rgba(60, 64, 67, 0.3), 0px 1px 3px 1px rgba(60, 64, 67, 0.15);\n",
              "        fill: #174EA6;\n",
              "      }\n",
              "\n",
              "      [theme=dark] .colab-df-generate {\n",
              "        background-color: #3B4455;\n",
              "        fill: #D2E3FC;\n",
              "      }\n",
              "\n",
              "      [theme=dark] .colab-df-generate:hover {\n",
              "        background-color: #434B5C;\n",
              "        box-shadow: 0px 1px 3px 1px rgba(0, 0, 0, 0.15);\n",
              "        filter: drop-shadow(0px 1px 2px rgba(0, 0, 0, 0.3));\n",
              "        fill: #FFFFFF;\n",
              "      }\n",
              "    </style>\n",
              "    <button class=\"colab-df-generate\" onclick=\"generateWithVariable('test')\"\n",
              "            title=\"Generate code using this dataframe.\"\n",
              "            style=\"display:none;\">\n",
              "\n",
              "  <svg xmlns=\"http://www.w3.org/2000/svg\" height=\"24px\"viewBox=\"0 0 24 24\"\n",
              "       width=\"24px\">\n",
              "    <path d=\"M7,19H8.4L18.45,9,17,7.55,7,17.6ZM5,21V16.75L18.45,3.32a2,2,0,0,1,2.83,0l1.4,1.43a1.91,1.91,0,0,1,.58,1.4,1.91,1.91,0,0,1-.58,1.4L9.25,21ZM18.45,9,17,7.55Zm-12,3A5.31,5.31,0,0,0,4.9,8.1,5.31,5.31,0,0,0,1,6.5,5.31,5.31,0,0,0,4.9,4.9,5.31,5.31,0,0,0,6.5,1,5.31,5.31,0,0,0,8.1,4.9,5.31,5.31,0,0,0,12,6.5,5.46,5.46,0,0,0,6.5,12Z\"/>\n",
              "  </svg>\n",
              "    </button>\n",
              "    <script>\n",
              "      (() => {\n",
              "      const buttonEl =\n",
              "        document.querySelector('#id_f07f268d-4ea3-48e1-84e1-55ecb2b259a5 button.colab-df-generate');\n",
              "      buttonEl.style.display =\n",
              "        google.colab.kernel.accessAllowed ? 'block' : 'none';\n",
              "\n",
              "      buttonEl.onclick = () => {\n",
              "        google.colab.notebook.generateWithVariable('test');\n",
              "      }\n",
              "      })();\n",
              "    </script>\n",
              "  </div>\n",
              "\n",
              "    </div>\n",
              "  </div>\n"
            ]
          },
          "metadata": {},
          "execution_count": 20
        }
      ]
    },
    {
      "cell_type": "markdown",
      "source": [
        "### Data Loader"
      ],
      "metadata": {
        "id": "wzJVBgxt5GDD"
      }
    },
    {
      "cell_type": "code",
      "source": [
        "batch_size = 4\n",
        "\n",
        "def df_to_dataset(dataframe, label_name=\"Transported\", shuffle=True, batch_size=batch_size):\n",
        "    dataframe = dataframe.copy()\n",
        "    labels = dataframe.pop(label_name)\n",
        "    ds = tf.data.Dataset.from_tensor_slices((dict(dataframe), labels))\n",
        "    if shuffle:\n",
        "        ds = ds.shuffle(buffer_size=len(dataframe))\n",
        "        ds = ds.repeat()\n",
        "    ds = ds.batch(batch_size)\n",
        "\n",
        "    return ds\n"
      ],
      "metadata": {
        "id": "syVaa2MM5IxY"
      },
      "execution_count": 21,
      "outputs": []
    },
    {
      "cell_type": "code",
      "source": [
        "train_ds = df_to_dataset(train)\n",
        "train_ds"
      ],
      "metadata": {
        "id": "TFkgW_5QDgLu",
        "colab": {
          "base_uri": "https://localhost:8080/"
        },
        "outputId": "07f1e34d-dcbd-44d2-d3bb-6dce6da66591"
      },
      "execution_count": 22,
      "outputs": [
        {
          "output_type": "execute_result",
          "data": {
            "text/plain": [
              "<_BatchDataset element_spec=({'PassengerId': TensorSpec(shape=(None,), dtype=tf.string, name=None), 'HomePlanet': TensorSpec(shape=(None,), dtype=tf.string, name=None), 'CryoSleep': TensorSpec(shape=(None,), dtype=tf.int64, name=None), 'Cabin': TensorSpec(shape=(None,), dtype=tf.string, name=None), 'Destination': TensorSpec(shape=(None,), dtype=tf.string, name=None), 'Age': TensorSpec(shape=(None,), dtype=tf.float64, name=None), 'VIP': TensorSpec(shape=(None,), dtype=tf.string, name=None), 'RoomService': TensorSpec(shape=(None,), dtype=tf.float64, name=None), 'FoodCourt': TensorSpec(shape=(None,), dtype=tf.float64, name=None), 'ShoppingMall': TensorSpec(shape=(None,), dtype=tf.float64, name=None), 'Spa': TensorSpec(shape=(None,), dtype=tf.float64, name=None), 'VRDeck': TensorSpec(shape=(None,), dtype=tf.float64, name=None), 'Name': TensorSpec(shape=(None,), dtype=tf.string, name=None)}, TensorSpec(shape=(None,), dtype=tf.int64, name=None))>"
            ]
          },
          "metadata": {},
          "execution_count": 22
        }
      ]
    },
    {
      "cell_type": "code",
      "source": [
        "test_ds = df_to_dataset(test, shuffle=False)\n",
        "test_ds"
      ],
      "metadata": {
        "id": "jsWFWYz2MyNs",
        "colab": {
          "base_uri": "https://localhost:8080/"
        },
        "outputId": "1380f279-72b6-4d38-8c6f-ffa6ac95c46a"
      },
      "execution_count": 23,
      "outputs": [
        {
          "output_type": "execute_result",
          "data": {
            "text/plain": [
              "<_BatchDataset element_spec=({'PassengerId': TensorSpec(shape=(None,), dtype=tf.string, name=None), 'HomePlanet': TensorSpec(shape=(None,), dtype=tf.string, name=None), 'CryoSleep': TensorSpec(shape=(None,), dtype=tf.int64, name=None), 'Cabin': TensorSpec(shape=(None,), dtype=tf.string, name=None), 'Destination': TensorSpec(shape=(None,), dtype=tf.string, name=None), 'Age': TensorSpec(shape=(None,), dtype=tf.float64, name=None), 'VIP': TensorSpec(shape=(None,), dtype=tf.string, name=None), 'RoomService': TensorSpec(shape=(None,), dtype=tf.float64, name=None), 'FoodCourt': TensorSpec(shape=(None,), dtype=tf.float64, name=None), 'ShoppingMall': TensorSpec(shape=(None,), dtype=tf.float64, name=None), 'Spa': TensorSpec(shape=(None,), dtype=tf.float64, name=None), 'VRDeck': TensorSpec(shape=(None,), dtype=tf.float64, name=None), 'Name': TensorSpec(shape=(None,), dtype=tf.string, name=None)}, TensorSpec(shape=(None,), dtype=tf.int64, name=None))>"
            ]
          },
          "metadata": {},
          "execution_count": 23
        }
      ]
    },
    {
      "cell_type": "code",
      "source": [
        "for t, l in train_ds:\n",
        "  print(t, l)\n",
        "  break\n",
        "\n",
        "for t, l in test_ds:\n",
        "  print(t, l)\n",
        "  break\n"
      ],
      "metadata": {
        "id": "_BsMfFicHZQE",
        "colab": {
          "base_uri": "https://localhost:8080/"
        },
        "outputId": "96c6087f-23cf-4e21-a499-9a8915217129"
      },
      "execution_count": 24,
      "outputs": [
        {
          "output_type": "stream",
          "name": "stdout",
          "text": [
            "{'PassengerId': <tf.Tensor: shape=(4,), dtype=string, numpy=array([b'4001_04', b'0504_04', b'3211_03', b'4549_01'], dtype=object)>, 'HomePlanet': <tf.Tensor: shape=(4,), dtype=string, numpy=array([b'Earth', b'Europa', b'Earth', b'Earth'], dtype=object)>, 'CryoSleep': <tf.Tensor: shape=(4,), dtype=int64, numpy=array([1, 0, 0, 0])>, 'Cabin': <tf.Tensor: shape=(4,), dtype=string, numpy=array([b'G/659/S', b'B/19/S', b'G/521/P', b'E/298/S'], dtype=object)>, 'Destination': <tf.Tensor: shape=(4,), dtype=string, numpy=\n",
            "array([b'55 Cancri e', b'TRAPPIST-1e', b'TRAPPIST-1e', b'TRAPPIST-1e'],\n",
            "      dtype=object)>, 'Age': <tf.Tensor: shape=(4,), dtype=float64, numpy=array([ 2., 64.,  0., 42.])>, 'VIP': <tf.Tensor: shape=(4,), dtype=string, numpy=array([b'False', b'False', b'False', b'False'], dtype=object)>, 'RoomService': <tf.Tensor: shape=(4,), dtype=float64, numpy=array([0., 0., 0., 0.])>, 'FoodCourt': <tf.Tensor: shape=(4,), dtype=float64, numpy=array([0.000e+00, 1.737e+03, 0.000e+00, 1.000e+00])>, 'ShoppingMall': <tf.Tensor: shape=(4,), dtype=float64, numpy=array([ 0., 11.,  0.,  0.])>, 'Spa': <tf.Tensor: shape=(4,), dtype=float64, numpy=array([  0., 401.,   0.,  17.])>, 'VRDeck': <tf.Tensor: shape=(4,), dtype=float64, numpy=array([   0.,  752.,    0., 1601.])>, 'Name': <tf.Tensor: shape=(4,), dtype=string, numpy=\n",
            "array([b'Carley Lowelliott', b'Tauria Unpasine', b'Dianya Baldson',\n",
            "       b'Leria Woody'], dtype=object)>} tf.Tensor([0 0 0 0], shape=(4,), dtype=int64)\n",
            "{'PassengerId': <tf.Tensor: shape=(4,), dtype=string, numpy=array([b'0337_02', b'2891_01', b'8998_01', b'1771_01'], dtype=object)>, 'HomePlanet': <tf.Tensor: shape=(4,), dtype=string, numpy=array([b'Mars', b'Earth', b'Earth', b'Earth'], dtype=object)>, 'CryoSleep': <tf.Tensor: shape=(4,), dtype=int64, numpy=array([0, 0, 1, 0])>, 'Cabin': <tf.Tensor: shape=(4,), dtype=string, numpy=array([b'F/63/S', b'G/460/S', b'G/1449/S', b'G/291/P'], dtype=object)>, 'Destination': <tf.Tensor: shape=(4,), dtype=string, numpy=\n",
            "array([b'TRAPPIST-1e', b'TRAPPIST-1e', b'TRAPPIST-1e', b'TRAPPIST-1e'],\n",
            "      dtype=object)>, 'Age': <tf.Tensor: shape=(4,), dtype=float64, numpy=array([19., 18., 41., 35.])>, 'VIP': <tf.Tensor: shape=(4,), dtype=string, numpy=array([b'False', b'False', b'False', b'False'], dtype=object)>, 'RoomService': <tf.Tensor: shape=(4,), dtype=float64, numpy=array([417.,   4.,   0.,   0.])>, 'FoodCourt': <tf.Tensor: shape=(4,), dtype=float64, numpy=array([349., 904.,   0., 338.])>, 'ShoppingMall': <tf.Tensor: shape=(4,), dtype=float64, numpy=array([634.,   0.,   0., 436.])>, 'Spa': <tf.Tensor: shape=(4,), dtype=float64, numpy=array([3., 0., 0., 0.])>, 'VRDeck': <tf.Tensor: shape=(4,), dtype=float64, numpy=array([1.057e+03, 1.000e+00, 0.000e+00, 0.000e+00])>, 'Name': <tf.Tensor: shape=(4,), dtype=string, numpy=\n",
            "array([b'Weros Perle', b'Gleney Ortinericey', b'Gerry Englence',\n",
            "       b'Antone Cardner'], dtype=object)>} tf.Tensor([1 0 0 1], shape=(4,), dtype=int64)\n"
          ]
        }
      ]
    },
    {
      "cell_type": "code",
      "source": [
        "list(set(train['VIP']))"
      ],
      "metadata": {
        "id": "uxI24vNhyxB2",
        "colab": {
          "base_uri": "https://localhost:8080/"
        },
        "outputId": "43e0747a-1516-4701-fc57-f818c164ec66"
      },
      "execution_count": 25,
      "outputs": [
        {
          "output_type": "execute_result",
          "data": {
            "text/plain": [
              "['True', 'False']"
            ]
          },
          "metadata": {},
          "execution_count": 25
        }
      ]
    },
    {
      "cell_type": "markdown",
      "source": [
        "## Preprocessing with layers"
      ],
      "metadata": {
        "id": "TaxlpWcarA9M"
      }
    },
    {
      "cell_type": "code",
      "source": [
        "inputs = {\n",
        "  'CryoSleep': tf.keras.Input(shape=(), dtype='int64'),\n",
        "  'HomePlanet': tf.keras.Input(shape=(), dtype='string'),\n",
        "  'RoomService': tf.keras.Input(shape=(), dtype='float64'),\n",
        "  'VIP': tf.keras.Input(shape=(), dtype='string'),\n",
        "  'Cabin': tf.keras.Input(shape=(), dtype='string')\n",
        "}\n",
        "\n",
        "split_text = tf.strings.split(inputs['Cabin'], sep=\"/\")\n",
        "\n",
        "# Convert index to one-hot; e.g. [2] -> [0,1].\n",
        "type_output = tf.keras.layers.CategoryEncoding(num_tokens=2, output_mode='one_hot')(inputs['CryoSleep'])\n",
        "print(type_output.shape)\n",
        "dense_type = tf.keras.layers.Dense(2, activation='relu')(type_output)\n",
        "print(dense_type.shape)\n",
        "\n",
        "vip = tf.keras.layers.StringLookup(vocabulary=[\"True\", \"False\"], num_oov_indices=0, output_mode='one_hot')(inputs['VIP'])\n",
        "print(vip.shape)\n",
        "\n",
        "# Convert size strings to indices; e.g. ['small'] -> [1].\n",
        "size_output = tf.keras.layers.StringLookup(vocabulary=list(set(train['HomePlanet'])))(inputs['HomePlanet'])\n",
        "size_output = tf.keras.layers.Reshape([-1])(size_output)\n",
        "# print(size_output.shape)\n",
        "dense_size = tf.keras.layers.Dense(2, activation='relu')(size_output)\n",
        "# print(dense_size.shape)\n",
        "\n",
        "# Normalize the numeric inputs; e.g. [2.0] -> [0.0].\n",
        "weight_output = tf.keras.layers.Normalization(\n",
        "      axis=None, mean=2.0, variance=1.0)(inputs['RoomService'])\n",
        "weight_output = tf.keras.layers.Reshape([-1])(weight_output)\n",
        "# print(weight_output.shape)\n",
        "dense_weight = tf.keras.layers.Dense(2, activation='relu')(weight_output)\n",
        "# print(dense_weight.shape)\n",
        "\n",
        "x = tf.concat([dense_type, dense_size, dense_weight], -1) # batch, 특징 (여기로 합쳐라)\n",
        "x = tf.keras.layers.Dense(4, activation='relu')(x)\n",
        "x = tf.keras.layers.Dense(4, activation='relu')(x)\n",
        "\n",
        "outputs = tf.keras.layers.Dense(1)(x) # Sigmoid, BCE loss\n",
        "\n",
        "# outputs = {\n",
        "#   'CryoSleep': type_output,\n",
        "#   'HomePlanet': size_output,\n",
        "#   'RoomService': weight_output,\n",
        "#   'VIP': vip,\n",
        "#   's': split_text\n",
        "# }\n",
        "\n",
        "preprocessing_model = tf.keras.Model(inputs, outputs)"
      ],
      "metadata": {
        "id": "BBg7nmuDQRoq",
        "colab": {
          "base_uri": "https://localhost:8080/"
        },
        "outputId": "6b64cf04-ebaa-415c-ecc0-ff7e0b9af927"
      },
      "execution_count": 26,
      "outputs": [
        {
          "output_type": "stream",
          "name": "stdout",
          "text": [
            "(None, 2)\n",
            "(None, 2)\n",
            "(None, 2)\n"
          ]
        },
        {
          "output_type": "stream",
          "name": "stderr",
          "text": [
            "/usr/local/lib/python3.10/dist-packages/numpy/core/numeric.py:2463: FutureWarning: elementwise comparison failed; returning scalar instead, but in the future will perform elementwise comparison\n",
            "  return bool(asarray(a1 == a2).all())\n"
          ]
        }
      ]
    },
    {
      "cell_type": "markdown",
      "source": [
        "## Input and preprocessing Layers"
      ],
      "metadata": {
        "id": "8Bpw541x3jM1"
      }
    },
    {
      "cell_type": "markdown",
      "source": [
        "### String Look Up\n"
      ],
      "metadata": {
        "id": "bqjfuAHe1ap4"
      }
    },
    {
      "cell_type": "code",
      "source": [
        " tf.strings.split(train['Cabin'], \"/\")[:,-1:].numpy()"
      ],
      "metadata": {
        "id": "bo9ZjeUS4Zd7",
        "colab": {
          "base_uri": "https://localhost:8080/"
        },
        "outputId": "59b14730-e798-472d-ae51-6cc2bbcd8bb9"
      },
      "execution_count": 28,
      "outputs": [
        {
          "output_type": "execute_result",
          "data": {
            "text/plain": [
              "array([[b'P'],\n",
              "       [b'P'],\n",
              "       [b'S'],\n",
              "       ...,\n",
              "       [b'P'],\n",
              "       [b'P'],\n",
              "       [b'P']], dtype=object)"
            ]
          },
          "metadata": {},
          "execution_count": 28
        }
      ]
    },
    {
      "cell_type": "code",
      "source": [
        "inputs = {\n",
        "    'Cabin': tf.keras.Input(shape=(), dtype='string')\n",
        "}\n",
        "\n",
        "# 캐빈 데이터를 분할합니다\n",
        "cabin_split = tf.strings.split(inputs['Cabin'], \"/\")\n",
        "\n",
        "# 마지막 요소만 선택합니다\n",
        "cabin_last = cabin_split.to_tensor()[:, -1]\n",
        "\n",
        "# StringLookup 레이어를 사용하여 one-hot 인코딩을 수행합니다\n",
        "cabin_output = tf.keras.layers.StringLookup(vocabulary=[\"S\", \"P\"], num_oov_indices=1, output_mode='one_hot')(cabin_last)\n",
        "\n",
        "outputs = {\n",
        "    'Cabin': cabin_output\n",
        "}\n",
        "\n",
        "model = tf.keras.Model(inputs, outputs)"
      ],
      "metadata": {
        "id": "g6RyJcuK3N8l"
      },
      "execution_count": 29,
      "outputs": []
    },
    {
      "cell_type": "code",
      "source": [
        "for t, l in train_ds:\n",
        "    pred = model(t)\n",
        "    print(pred['Cabin'])\n",
        "    break"
      ],
      "metadata": {
        "id": "KlNhLc1oV6jZ",
        "colab": {
          "base_uri": "https://localhost:8080/"
        },
        "outputId": "25afa7d5-a1c3-44e5-f732-cf56d141013a"
      },
      "execution_count": 30,
      "outputs": [
        {
          "output_type": "stream",
          "name": "stderr",
          "text": [
            "/usr/local/lib/python3.10/dist-packages/keras/src/engine/functional.py:642: UserWarning: Input dict contained keys ['PassengerId', 'HomePlanet', 'CryoSleep', 'Destination', 'Age', 'VIP', 'RoomService', 'FoodCourt', 'ShoppingMall', 'Spa', 'VRDeck', 'Name'] which did not match any model input. They will be ignored by the model.\n",
            "  inputs = self._flatten_to_reference_inputs(inputs)\n"
          ]
        },
        {
          "output_type": "stream",
          "name": "stdout",
          "text": [
            "tf.Tensor(\n",
            "[[0. 0. 1.]\n",
            " [0. 1. 0.]\n",
            " [0. 0. 1.]\n",
            " [0. 0. 1.]], shape=(4, 3), dtype=float32)\n"
          ]
        }
      ]
    },
    {
      "cell_type": "code",
      "source": [
        "s = \"F/575/P\"\n",
        "tf.strings.split(s, sep=\"/\")"
      ],
      "metadata": {
        "id": "6yclqkG2t0F6",
        "colab": {
          "base_uri": "https://localhost:8080/"
        },
        "outputId": "9f694ced-132e-4909-fdec-1da46d8a0062"
      },
      "execution_count": 31,
      "outputs": [
        {
          "output_type": "execute_result",
          "data": {
            "text/plain": [
              "<tf.Tensor: shape=(3,), dtype=string, numpy=array([b'F', b'575', b'P'], dtype=object)>"
            ]
          },
          "metadata": {},
          "execution_count": 31
        }
      ]
    },
    {
      "cell_type": "code",
      "source": [
        "list(set(train['HomePlanet']))"
      ],
      "metadata": {
        "id": "ldFmPM5qppS_",
        "colab": {
          "base_uri": "https://localhost:8080/"
        },
        "outputId": "08b35571-d43d-4c5a-ee6b-96e4f07e469b"
      },
      "execution_count": 32,
      "outputs": [
        {
          "output_type": "execute_result",
          "data": {
            "text/plain": [
              "['Earth', 'Europa', 'Mars']"
            ]
          },
          "metadata": {},
          "execution_count": 32
        }
      ]
    },
    {
      "cell_type": "code",
      "source": [
        "string_lookup_layer = tf.keras.layers.StringLookup(\n",
        "    vocabulary=list(set(train['HomePlanet'])),\n",
        "    num_oov_indices=0,\n",
        "    output_mode='one_hot')\n",
        "\"\"\"\n",
        "int 0, 1, 2 (idx)\n",
        "one_hot [1, 0, 0]\n",
        "multi_hot [1, 0, 1] (다중입력)\n",
        "\"\"\"\n",
        "\n",
        "string_lookup_layer(list(train['HomePlanet'].to_numpy()))"
      ],
      "metadata": {
        "id": "97laqWerpttW",
        "colab": {
          "base_uri": "https://localhost:8080/"
        },
        "outputId": "cb142ffb-0a7e-4dcf-9fe0-56d51ce26e66"
      },
      "execution_count": 33,
      "outputs": [
        {
          "output_type": "execute_result",
          "data": {
            "text/plain": [
              "<tf.Tensor: shape=(6954, 3), dtype=float32, numpy=\n",
              "array([[1., 0., 0.],\n",
              "       [1., 0., 0.],\n",
              "       [0., 1., 0.],\n",
              "       ...,\n",
              "       [1., 0., 0.],\n",
              "       [0., 0., 1.],\n",
              "       [0., 1., 0.]], dtype=float32)>"
            ]
          },
          "metadata": {},
          "execution_count": 33
        }
      ]
    },
    {
      "cell_type": "markdown",
      "source": [
        "### Category Encoding"
      ],
      "metadata": {
        "id": "4dJ64DFR1zSW"
      }
    },
    {
      "cell_type": "code",
      "source": [
        "train['CryoSleep']"
      ],
      "metadata": {
        "id": "o6eeBxJPreSo",
        "colab": {
          "base_uri": "https://localhost:8080/"
        },
        "outputId": "553a6051-8fa2-4d64-b2b8-5a4a24c35454"
      },
      "execution_count": 35,
      "outputs": [
        {
          "output_type": "execute_result",
          "data": {
            "text/plain": [
              "0       0\n",
              "1       0\n",
              "2       1\n",
              "3       0\n",
              "4       1\n",
              "       ..\n",
              "6949    0\n",
              "6950    0\n",
              "6951    0\n",
              "6952    0\n",
              "6953    0\n",
              "Name: CryoSleep, Length: 6954, dtype: int64"
            ]
          },
          "metadata": {},
          "execution_count": 35
        }
      ]
    },
    {
      "cell_type": "code",
      "source": [
        "one_hot_layer = tf.keras.layers.CategoryEncoding(\n",
        "    num_tokens=2, output_mode='one_hot')\n",
        "one_hot_layer(list(train['CryoSleep'].to_numpy()))"
      ],
      "metadata": {
        "id": "_cRCuG2rqS52",
        "colab": {
          "base_uri": "https://localhost:8080/"
        },
        "outputId": "ca89b4ea-99d9-461b-f4fd-5e420a9cb844"
      },
      "execution_count": 36,
      "outputs": [
        {
          "output_type": "execute_result",
          "data": {
            "text/plain": [
              "<tf.Tensor: shape=(6954, 2), dtype=float32, numpy=\n",
              "array([[1., 0.],\n",
              "       [1., 0.],\n",
              "       [0., 1.],\n",
              "       ...,\n",
              "       [1., 0.],\n",
              "       [1., 0.],\n",
              "       [1., 0.]], dtype=float32)>"
            ]
          },
          "metadata": {},
          "execution_count": 36
        }
      ]
    },
    {
      "cell_type": "markdown",
      "source": [
        "### Normalization"
      ],
      "metadata": {
        "id": "oAfDEVXz2YcB"
      }
    },
    {
      "cell_type": "code",
      "source": [
        "normalization_layer = tf.keras.layers.Normalization(mean=1.0, variance=10.0)\n",
        "\n",
        "# 각 입력 값에서 mean 값을 뺍니다. 예를 들어, 입력이 [1., 2., 3.]라면, 결과는 [-2., -1., 0.]이 됩니다.\n",
        "# 다음으로, 이 결과를 variance의 제곱근 값, 즉 sqrt(2.)로 나눕니다. 따라서 결과는 [-2/sqrt(2), -1/sqrt(2), 0]가 됩니다. (정규화 과정)\n",
        "\n",
        "print(normalization_layer(train['RoomService'][:5]).numpy())\n",
        "print(train['RoomService'][:5].to_numpy())"
      ],
      "metadata": {
        "id": "6M0RBuMPrkri",
        "colab": {
          "base_uri": "https://localhost:8080/"
        },
        "outputId": "8b7300df-90ef-4e73-ba8a-7c873fe3ffd5"
      },
      "execution_count": 37,
      "outputs": [
        {
          "output_type": "stream",
          "name": "stdout",
          "text": [
            "[-0.31622776 -0.31622776 -0.31622776 -0.31622776 -0.31622776]\n",
            "[0. 0. 0. 0. 0.]\n"
          ]
        }
      ]
    },
    {
      "cell_type": "markdown",
      "source": [
        "### Model Train"
      ],
      "metadata": {
        "id": "641_XZTH1REC"
      }
    },
    {
      "cell_type": "code",
      "source": [
        "preprocessing_model.compile(optimizer=tf.keras.optimizers.Adam(1e-4),\n",
        "              loss=tf.keras.losses.BinaryCrossentropy(from_logits=True),\n",
        "              metrics=['accuracy'])"
      ],
      "metadata": {
        "id": "7RX-QT0Dz0U_"
      },
      "execution_count": 38,
      "outputs": []
    },
    {
      "cell_type": "code",
      "source": [
        "max_epochs = 150\n",
        "\n",
        "history = preprocessing_model.fit(train_ds,\n",
        "                                  epochs=max_epochs,\n",
        "                                  steps_per_epoch=len(train) // batch_size,\n",
        "                                  validation_data=test_ds,\n",
        "                                  validation_steps=len(test) // batch_size)"
      ],
      "metadata": {
        "id": "rEk1FAnxexWO",
        "colab": {
          "base_uri": "https://localhost:8080/"
        },
        "outputId": "bd530672-f57f-4d98-bdd8-bef1e45c27cf"
      },
      "execution_count": null,
      "outputs": [
        {
          "output_type": "stream",
          "name": "stdout",
          "text": [
            "Epoch 1/150\n"
          ]
        },
        {
          "output_type": "stream",
          "name": "stderr",
          "text": [
            "/usr/local/lib/python3.10/dist-packages/keras/src/engine/functional.py:642: UserWarning: Input dict contained keys ['PassengerId', 'Destination', 'Age', 'FoodCourt', 'ShoppingMall', 'Spa', 'VRDeck', 'Name'] which did not match any model input. They will be ignored by the model.\n",
            "  inputs = self._flatten_to_reference_inputs(inputs)\n"
          ]
        },
        {
          "output_type": "stream",
          "name": "stdout",
          "text": [
            "1738/1738 [==============================] - 13s 5ms/step - loss: 5.0843 - accuracy: 0.4965 - val_loss: 4.5813 - val_accuracy: 0.4948\n",
            "Epoch 2/150\n",
            "1738/1738 [==============================] - 10s 6ms/step - loss: 3.4307 - accuracy: 0.4968 - val_loss: 3.0533 - val_accuracy: 0.4948\n",
            "Epoch 3/150\n",
            "1738/1738 [==============================] - 10s 6ms/step - loss: 2.3633 - accuracy: 0.4967 - val_loss: 2.1590 - val_accuracy: 0.4948\n",
            "Epoch 4/150\n",
            "1738/1738 [==============================] - 10s 6ms/step - loss: 1.6757 - accuracy: 0.6886 - val_loss: 1.5047 - val_accuracy: 0.7241\n",
            "Epoch 5/150\n",
            "1738/1738 [==============================] - 9s 5ms/step - loss: 1.1929 - accuracy: 0.7163 - val_loss: 1.0632 - val_accuracy: 0.7241\n",
            "Epoch 6/150\n",
            "1738/1738 [==============================] - 10s 6ms/step - loss: 0.8741 - accuracy: 0.7168 - val_loss: 0.7940 - val_accuracy: 0.7241\n",
            "Epoch 7/150\n",
            "1738/1738 [==============================] - 10s 6ms/step - loss: 0.6856 - accuracy: 0.7171 - val_loss: 0.6402 - val_accuracy: 0.7241\n",
            "Epoch 8/150\n",
            "1738/1738 [==============================] - 10s 6ms/step - loss: 0.6012 - accuracy: 0.7162 - val_loss: 0.5896 - val_accuracy: 0.7241\n",
            "Epoch 9/150\n",
            "1738/1738 [==============================] - 10s 6ms/step - loss: 0.5829 - accuracy: 0.7163 - val_loss: 0.5788 - val_accuracy: 0.7241\n",
            "Epoch 10/150\n",
            "1738/1738 [==============================] - 11s 6ms/step - loss: 0.5749 - accuracy: 0.7168 - val_loss: 0.5808 - val_accuracy: 0.7241\n",
            "Epoch 11/150\n",
            "1738/1738 [==============================] - 10s 6ms/step - loss: 0.5730 - accuracy: 0.7166 - val_loss: 0.5696 - val_accuracy: 0.7241\n",
            "Epoch 12/150\n",
            "1738/1738 [==============================] - 9s 5ms/step - loss: 0.5717 - accuracy: 0.7166 - val_loss: 0.5686 - val_accuracy: 0.7241\n",
            "Epoch 13/150\n",
            "1738/1738 [==============================] - 10s 6ms/step - loss: 0.5713 - accuracy: 0.7159 - val_loss: 0.5717 - val_accuracy: 0.7241\n",
            "Epoch 14/150\n",
            "1738/1738 [==============================] - 11s 6ms/step - loss: 0.5712 - accuracy: 0.7166 - val_loss: 0.5689 - val_accuracy: 0.7241\n",
            "Epoch 15/150\n",
            "1738/1738 [==============================] - 10s 6ms/step - loss: 0.5699 - accuracy: 0.7165 - val_loss: 0.5664 - val_accuracy: 0.7241\n",
            "Epoch 16/150\n",
            "1738/1738 [==============================] - 9s 5ms/step - loss: 0.5701 - accuracy: 0.7161 - val_loss: 0.5658 - val_accuracy: 0.7241\n",
            "Epoch 17/150\n",
            "1738/1738 [==============================] - 10s 6ms/step - loss: 0.5692 - accuracy: 0.7178 - val_loss: 0.5689 - val_accuracy: 0.7241\n",
            "Epoch 18/150\n",
            "1738/1738 [==============================] - 11s 6ms/step - loss: 0.5704 - accuracy: 0.7159 - val_loss: 0.5656 - val_accuracy: 0.7241\n",
            "Epoch 19/150\n",
            "1738/1738 [==============================] - 11s 6ms/step - loss: 0.5685 - accuracy: 0.7173 - val_loss: 0.5652 - val_accuracy: 0.7241\n",
            "Epoch 20/150\n",
            "1738/1738 [==============================] - 9s 5ms/step - loss: 0.5700 - accuracy: 0.7159 - val_loss: 0.5650 - val_accuracy: 0.7241\n",
            "Epoch 21/150\n",
            "1738/1738 [==============================] - 10s 6ms/step - loss: 0.5688 - accuracy: 0.7168 - val_loss: 0.5648 - val_accuracy: 0.7241\n",
            "Epoch 22/150\n",
            "1738/1738 [==============================] - 10s 6ms/step - loss: 0.5691 - accuracy: 0.7161 - val_loss: 0.5640 - val_accuracy: 0.7241\n",
            "Epoch 23/150\n",
            "1738/1738 [==============================] - 11s 6ms/step - loss: 0.5684 - accuracy: 0.7169 - val_loss: 0.5643 - val_accuracy: 0.7241\n",
            "Epoch 24/150\n",
            "1738/1738 [==============================] - 9s 5ms/step - loss: 0.5685 - accuracy: 0.7169 - val_loss: 0.5690 - val_accuracy: 0.7241\n",
            "Epoch 25/150\n",
            "1738/1738 [==============================] - 10s 6ms/step - loss: 0.5693 - accuracy: 0.7163 - val_loss: 0.5637 - val_accuracy: 0.7241\n",
            "Epoch 26/150\n",
            "1738/1738 [==============================] - 10s 6ms/step - loss: 0.5688 - accuracy: 0.7166 - val_loss: 0.5634 - val_accuracy: 0.7241\n",
            "Epoch 27/150\n",
            "1738/1738 [==============================] - 10s 6ms/step - loss: 0.5690 - accuracy: 0.7165 - val_loss: 0.5636 - val_accuracy: 0.7241\n",
            "Epoch 28/150\n",
            "1738/1738 [==============================] - 10s 6ms/step - loss: 0.5689 - accuracy: 0.7171 - val_loss: 0.5639 - val_accuracy: 0.7241\n",
            "Epoch 29/150\n",
            "1738/1738 [==============================] - 10s 6ms/step - loss: 0.5687 - accuracy: 0.7165 - val_loss: 0.5631 - val_accuracy: 0.7241\n",
            "Epoch 30/150\n",
            "1570/1738 [==========================>...] - ETA: 0s - loss: 0.5661 - accuracy: 0.7177"
          ]
        }
      ]
    },
    {
      "cell_type": "code",
      "source": [],
      "metadata": {
        "id": "t_trfaVvwTdA"
      },
      "execution_count": null,
      "outputs": []
    }
  ]
}