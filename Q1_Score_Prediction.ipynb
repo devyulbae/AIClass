{
  "nbformat": 4,
  "nbformat_minor": 0,
  "metadata": {
    "colab": {
      "provenance": [],
      "include_colab_link": true
    },
    "kernelspec": {
      "display_name": "Python 3",
      "language": "python",
      "name": "python3"
    },
    "language_info": {
      "codemirror_mode": {
        "name": "ipython",
        "version": 3
      },
      "file_extension": ".py",
      "mimetype": "text/x-python",
      "name": "python",
      "nbconvert_exporter": "python",
      "pygments_lexer": "ipython3",
      "version": "3.6.8"
    }
  },
  "cells": [
    {
      "cell_type": "markdown",
      "metadata": {
        "id": "view-in-github",
        "colab_type": "text"
      },
      "source": [
        "<a href=\"https://colab.research.google.com/github/devyulbae/AIClass/blob/main/Q1_Score_Prediction.ipynb\" target=\"_parent\"><img src=\"https://colab.research.google.com/assets/colab-badge.svg\" alt=\"Open In Colab\"/></a>"
      ]
    },
    {
      "cell_type": "markdown",
      "metadata": {
        "id": "Bher0I-oBtGy"
      },
      "source": [
        "# Score prediction\n"
      ]
    },
    {
      "cell_type": "code",
      "source": [
        "# !pip install tensorflow-gpu"
      ],
      "metadata": {
        "id": "8m4xH38qAMCv"
      },
      "execution_count": null,
      "outputs": []
    },
    {
      "cell_type": "code",
      "metadata": {
        "id": "ENBsugN3Z25Z",
        "colab": {
          "base_uri": "https://localhost:8080/",
          "height": 35
        },
        "outputId": "bc727996-4f22-4a3c-ae46-3d318fde51c9"
      },
      "source": [
        "import tensorflow as tf\n",
        "import numpy as np\n",
        "import matplotlib.pyplot as plt\n",
        "\n",
        "tf.__version__"
      ],
      "execution_count": null,
      "outputs": [
        {
          "output_type": "execute_result",
          "data": {
            "text/plain": [
              "'2.15.0'"
            ],
            "application/vnd.google.colaboratory.intrinsic+json": {
              "type": "string"
            }
          },
          "metadata": {},
          "execution_count": 2
        }
      ]
    },
    {
      "cell_type": "code",
      "metadata": {
        "id": "BjYm5bN6mMh2",
        "colab": {
          "base_uri": "https://localhost:8080/"
        },
        "outputId": "84786ce8-05ca-4727-ad35-9eddb1e74c69"
      },
      "source": [
        "# In colab\n",
        "from google.colab import drive\n",
        "drive.mount('/content/drive')"
      ],
      "execution_count": null,
      "outputs": [
        {
          "output_type": "stream",
          "name": "stdout",
          "text": [
            "Mounted at /content/drive\n"
          ]
        }
      ]
    },
    {
      "cell_type": "markdown",
      "metadata": {
        "id": "yueZUuFrBtG2"
      },
      "source": [
        "## Setting Data\n",
        "* 데이터를 불러와봅시다."
      ]
    },
    {
      "cell_type": "code",
      "metadata": {
        "id": "8tyyJQoVZtv6",
        "colab": {
          "base_uri": "https://localhost:8080/"
        },
        "outputId": "c3daf3e6-cf14-4464-a490-fa4301d8aee8"
      },
      "source": [
        "xy = np.loadtxt(\"/content/drive/MyDrive/dataset/example_data/data-01-test-score.csv\", #Set data path\n",
        "                delimiter=',',\n",
        "                dtype=np.float32)\n",
        "print(xy)\n",
        "\n",
        "x_train = xy[:, 0:-1]\n",
        "y_train = xy[:, [-1]]\n",
        "\n",
        "print(x_train, y_train)\n",
        "\n",
        "print(x_train.shape, y_train.shape)\n"
      ],
      "execution_count": null,
      "outputs": [
        {
          "output_type": "stream",
          "name": "stdout",
          "text": [
            "[[ 73.  80.  75. 152.]\n",
            " [ 93.  88.  93. 185.]\n",
            " [ 89.  91.  90. 180.]\n",
            " [ 96.  98. 100. 196.]\n",
            " [ 73.  66.  70. 142.]\n",
            " [ 53.  46.  55. 101.]\n",
            " [ 69.  74.  77. 149.]\n",
            " [ 47.  56.  60. 115.]\n",
            " [ 87.  79.  90. 175.]\n",
            " [ 79.  70.  88. 164.]\n",
            " [ 69.  70.  73. 141.]\n",
            " [ 70.  65.  74. 141.]\n",
            " [ 93.  95.  91. 184.]\n",
            " [ 79.  80.  73. 152.]\n",
            " [ 70.  73.  78. 148.]\n",
            " [ 93.  89.  96. 192.]\n",
            " [ 78.  75.  68. 147.]\n",
            " [ 81.  90.  93. 183.]\n",
            " [ 88.  92.  86. 177.]\n",
            " [ 78.  83.  77. 159.]\n",
            " [ 82.  86.  90. 177.]\n",
            " [ 86.  82.  89. 175.]\n",
            " [ 78.  83.  85. 175.]\n",
            " [ 76.  83.  71. 149.]\n",
            " [ 96.  93.  95. 192.]]\n",
            "[[ 73.  80.  75.]\n",
            " [ 93.  88.  93.]\n",
            " [ 89.  91.  90.]\n",
            " [ 96.  98. 100.]\n",
            " [ 73.  66.  70.]\n",
            " [ 53.  46.  55.]\n",
            " [ 69.  74.  77.]\n",
            " [ 47.  56.  60.]\n",
            " [ 87.  79.  90.]\n",
            " [ 79.  70.  88.]\n",
            " [ 69.  70.  73.]\n",
            " [ 70.  65.  74.]\n",
            " [ 93.  95.  91.]\n",
            " [ 79.  80.  73.]\n",
            " [ 70.  73.  78.]\n",
            " [ 93.  89.  96.]\n",
            " [ 78.  75.  68.]\n",
            " [ 81.  90.  93.]\n",
            " [ 88.  92.  86.]\n",
            " [ 78.  83.  77.]\n",
            " [ 82.  86.  90.]\n",
            " [ 86.  82.  89.]\n",
            " [ 78.  83.  85.]\n",
            " [ 76.  83.  71.]\n",
            " [ 96.  93.  95.]] [[152.]\n",
            " [185.]\n",
            " [180.]\n",
            " [196.]\n",
            " [142.]\n",
            " [101.]\n",
            " [149.]\n",
            " [115.]\n",
            " [175.]\n",
            " [164.]\n",
            " [141.]\n",
            " [141.]\n",
            " [184.]\n",
            " [152.]\n",
            " [148.]\n",
            " [192.]\n",
            " [147.]\n",
            " [183.]\n",
            " [177.]\n",
            " [159.]\n",
            " [177.]\n",
            " [175.]\n",
            " [175.]\n",
            " [149.]\n",
            " [192.]]\n",
            "(25, 3) (25, 1)\n"
          ]
        }
      ]
    },
    {
      "cell_type": "markdown",
      "metadata": {
        "id": "oy0VqPPVBtG5"
      },
      "source": [
        "## make a dataset"
      ]
    },
    {
      "cell_type": "code",
      "metadata": {
        "id": "1IREOA4UBtG6"
      },
      "source": [
        "dataset = tf.data.Dataset.from_tensor_slices((x_train, y_train))\n",
        "dataset = dataset.batch(batch_size=len(x_train)) # batch_size=8 int형으로 입력하시면 됩니다.\n"
      ],
      "execution_count": null,
      "outputs": []
    },
    {
      "cell_type": "code",
      "source": [
        "next(iter(dataset))"
      ],
      "metadata": {
        "colab": {
          "base_uri": "https://localhost:8080/"
        },
        "id": "nMQyVCcsA7lS",
        "outputId": "0f822852-12a9-41df-e860-b00b0e04ef50"
      },
      "execution_count": null,
      "outputs": [
        {
          "output_type": "execute_result",
          "data": {
            "text/plain": [
              "(<tf.Tensor: shape=(25, 3), dtype=float32, numpy=\n",
              " array([[ 73.,  80.,  75.],\n",
              "        [ 93.,  88.,  93.],\n",
              "        [ 89.,  91.,  90.],\n",
              "        [ 96.,  98., 100.],\n",
              "        [ 73.,  66.,  70.],\n",
              "        [ 53.,  46.,  55.],\n",
              "        [ 69.,  74.,  77.],\n",
              "        [ 47.,  56.,  60.],\n",
              "        [ 87.,  79.,  90.],\n",
              "        [ 79.,  70.,  88.],\n",
              "        [ 69.,  70.,  73.],\n",
              "        [ 70.,  65.,  74.],\n",
              "        [ 93.,  95.,  91.],\n",
              "        [ 79.,  80.,  73.],\n",
              "        [ 70.,  73.,  78.],\n",
              "        [ 93.,  89.,  96.],\n",
              "        [ 78.,  75.,  68.],\n",
              "        [ 81.,  90.,  93.],\n",
              "        [ 88.,  92.,  86.],\n",
              "        [ 78.,  83.,  77.],\n",
              "        [ 82.,  86.,  90.],\n",
              "        [ 86.,  82.,  89.],\n",
              "        [ 78.,  83.,  85.],\n",
              "        [ 76.,  83.,  71.],\n",
              "        [ 96.,  93.,  95.]], dtype=float32)>,\n",
              " <tf.Tensor: shape=(25, 1), dtype=float32, numpy=\n",
              " array([[152.],\n",
              "        [185.],\n",
              "        [180.],\n",
              "        [196.],\n",
              "        [142.],\n",
              "        [101.],\n",
              "        [149.],\n",
              "        [115.],\n",
              "        [175.],\n",
              "        [164.],\n",
              "        [141.],\n",
              "        [141.],\n",
              "        [184.],\n",
              "        [152.],\n",
              "        [148.],\n",
              "        [192.],\n",
              "        [147.],\n",
              "        [183.],\n",
              "        [177.],\n",
              "        [159.],\n",
              "        [177.],\n",
              "        [175.],\n",
              "        [175.],\n",
              "        [149.],\n",
              "        [192.]], dtype=float32)>)"
            ]
          },
          "metadata": {},
          "execution_count": 17
        }
      ]
    },
    {
      "cell_type": "code",
      "source": [
        "for x, y in dataset:\n",
        "  print(x, y)\n",
        "  break"
      ],
      "metadata": {
        "colab": {
          "base_uri": "https://localhost:8080/"
        },
        "id": "Pk3LMsG6AIEV",
        "outputId": "d038627d-ea6f-4b4a-ebc1-a19a3bf872b6"
      },
      "execution_count": null,
      "outputs": [
        {
          "output_type": "stream",
          "name": "stdout",
          "text": [
            "tf.Tensor(\n",
            "[[ 73.  80.  75.]\n",
            " [ 93.  88.  93.]\n",
            " [ 89.  91.  90.]\n",
            " [ 96.  98. 100.]\n",
            " [ 73.  66.  70.]\n",
            " [ 53.  46.  55.]\n",
            " [ 69.  74.  77.]\n",
            " [ 47.  56.  60.]\n",
            " [ 87.  79.  90.]\n",
            " [ 79.  70.  88.]\n",
            " [ 69.  70.  73.]\n",
            " [ 70.  65.  74.]\n",
            " [ 93.  95.  91.]\n",
            " [ 79.  80.  73.]\n",
            " [ 70.  73.  78.]\n",
            " [ 93.  89.  96.]\n",
            " [ 78.  75.  68.]\n",
            " [ 81.  90.  93.]\n",
            " [ 88.  92.  86.]\n",
            " [ 78.  83.  77.]\n",
            " [ 82.  86.  90.]\n",
            " [ 86.  82.  89.]\n",
            " [ 78.  83.  85.]\n",
            " [ 76.  83.  71.]\n",
            " [ 96.  93.  95.]], shape=(25, 3), dtype=float32) tf.Tensor(\n",
            "[[152.]\n",
            " [185.]\n",
            " [180.]\n",
            " [196.]\n",
            " [142.]\n",
            " [101.]\n",
            " [149.]\n",
            " [115.]\n",
            " [175.]\n",
            " [164.]\n",
            " [141.]\n",
            " [141.]\n",
            " [184.]\n",
            " [152.]\n",
            " [148.]\n",
            " [192.]\n",
            " [147.]\n",
            " [183.]\n",
            " [177.]\n",
            " [159.]\n",
            " [177.]\n",
            " [175.]\n",
            " [175.]\n",
            " [149.]\n",
            " [192.]], shape=(25, 1), dtype=float32)\n"
          ]
        }
      ]
    },
    {
      "cell_type": "markdown",
      "metadata": {
        "id": "uF7T-bl2BtG8"
      },
      "source": [
        "# 가설 설정"
      ]
    },
    {
      "cell_type": "code",
      "metadata": {
        "id": "yy6hZwGy45kO",
        "colab": {
          "base_uri": "https://localhost:8080/"
        },
        "outputId": "882ffa7a-0f54-4c74-fee0-1ecf16e7657e"
      },
      "source": [
        "W = tf.Variable(tf.random.normal([3, 1]), name='weight')\n",
        "b = tf.Variable(tf.random.normal([1]), name='bias') # tf.keras.layers.Dense(1)\n",
        "\n",
        "tf.print(W, b)\n"
      ],
      "execution_count": null,
      "outputs": [
        {
          "output_type": "stream",
          "name": "stdout",
          "text": [
            "[[-1.33434498]\n",
            " [0.270893604]\n",
            " [-0.146937802]] [0.559196591]\n"
          ]
        }
      ]
    },
    {
      "cell_type": "code",
      "metadata": {
        "id": "22WmI9ygawt_",
        "colab": {
          "base_uri": "https://localhost:8080/"
        },
        "outputId": "27698382-aa60-426e-a109-1bbc6d426b2d"
      },
      "source": [
        "def linear_regression(features): # features => X 값이 들어올 예정\n",
        "    hypothesis  = tf.matmul(features, W) + b\n",
        "    return hypothesis\n",
        "\n",
        "print(linear_regression(x_train))"
      ],
      "execution_count": null,
      "outputs": [
        {
          "output_type": "stream",
          "name": "stdout",
          "text": [
            "tf.Tensor(\n",
            "[[ -86.19683 ]\n",
            " [-113.361465]\n",
            " [-106.7706  ]\n",
            " [-115.68413 ]\n",
            " [ -89.25465 ]\n",
            " [ -65.78156 ]\n",
            " [ -82.77869 ]\n",
            " [ -55.801247]\n",
            " [-107.35262 ]\n",
            " [ -98.82203 ]\n",
            " [ -83.27451 ]\n",
            " [ -86.11027 ]\n",
            " [-111.17133 ]\n",
            " [ -93.909035]\n",
            " [ -84.530876]\n",
            " [-113.531395]\n",
            " [ -93.19446 ]\n",
            " [ -96.80754 ]\n",
            " [-104.5776  ]\n",
            " [ -92.349754]\n",
            " [ -98.784645]\n",
            " [-105.058655]\n",
            " [ -93.52526 ]\n",
            " [ -88.79944 ]\n",
            " [-116.30391 ]], shape=(25, 1), dtype=float32)\n"
          ]
        }
      ]
    },
    {
      "cell_type": "markdown",
      "metadata": {
        "id": "-J_yD5XEBtHB"
      },
      "source": [
        "# cost 함수 설정\n",
        "\n",
        "\n",
        "$$ cost(W)=\\frac { 1 }{ m } \\sum _{i=1}^{m}{ { ({ H(x_{ i }) }-y_{ i } })^{ 2 } }  $$"
      ]
    },
    {
      "cell_type": "code",
      "metadata": {
        "id": "RY6ssJoXarTa"
      },
      "source": [
        "def loss_fn(hypothesis, labels):\n",
        "    cost = tf.reduce_mean(tf.square(hypothesis - labels))\n",
        "    return cost\n",
        "\n",
        "optimizer = tf.compat.v1.train.GradientDescentOptimizer(learning_rate=0.00001)"
      ],
      "execution_count": null,
      "outputs": []
    },
    {
      "cell_type": "markdown",
      "metadata": {
        "id": "ArFspp5PBtHG"
      },
      "source": [
        "# 학습"
      ]
    },
    {
      "cell_type": "code",
      "metadata": {
        "id": "wo2YiZdYaEQw",
        "colab": {
          "base_uri": "https://localhost:8080/"
        },
        "outputId": "4898ba3b-e86f-4d6d-fe81-88fc0e876db6"
      },
      "source": [
        "epochs = 5000\n",
        "\n",
        "for step in range(epochs):\n",
        "  for features, labels in dataset:\n",
        "    with tf.GradientTape() as tape:\n",
        "      pred = linear_regression(features) # 모델의 예측값을 구합니다.\n",
        "      loss_value = loss_fn(pred, labels)\n",
        "    grads = tape.gradient(loss_value, [W, b])\n",
        "    optimizer.apply_gradients(grads_and_vars=zip(grads,[W, b]))\n",
        "    if step % 100 == 0:\n",
        "          print(\"Iter: {}, Loss: {:.4f}\".format(step, loss_value))"
      ],
      "execution_count": null,
      "outputs": [
        {
          "output_type": "stream",
          "name": "stdout",
          "text": [
            "Iter: 0, Loss: 67666.7500\n",
            "Iter: 100, Loss: 22.7668\n",
            "Iter: 200, Loss: 21.6350\n",
            "Iter: 300, Loss: 20.5860\n",
            "Iter: 400, Loss: 19.6134\n",
            "Iter: 500, Loss: 18.7112\n",
            "Iter: 600, Loss: 17.8742\n",
            "Iter: 700, Loss: 17.0973\n",
            "Iter: 800, Loss: 16.3760\n",
            "Iter: 900, Loss: 15.7060\n",
            "Iter: 1000, Loss: 15.0835\n",
            "Iter: 1100, Loss: 14.5049\n",
            "Iter: 1200, Loss: 13.9668\n",
            "Iter: 1300, Loss: 13.4663\n",
            "Iter: 1400, Loss: 13.0007\n",
            "Iter: 1500, Loss: 12.5671\n",
            "Iter: 1600, Loss: 12.1634\n",
            "Iter: 1700, Loss: 11.7874\n",
            "Iter: 1800, Loss: 11.4369\n",
            "Iter: 1900, Loss: 11.1101\n",
            "Iter: 2000, Loss: 10.8054\n",
            "Iter: 2100, Loss: 10.5211\n",
            "Iter: 2200, Loss: 10.2557\n",
            "Iter: 2300, Loss: 10.0079\n",
            "Iter: 2400, Loss: 9.7765\n",
            "Iter: 2500, Loss: 9.5603\n",
            "Iter: 2600, Loss: 9.3581\n",
            "Iter: 2700, Loss: 9.1691\n",
            "Iter: 2800, Loss: 8.9923\n",
            "Iter: 2900, Loss: 8.8268\n",
            "Iter: 3000, Loss: 8.6719\n",
            "Iter: 3100, Loss: 8.5268\n",
            "Iter: 3200, Loss: 8.3909\n",
            "Iter: 3300, Loss: 8.2635\n",
            "Iter: 3400, Loss: 8.1441\n",
            "Iter: 3500, Loss: 8.0321\n",
            "Iter: 3600, Loss: 7.9270\n",
            "Iter: 3700, Loss: 7.8285\n",
            "Iter: 3800, Loss: 7.7359\n",
            "Iter: 3900, Loss: 7.6489\n",
            "Iter: 4000, Loss: 7.5673\n",
            "Iter: 4100, Loss: 7.4905\n",
            "Iter: 4200, Loss: 7.4184\n",
            "Iter: 4300, Loss: 7.3505\n",
            "Iter: 4400, Loss: 7.2867\n",
            "Iter: 4500, Loss: 7.2266\n",
            "Iter: 4600, Loss: 7.1701\n",
            "Iter: 4700, Loss: 7.1168\n",
            "Iter: 4800, Loss: 7.0667\n",
            "Iter: 4900, Loss: 7.0195\n"
          ]
        }
      ]
    },
    {
      "cell_type": "code",
      "metadata": {
        "id": "Fu1S6WVm4M1Y",
        "colab": {
          "base_uri": "https://localhost:8080/"
        },
        "outputId": "5fa46c4f-4cc9-4d61-9e5a-b5a075316cc0"
      },
      "source": [
        "print(W, b)"
      ],
      "execution_count": null,
      "outputs": [
        {
          "output_type": "stream",
          "name": "stdout",
          "text": [
            "<tf.Variable 'weight:0' shape=(3, 1) dtype=float32, numpy=\n",
            "array([[0.17046045],\n",
            "       [0.67848223],\n",
            "       [1.155847  ]], dtype=float32)> <tf.Variable 'bias:0' shape=(1,) dtype=float32, numpy=array([0.56298333], dtype=float32)>\n"
          ]
        }
      ]
    },
    {
      "cell_type": "code",
      "metadata": {
        "id": "cUJviOQ_aGVH",
        "colab": {
          "base_uri": "https://localhost:8080/",
          "height": 430
        },
        "outputId": "0e33d859-6d8b-41a0-bda4-2a4dfbdb94eb"
      },
      "source": [
        "hypothesis= linear_regression(x_train)\n",
        "\n",
        "plt.plot(y_train, 'o-', color='red')\n",
        "plt.plot(hypothesis.numpy(), 'o-', color='blue')\n",
        "plt.show()"
      ],
      "execution_count": null,
      "outputs": [
        {
          "output_type": "display_data",
          "data": {
            "text/plain": [
              "<Figure size 640x480 with 1 Axes>"
            ],
            "image/png": "[encoded data removed]"
          },
          "metadata": {}
        }
      ]
    },
    {
      "cell_type": "code",
      "metadata": {
        "id": "4mazQlt-ai-P"
      },
      "source": [],
      "execution_count": null,
      "outputs": []
    }
  ]
}