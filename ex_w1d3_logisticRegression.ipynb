{
  "nbformat": 4,
  "nbformat_minor": 0,
  "metadata": {
    "colab": {
      "private_outputs": true,
      "provenance": [],
      "authorship_tag": "ABX9TyMJPBQSzMh1WcZlLP8LJyPh",
      "include_colab_link": true
    },
    "kernelspec": {
      "name": "python3",
      "display_name": "Python 3"
    },
    "language_info": {
      "name": "python"
    }
  },
  "cells": [
    {
      "cell_type": "markdown",
      "metadata": {
        "id": "view-in-github",
        "colab_type": "text"
      },
      "source": [
        "<a href=\"https://colab.research.google.com/github/devyulbae/AIClass/blob/main/ex_w1d3_logisticRegression.ipynb\" target=\"_parent\"><img src=\"https://colab.research.google.com/assets/colab-badge.svg\" alt=\"Open In Colab\"/></a>"
      ]
    },
    {
      "cell_type": "code",
      "execution_count": null,
      "metadata": {
        "id": "-Kv4lyJuUYd0"
      },
      "outputs": [],
      "source": [
        "import tensorflow as tf\n",
        "import numpy as np\n",
        "import matplotlib.pyplot as plt\n",
        "\n",
        "tf.__version__"
      ]
    },
    {
      "cell_type": "code",
      "source": [
        "# colab import\n",
        "from google.colab import drive\n",
        "drive.mount('/content/drive')"
      ],
      "metadata": {
        "id": "4xdLJpxAUlfF"
      },
      "execution_count": null,
      "outputs": []
    },
    {
      "cell_type": "code",
      "source": [
        "# 문자열을 건너뛰고 읽기\n",
        "xy = np.genfromtxt('/content/drive/MyDrive/datas/logistic_regression_dataset_16_features.csv',\n",
        "                   delimiter=',', dtype=None, encoding=None)\n",
        "\n",
        "x_train = xy[1:-100, 0:-1]\n",
        "y_train = xy[1:-100, [-1]]\n",
        "x_train, y_train = x_train.astype(np.float32), y_train.astype(np.float32)\n",
        "\n",
        "x_test = xy[-100:, 0:-1]\n",
        "y_test = xy[-100:, [-1]]\n",
        "x_test, y_test = x_test.astype(np.float32), y_test.astype(np.float32)\n",
        "\n",
        "print(x_train.shape, y_train.shape)\n",
        "print(x_test.shape, y_test.shape)\n",
        "print(\"x_test: \\n\", x_test[0])\n",
        "print(\"y_test: \\n\", y_test[0])"
      ],
      "metadata": {
        "id": "pb4df0XHUqrb"
      },
      "execution_count": null,
      "outputs": []
    },
    {
      "cell_type": "code",
      "source": [
        "# data slicing\n",
        "dataset = tf.data.Dataset.from_tensor_slices((x_train, y_train)).batch(len(x_train))"
      ],
      "metadata": {
        "id": "aHAMfMeOh2m2"
      },
      "execution_count": null,
      "outputs": []
    },
    {
      "cell_type": "code",
      "source": [
        "W = tf.Variable(tf.random.normal([16,1]), name='weight')\n",
        "b = tf.Variable(tf.random.normal([1]), name='bias')"
      ],
      "metadata": {
        "id": "WYtdsYanl-Fj"
      },
      "execution_count": null,
      "outputs": []
    },
    {
      "cell_type": "code",
      "source": [
        "# functions\n",
        "def logistic_regression(features):\n",
        "    hypothesis  = tf.divide(1., 1. + tf.exp(-(tf.matmul(features, W) + b)))\n",
        "    return hypothesis\n",
        "\n",
        "def loss_fn(hypothesis, labels):\n",
        "    cost = -tf.reduce_mean( labels*tf.math.log(hypothesis)+ (1-labels)*tf.math.log(1-hypothesis))\n",
        "    return cost\n",
        "\n",
        "def accuracy_fn(hypothesis, labels):\n",
        "    predicted = tf.cast(hypothesis > 0.5, dtype=tf.float32)\n",
        "    accuracy = tf.reduce_mean(tf.cast(tf.equal(predicted, labels), dtype=tf.float32))\n",
        "    return accuracy"
      ],
      "metadata": {
        "id": "UXRFZK4RmG38"
      },
      "execution_count": null,
      "outputs": []
    },
    {
      "cell_type": "code",
      "source": [
        "# optimizer\n",
        "optimizer = tf.compat.v1.train.GradientDescentOptimizer(learning_rate=1e-2)"
      ],
      "metadata": {
        "id": "NGuDS58RmQGV"
      },
      "execution_count": null,
      "outputs": []
    },
    {
      "cell_type": "code",
      "source": [
        "# main\n",
        "epochs = 10001\n",
        "\n",
        "for step in range(epochs):\n",
        "  for features, labels in dataset:\n",
        "    with tf.GradientTape() as tape:\n",
        "      pred = logistic_regression(features)\n",
        "      loss_value = loss_fn( pred, labels)\n",
        "      grads = tape.gradient(loss_value, [W,b])\n",
        "      optimizer.apply_gradients(grads_and_vars=zip(grads,[W,b]))\n",
        "      if step % 500 == 0:\n",
        "            print(\"Iter: {}, Loss: {:.4f}\".format(step, loss_fn(logistic_regression(features),labels)))"
      ],
      "metadata": {
        "id": "CEdlSFU9mH6v"
      },
      "execution_count": null,
      "outputs": []
    },
    {
      "cell_type": "code",
      "source": [
        "# test\n",
        "test_acc = accuracy_fn(logistic_regression(x_test),y_test)\n",
        "print(\"Testset Accuracy: {:.4f}\".format(test_acc))"
      ],
      "metadata": {
        "id": "-dVYm253mpWs"
      },
      "execution_count": null,
      "outputs": []
    }
  ]
}